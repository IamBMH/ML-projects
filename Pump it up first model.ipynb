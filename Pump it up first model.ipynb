{
 "cells": [
  {
   "cell_type": "markdown",
   "id": "arranged-liechtenstein",
   "metadata": {},
   "source": [
    "# Machine Learning, proyecto para el concurso, entrega grupal\n",
    "\n",
    "#### Autores: \n",
    "##### Bruno Mora Hernández\n",
    "##### Sala Malo Núñez\n",
    "##### Modesto Gené Mabua\n",
    "##### Jorge Martín\n",
    "##### Blázquez, César Hernández Esperilla"
   ]
  },
  {
   "cell_type": "markdown",
   "id": "alpha-passing",
   "metadata": {},
   "source": [
    "### Cargamos librerías y datos"
   ]
  },
  {
   "cell_type": "code",
   "execution_count": 35,
   "id": "elder-arnold",
   "metadata": {},
   "outputs": [],
   "source": [
    "# Cargamos las librerías\n",
    "\n",
    "#!pip install xgboost (ejecutar si no está instalado el paquete xgboost)\n",
    "import pandas as pd\n",
    "import seaborn as sns\n",
    "import matplotlib.pyplot  as plt\n",
    "from scipy import stats\n",
    "import numpy as np\n",
    "from sklearn.model_selection import train_test_split\n",
    "import numpy as np\n",
    "from sklearn.preprocessing import LabelEncoder, OneHotEncoder\n",
    "from numpy import nan as NA\n",
    "import re\n",
    "import datetime\n",
    "from sklearn.preprocessing import StandardScaler\n",
    "from sklearn.linear_model import LinearRegression\n",
    "from sklearn.linear_model import LogisticRegression\n",
    "from sklearn.tree import DecisionTreeClassifier\n",
    "from sklearn.ensemble import RandomForestClassifier\n",
    "from sklearn.svm import SVC\n",
    "from sklearn.model_selection import cross_val_score\n",
    "from sklearn.metrics import accuracy_score, auc, confusion_matrix, f1_score, precision_score, recall_score, roc_curve\n",
    "from xgboost import XGBRegressor\n",
    "from xgboost import XGBClassifier\n",
    "from sklearn.preprocessing import label_binarize\n",
    "from sklearn.impute import KNNImputer\n",
    "import pickle"
   ]
  },
  {
   "cell_type": "code",
   "execution_count": 36,
   "id": "visible-cocktail",
   "metadata": {},
   "outputs": [],
   "source": [
    "# Cargamos los datos\n",
    "df = pd.read_csv(\"Training.csv\")\n",
    "test = pd.read_csv(\"Test.csv\")"
   ]
  },
  {
   "cell_type": "code",
   "execution_count": 37,
   "id": "bibliographic-daughter",
   "metadata": {},
   "outputs": [
    {
     "data": {
      "text/html": [
       "<div>\n",
       "<style scoped>\n",
       "    .dataframe tbody tr th:only-of-type {\n",
       "        vertical-align: middle;\n",
       "    }\n",
       "\n",
       "    .dataframe tbody tr th {\n",
       "        vertical-align: top;\n",
       "    }\n",
       "\n",
       "    .dataframe thead th {\n",
       "        text-align: right;\n",
       "    }\n",
       "</style>\n",
       "<table border=\"1\" class=\"dataframe\">\n",
       "  <thead>\n",
       "    <tr style=\"text-align: right;\">\n",
       "      <th></th>\n",
       "      <th>id</th>\n",
       "      <th>amount_tsh</th>\n",
       "      <th>date_recorded</th>\n",
       "      <th>funder</th>\n",
       "      <th>gps_height</th>\n",
       "      <th>installer</th>\n",
       "      <th>longitude</th>\n",
       "      <th>latitude</th>\n",
       "      <th>wpt_name</th>\n",
       "      <th>num_private</th>\n",
       "      <th>...</th>\n",
       "      <th>payment_type</th>\n",
       "      <th>water_quality</th>\n",
       "      <th>quality_group</th>\n",
       "      <th>quantity</th>\n",
       "      <th>quantity_group</th>\n",
       "      <th>source</th>\n",
       "      <th>source_type</th>\n",
       "      <th>source_class</th>\n",
       "      <th>waterpoint_type</th>\n",
       "      <th>waterpoint_type_group</th>\n",
       "    </tr>\n",
       "  </thead>\n",
       "  <tbody>\n",
       "    <tr>\n",
       "      <th>0</th>\n",
       "      <td>50785</td>\n",
       "      <td>0.0</td>\n",
       "      <td>2013-02-04</td>\n",
       "      <td>Dmdd</td>\n",
       "      <td>1996</td>\n",
       "      <td>DMDD</td>\n",
       "      <td>35.290799</td>\n",
       "      <td>-4.059696</td>\n",
       "      <td>Dinamu Secondary School</td>\n",
       "      <td>0</td>\n",
       "      <td>...</td>\n",
       "      <td>never pay</td>\n",
       "      <td>soft</td>\n",
       "      <td>good</td>\n",
       "      <td>seasonal</td>\n",
       "      <td>seasonal</td>\n",
       "      <td>rainwater harvesting</td>\n",
       "      <td>rainwater harvesting</td>\n",
       "      <td>surface</td>\n",
       "      <td>other</td>\n",
       "      <td>other</td>\n",
       "    </tr>\n",
       "    <tr>\n",
       "      <th>1</th>\n",
       "      <td>51630</td>\n",
       "      <td>0.0</td>\n",
       "      <td>2013-02-04</td>\n",
       "      <td>Government Of Tanzania</td>\n",
       "      <td>1569</td>\n",
       "      <td>DWE</td>\n",
       "      <td>36.656709</td>\n",
       "      <td>-3.309214</td>\n",
       "      <td>Kimnyak</td>\n",
       "      <td>0</td>\n",
       "      <td>...</td>\n",
       "      <td>never pay</td>\n",
       "      <td>soft</td>\n",
       "      <td>good</td>\n",
       "      <td>insufficient</td>\n",
       "      <td>insufficient</td>\n",
       "      <td>spring</td>\n",
       "      <td>spring</td>\n",
       "      <td>groundwater</td>\n",
       "      <td>communal standpipe</td>\n",
       "      <td>communal standpipe</td>\n",
       "    </tr>\n",
       "    <tr>\n",
       "      <th>2</th>\n",
       "      <td>17168</td>\n",
       "      <td>0.0</td>\n",
       "      <td>2013-02-01</td>\n",
       "      <td>NaN</td>\n",
       "      <td>1567</td>\n",
       "      <td>NaN</td>\n",
       "      <td>34.767863</td>\n",
       "      <td>-5.004344</td>\n",
       "      <td>Puma Secondary</td>\n",
       "      <td>0</td>\n",
       "      <td>...</td>\n",
       "      <td>never pay</td>\n",
       "      <td>soft</td>\n",
       "      <td>good</td>\n",
       "      <td>insufficient</td>\n",
       "      <td>insufficient</td>\n",
       "      <td>rainwater harvesting</td>\n",
       "      <td>rainwater harvesting</td>\n",
       "      <td>surface</td>\n",
       "      <td>other</td>\n",
       "      <td>other</td>\n",
       "    </tr>\n",
       "    <tr>\n",
       "      <th>3</th>\n",
       "      <td>45559</td>\n",
       "      <td>0.0</td>\n",
       "      <td>2013-01-22</td>\n",
       "      <td>Finn Water</td>\n",
       "      <td>267</td>\n",
       "      <td>FINN WATER</td>\n",
       "      <td>38.058046</td>\n",
       "      <td>-9.418672</td>\n",
       "      <td>Kwa Mzee Pange</td>\n",
       "      <td>0</td>\n",
       "      <td>...</td>\n",
       "      <td>unknown</td>\n",
       "      <td>soft</td>\n",
       "      <td>good</td>\n",
       "      <td>dry</td>\n",
       "      <td>dry</td>\n",
       "      <td>shallow well</td>\n",
       "      <td>shallow well</td>\n",
       "      <td>groundwater</td>\n",
       "      <td>other</td>\n",
       "      <td>other</td>\n",
       "    </tr>\n",
       "    <tr>\n",
       "      <th>4</th>\n",
       "      <td>49871</td>\n",
       "      <td>500.0</td>\n",
       "      <td>2013-03-27</td>\n",
       "      <td>Bruder</td>\n",
       "      <td>1260</td>\n",
       "      <td>BRUDER</td>\n",
       "      <td>35.006123</td>\n",
       "      <td>-10.950412</td>\n",
       "      <td>Kwa Mzee Turuka</td>\n",
       "      <td>0</td>\n",
       "      <td>...</td>\n",
       "      <td>monthly</td>\n",
       "      <td>soft</td>\n",
       "      <td>good</td>\n",
       "      <td>enough</td>\n",
       "      <td>enough</td>\n",
       "      <td>spring</td>\n",
       "      <td>spring</td>\n",
       "      <td>groundwater</td>\n",
       "      <td>communal standpipe</td>\n",
       "      <td>communal standpipe</td>\n",
       "    </tr>\n",
       "  </tbody>\n",
       "</table>\n",
       "<p>5 rows × 40 columns</p>\n",
       "</div>"
      ],
      "text/plain": [
       "      id  amount_tsh date_recorded                  funder  gps_height  \\\n",
       "0  50785         0.0    2013-02-04                    Dmdd        1996   \n",
       "1  51630         0.0    2013-02-04  Government Of Tanzania        1569   \n",
       "2  17168         0.0    2013-02-01                     NaN        1567   \n",
       "3  45559         0.0    2013-01-22              Finn Water         267   \n",
       "4  49871       500.0    2013-03-27                  Bruder        1260   \n",
       "\n",
       "    installer  longitude   latitude                 wpt_name  num_private  \\\n",
       "0        DMDD  35.290799  -4.059696  Dinamu Secondary School            0   \n",
       "1         DWE  36.656709  -3.309214                  Kimnyak            0   \n",
       "2         NaN  34.767863  -5.004344           Puma Secondary            0   \n",
       "3  FINN WATER  38.058046  -9.418672           Kwa Mzee Pange            0   \n",
       "4      BRUDER  35.006123 -10.950412          Kwa Mzee Turuka            0   \n",
       "\n",
       "   ... payment_type water_quality quality_group      quantity  quantity_group  \\\n",
       "0  ...    never pay          soft          good      seasonal        seasonal   \n",
       "1  ...    never pay          soft          good  insufficient    insufficient   \n",
       "2  ...    never pay          soft          good  insufficient    insufficient   \n",
       "3  ...      unknown          soft          good           dry             dry   \n",
       "4  ...      monthly          soft          good        enough          enough   \n",
       "\n",
       "                 source           source_type  source_class  \\\n",
       "0  rainwater harvesting  rainwater harvesting       surface   \n",
       "1                spring                spring   groundwater   \n",
       "2  rainwater harvesting  rainwater harvesting       surface   \n",
       "3          shallow well          shallow well   groundwater   \n",
       "4                spring                spring   groundwater   \n",
       "\n",
       "      waterpoint_type waterpoint_type_group  \n",
       "0               other                 other  \n",
       "1  communal standpipe    communal standpipe  \n",
       "2               other                 other  \n",
       "3               other                 other  \n",
       "4  communal standpipe    communal standpipe  \n",
       "\n",
       "[5 rows x 40 columns]"
      ]
     },
     "execution_count": 37,
     "metadata": {},
     "output_type": "execute_result"
    }
   ],
   "source": [
    "# Conjunto de datos test\n",
    "test.head()"
   ]
  },
  {
   "cell_type": "code",
   "execution_count": 38,
   "id": "synthetic-shopping",
   "metadata": {},
   "outputs": [
    {
     "data": {
      "text/plain": [
       "(14850, 40)"
      ]
     },
     "execution_count": 38,
     "metadata": {},
     "output_type": "execute_result"
    }
   ],
   "source": [
    "# Dimensiones de test\n",
    "test.shape"
   ]
  },
  {
   "cell_type": "code",
   "execution_count": 39,
   "id": "declared-coating",
   "metadata": {},
   "outputs": [
    {
     "data": {
      "text/html": [
       "<div>\n",
       "<style scoped>\n",
       "    .dataframe tbody tr th:only-of-type {\n",
       "        vertical-align: middle;\n",
       "    }\n",
       "\n",
       "    .dataframe tbody tr th {\n",
       "        vertical-align: top;\n",
       "    }\n",
       "\n",
       "    .dataframe thead th {\n",
       "        text-align: right;\n",
       "    }\n",
       "</style>\n",
       "<table border=\"1\" class=\"dataframe\">\n",
       "  <thead>\n",
       "    <tr style=\"text-align: right;\">\n",
       "      <th></th>\n",
       "      <th>id</th>\n",
       "      <th>amount_tsh</th>\n",
       "      <th>date_recorded</th>\n",
       "      <th>funder</th>\n",
       "      <th>gps_height</th>\n",
       "      <th>installer</th>\n",
       "      <th>longitude</th>\n",
       "      <th>latitude</th>\n",
       "      <th>wpt_name</th>\n",
       "      <th>num_private</th>\n",
       "      <th>...</th>\n",
       "      <th>payment_type</th>\n",
       "      <th>water_quality</th>\n",
       "      <th>quality_group</th>\n",
       "      <th>quantity</th>\n",
       "      <th>quantity_group</th>\n",
       "      <th>source</th>\n",
       "      <th>source_type</th>\n",
       "      <th>source_class</th>\n",
       "      <th>waterpoint_type</th>\n",
       "      <th>waterpoint_type_group</th>\n",
       "    </tr>\n",
       "  </thead>\n",
       "  <tbody>\n",
       "    <tr>\n",
       "      <th>0</th>\n",
       "      <td>69572</td>\n",
       "      <td>6000.0</td>\n",
       "      <td>2011-03-14</td>\n",
       "      <td>Roman</td>\n",
       "      <td>1390</td>\n",
       "      <td>Roman</td>\n",
       "      <td>34.938093</td>\n",
       "      <td>-9.856322</td>\n",
       "      <td>none</td>\n",
       "      <td>0</td>\n",
       "      <td>...</td>\n",
       "      <td>annually</td>\n",
       "      <td>soft</td>\n",
       "      <td>good</td>\n",
       "      <td>enough</td>\n",
       "      <td>enough</td>\n",
       "      <td>spring</td>\n",
       "      <td>spring</td>\n",
       "      <td>groundwater</td>\n",
       "      <td>communal standpipe</td>\n",
       "      <td>communal standpipe</td>\n",
       "    </tr>\n",
       "    <tr>\n",
       "      <th>1</th>\n",
       "      <td>8776</td>\n",
       "      <td>0.0</td>\n",
       "      <td>2013-03-06</td>\n",
       "      <td>Grumeti</td>\n",
       "      <td>1399</td>\n",
       "      <td>GRUMETI</td>\n",
       "      <td>34.698766</td>\n",
       "      <td>-2.147466</td>\n",
       "      <td>Zahanati</td>\n",
       "      <td>0</td>\n",
       "      <td>...</td>\n",
       "      <td>never pay</td>\n",
       "      <td>soft</td>\n",
       "      <td>good</td>\n",
       "      <td>insufficient</td>\n",
       "      <td>insufficient</td>\n",
       "      <td>rainwater harvesting</td>\n",
       "      <td>rainwater harvesting</td>\n",
       "      <td>surface</td>\n",
       "      <td>communal standpipe</td>\n",
       "      <td>communal standpipe</td>\n",
       "    </tr>\n",
       "    <tr>\n",
       "      <th>2</th>\n",
       "      <td>34310</td>\n",
       "      <td>25.0</td>\n",
       "      <td>2013-02-25</td>\n",
       "      <td>Lottery Club</td>\n",
       "      <td>686</td>\n",
       "      <td>World vision</td>\n",
       "      <td>37.460664</td>\n",
       "      <td>-3.821329</td>\n",
       "      <td>Kwa Mahundi</td>\n",
       "      <td>0</td>\n",
       "      <td>...</td>\n",
       "      <td>per bucket</td>\n",
       "      <td>soft</td>\n",
       "      <td>good</td>\n",
       "      <td>enough</td>\n",
       "      <td>enough</td>\n",
       "      <td>dam</td>\n",
       "      <td>dam</td>\n",
       "      <td>surface</td>\n",
       "      <td>communal standpipe multiple</td>\n",
       "      <td>communal standpipe</td>\n",
       "    </tr>\n",
       "    <tr>\n",
       "      <th>3</th>\n",
       "      <td>67743</td>\n",
       "      <td>0.0</td>\n",
       "      <td>2013-01-28</td>\n",
       "      <td>Unicef</td>\n",
       "      <td>263</td>\n",
       "      <td>UNICEF</td>\n",
       "      <td>38.486161</td>\n",
       "      <td>-11.155298</td>\n",
       "      <td>Zahanati Ya Nanyumbu</td>\n",
       "      <td>0</td>\n",
       "      <td>...</td>\n",
       "      <td>never pay</td>\n",
       "      <td>soft</td>\n",
       "      <td>good</td>\n",
       "      <td>dry</td>\n",
       "      <td>dry</td>\n",
       "      <td>machine dbh</td>\n",
       "      <td>borehole</td>\n",
       "      <td>groundwater</td>\n",
       "      <td>communal standpipe multiple</td>\n",
       "      <td>communal standpipe</td>\n",
       "    </tr>\n",
       "    <tr>\n",
       "      <th>4</th>\n",
       "      <td>19728</td>\n",
       "      <td>0.0</td>\n",
       "      <td>2011-07-13</td>\n",
       "      <td>Action In A</td>\n",
       "      <td>0</td>\n",
       "      <td>Artisan</td>\n",
       "      <td>31.130847</td>\n",
       "      <td>-1.825359</td>\n",
       "      <td>Shuleni</td>\n",
       "      <td>0</td>\n",
       "      <td>...</td>\n",
       "      <td>never pay</td>\n",
       "      <td>soft</td>\n",
       "      <td>good</td>\n",
       "      <td>seasonal</td>\n",
       "      <td>seasonal</td>\n",
       "      <td>rainwater harvesting</td>\n",
       "      <td>rainwater harvesting</td>\n",
       "      <td>surface</td>\n",
       "      <td>communal standpipe</td>\n",
       "      <td>communal standpipe</td>\n",
       "    </tr>\n",
       "  </tbody>\n",
       "</table>\n",
       "<p>5 rows × 40 columns</p>\n",
       "</div>"
      ],
      "text/plain": [
       "      id  amount_tsh date_recorded        funder  gps_height     installer  \\\n",
       "0  69572      6000.0    2011-03-14         Roman        1390         Roman   \n",
       "1   8776         0.0    2013-03-06       Grumeti        1399       GRUMETI   \n",
       "2  34310        25.0    2013-02-25  Lottery Club         686  World vision   \n",
       "3  67743         0.0    2013-01-28        Unicef         263        UNICEF   \n",
       "4  19728         0.0    2011-07-13   Action In A           0       Artisan   \n",
       "\n",
       "   longitude   latitude              wpt_name  num_private  ... payment_type  \\\n",
       "0  34.938093  -9.856322                  none            0  ...     annually   \n",
       "1  34.698766  -2.147466              Zahanati            0  ...    never pay   \n",
       "2  37.460664  -3.821329           Kwa Mahundi            0  ...   per bucket   \n",
       "3  38.486161 -11.155298  Zahanati Ya Nanyumbu            0  ...    never pay   \n",
       "4  31.130847  -1.825359               Shuleni            0  ...    never pay   \n",
       "\n",
       "  water_quality quality_group      quantity  quantity_group  \\\n",
       "0          soft          good        enough          enough   \n",
       "1          soft          good  insufficient    insufficient   \n",
       "2          soft          good        enough          enough   \n",
       "3          soft          good           dry             dry   \n",
       "4          soft          good      seasonal        seasonal   \n",
       "\n",
       "                 source           source_type  source_class  \\\n",
       "0                spring                spring   groundwater   \n",
       "1  rainwater harvesting  rainwater harvesting       surface   \n",
       "2                   dam                   dam       surface   \n",
       "3           machine dbh              borehole   groundwater   \n",
       "4  rainwater harvesting  rainwater harvesting       surface   \n",
       "\n",
       "               waterpoint_type waterpoint_type_group  \n",
       "0           communal standpipe    communal standpipe  \n",
       "1           communal standpipe    communal standpipe  \n",
       "2  communal standpipe multiple    communal standpipe  \n",
       "3  communal standpipe multiple    communal standpipe  \n",
       "4           communal standpipe    communal standpipe  \n",
       "\n",
       "[5 rows x 40 columns]"
      ]
     },
     "execution_count": 39,
     "metadata": {},
     "output_type": "execute_result"
    }
   ],
   "source": [
    "# Conjunto de datos de entrenamiento\n",
    "df.head()"
   ]
  },
  {
   "cell_type": "code",
   "execution_count": 40,
   "id": "third-academy",
   "metadata": {},
   "outputs": [
    {
     "data": {
      "text/plain": [
       "(59400, 40)"
      ]
     },
     "execution_count": 40,
     "metadata": {},
     "output_type": "execute_result"
    }
   ],
   "source": [
    "# Dimensiones del conjunto train\n",
    "df.shape"
   ]
  },
  {
   "cell_type": "code",
   "execution_count": 41,
   "id": "widespread-henry",
   "metadata": {},
   "outputs": [],
   "source": [
    "#Fijamos como indice del df la columna \"id\"\n",
    "df.set_index([\"id\"],inplace=True)"
   ]
  },
  {
   "cell_type": "code",
   "execution_count": 42,
   "id": "economic-surveillance",
   "metadata": {},
   "outputs": [
    {
     "data": {
      "text/html": [
       "<div>\n",
       "<style scoped>\n",
       "    .dataframe tbody tr th:only-of-type {\n",
       "        vertical-align: middle;\n",
       "    }\n",
       "\n",
       "    .dataframe tbody tr th {\n",
       "        vertical-align: top;\n",
       "    }\n",
       "\n",
       "    .dataframe thead th {\n",
       "        text-align: right;\n",
       "    }\n",
       "</style>\n",
       "<table border=\"1\" class=\"dataframe\">\n",
       "  <thead>\n",
       "    <tr style=\"text-align: right;\">\n",
       "      <th></th>\n",
       "      <th>amount_tsh</th>\n",
       "      <th>gps_height</th>\n",
       "      <th>longitude</th>\n",
       "      <th>latitude</th>\n",
       "      <th>num_private</th>\n",
       "      <th>region_code</th>\n",
       "      <th>district_code</th>\n",
       "      <th>population</th>\n",
       "      <th>construction_year</th>\n",
       "    </tr>\n",
       "  </thead>\n",
       "  <tbody>\n",
       "    <tr>\n",
       "      <th>count</th>\n",
       "      <td>59400.000000</td>\n",
       "      <td>59400.000000</td>\n",
       "      <td>59400.000000</td>\n",
       "      <td>5.940000e+04</td>\n",
       "      <td>59400.000000</td>\n",
       "      <td>59400.000000</td>\n",
       "      <td>59400.000000</td>\n",
       "      <td>59400.000000</td>\n",
       "      <td>59400.000000</td>\n",
       "    </tr>\n",
       "    <tr>\n",
       "      <th>mean</th>\n",
       "      <td>317.650385</td>\n",
       "      <td>668.297239</td>\n",
       "      <td>34.077427</td>\n",
       "      <td>-5.706033e+00</td>\n",
       "      <td>0.474141</td>\n",
       "      <td>15.297003</td>\n",
       "      <td>5.629747</td>\n",
       "      <td>179.909983</td>\n",
       "      <td>1300.652475</td>\n",
       "    </tr>\n",
       "    <tr>\n",
       "      <th>std</th>\n",
       "      <td>2997.574558</td>\n",
       "      <td>693.116350</td>\n",
       "      <td>6.567432</td>\n",
       "      <td>2.946019e+00</td>\n",
       "      <td>12.236230</td>\n",
       "      <td>17.587406</td>\n",
       "      <td>9.633649</td>\n",
       "      <td>471.482176</td>\n",
       "      <td>951.620547</td>\n",
       "    </tr>\n",
       "    <tr>\n",
       "      <th>min</th>\n",
       "      <td>0.000000</td>\n",
       "      <td>-90.000000</td>\n",
       "      <td>0.000000</td>\n",
       "      <td>-1.164944e+01</td>\n",
       "      <td>0.000000</td>\n",
       "      <td>1.000000</td>\n",
       "      <td>0.000000</td>\n",
       "      <td>0.000000</td>\n",
       "      <td>0.000000</td>\n",
       "    </tr>\n",
       "    <tr>\n",
       "      <th>25%</th>\n",
       "      <td>0.000000</td>\n",
       "      <td>0.000000</td>\n",
       "      <td>33.090347</td>\n",
       "      <td>-8.540621e+00</td>\n",
       "      <td>0.000000</td>\n",
       "      <td>5.000000</td>\n",
       "      <td>2.000000</td>\n",
       "      <td>0.000000</td>\n",
       "      <td>0.000000</td>\n",
       "    </tr>\n",
       "    <tr>\n",
       "      <th>50%</th>\n",
       "      <td>0.000000</td>\n",
       "      <td>369.000000</td>\n",
       "      <td>34.908743</td>\n",
       "      <td>-5.021597e+00</td>\n",
       "      <td>0.000000</td>\n",
       "      <td>12.000000</td>\n",
       "      <td>3.000000</td>\n",
       "      <td>25.000000</td>\n",
       "      <td>1986.000000</td>\n",
       "    </tr>\n",
       "    <tr>\n",
       "      <th>75%</th>\n",
       "      <td>20.000000</td>\n",
       "      <td>1319.250000</td>\n",
       "      <td>37.178387</td>\n",
       "      <td>-3.326156e+00</td>\n",
       "      <td>0.000000</td>\n",
       "      <td>17.000000</td>\n",
       "      <td>5.000000</td>\n",
       "      <td>215.000000</td>\n",
       "      <td>2004.000000</td>\n",
       "    </tr>\n",
       "    <tr>\n",
       "      <th>max</th>\n",
       "      <td>350000.000000</td>\n",
       "      <td>2770.000000</td>\n",
       "      <td>40.345193</td>\n",
       "      <td>-2.000000e-08</td>\n",
       "      <td>1776.000000</td>\n",
       "      <td>99.000000</td>\n",
       "      <td>80.000000</td>\n",
       "      <td>30500.000000</td>\n",
       "      <td>2013.000000</td>\n",
       "    </tr>\n",
       "  </tbody>\n",
       "</table>\n",
       "</div>"
      ],
      "text/plain": [
       "          amount_tsh    gps_height     longitude      latitude   num_private  \\\n",
       "count   59400.000000  59400.000000  59400.000000  5.940000e+04  59400.000000   \n",
       "mean      317.650385    668.297239     34.077427 -5.706033e+00      0.474141   \n",
       "std      2997.574558    693.116350      6.567432  2.946019e+00     12.236230   \n",
       "min         0.000000    -90.000000      0.000000 -1.164944e+01      0.000000   \n",
       "25%         0.000000      0.000000     33.090347 -8.540621e+00      0.000000   \n",
       "50%         0.000000    369.000000     34.908743 -5.021597e+00      0.000000   \n",
       "75%        20.000000   1319.250000     37.178387 -3.326156e+00      0.000000   \n",
       "max    350000.000000   2770.000000     40.345193 -2.000000e-08   1776.000000   \n",
       "\n",
       "        region_code  district_code    population  construction_year  \n",
       "count  59400.000000   59400.000000  59400.000000       59400.000000  \n",
       "mean      15.297003       5.629747    179.909983        1300.652475  \n",
       "std       17.587406       9.633649    471.482176         951.620547  \n",
       "min        1.000000       0.000000      0.000000           0.000000  \n",
       "25%        5.000000       2.000000      0.000000           0.000000  \n",
       "50%       12.000000       3.000000     25.000000        1986.000000  \n",
       "75%       17.000000       5.000000    215.000000        2004.000000  \n",
       "max       99.000000      80.000000  30500.000000        2013.000000  "
      ]
     },
     "execution_count": 42,
     "metadata": {},
     "output_type": "execute_result"
    }
   ],
   "source": [
    "# Descripción del dataframe\n",
    "df.describe()"
   ]
  },
  {
   "cell_type": "code",
   "execution_count": 43,
   "id": "apparent-spare",
   "metadata": {},
   "outputs": [
    {
     "data": {
      "text/plain": [
       "Index(['amount_tsh', 'date_recorded', 'funder', 'gps_height', 'installer',\n",
       "       'longitude', 'latitude', 'wpt_name', 'num_private', 'basin',\n",
       "       'subvillage', 'region', 'region_code', 'district_code', 'lga', 'ward',\n",
       "       'population', 'public_meeting', 'recorded_by', 'scheme_management',\n",
       "       'scheme_name', 'permit', 'construction_year', 'extraction_type',\n",
       "       'extraction_type_group', 'extraction_type_class', 'management',\n",
       "       'management_group', 'payment', 'payment_type', 'water_quality',\n",
       "       'quality_group', 'quantity', 'quantity_group', 'source', 'source_type',\n",
       "       'source_class', 'waterpoint_type', 'waterpoint_type_group'],\n",
       "      dtype='object')"
      ]
     },
     "execution_count": 43,
     "metadata": {},
     "output_type": "execute_result"
    }
   ],
   "source": [
    "# Revisamos el nombre de todas las columnas\n",
    "df.columns"
   ]
  },
  {
   "cell_type": "code",
   "execution_count": 44,
   "id": "composite-arrow",
   "metadata": {},
   "outputs": [
    {
     "data": {
      "text/plain": [
       "amount_tsh               float64\n",
       "date_recorded             object\n",
       "funder                    object\n",
       "gps_height                 int64\n",
       "installer                 object\n",
       "longitude                float64\n",
       "latitude                 float64\n",
       "wpt_name                  object\n",
       "num_private                int64\n",
       "basin                     object\n",
       "subvillage                object\n",
       "region                    object\n",
       "region_code                int64\n",
       "district_code              int64\n",
       "lga                       object\n",
       "ward                      object\n",
       "population                 int64\n",
       "public_meeting            object\n",
       "recorded_by               object\n",
       "scheme_management         object\n",
       "scheme_name               object\n",
       "permit                    object\n",
       "construction_year          int64\n",
       "extraction_type           object\n",
       "extraction_type_group     object\n",
       "extraction_type_class     object\n",
       "management                object\n",
       "management_group          object\n",
       "payment                   object\n",
       "payment_type              object\n",
       "water_quality             object\n",
       "quality_group             object\n",
       "quantity                  object\n",
       "quantity_group            object\n",
       "source                    object\n",
       "source_type               object\n",
       "source_class              object\n",
       "waterpoint_type           object\n",
       "waterpoint_type_group     object\n",
       "dtype: object"
      ]
     },
     "execution_count": 44,
     "metadata": {},
     "output_type": "execute_result"
    }
   ],
   "source": [
    "# Revisamos el tipo de variables del df\n",
    "df.dtypes"
   ]
  },
  {
   "cell_type": "markdown",
   "id": "outstanding-minority",
   "metadata": {},
   "source": [
    "### Recuento de valores nulos"
   ]
  },
  {
   "cell_type": "code",
   "execution_count": 45,
   "id": "possible-hebrew",
   "metadata": {},
   "outputs": [
    {
     "data": {
      "text/plain": [
       "amount_tsh                   0\n",
       "date_recorded                0\n",
       "funder                    3635\n",
       "gps_height                   0\n",
       "installer                 3655\n",
       "longitude                    0\n",
       "latitude                     0\n",
       "wpt_name                     0\n",
       "num_private                  0\n",
       "basin                        0\n",
       "subvillage                 371\n",
       "region                       0\n",
       "region_code                  0\n",
       "district_code                0\n",
       "lga                          0\n",
       "ward                         0\n",
       "population                   0\n",
       "public_meeting            3334\n",
       "recorded_by                  0\n",
       "scheme_management         3877\n",
       "scheme_name              28166\n",
       "permit                    3056\n",
       "construction_year            0\n",
       "extraction_type              0\n",
       "extraction_type_group        0\n",
       "extraction_type_class        0\n",
       "management                   0\n",
       "management_group             0\n",
       "payment                      0\n",
       "payment_type                 0\n",
       "water_quality                0\n",
       "quality_group                0\n",
       "quantity                     0\n",
       "quantity_group               0\n",
       "source                       0\n",
       "source_type                  0\n",
       "source_class                 0\n",
       "waterpoint_type              0\n",
       "waterpoint_type_group        0\n",
       "dtype: int64"
      ]
     },
     "execution_count": 45,
     "metadata": {},
     "output_type": "execute_result"
    }
   ],
   "source": [
    "# ¿Tenemos valores nulos?\n",
    "df.isnull().sum()"
   ]
  },
  {
   "cell_type": "markdown",
   "id": "protective-pulse",
   "metadata": {},
   "source": [
    "Como dato interesante, tenemos que todas las variables con valores nulos son categóricas"
   ]
  },
  {
   "cell_type": "code",
   "execution_count": 46,
   "id": "conservative-association",
   "metadata": {},
   "outputs": [],
   "source": [
    "# Separamos las variables categóricas de las continuas en dos listas\n",
    "variables_categoricas = df.select_dtypes(include = \"object\")\n",
    "variables_numericas = df.select_dtypes(include = \"number\")"
   ]
  },
  {
   "cell_type": "markdown",
   "id": "familiar-crossing",
   "metadata": {},
   "source": [
    "Para ver un poco mejor la distribución de los datos, sería bueno mostrar los histogramas de distribución de datos, también sería buen momento para revisar la distribución de datos de las variables con valores nulos."
   ]
  },
  {
   "cell_type": "code",
   "execution_count": 47,
   "id": "checked-belly",
   "metadata": {},
   "outputs": [
    {
     "data": {
      "image/png": "[encoded data removed]",
      "text/plain": [
       "<Figure size 432x288 with 1 Axes>"
      ]
     },
     "metadata": {
      "needs_background": "light"
     },
     "output_type": "display_data"
    },
    {
     "data": {
      "image/png": "[encoded data removed]",
      "text/plain": [
       "<Figure size 432x288 with 1 Axes>"
      ]
     },
     "metadata": {
      "needs_background": "light"
     },
     "output_type": "display_data"
    },
    {
     "data": {
      "image/png": "[encoded data removed]",
      "text/plain": [
       "<Figure size 432x288 with 1 Axes>"
      ]
     },
     "metadata": {
      "needs_background": "light"
     },
     "output_type": "display_data"
    },
    {
     "data": {
      "image/png": "[encoded data removed]",
      "text/plain": [
       "<Figure size 432x288 with 1 Axes>"
      ]
     },
     "metadata": {
      "needs_background": "light"
     },
     "output_type": "display_data"
    },
    {
     "data": {
      "image/png": "[encoded data removed]",
      "text/plain": [
       "<Figure size 432x288 with 1 Axes>"
      ]
     },
     "metadata": {
      "needs_background": "light"
     },
     "output_type": "display_data"
    },
    {
     "data": {
      "image/png": "[encoded data removed]",
      "text/plain": [
       "<Figure size 432x288 with 1 Axes>"
      ]
     },
     "metadata": {
      "needs_background": "light"
     },
     "output_type": "display_data"
    },
    {
     "data": {
      "image/png": "[encoded data removed]",
      "text/plain": [
       "<Figure size 432x288 with 1 Axes>"
      ]
     },
     "metadata": {
      "needs_background": "light"
     },
     "output_type": "display_data"
    },
    {
     "data": {
      "image/png": "[encoded data removed]",
      "text/plain": [
       "<Figure size 432x288 with 1 Axes>"
      ]
     },
     "metadata": {
      "needs_background": "light"
     },
     "output_type": "display_data"
    },
    {
     "data": {
      "image/png": "[encoded data removed]",
      "text/plain": [
       "<Figure size 432x288 with 1 Axes>"
      ]
     },
     "metadata": {
      "needs_background": "light"
     },
     "output_type": "display_data"
    }
   ],
   "source": [
    "# Histograma con las variables numéricas\n",
    "for l in variables_numericas:\n",
    "    plt.hist(variables_numericas[l])\n",
    "    plt.title(l)\n",
    "    plt.show()"
   ]
  },
  {
   "cell_type": "code",
   "execution_count": 48,
   "id": "overhead-latin",
   "metadata": {},
   "outputs": [
    {
     "name": "stdout",
     "output_type": "stream",
     "text": [
      "------------------------------ date_recorded -----------------------------------\n",
      "2011-03-15    572\n",
      "2011-03-17    558\n",
      "2013-02-03    546\n",
      "2011-03-14    520\n",
      "2011-03-16    513\n",
      "             ... \n",
      "2013-01-06      1\n",
      "2004-01-07      1\n",
      "2011-09-21      1\n",
      "2002-10-14      1\n",
      "2011-09-19      1\n",
      "Name: date_recorded, Length: 356, dtype: int64\n",
      "------------------------------ funder -----------------------------------\n",
      "Government Of Tanzania    9084\n",
      "Danida                    3114\n",
      "Hesawa                    2202\n",
      "Rwssp                     1374\n",
      "World Bank                1349\n",
      "                          ... \n",
      "Nassan                       1\n",
      "Rajab Seleman                1\n",
      "Bakwata                      1\n",
      "Tasaf/tlc                    1\n",
      "Mnyama                       1\n",
      "Name: funder, Length: 1897, dtype: int64\n",
      "------------------------------ installer -----------------------------------\n",
      "DWE             17402\n",
      "Government       1825\n",
      "RWE              1206\n",
      "Commu            1060\n",
      "DANIDA           1050\n",
      "                ...  \n",
      "CCPK                1\n",
      "Mohamed Ally        1\n",
      "RDWS                1\n",
      "Red cross           1\n",
      "Coun                1\n",
      "Name: installer, Length: 2145, dtype: int64\n",
      "------------------------------ wpt_name -----------------------------------\n",
      "none                    3563\n",
      "Shuleni                 1748\n",
      "Zahanati                 830\n",
      "Msikitini                535\n",
      "Kanisani                 323\n",
      "                        ... \n",
      "Kwa Amos Jackson           1\n",
      "Birika La Gongoni          1\n",
      "Nyachonga Dp               1\n",
      "Kwa Salata                 1\n",
      "Kwa Fransis Kisaveri       1\n",
      "Name: wpt_name, Length: 37400, dtype: int64\n",
      "------------------------------ basin -----------------------------------\n",
      "Lake Victoria              10248\n",
      "Pangani                     8940\n",
      "Rufiji                      7976\n",
      "Internal                    7785\n",
      "Lake Tanganyika             6432\n",
      "Wami / Ruvu                 5987\n",
      "Lake Nyasa                  5085\n",
      "Ruvuma / Southern Coast     4493\n",
      "Lake Rukwa                  2454\n",
      "Name: basin, dtype: int64\n",
      "------------------------------ subvillage -----------------------------------\n",
      "Madukani        508\n",
      "Shuleni         506\n",
      "Majengo         502\n",
      "Kati            373\n",
      "Mtakuja         262\n",
      "               ... \n",
      "Moningori         1\n",
      "Kwa Hamza         1\n",
      "Kawimnyole        1\n",
      "Kasesha           1\n",
      "Mtaa Wa Tati      1\n",
      "Name: subvillage, Length: 19287, dtype: int64\n",
      "------------------------------ region -----------------------------------\n",
      "Iringa           5294\n",
      "Shinyanga        4982\n",
      "Mbeya            4639\n",
      "Kilimanjaro      4379\n",
      "Morogoro         4006\n",
      "Arusha           3350\n",
      "Kagera           3316\n",
      "Mwanza           3102\n",
      "Kigoma           2816\n",
      "Ruvuma           2640\n",
      "Pwani            2635\n",
      "Tanga            2547\n",
      "Dodoma           2201\n",
      "Singida          2093\n",
      "Mara             1969\n",
      "Tabora           1959\n",
      "Rukwa            1808\n",
      "Mtwara           1730\n",
      "Manyara          1583\n",
      "Lindi            1546\n",
      "Dar es Salaam     805\n",
      "Name: region, dtype: int64\n",
      "------------------------------ lga -----------------------------------\n",
      "Njombe          2503\n",
      "Arusha Rural    1252\n",
      "Moshi Rural     1251\n",
      "Bariadi         1177\n",
      "Rungwe          1106\n",
      "                ... \n",
      "Moshi Urban       79\n",
      "Kigoma Urban      71\n",
      "Arusha Urban      63\n",
      "Lindi Urban       21\n",
      "Nyamagana          1\n",
      "Name: lga, Length: 125, dtype: int64\n",
      "------------------------------ ward -----------------------------------\n",
      "Igosi        307\n",
      "Imalinyi     252\n",
      "Siha Kati    232\n",
      "Mdandu       231\n",
      "Nduruma      217\n",
      "            ... \n",
      "Kapilula       1\n",
      "Kinungu        1\n",
      "Chinugulu      1\n",
      "Burungura      1\n",
      "Sungwisi       1\n",
      "Name: ward, Length: 2092, dtype: int64\n",
      "------------------------------ public_meeting -----------------------------------\n",
      "True     51011\n",
      "False     5055\n",
      "Name: public_meeting, dtype: int64\n",
      "------------------------------ recorded_by -----------------------------------\n",
      "GeoData Consultants Ltd    59400\n",
      "Name: recorded_by, dtype: int64\n",
      "------------------------------ scheme_management -----------------------------------\n",
      "VWC                 36793\n",
      "WUG                  5206\n",
      "Water authority      3153\n",
      "WUA                  2883\n",
      "Water Board          2748\n",
      "Parastatal           1680\n",
      "Private operator     1063\n",
      "Company              1061\n",
      "Other                 766\n",
      "SWC                    97\n",
      "Trust                  72\n",
      "None                    1\n",
      "Name: scheme_management, dtype: int64\n",
      "------------------------------ scheme_name -----------------------------------\n",
      "K                             682\n",
      "None                          644\n",
      "Borehole                      546\n",
      "Chalinze wate                 405\n",
      "M                             400\n",
      "                             ... \n",
      "TM koboko water supply          1\n",
      "Rain water harest               1\n",
      "Fingan                          1\n",
      "Mradi wa maji wa mbinu mha      1\n",
      "BL Bonifas Kingu                1\n",
      "Name: scheme_name, Length: 2696, dtype: int64\n",
      "------------------------------ permit -----------------------------------\n",
      "True     38852\n",
      "False    17492\n",
      "Name: permit, dtype: int64\n",
      "------------------------------ extraction_type -----------------------------------\n",
      "gravity                      26780\n",
      "nira/tanira                   8154\n",
      "other                         6430\n",
      "submersible                   4764\n",
      "swn 80                        3670\n",
      "mono                          2865\n",
      "india mark ii                 2400\n",
      "afridev                       1770\n",
      "ksb                           1415\n",
      "other - rope pump              451\n",
      "other - swn 81                 229\n",
      "windmill                       117\n",
      "india mark iii                  98\n",
      "cemo                            90\n",
      "other - play pump               85\n",
      "walimi                          48\n",
      "climax                          32\n",
      "other - mkulima/shinyanga        2\n",
      "Name: extraction_type, dtype: int64\n",
      "------------------------------ extraction_type_group -----------------------------------\n",
      "gravity            26780\n",
      "nira/tanira         8154\n",
      "other               6430\n",
      "submersible         6179\n",
      "swn 80              3670\n",
      "mono                2865\n",
      "india mark ii       2400\n",
      "afridev             1770\n",
      "rope pump            451\n",
      "other handpump       364\n",
      "other motorpump      122\n",
      "wind-powered         117\n",
      "india mark iii        98\n",
      "Name: extraction_type_group, dtype: int64\n",
      "------------------------------ extraction_type_class -----------------------------------\n",
      "gravity         26780\n",
      "handpump        16456\n",
      "other            6430\n",
      "submersible      6179\n",
      "motorpump        2987\n",
      "rope pump         451\n",
      "wind-powered      117\n",
      "Name: extraction_type_class, dtype: int64\n",
      "------------------------------ management -----------------------------------\n",
      "vwc                 40507\n",
      "wug                  6515\n",
      "water board          2933\n",
      "wua                  2535\n",
      "private operator     1971\n",
      "parastatal           1768\n",
      "water authority       904\n",
      "other                 844\n",
      "company               685\n",
      "unknown               561\n",
      "other - school         99\n",
      "trust                  78\n",
      "Name: management, dtype: int64\n",
      "------------------------------ management_group -----------------------------------\n",
      "user-group    52490\n",
      "commercial     3638\n",
      "parastatal     1768\n",
      "other           943\n",
      "unknown         561\n",
      "Name: management_group, dtype: int64\n",
      "------------------------------ payment -----------------------------------\n",
      "never pay                25348\n",
      "pay per bucket            8985\n",
      "pay monthly               8300\n",
      "unknown                   8157\n",
      "pay when scheme fails     3914\n",
      "pay annually              3642\n",
      "other                     1054\n",
      "Name: payment, dtype: int64\n",
      "------------------------------ payment_type -----------------------------------\n",
      "never pay     25348\n",
      "per bucket     8985\n",
      "monthly        8300\n",
      "unknown        8157\n",
      "on failure     3914\n",
      "annually       3642\n",
      "other          1054\n",
      "Name: payment_type, dtype: int64\n",
      "------------------------------ water_quality -----------------------------------\n",
      "soft                  50818\n",
      "salty                  4856\n",
      "unknown                1876\n",
      "milky                   804\n",
      "coloured                490\n",
      "salty abandoned         339\n",
      "fluoride                200\n",
      "fluoride abandoned       17\n",
      "Name: water_quality, dtype: int64\n",
      "------------------------------ quality_group -----------------------------------\n",
      "good        50818\n",
      "salty        5195\n",
      "unknown      1876\n",
      "milky         804\n",
      "colored       490\n",
      "fluoride      217\n",
      "Name: quality_group, dtype: int64\n",
      "------------------------------ quantity -----------------------------------\n",
      "enough          33186\n",
      "insufficient    15129\n",
      "dry              6246\n",
      "seasonal         4050\n",
      "unknown           789\n",
      "Name: quantity, dtype: int64\n",
      "------------------------------ quantity_group -----------------------------------\n",
      "enough          33186\n",
      "insufficient    15129\n",
      "dry              6246\n",
      "seasonal         4050\n",
      "unknown           789\n",
      "Name: quantity_group, dtype: int64\n",
      "------------------------------ source -----------------------------------\n",
      "spring                  17021\n",
      "shallow well            16824\n",
      "machine dbh             11075\n",
      "river                    9612\n",
      "rainwater harvesting     2295\n",
      "hand dtw                  874\n",
      "lake                      765\n",
      "dam                       656\n",
      "other                     212\n",
      "unknown                    66\n",
      "Name: source, dtype: int64\n",
      "------------------------------ source_type -----------------------------------\n",
      "spring                  17021\n",
      "shallow well            16824\n",
      "borehole                11949\n",
      "river/lake              10377\n",
      "rainwater harvesting     2295\n",
      "dam                       656\n",
      "other                     278\n",
      "Name: source_type, dtype: int64\n",
      "------------------------------ source_class -----------------------------------\n",
      "groundwater    45794\n",
      "surface        13328\n",
      "unknown          278\n",
      "Name: source_class, dtype: int64\n",
      "------------------------------ waterpoint_type -----------------------------------\n",
      "communal standpipe             28522\n",
      "hand pump                      17488\n",
      "other                           6380\n",
      "communal standpipe multiple     6103\n",
      "improved spring                  784\n",
      "cattle trough                    116\n",
      "dam                                7\n",
      "Name: waterpoint_type, dtype: int64\n",
      "------------------------------ waterpoint_type_group -----------------------------------\n",
      "communal standpipe    34625\n",
      "hand pump             17488\n",
      "other                  6380\n",
      "improved spring         784\n",
      "cattle trough           116\n",
      "dam                       7\n",
      "Name: waterpoint_type_group, dtype: int64\n"
     ]
    }
   ],
   "source": [
    "# Recuento de categorías de las variables categóricas\n",
    "for i in variables_categoricas:\n",
    "    print(\"------------------------------\", i, \"-----------------------------------\" )\n",
    "    print(variables_categoricas[i].value_counts(ascending=False))"
   ]
  },
  {
   "cell_type": "markdown",
   "id": "bizarre-transport",
   "metadata": {},
   "source": [
    "### Variable \"funder\"\n",
    "Los valores nulos de la variable \"funder\" los sustituimos por \"Desconocido\""
   ]
  },
  {
   "cell_type": "code",
   "execution_count": 17,
   "id": "loose-anime",
   "metadata": {},
   "outputs": [],
   "source": [
    "# Rellenamos los valores nulos, primera forma\n",
    "#df[\"funder\"] = df.apply(lambda x:\"Desconocido\" if pd.isna(x[\"funder\"]) else (x[\"funder\"]), axis= 1)"
   ]
  },
  {
   "cell_type": "code",
   "execution_count": 32,
   "id": "agreed-encyclopedia",
   "metadata": {},
   "outputs": [],
   "source": [
    "# Rellenamos los valores nulos, segunda forma\n",
    "df[\"funder\"] = df[\"funder\"].replace(np.nan, \"Desconocido\")"
   ]
  },
  {
   "cell_type": "code",
   "execution_count": 33,
   "id": "vanilla-venue",
   "metadata": {},
   "outputs": [
    {
     "data": {
      "text/plain": [
       "0"
      ]
     },
     "execution_count": 33,
     "metadata": {},
     "output_type": "execute_result"
    }
   ],
   "source": [
    "# Comprobamos que no haya valores nulos en \"funder\"\n",
    "df[\"funder\"].isnull().sum()"
   ]
  },
  {
   "cell_type": "code",
   "execution_count": 34,
   "id": "eight-confusion",
   "metadata": {},
   "outputs": [
    {
     "data": {
      "text/plain": [
       "Government Of Tanzania    9084\n",
       "KNNImputer()              3635\n",
       "Danida                    3114\n",
       "Hesawa                    2202\n",
       "Rwssp                     1374\n",
       "Name: funder, dtype: int64"
      ]
     },
     "execution_count": 34,
     "metadata": {},
     "output_type": "execute_result"
    }
   ],
   "source": [
    "# Comprobamos la variable \"funder\" si tiene la nueva categoría \"Desconocido\"\n",
    "df[\"funder\"].value_counts(ascending = False).head(5)"
   ]
  },
  {
   "cell_type": "markdown",
   "id": "retired-status",
   "metadata": {},
   "source": [
    "### Variable \"installer\""
   ]
  },
  {
   "cell_type": "code",
   "execution_count": 21,
   "id": "prescribed-stake",
   "metadata": {},
   "outputs": [],
   "source": [
    "# Rellenamos los valores nulos de \"installer\"\n",
    "df[\"installer\"] = df[\"installer\"].replace(np.nan, \"Desconocido\")"
   ]
  },
  {
   "cell_type": "code",
   "execution_count": 22,
   "id": "individual-export",
   "metadata": {},
   "outputs": [
    {
     "data": {
      "text/plain": [
       "0"
      ]
     },
     "execution_count": 22,
     "metadata": {},
     "output_type": "execute_result"
    }
   ],
   "source": [
    "# Comprobamos que no haya valores nulos en \"installer\"\n",
    "df[\"installer\"].isnull().sum()"
   ]
  },
  {
   "cell_type": "code",
   "execution_count": 23,
   "id": "persistent-forge",
   "metadata": {},
   "outputs": [
    {
     "data": {
      "text/plain": [
       "DWE            17402\n",
       "Desconocido     3655\n",
       "Government      1825\n",
       "RWE             1206\n",
       "Commu           1060\n",
       "Name: installer, dtype: int64"
      ]
     },
     "execution_count": 23,
     "metadata": {},
     "output_type": "execute_result"
    }
   ],
   "source": [
    "# Comprobamos la variable \"installer\" si tiene la nueva categoría \"Desconocido\"\n",
    "df[\"installer\"].value_counts(ascending = False).head(5)"
   ]
  },
  {
   "cell_type": "markdown",
   "id": "linear-shore",
   "metadata": {},
   "source": [
    "### Variable \"subvillage\""
   ]
  },
  {
   "cell_type": "code",
   "execution_count": 24,
   "id": "clear-gibraltar",
   "metadata": {},
   "outputs": [],
   "source": [
    "# Rellenamos los valores nulos de \"subvillage\"\n",
    "df[\"subvillage\"] = df[\"subvillage\"].replace(np.nan, \"Desconocido\")"
   ]
  },
  {
   "cell_type": "code",
   "execution_count": 25,
   "id": "speaking-server",
   "metadata": {},
   "outputs": [
    {
     "data": {
      "text/plain": [
       "0"
      ]
     },
     "execution_count": 25,
     "metadata": {},
     "output_type": "execute_result"
    }
   ],
   "source": [
    "# Comprobamos que no haya valores nulos en \"subvillage\"\n",
    "df[\"subvillage\"].isnull().sum()"
   ]
  },
  {
   "cell_type": "code",
   "execution_count": 26,
   "id": "colonial-dominant",
   "metadata": {},
   "outputs": [
    {
     "data": {
      "text/plain": [
       "Madukani       508\n",
       "Shuleni        506\n",
       "Majengo        502\n",
       "Kati           373\n",
       "Desconocido    371\n",
       "Name: subvillage, dtype: int64"
      ]
     },
     "execution_count": 26,
     "metadata": {},
     "output_type": "execute_result"
    }
   ],
   "source": [
    "# Comprobamos la variable \"subvillage\" si tiene la nueva categoría \"Desconocido\"\n",
    "df[\"subvillage\"].value_counts(ascending = False).head(5)"
   ]
  },
  {
   "cell_type": "markdown",
   "id": "impossible-phone",
   "metadata": {},
   "source": [
    "### Variable \"public_meeting\""
   ]
  },
  {
   "cell_type": "code",
   "execution_count": 27,
   "id": "based-baltimore",
   "metadata": {},
   "outputs": [],
   "source": [
    "# Rellenamos los valores nulos de \"public_meeting\"\n",
    "df[\"public_meeting\"] = df[\"public_meeting\"].replace(np.nan, \"Desconocido\")"
   ]
  },
  {
   "cell_type": "code",
   "execution_count": 28,
   "id": "subjective-farmer",
   "metadata": {},
   "outputs": [
    {
     "data": {
      "text/plain": [
       "0"
      ]
     },
     "execution_count": 28,
     "metadata": {},
     "output_type": "execute_result"
    }
   ],
   "source": [
    "# Comprobamos que no haya valores nulos en \"public_meeting\"\n",
    "df[\"public_meeting\"].isnull().sum()"
   ]
  },
  {
   "cell_type": "code",
   "execution_count": 29,
   "id": "fixed-horizon",
   "metadata": {},
   "outputs": [
    {
     "data": {
      "text/plain": [
       "True           51011\n",
       "False           5055\n",
       "Desconocido     3334\n",
       "Name: public_meeting, dtype: int64"
      ]
     },
     "execution_count": 29,
     "metadata": {},
     "output_type": "execute_result"
    }
   ],
   "source": [
    "# Comprobamos la variable \"public_meeting\" no tiene valores perdidos\n",
    "df[\"public_meeting\"].value_counts(ascending = False).head(3)"
   ]
  },
  {
   "cell_type": "markdown",
   "id": "alternate-argument",
   "metadata": {},
   "source": [
    "### Variable \"scheme_management\"\n",
    "Podríamos considerar meter dentro de la categoría \"Other\" los valores nulos y la categoría \"None\""
   ]
  },
  {
   "cell_type": "code",
   "execution_count": 30,
   "id": "turned-practice",
   "metadata": {},
   "outputs": [],
   "source": [
    "# Rellenamos los valores nulos de \"scheme_management\", agrupamos en la categoría \"Other\"\n",
    "df[\"scheme_management\"] = df[\"scheme_management\"].replace([np.nan, \"None\", \"Other\"], \"Other\")"
   ]
  },
  {
   "cell_type": "code",
   "execution_count": 31,
   "id": "higher-driver",
   "metadata": {},
   "outputs": [
    {
     "data": {
      "text/plain": [
       "0"
      ]
     },
     "execution_count": 31,
     "metadata": {},
     "output_type": "execute_result"
    }
   ],
   "source": [
    "# Comprobamos que no haya valores nulos en \"scheme_management\"\n",
    "df[\"scheme_management\"].isnull().sum()"
   ]
  },
  {
   "cell_type": "code",
   "execution_count": 32,
   "id": "sharing-fields",
   "metadata": {},
   "outputs": [
    {
     "data": {
      "text/plain": [
       "VWC                 36793\n",
       "WUG                  5206\n",
       "Other                4644\n",
       "Water authority      3153\n",
       "WUA                  2883\n",
       "Water Board          2748\n",
       "Parastatal           1680\n",
       "Private operator     1063\n",
       "Company              1061\n",
       "SWC                    97\n",
       "Trust                  72\n",
       "Name: scheme_management, dtype: int64"
      ]
     },
     "execution_count": 32,
     "metadata": {},
     "output_type": "execute_result"
    }
   ],
   "source": [
    "# Comprobamos la variable \"scheme_management\" no tiene valores perdidos\n",
    "df[\"scheme_management\"].value_counts(ascending = False).head(15)"
   ]
  },
  {
   "cell_type": "markdown",
   "id": "suited-microwave",
   "metadata": {},
   "source": [
    " ### Variable \"scheme_name\"\n",
    " Agrupamos los valores perdidos en la categoría \"None\", pero debido al elevadísmo número de valores perdidos sería una candidadat a salir del modelo"
   ]
  },
  {
   "cell_type": "code",
   "execution_count": 33,
   "id": "pediatric-swimming",
   "metadata": {},
   "outputs": [],
   "source": [
    "# Rellenamos los valores nulos de \"scheme_name\", agrupamos en la categoría \"None\"\n",
    "df[\"scheme_name\"] = df[\"scheme_name\"].replace([np.nan, \"None\"], \"None\")"
   ]
  },
  {
   "cell_type": "code",
   "execution_count": 34,
   "id": "organizational-dylan",
   "metadata": {},
   "outputs": [
    {
     "data": {
      "text/plain": [
       "0"
      ]
     },
     "execution_count": 34,
     "metadata": {},
     "output_type": "execute_result"
    }
   ],
   "source": [
    "# Comprobamos que no haya valores nulos en \"scheme_name\"\n",
    "df[\"scheme_name\"].isnull().sum()"
   ]
  },
  {
   "cell_type": "code",
   "execution_count": 35,
   "id": "japanese-stuart",
   "metadata": {},
   "outputs": [
    {
     "data": {
      "text/plain": [
       "None                           28810\n",
       "K                                682\n",
       "Borehole                         546\n",
       "Chalinze wate                    405\n",
       "M                                400\n",
       "DANIDA                           379\n",
       "Government                       320\n",
       "Ngana water supplied scheme      270\n",
       "wanging'ombe water supply s      261\n",
       "wanging'ombe supply scheme       234\n",
       "Name: scheme_name, dtype: int64"
      ]
     },
     "execution_count": 35,
     "metadata": {},
     "output_type": "execute_result"
    }
   ],
   "source": [
    "# Comprobamos la variable \"scheme_name\" no tiene valores perdidos\n",
    "df[\"scheme_name\"].value_counts(ascending = False).head(10)"
   ]
  },
  {
   "cell_type": "markdown",
   "id": "banned-calculation",
   "metadata": {},
   "source": [
    "### Variable \"permit\"\n",
    "Los perdido los metemos en la cateoría desconocido, aunque quizá no serái mala idea meterlos en False"
   ]
  },
  {
   "cell_type": "code",
   "execution_count": 36,
   "id": "hispanic-winter",
   "metadata": {},
   "outputs": [],
   "source": [
    "# Rellenamos los valores nulos de \"permit\" por la categoría \"Desconocido\"\n",
    "df[\"permit\"] = df[\"permit\"].replace(np.nan, \"Desconocido\")"
   ]
  },
  {
   "cell_type": "code",
   "execution_count": 37,
   "id": "flush-briefing",
   "metadata": {},
   "outputs": [
    {
     "data": {
      "text/plain": [
       "0"
      ]
     },
     "execution_count": 37,
     "metadata": {},
     "output_type": "execute_result"
    }
   ],
   "source": [
    "# Comprobamos que no haya valores nulos en \"permit\"\n",
    "df[\"permit\"].isnull().sum()"
   ]
  },
  {
   "cell_type": "code",
   "execution_count": 38,
   "id": "pending-rings",
   "metadata": {},
   "outputs": [
    {
     "data": {
      "text/plain": [
       "True           38852\n",
       "False          17492\n",
       "Desconocido     3056\n",
       "Name: permit, dtype: int64"
      ]
     },
     "execution_count": 38,
     "metadata": {},
     "output_type": "execute_result"
    }
   ],
   "source": [
    "# Comprobamos la variable \"permit\" no tiene valores perdidos\n",
    "df[\"permit\"].value_counts(ascending = False).head(10)"
   ]
  },
  {
   "cell_type": "markdown",
   "id": "exciting-fifty",
   "metadata": {},
   "source": [
    "## Eliminamos las variables/columnas con valores únicos no utilizables\n",
    "Eliminación de variables de nuestro modelo (se especifica el motivo)"
   ]
  },
  {
   "cell_type": "code",
   "execution_count": 39,
   "id": "valued-citizen",
   "metadata": {},
   "outputs": [
    {
     "name": "stdout",
     "output_type": "stream",
     "text": [
      "------------------------------ amount_tsh -----------------------------------\n",
      "0.0         41639\n",
      "500.0        3102\n",
      "50.0         2472\n",
      "1000.0       1488\n",
      "20.0         1463\n",
      "            ...  \n",
      "250000.0        1\n",
      "220.0           1\n",
      "350000.0        1\n",
      "138000.0        1\n",
      "38000.0         1\n",
      "Name: amount_tsh, Length: 98, dtype: int64\n",
      "------------------------------ date_recorded -----------------------------------\n",
      "2011-03-15    572\n",
      "2011-03-17    558\n",
      "2013-02-03    546\n",
      "2011-03-14    520\n",
      "2011-03-16    513\n",
      "             ... \n",
      "2011-09-15      1\n",
      "2011-09-16      1\n",
      "2013-12-01      1\n",
      "2011-09-21      1\n",
      "2011-08-31      1\n",
      "Name: date_recorded, Length: 356, dtype: int64\n",
      "------------------------------ funder -----------------------------------\n",
      "Government Of Tanzania    9084\n",
      "Desconocido               3635\n",
      "Danida                    3114\n",
      "Hesawa                    2202\n",
      "Rwssp                     1374\n",
      "                          ... \n",
      "Mama Ku                      1\n",
      "Sisa                         1\n",
      "Robert Mosi                  1\n",
      "Sakwidi                      1\n",
      "Gra Na Halmashauri           1\n",
      "Name: funder, Length: 1898, dtype: int64\n",
      "------------------------------ gps_height -----------------------------------\n",
      " 0       20438\n",
      "-15         60\n",
      "-16         55\n",
      "-13         55\n",
      " 1290       52\n",
      "         ...  \n",
      " 2332        1\n",
      " 2202        1\n",
      " 2236        1\n",
      "-57          1\n",
      " 2038        1\n",
      "Name: gps_height, Length: 2428, dtype: int64\n",
      "------------------------------ installer -----------------------------------\n",
      "DWE                17402\n",
      "Desconocido         3655\n",
      "Government          1825\n",
      "RWE                 1206\n",
      "Commu               1060\n",
      "                   ...  \n",
      "Robert kampala         1\n",
      "mwita kichere          1\n",
      "Ju                     1\n",
      "Nerthlands             1\n",
      "Mpango wa Mwisa        1\n",
      "Name: installer, Length: 2146, dtype: int64\n",
      "------------------------------ longitude -----------------------------------\n",
      "0.000000     1812\n",
      "32.977191       2\n",
      "32.919861       2\n",
      "37.542785       2\n",
      "39.105307       2\n",
      "             ... \n",
      "37.141893       1\n",
      "35.839879       1\n",
      "33.638301       1\n",
      "35.347266       1\n",
      "35.164770       1\n",
      "Name: longitude, Length: 57516, dtype: int64\n",
      "------------------------------ latitude -----------------------------------\n",
      "-2.000000e-08    1812\n",
      "-2.494546e+00       2\n",
      "-6.983183e+00       2\n",
      "-7.056923e+00       2\n",
      "-7.056372e+00       2\n",
      "                 ... \n",
      "-6.162973e+00       1\n",
      "-1.595138e+00       1\n",
      "-2.007878e+00       1\n",
      "-6.787691e+00       1\n",
      "-1.077290e+01       1\n",
      "Name: latitude, Length: 57517, dtype: int64\n",
      "------------------------------ wpt_name -----------------------------------\n",
      "none                           3563\n",
      "Shuleni                        1748\n",
      "Zahanati                        830\n",
      "Msikitini                       535\n",
      "Kanisani                        323\n",
      "                               ... \n",
      "Nkindwabiye Shule Ya Msingi       1\n",
      "Kwa Kamgini Kaboli                1\n",
      "Kwa Sasu                          1\n",
      "Kwa Teretio Lema                  1\n",
      "Ndobandoba                        1\n",
      "Name: wpt_name, Length: 37400, dtype: int64\n",
      "------------------------------ num_private -----------------------------------\n",
      "0      58643\n",
      "6         81\n",
      "1         73\n",
      "8         46\n",
      "5         46\n",
      "       ...  \n",
      "42         1\n",
      "136        1\n",
      "35         1\n",
      "131        1\n",
      "94         1\n",
      "Name: num_private, Length: 65, dtype: int64\n",
      "------------------------------ basin -----------------------------------\n",
      "Lake Victoria              10248\n",
      "Pangani                     8940\n",
      "Rufiji                      7976\n",
      "Internal                    7785\n",
      "Lake Tanganyika             6432\n",
      "Wami / Ruvu                 5987\n",
      "Lake Nyasa                  5085\n",
      "Ruvuma / Southern Coast     4493\n",
      "Lake Rukwa                  2454\n",
      "Name: basin, dtype: int64\n",
      "------------------------------ subvillage -----------------------------------\n",
      "Madukani        508\n",
      "Shuleni         506\n",
      "Majengo         502\n",
      "Kati            373\n",
      "Desconocido     371\n",
      "               ... \n",
      "Chenda            1\n",
      "Athni Mwisho      1\n",
      "Nyarutuguru       1\n",
      "Msuto             1\n",
      "Lwikula           1\n",
      "Name: subvillage, Length: 19288, dtype: int64\n",
      "------------------------------ region -----------------------------------\n",
      "Iringa           5294\n",
      "Shinyanga        4982\n",
      "Mbeya            4639\n",
      "Kilimanjaro      4379\n",
      "Morogoro         4006\n",
      "Arusha           3350\n",
      "Kagera           3316\n",
      "Mwanza           3102\n",
      "Kigoma           2816\n",
      "Ruvuma           2640\n",
      "Pwani            2635\n",
      "Tanga            2547\n",
      "Dodoma           2201\n",
      "Singida          2093\n",
      "Mara             1969\n",
      "Tabora           1959\n",
      "Rukwa            1808\n",
      "Mtwara           1730\n",
      "Manyara          1583\n",
      "Lindi            1546\n",
      "Dar es Salaam     805\n",
      "Name: region, dtype: int64\n",
      "------------------------------ region_code -----------------------------------\n",
      "11    5300\n",
      "17    5011\n",
      "12    4639\n",
      "3     4379\n",
      "5     4040\n",
      "18    3324\n",
      "19    3047\n",
      "2     3024\n",
      "16    2816\n",
      "10    2640\n",
      "4     2513\n",
      "1     2201\n",
      "13    2093\n",
      "14    1979\n",
      "20    1969\n",
      "15    1808\n",
      "6     1609\n",
      "21    1583\n",
      "80    1238\n",
      "60    1025\n",
      "90     917\n",
      "7      805\n",
      "99     423\n",
      "9      390\n",
      "24     326\n",
      "8      300\n",
      "40       1\n",
      "Name: region_code, dtype: int64\n",
      "------------------------------ district_code -----------------------------------\n",
      "1     12203\n",
      "2     11173\n",
      "3      9998\n",
      "4      8999\n",
      "5      4356\n",
      "6      4074\n",
      "7      3343\n",
      "8      1043\n",
      "30      995\n",
      "33      874\n",
      "53      745\n",
      "43      505\n",
      "13      391\n",
      "23      293\n",
      "63      195\n",
      "62      109\n",
      "60       63\n",
      "0        23\n",
      "80       12\n",
      "67        6\n",
      "Name: district_code, dtype: int64\n",
      "------------------------------ lga -----------------------------------\n",
      "Njombe          2503\n",
      "Arusha Rural    1252\n",
      "Moshi Rural     1251\n",
      "Bariadi         1177\n",
      "Rungwe          1106\n",
      "                ... \n",
      "Moshi Urban       79\n",
      "Kigoma Urban      71\n",
      "Arusha Urban      63\n",
      "Lindi Urban       21\n",
      "Nyamagana          1\n",
      "Name: lga, Length: 125, dtype: int64\n",
      "------------------------------ ward -----------------------------------\n",
      "Igosi            307\n",
      "Imalinyi         252\n",
      "Siha Kati        232\n",
      "Mdandu           231\n",
      "Nduruma          217\n",
      "                ... \n",
      "Kitete             1\n",
      "Kirongo            1\n",
      "Igogo              1\n",
      "Kihangimahuka      1\n",
      "Simbay             1\n",
      "Name: ward, Length: 2092, dtype: int64\n",
      "------------------------------ population -----------------------------------\n",
      "0       21381\n",
      "1        7025\n",
      "200      1940\n",
      "150      1892\n",
      "250      1681\n",
      "        ...  \n",
      "1160        1\n",
      "3241        1\n",
      "1960        1\n",
      "2248        1\n",
      "1439        1\n",
      "Name: population, Length: 1049, dtype: int64\n",
      "------------------------------ public_meeting -----------------------------------\n",
      "True           51011\n",
      "False           5055\n",
      "Desconocido     3334\n",
      "Name: public_meeting, dtype: int64\n",
      "------------------------------ recorded_by -----------------------------------\n",
      "GeoData Consultants Ltd    59400\n",
      "Name: recorded_by, dtype: int64\n",
      "------------------------------ scheme_management -----------------------------------\n",
      "VWC                 36793\n",
      "WUG                  5206\n",
      "Other                4644\n",
      "Water authority      3153\n",
      "WUA                  2883\n",
      "Water Board          2748\n",
      "Parastatal           1680\n",
      "Private operator     1063\n",
      "Company              1061\n",
      "SWC                    97\n",
      "Trust                  72\n",
      "Name: scheme_management, dtype: int64\n",
      "------------------------------ scheme_name -----------------------------------\n",
      "None                       28810\n",
      "K                            682\n",
      "Borehole                     546\n",
      "Chalinze wate                405\n",
      "M                            400\n",
      "                           ...  \n",
      "Mongwe r                       1\n",
      "Kirwa i water supply           1\n",
      "Tove - Mtwango                 1\n",
      "Lake Tanganyika Basin          1\n",
      "KAIBANJA PUMPING SCHEME        1\n",
      "Name: scheme_name, Length: 2696, dtype: int64\n",
      "------------------------------ permit -----------------------------------\n",
      "True           38852\n",
      "False          17492\n",
      "Desconocido     3056\n",
      "Name: permit, dtype: int64\n",
      "------------------------------ construction_year -----------------------------------\n",
      "0       20709\n",
      "2010     2645\n",
      "2008     2613\n",
      "2009     2533\n",
      "2000     2091\n",
      "2007     1587\n",
      "2006     1471\n",
      "2003     1286\n",
      "2011     1256\n",
      "2004     1123\n",
      "2012     1084\n",
      "2002     1075\n",
      "1978     1037\n",
      "1995     1014\n",
      "2005     1011\n",
      "1999      979\n",
      "1998      966\n",
      "1990      954\n",
      "1985      945\n",
      "1980      811\n",
      "1996      811\n",
      "1984      779\n",
      "1982      744\n",
      "1994      738\n",
      "1972      708\n",
      "1974      676\n",
      "1997      644\n",
      "1992      640\n",
      "1993      608\n",
      "2001      540\n",
      "1988      521\n",
      "1983      488\n",
      "1975      437\n",
      "1986      434\n",
      "1976      414\n",
      "1970      411\n",
      "1991      324\n",
      "1989      316\n",
      "1987      302\n",
      "1981      238\n",
      "1977      202\n",
      "1979      192\n",
      "1973      184\n",
      "2013      176\n",
      "1971      145\n",
      "1960      102\n",
      "1967       88\n",
      "1963       85\n",
      "1968       77\n",
      "1969       59\n",
      "1964       40\n",
      "1962       30\n",
      "1961       21\n",
      "1965       19\n",
      "1966       17\n",
      "Name: construction_year, dtype: int64\n",
      "------------------------------ extraction_type -----------------------------------\n",
      "gravity                      26780\n",
      "nira/tanira                   8154\n",
      "other                         6430\n",
      "submersible                   4764\n",
      "swn 80                        3670\n",
      "mono                          2865\n",
      "india mark ii                 2400\n",
      "afridev                       1770\n",
      "ksb                           1415\n",
      "other - rope pump              451\n",
      "other - swn 81                 229\n",
      "windmill                       117\n",
      "india mark iii                  98\n",
      "cemo                            90\n",
      "other - play pump               85\n",
      "walimi                          48\n",
      "climax                          32\n",
      "other - mkulima/shinyanga        2\n",
      "Name: extraction_type, dtype: int64\n",
      "------------------------------ extraction_type_group -----------------------------------\n",
      "gravity            26780\n",
      "nira/tanira         8154\n",
      "other               6430\n",
      "submersible         6179\n",
      "swn 80              3670\n",
      "mono                2865\n",
      "india mark ii       2400\n",
      "afridev             1770\n",
      "rope pump            451\n",
      "other handpump       364\n",
      "other motorpump      122\n",
      "wind-powered         117\n",
      "india mark iii        98\n",
      "Name: extraction_type_group, dtype: int64\n",
      "------------------------------ extraction_type_class -----------------------------------\n",
      "gravity         26780\n",
      "handpump        16456\n",
      "other            6430\n",
      "submersible      6179\n",
      "motorpump        2987\n",
      "rope pump         451\n",
      "wind-powered      117\n",
      "Name: extraction_type_class, dtype: int64\n",
      "------------------------------ management -----------------------------------\n",
      "vwc                 40507\n",
      "wug                  6515\n",
      "water board          2933\n",
      "wua                  2535\n",
      "private operator     1971\n",
      "parastatal           1768\n",
      "water authority       904\n",
      "other                 844\n",
      "company               685\n",
      "unknown               561\n",
      "other - school         99\n",
      "trust                  78\n",
      "Name: management, dtype: int64\n",
      "------------------------------ management_group -----------------------------------\n",
      "user-group    52490\n",
      "commercial     3638\n",
      "parastatal     1768\n",
      "other           943\n",
      "unknown         561\n",
      "Name: management_group, dtype: int64\n",
      "------------------------------ payment -----------------------------------\n",
      "never pay                25348\n",
      "pay per bucket            8985\n",
      "pay monthly               8300\n",
      "unknown                   8157\n",
      "pay when scheme fails     3914\n",
      "pay annually              3642\n",
      "other                     1054\n",
      "Name: payment, dtype: int64\n",
      "------------------------------ payment_type -----------------------------------\n",
      "never pay     25348\n",
      "per bucket     8985\n",
      "monthly        8300\n",
      "unknown        8157\n",
      "on failure     3914\n",
      "annually       3642\n",
      "other          1054\n",
      "Name: payment_type, dtype: int64\n",
      "------------------------------ water_quality -----------------------------------\n",
      "soft                  50818\n",
      "salty                  4856\n",
      "unknown                1876\n",
      "milky                   804\n",
      "coloured                490\n",
      "salty abandoned         339\n",
      "fluoride                200\n",
      "fluoride abandoned       17\n",
      "Name: water_quality, dtype: int64\n",
      "------------------------------ quality_group -----------------------------------\n",
      "good        50818\n",
      "salty        5195\n",
      "unknown      1876\n",
      "milky         804\n",
      "colored       490\n",
      "fluoride      217\n",
      "Name: quality_group, dtype: int64\n",
      "------------------------------ quantity -----------------------------------\n",
      "enough          33186\n",
      "insufficient    15129\n",
      "dry              6246\n",
      "seasonal         4050\n",
      "unknown           789\n",
      "Name: quantity, dtype: int64\n",
      "------------------------------ quantity_group -----------------------------------\n",
      "enough          33186\n",
      "insufficient    15129\n",
      "dry              6246\n",
      "seasonal         4050\n",
      "unknown           789\n",
      "Name: quantity_group, dtype: int64\n",
      "------------------------------ source -----------------------------------\n",
      "spring                  17021\n",
      "shallow well            16824\n",
      "machine dbh             11075\n",
      "river                    9612\n",
      "rainwater harvesting     2295\n",
      "hand dtw                  874\n",
      "lake                      765\n",
      "dam                       656\n",
      "other                     212\n",
      "unknown                    66\n",
      "Name: source, dtype: int64\n",
      "------------------------------ source_type -----------------------------------\n",
      "spring                  17021\n",
      "shallow well            16824\n",
      "borehole                11949\n",
      "river/lake              10377\n",
      "rainwater harvesting     2295\n",
      "dam                       656\n",
      "other                     278\n",
      "Name: source_type, dtype: int64\n",
      "------------------------------ source_class -----------------------------------\n",
      "groundwater    45794\n",
      "surface        13328\n",
      "unknown          278\n",
      "Name: source_class, dtype: int64\n",
      "------------------------------ waterpoint_type -----------------------------------\n",
      "communal standpipe             28522\n",
      "hand pump                      17488\n",
      "other                           6380\n",
      "communal standpipe multiple     6103\n",
      "improved spring                  784\n",
      "cattle trough                    116\n",
      "dam                                7\n",
      "Name: waterpoint_type, dtype: int64\n",
      "------------------------------ waterpoint_type_group -----------------------------------\n",
      "communal standpipe    34625\n",
      "hand pump             17488\n",
      "other                  6380\n",
      "improved spring         784\n",
      "cattle trough           116\n",
      "dam                       7\n",
      "Name: waterpoint_type_group, dtype: int64\n"
     ]
    }
   ],
   "source": [
    "# Revisión de los valores únicos de todas las variables por si pudieramos eliminar más variables con poca variabilidad\n",
    "for i in df:\n",
    "    print(\"------------------------------\", i, \"-----------------------------------\" )\n",
    "    print(df[i].value_counts(ascending=False))"
   ]
  },
  {
   "cell_type": "code",
   "execution_count": 40,
   "id": "molecular-joseph",
   "metadata": {},
   "outputs": [],
   "source": [
    "# Demasiados valores perdidos\n",
    "df.drop(columns = [\"scheme_name\"], inplace = True)\n",
    "# No hay descripcción de esta variable y los valores son muy raro \n",
    "df.drop(columns = [\"num_private\"], inplace = True)\n",
    "# Poca variabilidad\n",
    "df.drop(columns = [\"recorded_by\"], inplace = True)"
   ]
  },
  {
   "cell_type": "code",
   "execution_count": 41,
   "id": "dutch-sherman",
   "metadata": {},
   "outputs": [],
   "source": [
    "# creamos categoría \"Desconocido\" en \"construction_year\" que agrupe los 0\n",
    "#df[\"construction_year\"] = df[\"construction_year\"].replace(0, \"Desconocido\")"
   ]
  },
  {
   "cell_type": "code",
   "execution_count": 42,
   "id": "ideal-destruction",
   "metadata": {},
   "outputs": [],
   "source": [
    "# Actualizamos la lista de las variables categóricas y numéricas\n",
    "variables_categoricas = df.select_dtypes(include = \"object\")\n",
    "variables_numericas = df.select_dtypes(include = \"number\")"
   ]
  },
  {
   "cell_type": "markdown",
   "id": "excess-blues",
   "metadata": {},
   "source": [
    "### Transformación de variables categóricas a numéricas"
   ]
  },
  {
   "cell_type": "code",
   "execution_count": 43,
   "id": "theoretical-elizabeth",
   "metadata": {},
   "outputs": [
    {
     "name": "stdout",
     "output_type": "stream",
     "text": [
      "------------------------------ date_recorded -----------------------------------\n",
      "2011-03-15    572\n",
      "2011-03-17    558\n",
      "2013-02-03    546\n",
      "2011-03-14    520\n",
      "2011-03-16    513\n",
      "             ... \n",
      "2011-09-15      1\n",
      "2011-09-16      1\n",
      "2013-12-01      1\n",
      "2011-09-21      1\n",
      "2011-08-31      1\n",
      "Name: date_recorded, Length: 356, dtype: int64\n",
      "------------------------------ funder -----------------------------------\n",
      "Government Of Tanzania    9084\n",
      "Desconocido               3635\n",
      "Danida                    3114\n",
      "Hesawa                    2202\n",
      "Rwssp                     1374\n",
      "                          ... \n",
      "Mama Ku                      1\n",
      "Sisa                         1\n",
      "Robert Mosi                  1\n",
      "Sakwidi                      1\n",
      "Gra Na Halmashauri           1\n",
      "Name: funder, Length: 1898, dtype: int64\n",
      "------------------------------ installer -----------------------------------\n",
      "DWE                17402\n",
      "Desconocido         3655\n",
      "Government          1825\n",
      "RWE                 1206\n",
      "Commu               1060\n",
      "                   ...  \n",
      "Robert kampala         1\n",
      "mwita kichere          1\n",
      "Ju                     1\n",
      "Nerthlands             1\n",
      "Mpango wa Mwisa        1\n",
      "Name: installer, Length: 2146, dtype: int64\n",
      "------------------------------ wpt_name -----------------------------------\n",
      "none                           3563\n",
      "Shuleni                        1748\n",
      "Zahanati                        830\n",
      "Msikitini                       535\n",
      "Kanisani                        323\n",
      "                               ... \n",
      "Nkindwabiye Shule Ya Msingi       1\n",
      "Kwa Kamgini Kaboli                1\n",
      "Kwa Sasu                          1\n",
      "Kwa Teretio Lema                  1\n",
      "Ndobandoba                        1\n",
      "Name: wpt_name, Length: 37400, dtype: int64\n",
      "------------------------------ basin -----------------------------------\n",
      "Lake Victoria              10248\n",
      "Pangani                     8940\n",
      "Rufiji                      7976\n",
      "Internal                    7785\n",
      "Lake Tanganyika             6432\n",
      "Wami / Ruvu                 5987\n",
      "Lake Nyasa                  5085\n",
      "Ruvuma / Southern Coast     4493\n",
      "Lake Rukwa                  2454\n",
      "Name: basin, dtype: int64\n",
      "------------------------------ subvillage -----------------------------------\n",
      "Madukani        508\n",
      "Shuleni         506\n",
      "Majengo         502\n",
      "Kati            373\n",
      "Desconocido     371\n",
      "               ... \n",
      "Chenda            1\n",
      "Athni Mwisho      1\n",
      "Nyarutuguru       1\n",
      "Msuto             1\n",
      "Lwikula           1\n",
      "Name: subvillage, Length: 19288, dtype: int64\n",
      "------------------------------ region -----------------------------------\n",
      "Iringa           5294\n",
      "Shinyanga        4982\n",
      "Mbeya            4639\n",
      "Kilimanjaro      4379\n",
      "Morogoro         4006\n",
      "Arusha           3350\n",
      "Kagera           3316\n",
      "Mwanza           3102\n",
      "Kigoma           2816\n",
      "Ruvuma           2640\n",
      "Pwani            2635\n",
      "Tanga            2547\n",
      "Dodoma           2201\n",
      "Singida          2093\n",
      "Mara             1969\n",
      "Tabora           1959\n",
      "Rukwa            1808\n",
      "Mtwara           1730\n",
      "Manyara          1583\n",
      "Lindi            1546\n",
      "Dar es Salaam     805\n",
      "Name: region, dtype: int64\n",
      "------------------------------ lga -----------------------------------\n",
      "Njombe          2503\n",
      "Arusha Rural    1252\n",
      "Moshi Rural     1251\n",
      "Bariadi         1177\n",
      "Rungwe          1106\n",
      "                ... \n",
      "Moshi Urban       79\n",
      "Kigoma Urban      71\n",
      "Arusha Urban      63\n",
      "Lindi Urban       21\n",
      "Nyamagana          1\n",
      "Name: lga, Length: 125, dtype: int64\n",
      "------------------------------ ward -----------------------------------\n",
      "Igosi            307\n",
      "Imalinyi         252\n",
      "Siha Kati        232\n",
      "Mdandu           231\n",
      "Nduruma          217\n",
      "                ... \n",
      "Kitete             1\n",
      "Kirongo            1\n",
      "Igogo              1\n",
      "Kihangimahuka      1\n",
      "Simbay             1\n",
      "Name: ward, Length: 2092, dtype: int64\n",
      "------------------------------ public_meeting -----------------------------------\n",
      "True           51011\n",
      "False           5055\n",
      "Desconocido     3334\n",
      "Name: public_meeting, dtype: int64\n",
      "------------------------------ scheme_management -----------------------------------\n",
      "VWC                 36793\n",
      "WUG                  5206\n",
      "Other                4644\n",
      "Water authority      3153\n",
      "WUA                  2883\n",
      "Water Board          2748\n",
      "Parastatal           1680\n",
      "Private operator     1063\n",
      "Company              1061\n",
      "SWC                    97\n",
      "Trust                  72\n",
      "Name: scheme_management, dtype: int64\n",
      "------------------------------ permit -----------------------------------\n",
      "True           38852\n",
      "False          17492\n",
      "Desconocido     3056\n",
      "Name: permit, dtype: int64\n",
      "------------------------------ extraction_type -----------------------------------\n",
      "gravity                      26780\n",
      "nira/tanira                   8154\n",
      "other                         6430\n",
      "submersible                   4764\n",
      "swn 80                        3670\n",
      "mono                          2865\n",
      "india mark ii                 2400\n",
      "afridev                       1770\n",
      "ksb                           1415\n",
      "other - rope pump              451\n",
      "other - swn 81                 229\n",
      "windmill                       117\n",
      "india mark iii                  98\n",
      "cemo                            90\n",
      "other - play pump               85\n",
      "walimi                          48\n",
      "climax                          32\n",
      "other - mkulima/shinyanga        2\n",
      "Name: extraction_type, dtype: int64\n",
      "------------------------------ extraction_type_group -----------------------------------\n",
      "gravity            26780\n",
      "nira/tanira         8154\n",
      "other               6430\n",
      "submersible         6179\n",
      "swn 80              3670\n",
      "mono                2865\n",
      "india mark ii       2400\n",
      "afridev             1770\n",
      "rope pump            451\n",
      "other handpump       364\n",
      "other motorpump      122\n",
      "wind-powered         117\n",
      "india mark iii        98\n",
      "Name: extraction_type_group, dtype: int64\n",
      "------------------------------ extraction_type_class -----------------------------------\n",
      "gravity         26780\n",
      "handpump        16456\n",
      "other            6430\n",
      "submersible      6179\n",
      "motorpump        2987\n",
      "rope pump         451\n",
      "wind-powered      117\n",
      "Name: extraction_type_class, dtype: int64\n",
      "------------------------------ management -----------------------------------\n",
      "vwc                 40507\n",
      "wug                  6515\n",
      "water board          2933\n",
      "wua                  2535\n",
      "private operator     1971\n",
      "parastatal           1768\n",
      "water authority       904\n",
      "other                 844\n",
      "company               685\n",
      "unknown               561\n",
      "other - school         99\n",
      "trust                  78\n",
      "Name: management, dtype: int64\n",
      "------------------------------ management_group -----------------------------------\n",
      "user-group    52490\n",
      "commercial     3638\n",
      "parastatal     1768\n",
      "other           943\n",
      "unknown         561\n",
      "Name: management_group, dtype: int64\n",
      "------------------------------ payment -----------------------------------\n",
      "never pay                25348\n",
      "pay per bucket            8985\n",
      "pay monthly               8300\n",
      "unknown                   8157\n",
      "pay when scheme fails     3914\n",
      "pay annually              3642\n",
      "other                     1054\n",
      "Name: payment, dtype: int64\n",
      "------------------------------ payment_type -----------------------------------\n",
      "never pay     25348\n",
      "per bucket     8985\n",
      "monthly        8300\n",
      "unknown        8157\n",
      "on failure     3914\n",
      "annually       3642\n",
      "other          1054\n",
      "Name: payment_type, dtype: int64\n",
      "------------------------------ water_quality -----------------------------------\n",
      "soft                  50818\n",
      "salty                  4856\n",
      "unknown                1876\n",
      "milky                   804\n",
      "coloured                490\n",
      "salty abandoned         339\n",
      "fluoride                200\n",
      "fluoride abandoned       17\n",
      "Name: water_quality, dtype: int64\n",
      "------------------------------ quality_group -----------------------------------\n",
      "good        50818\n",
      "salty        5195\n",
      "unknown      1876\n",
      "milky         804\n",
      "colored       490\n",
      "fluoride      217\n",
      "Name: quality_group, dtype: int64\n",
      "------------------------------ quantity -----------------------------------\n",
      "enough          33186\n",
      "insufficient    15129\n",
      "dry              6246\n",
      "seasonal         4050\n",
      "unknown           789\n",
      "Name: quantity, dtype: int64\n",
      "------------------------------ quantity_group -----------------------------------\n",
      "enough          33186\n",
      "insufficient    15129\n",
      "dry              6246\n",
      "seasonal         4050\n",
      "unknown           789\n",
      "Name: quantity_group, dtype: int64\n",
      "------------------------------ source -----------------------------------\n",
      "spring                  17021\n",
      "shallow well            16824\n",
      "machine dbh             11075\n",
      "river                    9612\n",
      "rainwater harvesting     2295\n",
      "hand dtw                  874\n",
      "lake                      765\n",
      "dam                       656\n",
      "other                     212\n",
      "unknown                    66\n",
      "Name: source, dtype: int64\n",
      "------------------------------ source_type -----------------------------------\n",
      "spring                  17021\n",
      "shallow well            16824\n",
      "borehole                11949\n",
      "river/lake              10377\n",
      "rainwater harvesting     2295\n",
      "dam                       656\n",
      "other                     278\n",
      "Name: source_type, dtype: int64\n",
      "------------------------------ source_class -----------------------------------\n",
      "groundwater    45794\n",
      "surface        13328\n",
      "unknown          278\n",
      "Name: source_class, dtype: int64\n",
      "------------------------------ waterpoint_type -----------------------------------\n",
      "communal standpipe             28522\n",
      "hand pump                      17488\n",
      "other                           6380\n",
      "communal standpipe multiple     6103\n",
      "improved spring                  784\n",
      "cattle trough                    116\n",
      "dam                                7\n",
      "Name: waterpoint_type, dtype: int64\n",
      "------------------------------ waterpoint_type_group -----------------------------------\n",
      "communal standpipe    34625\n",
      "hand pump             17488\n",
      "other                  6380\n",
      "improved spring         784\n",
      "cattle trough           116\n",
      "dam                       7\n",
      "Name: waterpoint_type_group, dtype: int64\n"
     ]
    }
   ],
   "source": [
    "# Recuento de categorías de las variables categóricas\n",
    "for i in variables_categoricas:\n",
    "    print(\"------------------------------\", i, \"-----------------------------------\" )\n",
    "    print(variables_categoricas[i].value_counts(ascending=False))"
   ]
  },
  {
   "cell_type": "markdown",
   "id": "worldwide-commission",
   "metadata": {},
   "source": [
    "### Primero convertimos todas las booleanas en numéricas"
   ]
  },
  {
   "cell_type": "code",
   "execution_count": 44,
   "id": "engaged-alloy",
   "metadata": {},
   "outputs": [],
   "source": [
    "# variables categóricas binarias\n",
    "variables_categ_bin =[\"public_meeting\",\"permit\"]\n",
    "for j in variables_categ_bin:\n",
    "    df[j] = [0 if x == False else 1 for x in df[j]]"
   ]
  },
  {
   "cell_type": "markdown",
   "id": "complete-fifty",
   "metadata": {},
   "source": [
    "### Vamos con las categóricas"
   ]
  },
  {
   "cell_type": "code",
   "execution_count": 45,
   "id": "large-welcome",
   "metadata": {},
   "outputs": [],
   "source": [
    "# Transformamos a numérica \"date_recorded\" dejando solamente el año\n",
    "\n",
    "year = df['date_recorded'].apply(lambda x: x[:4]).astype(int)\n",
    "df[\"date_recorded\"] = year\n",
    "\n",
    "\n",
    "t2 = LabelEncoder()\n",
    "funder_n = t2.fit_transform(df[\"funder\"])\n",
    "df[\"funder\"] = funder_n\n",
    "\n",
    "\n",
    "t3 = LabelEncoder()\n",
    "installer_n = t3.fit_transform(df[\"installer\"])\n",
    "df[\"installer\"] = installer_n\n",
    "\n",
    "t4 = LabelEncoder()\n",
    "wpt_name_n = t4.fit_transform(df[\"wpt_name\"])\n",
    "df[\"wpt_name\"] = wpt_name_n\n",
    "\n",
    "t5 = LabelEncoder()\n",
    "basin_n = t5.fit_transform(df[\"basin\"])\n",
    "df[\"basin\"] = basin_n\n",
    "\n",
    "t6 = LabelEncoder()\n",
    "subvillage_n = t6.fit_transform(df[\"subvillage\"])\n",
    "df[\"subvillage\"] = subvillage_n\n",
    "\n",
    "t7 = LabelEncoder()\n",
    "region_n = t7.fit_transform(df[\"region\"])\n",
    "df[\"region\"] = region_n\n",
    "\n",
    "t8 = LabelEncoder()\n",
    "lga_n = t8.fit_transform(df[\"lga\"])\n",
    "df[\"lga\"] = lga_n\n",
    "\n",
    "t9 = LabelEncoder()\n",
    "ward_n = t9.fit_transform(df[\"ward\"])\n",
    "df[\"ward\"] = ward_n\n",
    "\n",
    "\n",
    "t11 = LabelEncoder()\n",
    "scheme_management_n = t11.fit_transform(df[\"scheme_management\"])\n",
    "df[\"scheme_management\"] = scheme_management_n\n",
    "\n",
    "t12 = LabelEncoder()\n",
    "extraction_type_n = t12.fit_transform(df[\"extraction_type\"])\n",
    "df[\"extraction_type\"] = extraction_type_n\n",
    "\n",
    "t13 = LabelEncoder()\n",
    "extraction_type_group_n = t13.fit_transform(df[\"extraction_type_group\"])\n",
    "df[\"extraction_type_group\"] = extraction_type_group_n\n",
    "\n",
    "t14 = LabelEncoder()\n",
    "extraction_type_class_n = t14.fit_transform(df[\"extraction_type_class\"])\n",
    "df[\"extraction_type_class\"] = extraction_type_class_n\n",
    "\n",
    "t15 = LabelEncoder()\n",
    "management_n = t15.fit_transform(df[\"management\"])\n",
    "df[\"management\"] = management_n\n",
    "\n",
    "t16 = LabelEncoder()\n",
    "management_group_n = t16.fit_transform(df[\"management_group\"])\n",
    "df[\"management_group\"] = management_group_n\n",
    "\n",
    "t17 = LabelEncoder()\n",
    "payment_n = t7.fit_transform(df[\"payment\"])\n",
    "df[\"payment\"] = payment_n\n",
    "\n",
    "t18 = LabelEncoder()\n",
    "payment_type_n = t18.fit_transform(df[\"payment_type\"])\n",
    "df[\"payment_type\"] = payment_type_n\n",
    "\n",
    "t19 = LabelEncoder()\n",
    "water_quality_n = t19.fit_transform(df[\"water_quality\"])\n",
    "df[\"water_quality\"] = water_quality_n\n",
    "\n",
    "t20 = LabelEncoder()\n",
    "quality_group_n = t19.fit_transform(df[\"quality_group\"])\n",
    "df[\"quality_group\"] = quality_group_n\n",
    "\n",
    "t21 = LabelEncoder()\n",
    "quantity_n = t19.fit_transform(df[\"quantity\"])\n",
    "df[\"quantity\"] = quantity_n\n",
    "\n",
    "t22 = LabelEncoder()\n",
    "quantity_group_n = t19.fit_transform(df[\"quantity_group\"])\n",
    "df[\"quantity_group\"] = quantity_group_n\n",
    "\n",
    "t23 = LabelEncoder()\n",
    "source_n = t23.fit_transform(df[\"source\"])\n",
    "df[\"source\"] = source_n\n",
    "\n",
    "t24= LabelEncoder()\n",
    "source_type_n = t24.fit_transform(df[\"source_type\"])\n",
    "df[\"source_type\"] = source_type_n\n",
    "\n",
    "t25 = LabelEncoder()\n",
    "source_class_n = t25.fit_transform(df[\"source_class\"])\n",
    "df[\"source_class\"] = source_class_n\n",
    "\n",
    "t26 = LabelEncoder()\n",
    "waterpoint_type_n = t26.fit_transform(df[\"waterpoint_type\"])\n",
    "df[\"waterpoint_type\"] = waterpoint_type_n\n",
    "\n",
    "t27 = LabelEncoder()\n",
    "waterpoint_type_group_n = t27.fit_transform(df[\"waterpoint_type_group\"])\n",
    "df[\"waterpoint_type_group\"] = waterpoint_type_group_n"
   ]
  },
  {
   "cell_type": "code",
   "execution_count": 46,
   "id": "exposed-protection",
   "metadata": {},
   "outputs": [
    {
     "data": {
      "text/plain": [
       "amount_tsh               float64\n",
       "date_recorded              int32\n",
       "funder                     int32\n",
       "gps_height                 int64\n",
       "installer                  int32\n",
       "longitude                float64\n",
       "latitude                 float64\n",
       "wpt_name                   int32\n",
       "basin                      int32\n",
       "subvillage                 int32\n",
       "region                     int32\n",
       "region_code                int64\n",
       "district_code              int64\n",
       "lga                        int32\n",
       "ward                       int32\n",
       "population                 int64\n",
       "public_meeting             int64\n",
       "scheme_management          int32\n",
       "permit                     int64\n",
       "construction_year          int64\n",
       "extraction_type            int32\n",
       "extraction_type_group      int32\n",
       "extraction_type_class      int32\n",
       "management                 int32\n",
       "management_group           int32\n",
       "payment                    int32\n",
       "payment_type               int32\n",
       "water_quality              int32\n",
       "quality_group              int32\n",
       "quantity                   int32\n",
       "quantity_group             int32\n",
       "source                     int32\n",
       "source_type                int32\n",
       "source_class               int32\n",
       "waterpoint_type            int32\n",
       "waterpoint_type_group      int32\n",
       "dtype: object"
      ]
     },
     "execution_count": 46,
     "metadata": {},
     "output_type": "execute_result"
    }
   ],
   "source": [
    "# Comprobador de que se han cambiado los tipo\n",
    "df.dtypes"
   ]
  },
  {
   "cell_type": "markdown",
   "id": "competitive-professor",
   "metadata": {},
   "source": [
    "Para comprobar que ahora todas las variables son numéricas podemos graficar todas las variables en histogramas y ver su distribución."
   ]
  },
  {
   "cell_type": "code",
   "execution_count": 47,
   "id": "permanent-marijuana",
   "metadata": {},
   "outputs": [
    {
     "data": {
      "image/png": "[encoded data removed]",
      "text/plain": [
       "<Figure size 432x288 with 1 Axes>"
      ]
     },
     "metadata": {
      "needs_background": "light"
     },
     "output_type": "display_data"
    },
    {
     "data": {
      "image/png": "[encoded data removed]",
      "text/plain": [
       "<Figure size 432x288 with 1 Axes>"
      ]
     },
     "metadata": {
      "needs_background": "light"
     },
     "output_type": "display_data"
    },
    {
     "data": {
      "image/png": "[encoded data removed]",
      "text/plain": [
       "<Figure size 432x288 with 1 Axes>"
      ]
     },
     "metadata": {
      "needs_background": "light"
     },
     "output_type": "display_data"
    },
    {
     "data": {
      "image/png": "[encoded data removed]",
      "text/plain": [
       "<Figure size 432x288 with 1 Axes>"
      ]
     },
     "metadata": {
      "needs_background": "light"
     },
     "output_type": "display_data"
    },
    {
     "data": {
      "image/png": "[encoded data removed]",
      "text/plain": [
       "<Figure size 432x288 with 1 Axes>"
      ]
     },
     "metadata": {
      "needs_background": "light"
     },
     "output_type": "display_data"
    },
    {
     "data": {
      "image/png": "[encoded data removed]",
      "text/plain": [
       "<Figure size 432x288 with 1 Axes>"
      ]
     },
     "metadata": {
      "needs_background": "light"
     },
     "output_type": "display_data"
    },
    {
     "data": {
      "image/png": "[encoded data removed]",
      "text/plain": [
       "<Figure size 432x288 with 1 Axes>"
      ]
     },
     "metadata": {
      "needs_background": "light"
     },
     "output_type": "display_data"
    },
    {
     "data": {
      "image/png": "[encoded data removed]",
      "text/plain": [
       "<Figure size 432x288 with 1 Axes>"
      ]
     },
     "metadata": {
      "needs_background": "light"
     },
     "output_type": "display_data"
    },
    {
     "data": {
      "image/png": "[encoded data removed]",
      "text/plain": [
       "<Figure size 432x288 with 1 Axes>"
      ]
     },
     "metadata": {
      "needs_background": "light"
     },
     "output_type": "display_data"
    },
    {
     "data": {
      "image/png": "[encoded data removed]",
      "text/plain": [
       "<Figure size 432x288 with 1 Axes>"
      ]
     },
     "metadata": {
      "needs_background": "light"
     },
     "output_type": "display_data"
    },
    {
     "data": {
      "image/png": "[encoded data removed]",
      "text/plain": [
       "<Figure size 432x288 with 1 Axes>"
      ]
     },
     "metadata": {
      "needs_background": "light"
     },
     "output_type": "display_data"
    },
    {
     "data": {
      "image/png": "[encoded data removed]",
      "text/plain": [
       "<Figure size 432x288 with 1 Axes>"
      ]
     },
     "metadata": {
      "needs_background": "light"
     },
     "output_type": "display_data"
    },
    {
     "data": {
      "image/png": "[encoded data removed]",
      "text/plain": [
       "<Figure size 432x288 with 1 Axes>"
      ]
     },
     "metadata": {
      "needs_background": "light"
     },
     "output_type": "display_data"
    },
    {
     "data": {
      "image/png": "[encoded data removed]",
      "text/plain": [
       "<Figure size 432x288 with 1 Axes>"
      ]
     },
     "metadata": {
      "needs_background": "light"
     },
     "output_type": "display_data"
    },
    {
     "data": {
      "image/png": "[encoded data removed]",
      "text/plain": [
       "<Figure size 432x288 with 1 Axes>"
      ]
     },
     "metadata": {
      "needs_background": "light"
     },
     "output_type": "display_data"
    },
    {
     "data": {
      "image/png": "[encoded data removed]",
      "text/plain": [
       "<Figure size 432x288 with 1 Axes>"
      ]
     },
     "metadata": {
      "needs_background": "light"
     },
     "output_type": "display_data"
    },
    {
     "data": {
      "image/png": "[encoded data removed]",
      "text/plain": [
       "<Figure size 432x288 with 1 Axes>"
      ]
     },
     "metadata": {
      "needs_background": "light"
     },
     "output_type": "display_data"
    },
    {
     "data": {
      "image/png": "[encoded data removed]",
      "text/plain": [
       "<Figure size 432x288 with 1 Axes>"
      ]
     },
     "metadata": {
      "needs_background": "light"
     },
     "output_type": "display_data"
    },
    {
     "data": {
      "image/png": "[encoded data removed]",
      "text/plain": [
       "<Figure size 432x288 with 1 Axes>"
      ]
     },
     "metadata": {
      "needs_background": "light"
     },
     "output_type": "display_data"
    },
    {
     "data": {
      "image/png": "[encoded data removed]",
      "text/plain": [
       "<Figure size 432x288 with 1 Axes>"
      ]
     },
     "metadata": {
      "needs_background": "light"
     },
     "output_type": "display_data"
    },
    {
     "data": {
      "image/png": "[encoded data removed]",
      "text/plain": [
       "<Figure size 432x288 with 1 Axes>"
      ]
     },
     "metadata": {
      "needs_background": "light"
     },
     "output_type": "display_data"
    },
    {
     "data": {
      "image/png": "[encoded data removed]",
      "text/plain": [
       "<Figure size 432x288 with 1 Axes>"
      ]
     },
     "metadata": {
      "needs_background": "light"
     },
     "output_type": "display_data"
    },
    {
     "data": {
      "image/png": "[encoded data removed]",
      "text/plain": [
       "<Figure size 432x288 with 1 Axes>"
      ]
     },
     "metadata": {
      "needs_background": "light"
     },
     "output_type": "display_data"
    },
    {
     "data": {
      "image/png": "[encoded data removed]",
      "text/plain": [
       "<Figure size 432x288 with 1 Axes>"
      ]
     },
     "metadata": {
      "needs_background": "light"
     },
     "output_type": "display_data"
    },
    {
     "data": {
      "image/png": "[encoded data removed]",
      "text/plain": [
       "<Figure size 432x288 with 1 Axes>"
      ]
     },
     "metadata": {
      "needs_background": "light"
     },
     "output_type": "display_data"
    },
    {
     "data": {
      "image/png": "[encoded data removed]",
      "text/plain": [
       "<Figure size 432x288 with 1 Axes>"
      ]
     },
     "metadata": {
      "needs_background": "light"
     },
     "output_type": "display_data"
    },
    {
     "data": {
      "image/png": "[encoded data removed]",
      "text/plain": [
       "<Figure size 432x288 with 1 Axes>"
      ]
     },
     "metadata": {
      "needs_background": "light"
     },
     "output_type": "display_data"
    },
    {
     "data": {
      "image/png": "[encoded data removed]",
      "text/plain": [
       "<Figure size 432x288 with 1 Axes>"
      ]
     },
     "metadata": {
      "needs_background": "light"
     },
     "output_type": "display_data"
    },
    {
     "data": {
      "image/png": "[encoded data removed]",
      "text/plain": [
       "<Figure size 432x288 with 1 Axes>"
      ]
     },
     "metadata": {
      "needs_background": "light"
     },
     "output_type": "display_data"
    },
    {
     "data": {
      "image/png": "[encoded data removed]",
      "text/plain": [
       "<Figure size 432x288 with 1 Axes>"
      ]
     },
     "metadata": {
      "needs_background": "light"
     },
     "output_type": "display_data"
    },
    {
     "data": {
      "image/png": "[encoded data removed]",
      "text/plain": [
       "<Figure size 432x288 with 1 Axes>"
      ]
     },
     "metadata": {
      "needs_background": "light"
     },
     "output_type": "display_data"
    },
    {
     "data": {
      "image/png": "[encoded data removed]",
      "text/plain": [
       "<Figure size 432x288 with 1 Axes>"
      ]
     },
     "metadata": {
      "needs_background": "light"
     },
     "output_type": "display_data"
    },
    {
     "data": {
      "image/png": "[encoded data removed]",
      "text/plain": [
       "<Figure size 432x288 with 1 Axes>"
      ]
     },
     "metadata": {
      "needs_background": "light"
     },
     "output_type": "display_data"
    },
    {
     "data": {
      "image/png": "[encoded data removed]",
      "text/plain": [
       "<Figure size 432x288 with 1 Axes>"
      ]
     },
     "metadata": {
      "needs_background": "light"
     },
     "output_type": "display_data"
    },
    {
     "data": {
      "image/png": "[encoded data removed]",
      "text/plain": [
       "<Figure size 432x288 with 1 Axes>"
      ]
     },
     "metadata": {
      "needs_background": "light"
     },
     "output_type": "display_data"
    },
    {
     "data": {
      "image/png": "[encoded data removed]",
      "text/plain": [
       "<Figure size 432x288 with 1 Axes>"
      ]
     },
     "metadata": {
      "needs_background": "light"
     },
     "output_type": "display_data"
    }
   ],
   "source": [
    "# Histograma con las variables numéricas\n",
    "for l in df:\n",
    "    plt.hist(df[l])\n",
    "    plt.title(l)\n",
    "    plt.show()"
   ]
  },
  {
   "cell_type": "code",
   "execution_count": 48,
   "id": "usual-committee",
   "metadata": {
    "scrolled": true
   },
   "outputs": [
    {
     "data": {
      "text/html": [
       "<div>\n",
       "<style scoped>\n",
       "    .dataframe tbody tr th:only-of-type {\n",
       "        vertical-align: middle;\n",
       "    }\n",
       "\n",
       "    .dataframe tbody tr th {\n",
       "        vertical-align: top;\n",
       "    }\n",
       "\n",
       "    .dataframe thead th {\n",
       "        text-align: right;\n",
       "    }\n",
       "</style>\n",
       "<table border=\"1\" class=\"dataframe\">\n",
       "  <thead>\n",
       "    <tr style=\"text-align: right;\">\n",
       "      <th></th>\n",
       "      <th>amount_tsh</th>\n",
       "      <th>date_recorded</th>\n",
       "      <th>funder</th>\n",
       "      <th>gps_height</th>\n",
       "      <th>installer</th>\n",
       "      <th>longitude</th>\n",
       "      <th>latitude</th>\n",
       "      <th>wpt_name</th>\n",
       "      <th>basin</th>\n",
       "      <th>subvillage</th>\n",
       "      <th>...</th>\n",
       "      <th>payment_type</th>\n",
       "      <th>water_quality</th>\n",
       "      <th>quality_group</th>\n",
       "      <th>quantity</th>\n",
       "      <th>quantity_group</th>\n",
       "      <th>source</th>\n",
       "      <th>source_type</th>\n",
       "      <th>source_class</th>\n",
       "      <th>waterpoint_type</th>\n",
       "      <th>waterpoint_type_group</th>\n",
       "    </tr>\n",
       "    <tr>\n",
       "      <th>id</th>\n",
       "      <th></th>\n",
       "      <th></th>\n",
       "      <th></th>\n",
       "      <th></th>\n",
       "      <th></th>\n",
       "      <th></th>\n",
       "      <th></th>\n",
       "      <th></th>\n",
       "      <th></th>\n",
       "      <th></th>\n",
       "      <th></th>\n",
       "      <th></th>\n",
       "      <th></th>\n",
       "      <th></th>\n",
       "      <th></th>\n",
       "      <th></th>\n",
       "      <th></th>\n",
       "      <th></th>\n",
       "      <th></th>\n",
       "      <th></th>\n",
       "      <th></th>\n",
       "    </tr>\n",
       "  </thead>\n",
       "  <tbody>\n",
       "    <tr>\n",
       "      <th>69572</th>\n",
       "      <td>6000.0</td>\n",
       "      <td>2011</td>\n",
       "      <td>1370</td>\n",
       "      <td>1390</td>\n",
       "      <td>1519</td>\n",
       "      <td>34.938093</td>\n",
       "      <td>-9.856322</td>\n",
       "      <td>37399</td>\n",
       "      <td>1</td>\n",
       "      <td>11808</td>\n",
       "      <td>...</td>\n",
       "      <td>0</td>\n",
       "      <td>6</td>\n",
       "      <td>2</td>\n",
       "      <td>1</td>\n",
       "      <td>1</td>\n",
       "      <td>8</td>\n",
       "      <td>6</td>\n",
       "      <td>0</td>\n",
       "      <td>1</td>\n",
       "      <td>1</td>\n",
       "    </tr>\n",
       "    <tr>\n",
       "      <th>8776</th>\n",
       "      <td>0.0</td>\n",
       "      <td>2013</td>\n",
       "      <td>470</td>\n",
       "      <td>1399</td>\n",
       "      <td>546</td>\n",
       "      <td>34.698766</td>\n",
       "      <td>-2.147466</td>\n",
       "      <td>37195</td>\n",
       "      <td>4</td>\n",
       "      <td>15839</td>\n",
       "      <td>...</td>\n",
       "      <td>2</td>\n",
       "      <td>6</td>\n",
       "      <td>2</td>\n",
       "      <td>2</td>\n",
       "      <td>2</td>\n",
       "      <td>5</td>\n",
       "      <td>3</td>\n",
       "      <td>1</td>\n",
       "      <td>1</td>\n",
       "      <td>1</td>\n",
       "    </tr>\n",
       "    <tr>\n",
       "      <th>34310</th>\n",
       "      <td>25.0</td>\n",
       "      <td>2013</td>\n",
       "      <td>826</td>\n",
       "      <td>686</td>\n",
       "      <td>2049</td>\n",
       "      <td>37.460664</td>\n",
       "      <td>-3.821329</td>\n",
       "      <td>14572</td>\n",
       "      <td>5</td>\n",
       "      <td>9075</td>\n",
       "      <td>...</td>\n",
       "      <td>5</td>\n",
       "      <td>6</td>\n",
       "      <td>2</td>\n",
       "      <td>1</td>\n",
       "      <td>1</td>\n",
       "      <td>0</td>\n",
       "      <td>1</td>\n",
       "      <td>1</td>\n",
       "      <td>2</td>\n",
       "      <td>1</td>\n",
       "    </tr>\n",
       "    <tr>\n",
       "      <th>67743</th>\n",
       "      <td>0.0</td>\n",
       "      <td>2013</td>\n",
       "      <td>1742</td>\n",
       "      <td>263</td>\n",
       "      <td>1853</td>\n",
       "      <td>38.486161</td>\n",
       "      <td>-11.155298</td>\n",
       "      <td>37285</td>\n",
       "      <td>7</td>\n",
       "      <td>8983</td>\n",
       "      <td>...</td>\n",
       "      <td>2</td>\n",
       "      <td>6</td>\n",
       "      <td>2</td>\n",
       "      <td>0</td>\n",
       "      <td>0</td>\n",
       "      <td>3</td>\n",
       "      <td>0</td>\n",
       "      <td>0</td>\n",
       "      <td>2</td>\n",
       "      <td>1</td>\n",
       "    </tr>\n",
       "    <tr>\n",
       "      <th>19728</th>\n",
       "      <td>0.0</td>\n",
       "      <td>2011</td>\n",
       "      <td>20</td>\n",
       "      <td>0</td>\n",
       "      <td>119</td>\n",
       "      <td>31.130847</td>\n",
       "      <td>-1.825359</td>\n",
       "      <td>35529</td>\n",
       "      <td>4</td>\n",
       "      <td>7699</td>\n",
       "      <td>...</td>\n",
       "      <td>2</td>\n",
       "      <td>6</td>\n",
       "      <td>2</td>\n",
       "      <td>3</td>\n",
       "      <td>3</td>\n",
       "      <td>5</td>\n",
       "      <td>3</td>\n",
       "      <td>1</td>\n",
       "      <td>1</td>\n",
       "      <td>1</td>\n",
       "    </tr>\n",
       "  </tbody>\n",
       "</table>\n",
       "<p>5 rows × 36 columns</p>\n",
       "</div>"
      ],
      "text/plain": [
       "       amount_tsh  date_recorded  funder  gps_height  installer  longitude  \\\n",
       "id                                                                           \n",
       "69572      6000.0           2011    1370        1390       1519  34.938093   \n",
       "8776          0.0           2013     470        1399        546  34.698766   \n",
       "34310        25.0           2013     826         686       2049  37.460664   \n",
       "67743         0.0           2013    1742         263       1853  38.486161   \n",
       "19728         0.0           2011      20           0        119  31.130847   \n",
       "\n",
       "        latitude  wpt_name  basin  subvillage  ...  payment_type  \\\n",
       "id                                             ...                 \n",
       "69572  -9.856322     37399      1       11808  ...             0   \n",
       "8776   -2.147466     37195      4       15839  ...             2   \n",
       "34310  -3.821329     14572      5        9075  ...             5   \n",
       "67743 -11.155298     37285      7        8983  ...             2   \n",
       "19728  -1.825359     35529      4        7699  ...             2   \n",
       "\n",
       "       water_quality  quality_group  quantity  quantity_group  source  \\\n",
       "id                                                                      \n",
       "69572              6              2         1               1       8   \n",
       "8776               6              2         2               2       5   \n",
       "34310              6              2         1               1       0   \n",
       "67743              6              2         0               0       3   \n",
       "19728              6              2         3               3       5   \n",
       "\n",
       "       source_type  source_class  waterpoint_type  waterpoint_type_group  \n",
       "id                                                                        \n",
       "69572            6             0                1                      1  \n",
       "8776             3             1                1                      1  \n",
       "34310            1             1                2                      1  \n",
       "67743            0             0                2                      1  \n",
       "19728            3             1                1                      1  \n",
       "\n",
       "[5 rows x 36 columns]"
      ]
     },
     "execution_count": 48,
     "metadata": {},
     "output_type": "execute_result"
    }
   ],
   "source": [
    "df.head()"
   ]
  },
  {
   "cell_type": "markdown",
   "id": "trying-nickname",
   "metadata": {},
   "source": [
    "### Multicolinealidad"
   ]
  },
  {
   "cell_type": "code",
   "execution_count": 49,
   "id": "sunset-quarterly",
   "metadata": {},
   "outputs": [
    {
     "name": "stdout",
     "output_type": "stream",
     "text": [
      "El valor del VIF para la variable amount_tsh es: 1.0384672412053517\n",
      "El valor del VIF para la variable date_recorded es: 1.6489025657532388\n",
      "El valor del VIF para la variable funder es: 1.509494838474732\n",
      "El valor del VIF para la variable gps_height es: 3.3258995246446723\n",
      "El valor del VIF para la variable installer es: 1.4911736997291187\n",
      "El valor del VIF para la variable longitude es: 1.624944700600627\n",
      "El valor del VIF para la variable latitude es: 1.8036879456608896\n",
      "El valor del VIF para la variable wpt_name es: 1.0546753795383628\n",
      "El valor del VIF para la variable basin es: 1.6335304324846833\n",
      "El valor del VIF para la variable subvillage es: 1.0285794736057874\n",
      "El valor del VIF para la variable region es: 1.5771349852380971\n",
      "El valor del VIF para la variable region_code es: 2.3858349795291307\n",
      "El valor del VIF para la variable district_code es: 2.1444706649282015\n",
      "El valor del VIF para la variable lga es: 1.3549982694036566\n",
      "El valor del VIF para la variable ward es: 1.0323911717037342\n",
      "El valor del VIF para la variable population es: 1.1123012510310277\n",
      "El valor del VIF para la variable public_meeting es: 1.1013900962831467\n",
      "El valor del VIF para la variable scheme_management es: 1.6776482744188155\n",
      "El valor del VIF para la variable permit es: 1.133229446431568\n",
      "El valor del VIF para la variable construction_year es: 3.5633452432284765\n",
      "El valor del VIF para la variable extraction_type es: 12.123873462731144\n",
      "El valor del VIF para la variable extraction_type_group es: 16.194771406981513\n",
      "El valor del VIF para la variable extraction_type_class es: 3.7090422419360096\n",
      "El valor del VIF para la variable management es: 2.324149433756122\n",
      "El valor del VIF para la variable management_group es: 1.767940025060635\n",
      "El valor del VIF para la variable payment es: 2.315570203793046\n",
      "El valor del VIF para la variable payment_type es: 2.5980914638879318\n",
      "El valor del VIF para la variable water_quality es: 1.0862188698031643\n",
      "El valor del VIF para la variable quality_group es: 1.1435702661527583\n",
      "El valor del VIF para la variable quantity es: inf\n",
      "El valor del VIF para la variable quantity_group es: inf\n",
      "El valor del VIF para la variable source es: 11.742828061262735\n"
     ]
    },
    {
     "name": "stderr",
     "output_type": "stream",
     "text": [
      "<ipython-input-49-b4ef39bbb2d1>:19: RuntimeWarning: divide by zero encountered in double_scalars\n",
      "  vif = 1 / (1 - model.score(x, y))\n",
      "<ipython-input-49-b4ef39bbb2d1>:19: RuntimeWarning: divide by zero encountered in double_scalars\n",
      "  vif = 1 / (1 - model.score(x, y))\n"
     ]
    },
    {
     "name": "stdout",
     "output_type": "stream",
     "text": [
      "El valor del VIF para la variable source_type es: 11.170139942796519\n",
      "El valor del VIF para la variable source_class es: 1.5251380960292231\n",
      "El valor del VIF para la variable waterpoint_type es: 37.68705890282712\n",
      "El valor del VIF para la variable waterpoint_type_group es: 35.27213399545989\n"
     ]
    }
   ],
   "source": [
    "from sklearn.linear_model import LinearRegression\n",
    "\n",
    "\n",
    "df_vif = df.copy(deep = True)\n",
    "features = list(df_vif.columns)\n",
    "df_vif = df_vif[features]\n",
    "\n",
    "for i in range(len(features)):\n",
    "    var = features[i]\n",
    "    fet = features[:]\n",
    "    fet.remove(var)\n",
    "    \n",
    "    x = df_vif[fet]\n",
    "    y = df[var]\n",
    "    \n",
    "    model = LinearRegression()\n",
    "    model.fit(x, y)\n",
    "    \n",
    "    vif = 1 / (1 - model.score(x, y))\n",
    "    \n",
    "    print ('El valor del VIF para la variable', var, 'es:', vif)"
   ]
  },
  {
   "cell_type": "markdown",
   "id": "split-attack",
   "metadata": {},
   "source": [
    "Listado de variables con VIF mayor que 5 que quitaremos del modelo: \"quantity_group\", \"waterpoint_type_group\", \"extraction_type_group\", \"source_type\""
   ]
  },
  {
   "cell_type": "code",
   "execution_count": 50,
   "id": "precious-society",
   "metadata": {},
   "outputs": [],
   "source": [
    "# Varibles que quitamos del df\n",
    "df.drop(columns = [\"waterpoint_type_group\"], inplace = True)\n",
    "df.drop(columns = [\"quantity_group\"], inplace = True)\n",
    "df.drop(columns = [\"extraction_type_group\"], inplace = True)\n",
    "df.drop(columns = [\"source_type\"], inplace = True)"
   ]
  },
  {
   "cell_type": "code",
   "execution_count": 51,
   "id": "revised-behavior",
   "metadata": {},
   "outputs": [
    {
     "data": {
      "text/plain": [
       "Index(['amount_tsh', 'date_recorded', 'funder', 'gps_height', 'installer',\n",
       "       'longitude', 'latitude', 'wpt_name', 'basin', 'subvillage', 'region',\n",
       "       'region_code', 'district_code', 'lga', 'ward', 'population',\n",
       "       'public_meeting', 'scheme_management', 'permit', 'construction_year',\n",
       "       'extraction_type', 'extraction_type_class', 'management',\n",
       "       'management_group', 'payment', 'payment_type', 'water_quality',\n",
       "       'quality_group', 'quantity', 'source', 'source_class',\n",
       "       'waterpoint_type'],\n",
       "      dtype='object')"
      ]
     },
     "execution_count": 51,
     "metadata": {},
     "output_type": "execute_result"
    }
   ],
   "source": [
    "# Listado de columnas del df\n",
    "df.columns"
   ]
  },
  {
   "cell_type": "code",
   "execution_count": 52,
   "id": "different-grenada",
   "metadata": {},
   "outputs": [
    {
     "name": "stdout",
     "output_type": "stream",
     "text": [
      "El valor del VIF para la variable amount_tsh es: 1.0380566539285745\n",
      "El valor del VIF para la variable date_recorded es: 1.6220297633889689\n",
      "El valor del VIF para la variable funder es: 1.4959224900020132\n",
      "El valor del VIF para la variable gps_height es: 3.298693112866336\n",
      "El valor del VIF para la variable installer es: 1.4842424250442137\n",
      "El valor del VIF para la variable longitude es: 1.6235078932668234\n",
      "El valor del VIF para la variable latitude es: 1.766981992257228\n",
      "El valor del VIF para la variable wpt_name es: 1.0544035358520762\n",
      "El valor del VIF para la variable basin es: 1.6305862477797064\n",
      "El valor del VIF para la variable subvillage es: 1.0282905080870481\n",
      "El valor del VIF para la variable region es: 1.5701889222300593\n",
      "El valor del VIF para la variable region_code es: 2.3529611843440428\n",
      "El valor del VIF para la variable district_code es: 2.1333641735428435\n",
      "El valor del VIF para la variable lga es: 1.3418457721342165\n",
      "El valor del VIF para la variable ward es: 1.0297654802420573\n",
      "El valor del VIF para la variable population es: 1.1082907694390849\n",
      "El valor del VIF para la variable public_meeting es: 1.0970981979682288\n",
      "El valor del VIF para la variable scheme_management es: 1.6708919735159096\n",
      "El valor del VIF para la variable permit es: 1.1310667412430868\n",
      "El valor del VIF para la variable construction_year es: 3.5553891193175042\n",
      "El valor del VIF para la variable extraction_type es: 2.295682826255284\n",
      "El valor del VIF para la variable extraction_type_class es: 2.5476609624692768\n",
      "El valor del VIF para la variable management es: 2.315107149031101\n",
      "El valor del VIF para la variable management_group es: 1.7593218344792114\n",
      "El valor del VIF para la variable payment es: 2.31162147882617\n",
      "El valor del VIF para la variable payment_type es: 2.596194255917035\n",
      "El valor del VIF para la variable water_quality es: 1.084990891252762\n",
      "El valor del VIF para la variable quality_group es: 1.1362755072868385\n",
      "El valor del VIF para la variable quantity es: 1.084455371225022\n",
      "El valor del VIF para la variable source es: 1.5358430371599474\n",
      "El valor del VIF para la variable source_class es: 1.3546530306043005\n",
      "El valor del VIF para la variable waterpoint_type es: 1.5604629381970516\n"
     ]
    }
   ],
   "source": [
    "# Comprobamos si todos los valores VIF están por debajo de 5\n",
    "from sklearn.linear_model import LinearRegression\n",
    "\n",
    "\n",
    "df_vif = df.copy(deep = True)\n",
    "features = list(df_vif.columns)\n",
    "df_vif = df_vif[features]\n",
    "\n",
    "for i in range(len(features)):\n",
    "    var = features[i]\n",
    "    fet = features[:]\n",
    "    fet.remove(var)\n",
    "    \n",
    "    x = df_vif[fet]\n",
    "    y = df[var]\n",
    "    \n",
    "    model = LinearRegression()\n",
    "    model.fit(x, y)\n",
    "    \n",
    "    vif = 1 / (1 - model.score(x, y))\n",
    "    \n",
    "    print ('El valor del VIF para la variable', var, 'es:', vif)"
   ]
  },
  {
   "cell_type": "markdown",
   "id": "comfortable-popularity",
   "metadata": {},
   "source": [
    "### Limpieza del conjunto del concurso (test)"
   ]
  },
  {
   "cell_type": "code",
   "execution_count": 53,
   "id": "working-conducting",
   "metadata": {},
   "outputs": [],
   "source": [
    "# Rellenamos los valores nulos, segunda forma\n",
    "test[\"funder\"] = test[\"funder\"].replace(np.nan, \"Desconocido\")\n",
    "# Rellenamos los valores nulos de \"installer\"\n",
    "test[\"installer\"] = test[\"installer\"].replace(np.nan, \"Desconocido\")\n",
    "# Rellenamos los valores nulos de \"subvillage\"\n",
    "test[\"subvillage\"] = test[\"subvillage\"].replace(np.nan, \"Desconocido\")\n",
    "# Rellenamos los valores nulos de \"public_meeting\"\n",
    "test[\"public_meeting\"] = test[\"public_meeting\"].replace(np.nan, \"Desconocido\")\n",
    "# Rellenamos los valores nulos de \"scheme_management\", agrupamos en la categoría \"Other\"\n",
    "test[\"scheme_management\"] = test[\"scheme_management\"].replace([np.nan, \"None\", \"Other\"], \"Other\")\n",
    "# Rellenamos los valores nulos de \"scheme_name\", agrupamos en la categoría \"None\"\n",
    "test[\"scheme_name\"] = test[\"scheme_name\"].replace([np.nan, \"None\"], \"None\")\n",
    "# Rellenamos los valores nulos de \"permit\" por la categoría \"Desconocido\"\n",
    "test[\"permit\"] = test[\"permit\"].replace(np.nan, \"Desconocido\")"
   ]
  },
  {
   "cell_type": "code",
   "execution_count": 54,
   "id": "pacific-archive",
   "metadata": {},
   "outputs": [],
   "source": [
    "# eliminamos variables que no utilizaremos en el modelo\n",
    "# Demasiados valores perdidos\n",
    "test.drop(columns = [\"scheme_name\"], inplace = True)\n",
    "# No hay descripcción de esta variable y los valores son muy raro \n",
    "test.drop(columns = [\"num_private\"], inplace = True)\n",
    "# Poca variabilidad\n",
    "test.drop(columns = [\"recorded_by\"], inplace = True)"
   ]
  },
  {
   "cell_type": "code",
   "execution_count": 55,
   "id": "unexpected-computer",
   "metadata": {},
   "outputs": [],
   "source": [
    "# variables categóricas binarias\n",
    "variables_categ_bin =[\"public_meeting\",\"permit\"]\n",
    "for j in variables_categ_bin:\n",
    "    test[j] = [0 if x == False else 1 for x in test[j]]"
   ]
  },
  {
   "cell_type": "code",
   "execution_count": 56,
   "id": "massive-italian",
   "metadata": {},
   "outputs": [],
   "source": [
    "year = test['date_recorded'].apply(lambda x: x[:4]).astype(int)\n",
    "test[\"date_recorded\"] = year\n",
    "\n",
    "t2 = LabelEncoder()\n",
    "funder_n = t2.fit_transform(test[\"funder\"])\n",
    "test[\"funder\"] = funder_n\n",
    "\n",
    "t3 = LabelEncoder()\n",
    "installer_n = t3.fit_transform(test[\"installer\"])\n",
    "test[\"installer\"] = installer_n\n",
    "\n",
    "t4 = LabelEncoder()\n",
    "wpt_name_n = t4.fit_transform(test[\"wpt_name\"])\n",
    "test[\"wpt_name\"] = wpt_name_n\n",
    "\n",
    "t5 = LabelEncoder()\n",
    "basin_n = t5.fit_transform(test[\"basin\"])\n",
    "test[\"basin\"] = basin_n\n",
    "\n",
    "t6 = LabelEncoder()\n",
    "subvillage_n = t6.fit_transform(test[\"subvillage\"])\n",
    "test[\"subvillage\"] = subvillage_n\n",
    "\n",
    "t7 = LabelEncoder()\n",
    "region_n = t7.fit_transform(test[\"region\"])\n",
    "test[\"region\"] = region_n\n",
    "\n",
    "t8 = LabelEncoder()\n",
    "lga_n = t8.fit_transform(test[\"lga\"])\n",
    "test[\"lga\"] = lga_n\n",
    "\n",
    "t9 = LabelEncoder()\n",
    "ward_n = t9.fit_transform(test[\"ward\"])\n",
    "test[\"ward\"] = ward_n\n",
    "\n",
    "t11 = LabelEncoder()\n",
    "scheme_management_n = t11.fit_transform(test[\"scheme_management\"])\n",
    "test[\"scheme_management\"] = scheme_management_n\n",
    "\n",
    "t12 = LabelEncoder()\n",
    "extraction_type_n = t12.fit_transform(test[\"extraction_type\"])\n",
    "test[\"extraction_type\"] = extraction_type_n\n",
    "\n",
    "t13 = LabelEncoder()\n",
    "extraction_type_group_n = t13.fit_transform(test[\"extraction_type_group\"])\n",
    "test[\"extraction_type_group\"] = extraction_type_group_n\n",
    "\n",
    "t14 = LabelEncoder()\n",
    "extraction_type_class_n = t14.fit_transform(test[\"extraction_type_class\"])\n",
    "test[\"extraction_type_class\"] = extraction_type_class_n\n",
    "\n",
    "t15 = LabelEncoder()\n",
    "management_n = t15.fit_transform(test[\"management\"])\n",
    "test[\"management\"] = management_n\n",
    "\n",
    "t16 = LabelEncoder()\n",
    "management_group_n = t16.fit_transform(test[\"management_group\"])\n",
    "test[\"management_group\"] = management_group_n\n",
    "\n",
    "t17 = LabelEncoder()\n",
    "payment_n = t7.fit_transform(test[\"payment\"])\n",
    "test[\"payment\"] = payment_n\n",
    "\n",
    "t18 = LabelEncoder()\n",
    "payment_type_n = t18.fit_transform(test[\"payment_type\"])\n",
    "test[\"payment_type\"] = payment_type_n\n",
    "\n",
    "t19 = LabelEncoder()\n",
    "water_quality_n = t19.fit_transform(test[\"water_quality\"])\n",
    "test[\"water_quality\"] = water_quality_n\n",
    "\n",
    "t20 = LabelEncoder()\n",
    "quality_group_n = t19.fit_transform(test[\"quality_group\"])\n",
    "test[\"quality_group\"] = quality_group_n\n",
    "\n",
    "t21 = LabelEncoder()\n",
    "quantity_n = t19.fit_transform(test[\"quantity\"])\n",
    "test[\"quantity\"] = quantity_n\n",
    "\n",
    "t22 = LabelEncoder()\n",
    "quantity_group_n = t19.fit_transform(test[\"quantity_group\"])\n",
    "test[\"quantity_group\"] = quantity_group_n\n",
    "\n",
    "t23 = LabelEncoder()\n",
    "source_n = t23.fit_transform(test[\"source\"])\n",
    "test[\"source\"] = source_n\n",
    "\n",
    "t24= LabelEncoder()\n",
    "source_type_n = t24.fit_transform(test[\"source_type\"])\n",
    "test[\"source_type\"] = source_type_n\n",
    "\n",
    "t25 = LabelEncoder()\n",
    "source_class_n = t25.fit_transform(test[\"source_class\"])\n",
    "test[\"source_class\"] = source_class_n\n",
    "\n",
    "t26 = LabelEncoder()\n",
    "waterpoint_type_n = t26.fit_transform(test[\"waterpoint_type\"])\n",
    "test[\"waterpoint_type\"] = waterpoint_type_n\n",
    "\n",
    "t27 = LabelEncoder()\n",
    "waterpoint_type_group_n = t27.fit_transform(test[\"waterpoint_type_group\"])\n",
    "test[\"waterpoint_type_group\"] = waterpoint_type_group_n"
   ]
  },
  {
   "cell_type": "code",
   "execution_count": 57,
   "id": "seventh-furniture",
   "metadata": {},
   "outputs": [],
   "source": [
    "# Varibles que quitamos del df, debido a la multicolinealidad\n",
    "test.drop(columns = [\"waterpoint_type_group\"], inplace = True)\n",
    "test.drop(columns = [\"quantity_group\"], inplace = True)\n",
    "test.drop(columns = [\"extraction_type_group\"], inplace = True)\n",
    "test.drop(columns = [\"source_type\"], inplace = True)"
   ]
  },
  {
   "cell_type": "code",
   "execution_count": 58,
   "id": "twelve-scotland",
   "metadata": {},
   "outputs": [
    {
     "data": {
      "text/plain": [
       "(14850, 33)"
      ]
     },
     "execution_count": 58,
     "metadata": {},
     "output_type": "execute_result"
    }
   ],
   "source": [
    "test.shape"
   ]
  },
  {
   "cell_type": "code",
   "execution_count": 59,
   "id": "silent-smith",
   "metadata": {},
   "outputs": [],
   "source": [
    "test.set_index([\"id\"],inplace=True)"
   ]
  },
  {
   "cell_type": "markdown",
   "id": "revolutionary-enzyme",
   "metadata": {},
   "source": [
    "### Muestreo estratificado, conjuntos train-test"
   ]
  },
  {
   "cell_type": "code",
   "execution_count": 60,
   "id": "skilled-velvet",
   "metadata": {},
   "outputs": [],
   "source": [
    "# Cargamos la variable objetivo\n",
    "target = pd.read_csv(\"Training_labels.csv\")\n",
    "# Fijamos el indice\n",
    "target.set_index(\"id\", inplace = True)"
   ]
  },
  {
   "cell_type": "code",
   "execution_count": 61,
   "id": "united-oxford",
   "metadata": {},
   "outputs": [
    {
     "data": {
      "text/plain": [
       "status_group    object\n",
       "dtype: object"
      ]
     },
     "execution_count": 61,
     "metadata": {},
     "output_type": "execute_result"
    }
   ],
   "source": [
    "# la target es categórica, hay que convertirla a numérica\n",
    "target.dtypes"
   ]
  },
  {
   "cell_type": "code",
   "execution_count": 62,
   "id": "editorial-chemistry",
   "metadata": {},
   "outputs": [],
   "source": [
    "# Convertimos la target a numérica y sustituímos en la variable original\n",
    "t28 = LabelEncoder()\n",
    "status_group_n = t28.fit_transform(target[\"status_group\"])\n",
    "target[\"status_group\"] = status_group_n"
   ]
  },
  {
   "cell_type": "code",
   "execution_count": 63,
   "id": "automotive-andrews",
   "metadata": {},
   "outputs": [],
   "source": [
    "# Muestreo estratificado\n",
    "\n",
    "# Este es el muestreo estratificado con la función train_test_split\n",
    "X_train, X_test, y_train, y_test = train_test_split( df,    # Conjunto de datos que queremos dividir y muestrear\n",
    "                        target,     # Nuestra variable target (ya convertida a numérica)\n",
    "                        test_size=0.3, # Tamaño del test, también podemos poner el train_size=0.8\n",
    "                        random_state=42, # Semilla de aletorización\n",
    "                        stratify = target) # Columna por la que queremos estratificar los datos"
   ]
  },
  {
   "cell_type": "code",
   "execution_count": 64,
   "id": "professional-sussex",
   "metadata": {},
   "outputs": [
    {
     "data": {
      "text/plain": [
       "(41580, 32)"
      ]
     },
     "execution_count": 64,
     "metadata": {},
     "output_type": "execute_result"
    }
   ],
   "source": [
    "X_train.shape"
   ]
  },
  {
   "cell_type": "code",
   "execution_count": 65,
   "id": "original-origin",
   "metadata": {},
   "outputs": [
    {
     "data": {
      "text/plain": [
       "(17820, 32)"
      ]
     },
     "execution_count": 65,
     "metadata": {},
     "output_type": "execute_result"
    }
   ],
   "source": [
    "X_test.shape"
   ]
  },
  {
   "cell_type": "code",
   "execution_count": 66,
   "id": "improving-protocol",
   "metadata": {},
   "outputs": [
    {
     "data": {
      "text/plain": [
       "(41580, 1)"
      ]
     },
     "execution_count": 66,
     "metadata": {},
     "output_type": "execute_result"
    }
   ],
   "source": [
    "y_train.shape"
   ]
  },
  {
   "cell_type": "code",
   "execution_count": 67,
   "id": "adopted-building",
   "metadata": {},
   "outputs": [
    {
     "data": {
      "text/plain": [
       "(17820, 1)"
      ]
     },
     "execution_count": 67,
     "metadata": {},
     "output_type": "execute_result"
    }
   ],
   "source": [
    "y_test.shape"
   ]
  },
  {
   "cell_type": "code",
   "execution_count": 68,
   "id": "polish-television",
   "metadata": {},
   "outputs": [],
   "source": [
    "# Al conjunto de entrenamiento X ya le podemos pegar el y\n",
    "traindf = pd.concat([X_train,y_train], axis=1)"
   ]
  },
  {
   "cell_type": "code",
   "execution_count": 69,
   "id": "reserved-toolbox",
   "metadata": {},
   "outputs": [],
   "source": [
    "testdf = X_test"
   ]
  },
  {
   "cell_type": "code",
   "execution_count": 70,
   "id": "potential-information",
   "metadata": {},
   "outputs": [
    {
     "data": {
      "text/html": [
       "<div>\n",
       "<style scoped>\n",
       "    .dataframe tbody tr th:only-of-type {\n",
       "        vertical-align: middle;\n",
       "    }\n",
       "\n",
       "    .dataframe tbody tr th {\n",
       "        vertical-align: top;\n",
       "    }\n",
       "\n",
       "    .dataframe thead th {\n",
       "        text-align: right;\n",
       "    }\n",
       "</style>\n",
       "<table border=\"1\" class=\"dataframe\">\n",
       "  <thead>\n",
       "    <tr style=\"text-align: right;\">\n",
       "      <th></th>\n",
       "      <th>amount_tsh</th>\n",
       "      <th>date_recorded</th>\n",
       "      <th>funder</th>\n",
       "      <th>gps_height</th>\n",
       "      <th>installer</th>\n",
       "      <th>longitude</th>\n",
       "      <th>latitude</th>\n",
       "      <th>wpt_name</th>\n",
       "      <th>basin</th>\n",
       "      <th>subvillage</th>\n",
       "      <th>...</th>\n",
       "      <th>management_group</th>\n",
       "      <th>payment</th>\n",
       "      <th>payment_type</th>\n",
       "      <th>water_quality</th>\n",
       "      <th>quality_group</th>\n",
       "      <th>quantity</th>\n",
       "      <th>source</th>\n",
       "      <th>source_class</th>\n",
       "      <th>waterpoint_type</th>\n",
       "      <th>status_group</th>\n",
       "    </tr>\n",
       "    <tr>\n",
       "      <th>id</th>\n",
       "      <th></th>\n",
       "      <th></th>\n",
       "      <th></th>\n",
       "      <th></th>\n",
       "      <th></th>\n",
       "      <th></th>\n",
       "      <th></th>\n",
       "      <th></th>\n",
       "      <th></th>\n",
       "      <th></th>\n",
       "      <th></th>\n",
       "      <th></th>\n",
       "      <th></th>\n",
       "      <th></th>\n",
       "      <th></th>\n",
       "      <th></th>\n",
       "      <th></th>\n",
       "      <th></th>\n",
       "      <th></th>\n",
       "      <th></th>\n",
       "      <th></th>\n",
       "    </tr>\n",
       "  </thead>\n",
       "  <tbody>\n",
       "    <tr>\n",
       "      <th>71045</th>\n",
       "      <td>0.0</td>\n",
       "      <td>2013</td>\n",
       "      <td>457</td>\n",
       "      <td>1410</td>\n",
       "      <td>390</td>\n",
       "      <td>36.667568</td>\n",
       "      <td>-3.353465</td>\n",
       "      <td>5142</td>\n",
       "      <td>5</td>\n",
       "      <td>3520</td>\n",
       "      <td>...</td>\n",
       "      <td>4</td>\n",
       "      <td>6</td>\n",
       "      <td>6</td>\n",
       "      <td>6</td>\n",
       "      <td>2</td>\n",
       "      <td>1</td>\n",
       "      <td>8</td>\n",
       "      <td>0</td>\n",
       "      <td>1</td>\n",
       "      <td>0</td>\n",
       "    </tr>\n",
       "    <tr>\n",
       "      <th>51874</th>\n",
       "      <td>0.0</td>\n",
       "      <td>2013</td>\n",
       "      <td>422</td>\n",
       "      <td>1161</td>\n",
       "      <td>520</td>\n",
       "      <td>33.637501</td>\n",
       "      <td>-2.139160</td>\n",
       "      <td>6738</td>\n",
       "      <td>4</td>\n",
       "      <td>12445</td>\n",
       "      <td>...</td>\n",
       "      <td>0</td>\n",
       "      <td>6</td>\n",
       "      <td>6</td>\n",
       "      <td>6</td>\n",
       "      <td>2</td>\n",
       "      <td>1</td>\n",
       "      <td>2</td>\n",
       "      <td>1</td>\n",
       "      <td>2</td>\n",
       "      <td>0</td>\n",
       "    </tr>\n",
       "    <tr>\n",
       "      <th>42688</th>\n",
       "      <td>0.0</td>\n",
       "      <td>2013</td>\n",
       "      <td>1800</td>\n",
       "      <td>1184</td>\n",
       "      <td>1899</td>\n",
       "      <td>36.854557</td>\n",
       "      <td>-2.977996</td>\n",
       "      <td>35529</td>\n",
       "      <td>0</td>\n",
       "      <td>8769</td>\n",
       "      <td>...</td>\n",
       "      <td>2</td>\n",
       "      <td>5</td>\n",
       "      <td>3</td>\n",
       "      <td>6</td>\n",
       "      <td>2</td>\n",
       "      <td>2</td>\n",
       "      <td>6</td>\n",
       "      <td>1</td>\n",
       "      <td>1</td>\n",
       "      <td>0</td>\n",
       "    </tr>\n",
       "    <tr>\n",
       "      <th>53295</th>\n",
       "      <td>0.0</td>\n",
       "      <td>2011</td>\n",
       "      <td>457</td>\n",
       "      <td>0</td>\n",
       "      <td>537</td>\n",
       "      <td>33.023974</td>\n",
       "      <td>-2.933736</td>\n",
       "      <td>11849</td>\n",
       "      <td>4</td>\n",
       "      <td>3672</td>\n",
       "      <td>...</td>\n",
       "      <td>1</td>\n",
       "      <td>0</td>\n",
       "      <td>2</td>\n",
       "      <td>6</td>\n",
       "      <td>2</td>\n",
       "      <td>1</td>\n",
       "      <td>2</td>\n",
       "      <td>1</td>\n",
       "      <td>2</td>\n",
       "      <td>2</td>\n",
       "    </tr>\n",
       "    <tr>\n",
       "      <th>67849</th>\n",
       "      <td>0.0</td>\n",
       "      <td>2013</td>\n",
       "      <td>1866</td>\n",
       "      <td>1331</td>\n",
       "      <td>572</td>\n",
       "      <td>36.528004</td>\n",
       "      <td>-5.674631</td>\n",
       "      <td>16816</td>\n",
       "      <td>8</td>\n",
       "      <td>1471</td>\n",
       "      <td>...</td>\n",
       "      <td>4</td>\n",
       "      <td>0</td>\n",
       "      <td>2</td>\n",
       "      <td>4</td>\n",
       "      <td>4</td>\n",
       "      <td>2</td>\n",
       "      <td>3</td>\n",
       "      <td>0</td>\n",
       "      <td>2</td>\n",
       "      <td>2</td>\n",
       "    </tr>\n",
       "  </tbody>\n",
       "</table>\n",
       "<p>5 rows × 33 columns</p>\n",
       "</div>"
      ],
      "text/plain": [
       "       amount_tsh  date_recorded  funder  gps_height  installer  longitude  \\\n",
       "id                                                                           \n",
       "71045         0.0           2013     457        1410        390  36.667568   \n",
       "51874         0.0           2013     422        1161        520  33.637501   \n",
       "42688         0.0           2013    1800        1184       1899  36.854557   \n",
       "53295         0.0           2011     457           0        537  33.023974   \n",
       "67849         0.0           2013    1866        1331        572  36.528004   \n",
       "\n",
       "       latitude  wpt_name  basin  subvillage  ...  management_group  payment  \\\n",
       "id                                            ...                              \n",
       "71045 -3.353465      5142      5        3520  ...                 4        6   \n",
       "51874 -2.139160      6738      4       12445  ...                 0        6   \n",
       "42688 -2.977996     35529      0        8769  ...                 2        5   \n",
       "53295 -2.933736     11849      4        3672  ...                 1        0   \n",
       "67849 -5.674631     16816      8        1471  ...                 4        0   \n",
       "\n",
       "       payment_type  water_quality  quality_group  quantity  source  \\\n",
       "id                                                                    \n",
       "71045             6              6              2         1       8   \n",
       "51874             6              6              2         1       2   \n",
       "42688             3              6              2         2       6   \n",
       "53295             2              6              2         1       2   \n",
       "67849             2              4              4         2       3   \n",
       "\n",
       "       source_class  waterpoint_type  status_group  \n",
       "id                                                  \n",
       "71045             0                1             0  \n",
       "51874             1                2             0  \n",
       "42688             1                1             0  \n",
       "53295             1                2             2  \n",
       "67849             0                2             2  \n",
       "\n",
       "[5 rows x 33 columns]"
      ]
     },
     "execution_count": 70,
     "metadata": {},
     "output_type": "execute_result"
    }
   ],
   "source": [
    "# Ya tendríamos el conjunto de entranamiento con nuestra target\n",
    "traindf.head()"
   ]
  },
  {
   "cell_type": "code",
   "execution_count": 71,
   "id": "found-turkish",
   "metadata": {},
   "outputs": [
    {
     "data": {
      "text/html": [
       "<div>\n",
       "<style scoped>\n",
       "    .dataframe tbody tr th:only-of-type {\n",
       "        vertical-align: middle;\n",
       "    }\n",
       "\n",
       "    .dataframe tbody tr th {\n",
       "        vertical-align: top;\n",
       "    }\n",
       "\n",
       "    .dataframe thead th {\n",
       "        text-align: right;\n",
       "    }\n",
       "</style>\n",
       "<table border=\"1\" class=\"dataframe\">\n",
       "  <thead>\n",
       "    <tr style=\"text-align: right;\">\n",
       "      <th></th>\n",
       "      <th>amount_tsh</th>\n",
       "      <th>date_recorded</th>\n",
       "      <th>funder</th>\n",
       "      <th>gps_height</th>\n",
       "      <th>installer</th>\n",
       "      <th>longitude</th>\n",
       "      <th>latitude</th>\n",
       "      <th>wpt_name</th>\n",
       "      <th>basin</th>\n",
       "      <th>subvillage</th>\n",
       "      <th>...</th>\n",
       "      <th>management</th>\n",
       "      <th>management_group</th>\n",
       "      <th>payment</th>\n",
       "      <th>payment_type</th>\n",
       "      <th>water_quality</th>\n",
       "      <th>quality_group</th>\n",
       "      <th>quantity</th>\n",
       "      <th>source</th>\n",
       "      <th>source_class</th>\n",
       "      <th>waterpoint_type</th>\n",
       "    </tr>\n",
       "    <tr>\n",
       "      <th>id</th>\n",
       "      <th></th>\n",
       "      <th></th>\n",
       "      <th></th>\n",
       "      <th></th>\n",
       "      <th></th>\n",
       "      <th></th>\n",
       "      <th></th>\n",
       "      <th></th>\n",
       "      <th></th>\n",
       "      <th></th>\n",
       "      <th></th>\n",
       "      <th></th>\n",
       "      <th></th>\n",
       "      <th></th>\n",
       "      <th></th>\n",
       "      <th></th>\n",
       "      <th></th>\n",
       "      <th></th>\n",
       "      <th></th>\n",
       "      <th></th>\n",
       "      <th></th>\n",
       "    </tr>\n",
       "  </thead>\n",
       "  <tbody>\n",
       "    <tr>\n",
       "      <th>71045</th>\n",
       "      <td>0.0</td>\n",
       "      <td>2013</td>\n",
       "      <td>457</td>\n",
       "      <td>1410</td>\n",
       "      <td>390</td>\n",
       "      <td>36.667568</td>\n",
       "      <td>-3.353465</td>\n",
       "      <td>5142</td>\n",
       "      <td>5</td>\n",
       "      <td>3520</td>\n",
       "      <td>...</td>\n",
       "      <td>7</td>\n",
       "      <td>4</td>\n",
       "      <td>6</td>\n",
       "      <td>6</td>\n",
       "      <td>6</td>\n",
       "      <td>2</td>\n",
       "      <td>1</td>\n",
       "      <td>8</td>\n",
       "      <td>0</td>\n",
       "      <td>1</td>\n",
       "    </tr>\n",
       "    <tr>\n",
       "      <th>51874</th>\n",
       "      <td>0.0</td>\n",
       "      <td>2013</td>\n",
       "      <td>422</td>\n",
       "      <td>1161</td>\n",
       "      <td>520</td>\n",
       "      <td>33.637501</td>\n",
       "      <td>-2.139160</td>\n",
       "      <td>6738</td>\n",
       "      <td>4</td>\n",
       "      <td>12445</td>\n",
       "      <td>...</td>\n",
       "      <td>0</td>\n",
       "      <td>0</td>\n",
       "      <td>6</td>\n",
       "      <td>6</td>\n",
       "      <td>6</td>\n",
       "      <td>2</td>\n",
       "      <td>1</td>\n",
       "      <td>2</td>\n",
       "      <td>1</td>\n",
       "      <td>2</td>\n",
       "    </tr>\n",
       "    <tr>\n",
       "      <th>42688</th>\n",
       "      <td>0.0</td>\n",
       "      <td>2013</td>\n",
       "      <td>1800</td>\n",
       "      <td>1184</td>\n",
       "      <td>1899</td>\n",
       "      <td>36.854557</td>\n",
       "      <td>-2.977996</td>\n",
       "      <td>35529</td>\n",
       "      <td>0</td>\n",
       "      <td>8769</td>\n",
       "      <td>...</td>\n",
       "      <td>3</td>\n",
       "      <td>2</td>\n",
       "      <td>5</td>\n",
       "      <td>3</td>\n",
       "      <td>6</td>\n",
       "      <td>2</td>\n",
       "      <td>2</td>\n",
       "      <td>6</td>\n",
       "      <td>1</td>\n",
       "      <td>1</td>\n",
       "    </tr>\n",
       "    <tr>\n",
       "      <th>53295</th>\n",
       "      <td>0.0</td>\n",
       "      <td>2011</td>\n",
       "      <td>457</td>\n",
       "      <td>0</td>\n",
       "      <td>537</td>\n",
       "      <td>33.023974</td>\n",
       "      <td>-2.933736</td>\n",
       "      <td>11849</td>\n",
       "      <td>4</td>\n",
       "      <td>3672</td>\n",
       "      <td>...</td>\n",
       "      <td>1</td>\n",
       "      <td>1</td>\n",
       "      <td>0</td>\n",
       "      <td>2</td>\n",
       "      <td>6</td>\n",
       "      <td>2</td>\n",
       "      <td>1</td>\n",
       "      <td>2</td>\n",
       "      <td>1</td>\n",
       "      <td>2</td>\n",
       "    </tr>\n",
       "    <tr>\n",
       "      <th>67849</th>\n",
       "      <td>0.0</td>\n",
       "      <td>2013</td>\n",
       "      <td>1866</td>\n",
       "      <td>1331</td>\n",
       "      <td>572</td>\n",
       "      <td>36.528004</td>\n",
       "      <td>-5.674631</td>\n",
       "      <td>16816</td>\n",
       "      <td>8</td>\n",
       "      <td>1471</td>\n",
       "      <td>...</td>\n",
       "      <td>7</td>\n",
       "      <td>4</td>\n",
       "      <td>0</td>\n",
       "      <td>2</td>\n",
       "      <td>4</td>\n",
       "      <td>4</td>\n",
       "      <td>2</td>\n",
       "      <td>3</td>\n",
       "      <td>0</td>\n",
       "      <td>2</td>\n",
       "    </tr>\n",
       "  </tbody>\n",
       "</table>\n",
       "<p>5 rows × 32 columns</p>\n",
       "</div>"
      ],
      "text/plain": [
       "       amount_tsh  date_recorded  funder  gps_height  installer  longitude  \\\n",
       "id                                                                           \n",
       "71045         0.0           2013     457        1410        390  36.667568   \n",
       "51874         0.0           2013     422        1161        520  33.637501   \n",
       "42688         0.0           2013    1800        1184       1899  36.854557   \n",
       "53295         0.0           2011     457           0        537  33.023974   \n",
       "67849         0.0           2013    1866        1331        572  36.528004   \n",
       "\n",
       "       latitude  wpt_name  basin  subvillage  ...  management  \\\n",
       "id                                            ...               \n",
       "71045 -3.353465      5142      5        3520  ...           7   \n",
       "51874 -2.139160      6738      4       12445  ...           0   \n",
       "42688 -2.977996     35529      0        8769  ...           3   \n",
       "53295 -2.933736     11849      4        3672  ...           1   \n",
       "67849 -5.674631     16816      8        1471  ...           7   \n",
       "\n",
       "       management_group  payment  payment_type  water_quality  quality_group  \\\n",
       "id                                                                             \n",
       "71045                 4        6             6              6              2   \n",
       "51874                 0        6             6              6              2   \n",
       "42688                 2        5             3              6              2   \n",
       "53295                 1        0             2              6              2   \n",
       "67849                 4        0             2              4              4   \n",
       "\n",
       "       quantity  source  source_class  waterpoint_type  \n",
       "id                                                      \n",
       "71045         1       8             0                1  \n",
       "51874         1       2             1                2  \n",
       "42688         2       6             1                1  \n",
       "53295         1       2             1                2  \n",
       "67849         2       3             0                2  \n",
       "\n",
       "[5 rows x 32 columns]"
      ]
     },
     "execution_count": 71,
     "metadata": {},
     "output_type": "execute_result"
    }
   ],
   "source": [
    "X_train.head()"
   ]
  },
  {
   "cell_type": "markdown",
   "id": "spiritual-inspection",
   "metadata": {},
   "source": [
    "### Análisis de variables"
   ]
  },
  {
   "cell_type": "code",
   "execution_count": 72,
   "id": "important-bandwidth",
   "metadata": {},
   "outputs": [
    {
     "data": {
      "text/html": [
       "<style  type=\"text/css\" >\n",
       "#T_456d6_row0_col0{\n",
       "            background-color:  #023858;\n",
       "            color:  #f1f1f1;\n",
       "        }#T_456d6_row1_col0{\n",
       "            background-color:  #d9d8ea;\n",
       "            color:  #000000;\n",
       "        }#T_456d6_row2_col0{\n",
       "            background-color:  #e0deed;\n",
       "            color:  #000000;\n",
       "        }#T_456d6_row3_col0{\n",
       "            background-color:  #e6e2ef;\n",
       "            color:  #000000;\n",
       "        }#T_456d6_row4_col0{\n",
       "            background-color:  #ece7f2;\n",
       "            color:  #000000;\n",
       "        }#T_456d6_row5_col0{\n",
       "            background-color:  #ede8f3;\n",
       "            color:  #000000;\n",
       "        }#T_456d6_row6_col0{\n",
       "            background-color:  #efe9f3;\n",
       "            color:  #000000;\n",
       "        }#T_456d6_row7_col0{\n",
       "            background-color:  #f0eaf4;\n",
       "            color:  #000000;\n",
       "        }#T_456d6_row8_col0{\n",
       "            background-color:  #f1ebf4;\n",
       "            color:  #000000;\n",
       "        }#T_456d6_row9_col0{\n",
       "            background-color:  #f1ebf5;\n",
       "            color:  #000000;\n",
       "        }#T_456d6_row10_col0{\n",
       "            background-color:  #f4eef6;\n",
       "            color:  #000000;\n",
       "        }#T_456d6_row11_col0{\n",
       "            background-color:  #f5eef6;\n",
       "            color:  #000000;\n",
       "        }#T_456d6_row12_col0{\n",
       "            background-color:  #f5eff6;\n",
       "            color:  #000000;\n",
       "        }#T_456d6_row13_col0,#T_456d6_row14_col0{\n",
       "            background-color:  #f6eff7;\n",
       "            color:  #000000;\n",
       "        }#T_456d6_row15_col0,#T_456d6_row16_col0{\n",
       "            background-color:  #f7f0f7;\n",
       "            color:  #000000;\n",
       "        }#T_456d6_row17_col0,#T_456d6_row18_col0,#T_456d6_row19_col0{\n",
       "            background-color:  #f8f1f8;\n",
       "            color:  #000000;\n",
       "        }#T_456d6_row20_col0{\n",
       "            background-color:  #f9f2f8;\n",
       "            color:  #000000;\n",
       "        }#T_456d6_row21_col0{\n",
       "            background-color:  #faf2f8;\n",
       "            color:  #000000;\n",
       "        }#T_456d6_row22_col0{\n",
       "            background-color:  #faf3f9;\n",
       "            color:  #000000;\n",
       "        }#T_456d6_row23_col0{\n",
       "            background-color:  #fbf3f9;\n",
       "            color:  #000000;\n",
       "        }#T_456d6_row24_col0{\n",
       "            background-color:  #fbf4f9;\n",
       "            color:  #000000;\n",
       "        }#T_456d6_row25_col0,#T_456d6_row26_col0{\n",
       "            background-color:  #fcf4fa;\n",
       "            color:  #000000;\n",
       "        }#T_456d6_row27_col0,#T_456d6_row28_col0,#T_456d6_row29_col0{\n",
       "            background-color:  #fdf5fa;\n",
       "            color:  #000000;\n",
       "        }#T_456d6_row30_col0,#T_456d6_row31_col0{\n",
       "            background-color:  #fef6fb;\n",
       "            color:  #000000;\n",
       "        }#T_456d6_row32_col0{\n",
       "            background-color:  #fff7fb;\n",
       "            color:  #000000;\n",
       "        }</style><table id=\"T_456d6_\" ><thead>    <tr>        <th class=\"blank level0\" ></th>        <th class=\"col_heading level0 col0\" >status_group</th>    </tr></thead><tbody>\n",
       "                <tr>\n",
       "                        <th id=\"T_456d6_level0_row0\" class=\"row_heading level0 row0\" >status_group</th>\n",
       "                        <td id=\"T_456d6_row0_col0\" class=\"data row0 col0\" >1.000000</td>\n",
       "            </tr>\n",
       "            <tr>\n",
       "                        <th id=\"T_456d6_level0_row1\" class=\"row_heading level0 row1\" >waterpoint_type</th>\n",
       "                        <td id=\"T_456d6_row1_col0\" class=\"data row1 col0\" >0.208749</td>\n",
       "            </tr>\n",
       "            <tr>\n",
       "                        <th id=\"T_456d6_level0_row2\" class=\"row_heading level0 row2\" >extraction_type_class</th>\n",
       "                        <td id=\"T_456d6_row2_col0\" class=\"data row2 col0\" >0.177872</td>\n",
       "            </tr>\n",
       "            <tr>\n",
       "                        <th id=\"T_456d6_level0_row3\" class=\"row_heading level0 row3\" >quality_group</th>\n",
       "                        <td id=\"T_456d6_row3_col0\" class=\"data row3 col0\" >0.155780</td>\n",
       "            </tr>\n",
       "            <tr>\n",
       "                        <th id=\"T_456d6_level0_row4\" class=\"row_heading level0 row4\" >quantity</th>\n",
       "                        <td id=\"T_456d6_row4_col0\" class=\"data row4 col0\" >0.130004</td>\n",
       "            </tr>\n",
       "            <tr>\n",
       "                        <th id=\"T_456d6_level0_row5\" class=\"row_heading level0 row5\" >gps_height</th>\n",
       "                        <td id=\"T_456d6_row5_col0\" class=\"data row5 col0\" >0.119709</td>\n",
       "            </tr>\n",
       "            <tr>\n",
       "                        <th id=\"T_456d6_level0_row6\" class=\"row_heading level0 row6\" >extraction_type</th>\n",
       "                        <td id=\"T_456d6_row6_col0\" class=\"data row6 col0\" >0.108829</td>\n",
       "            </tr>\n",
       "            <tr>\n",
       "                        <th id=\"T_456d6_level0_row7\" class=\"row_heading level0 row7\" >region_code</th>\n",
       "                        <td id=\"T_456d6_row7_col0\" class=\"data row7 col0\" >0.107211</td>\n",
       "            </tr>\n",
       "            <tr>\n",
       "                        <th id=\"T_456d6_level0_row8\" class=\"row_heading level0 row8\" >source</th>\n",
       "                        <td id=\"T_456d6_row8_col0\" class=\"data row8 col0\" >0.097544</td>\n",
       "            </tr>\n",
       "            <tr>\n",
       "                        <th id=\"T_456d6_level0_row9\" class=\"row_heading level0 row9\" >region</th>\n",
       "                        <td id=\"T_456d6_row9_col0\" class=\"data row9 col0\" >0.092609</td>\n",
       "            </tr>\n",
       "            <tr>\n",
       "                        <th id=\"T_456d6_level0_row10\" class=\"row_heading level0 row10\" >payment</th>\n",
       "                        <td id=\"T_456d6_row10_col0\" class=\"data row10 col0\" >0.074856</td>\n",
       "            </tr>\n",
       "            <tr>\n",
       "                        <th id=\"T_456d6_level0_row11\" class=\"row_heading level0 row11\" >public_meeting</th>\n",
       "                        <td id=\"T_456d6_row11_col0\" class=\"data row11 col0\" >0.068949</td>\n",
       "            </tr>\n",
       "            <tr>\n",
       "                        <th id=\"T_456d6_level0_row12\" class=\"row_heading level0 row12\" >district_code</th>\n",
       "                        <td id=\"T_456d6_row12_col0\" class=\"data row12 col0\" >0.064629</td>\n",
       "            </tr>\n",
       "            <tr>\n",
       "                        <th id=\"T_456d6_level0_row13\" class=\"row_heading level0 row13\" >lga</th>\n",
       "                        <td id=\"T_456d6_row13_col0\" class=\"data row13 col0\" >0.062195</td>\n",
       "            </tr>\n",
       "            <tr>\n",
       "                        <th id=\"T_456d6_level0_row14\" class=\"row_heading level0 row14\" >payment_type</th>\n",
       "                        <td id=\"T_456d6_row14_col0\" class=\"data row14 col0\" >0.061466</td>\n",
       "            </tr>\n",
       "            <tr>\n",
       "                        <th id=\"T_456d6_level0_row15\" class=\"row_heading level0 row15\" >funder</th>\n",
       "                        <td id=\"T_456d6_row15_col0\" class=\"data row15 col0\" >0.054787</td>\n",
       "            </tr>\n",
       "            <tr>\n",
       "                        <th id=\"T_456d6_level0_row16\" class=\"row_heading level0 row16\" >management</th>\n",
       "                        <td id=\"T_456d6_row16_col0\" class=\"data row16 col0\" >0.053332</td>\n",
       "            </tr>\n",
       "            <tr>\n",
       "                        <th id=\"T_456d6_level0_row17\" class=\"row_heading level0 row17\" >scheme_management</th>\n",
       "                        <td id=\"T_456d6_row17_col0\" class=\"data row17 col0\" >0.052164</td>\n",
       "            </tr>\n",
       "            <tr>\n",
       "                        <th id=\"T_456d6_level0_row18\" class=\"row_heading level0 row18\" >construction_year</th>\n",
       "                        <td id=\"T_456d6_row18_col0\" class=\"data row18 col0\" >0.049394</td>\n",
       "            </tr>\n",
       "            <tr>\n",
       "                        <th id=\"T_456d6_level0_row19\" class=\"row_heading level0 row19\" >amount_tsh</th>\n",
       "                        <td id=\"T_456d6_row19_col0\" class=\"data row19 col0\" >0.048569</td>\n",
       "            </tr>\n",
       "            <tr>\n",
       "                        <th id=\"T_456d6_level0_row20\" class=\"row_heading level0 row20\" >basin</th>\n",
       "                        <td id=\"T_456d6_row20_col0\" class=\"data row20 col0\" >0.042591</td>\n",
       "            </tr>\n",
       "            <tr>\n",
       "                        <th id=\"T_456d6_level0_row21\" class=\"row_heading level0 row21\" >installer</th>\n",
       "                        <td id=\"T_456d6_row21_col0\" class=\"data row21 col0\" >0.037683</td>\n",
       "            </tr>\n",
       "            <tr>\n",
       "                        <th id=\"T_456d6_level0_row22\" class=\"row_heading level0 row22\" >permit</th>\n",
       "                        <td id=\"T_456d6_row22_col0\" class=\"data row22 col0\" >0.035829</td>\n",
       "            </tr>\n",
       "            <tr>\n",
       "                        <th id=\"T_456d6_level0_row23\" class=\"row_heading level0 row23\" >management_group</th>\n",
       "                        <td id=\"T_456d6_row23_col0\" class=\"data row23 col0\" >0.032861</td>\n",
       "            </tr>\n",
       "            <tr>\n",
       "                        <th id=\"T_456d6_level0_row24\" class=\"row_heading level0 row24\" >source_class</th>\n",
       "                        <td id=\"T_456d6_row24_col0\" class=\"data row24 col0\" >0.028209</td>\n",
       "            </tr>\n",
       "            <tr>\n",
       "                        <th id=\"T_456d6_level0_row25\" class=\"row_heading level0 row25\" >date_recorded</th>\n",
       "                        <td id=\"T_456d6_row25_col0\" class=\"data row25 col0\" >0.023208</td>\n",
       "            </tr>\n",
       "            <tr>\n",
       "                        <th id=\"T_456d6_level0_row26\" class=\"row_heading level0 row26\" >wpt_name</th>\n",
       "                        <td id=\"T_456d6_row26_col0\" class=\"data row26 col0\" >0.022193</td>\n",
       "            </tr>\n",
       "            <tr>\n",
       "                        <th id=\"T_456d6_level0_row27\" class=\"row_heading level0 row27\" >population</th>\n",
       "                        <td id=\"T_456d6_row27_col0\" class=\"data row27 col0\" >0.020012</td>\n",
       "            </tr>\n",
       "            <tr>\n",
       "                        <th id=\"T_456d6_level0_row28\" class=\"row_heading level0 row28\" >latitude</th>\n",
       "                        <td id=\"T_456d6_row28_col0\" class=\"data row28 col0\" >0.015482</td>\n",
       "            </tr>\n",
       "            <tr>\n",
       "                        <th id=\"T_456d6_level0_row29\" class=\"row_heading level0 row29\" >ward</th>\n",
       "                        <td id=\"T_456d6_row29_col0\" class=\"data row29 col0\" >0.013820</td>\n",
       "            </tr>\n",
       "            <tr>\n",
       "                        <th id=\"T_456d6_level0_row30\" class=\"row_heading level0 row30\" >subvillage</th>\n",
       "                        <td id=\"T_456d6_row30_col0\" class=\"data row30 col0\" >0.009683</td>\n",
       "            </tr>\n",
       "            <tr>\n",
       "                        <th id=\"T_456d6_level0_row31\" class=\"row_heading level0 row31\" >water_quality</th>\n",
       "                        <td id=\"T_456d6_row31_col0\" class=\"data row31 col0\" >0.006217</td>\n",
       "            </tr>\n",
       "            <tr>\n",
       "                        <th id=\"T_456d6_level0_row32\" class=\"row_heading level0 row32\" >longitude</th>\n",
       "                        <td id=\"T_456d6_row32_col0\" class=\"data row32 col0\" >0.002061</td>\n",
       "            </tr>\n",
       "    </tbody></table>"
      ],
      "text/plain": [
       "<pandas.io.formats.style.Styler at 0x1b7873b1c10>"
      ]
     },
     "execution_count": 72,
     "metadata": {},
     "output_type": "execute_result"
    }
   ],
   "source": [
    "# gráfico de correlación de las variables con la objetivo\n",
    "corr = abs(traindf.corr())\n",
    "corr[['status_group']].sort_values(by = 'status_group',ascending = False).style.background_gradient()"
   ]
  },
  {
   "cell_type": "markdown",
   "id": "distinguished-proportion",
   "metadata": {},
   "source": [
    "### Escalado de variables"
   ]
  },
  {
   "cell_type": "code",
   "execution_count": 73,
   "id": "headed-shareware",
   "metadata": {},
   "outputs": [],
   "source": [
    "## Prueba ejemplo de escalado (cuando el modelo de ML le da más importancia a una categoría que a otra).\n",
    "## Prueba por estandarización\n",
    "from sklearn.preprocessing import StandardScaler\n",
    "sc = StandardScaler()\n",
    "traindf_standarized= sc.fit_transform(traindf)"
   ]
  },
  {
   "cell_type": "code",
   "execution_count": 74,
   "id": "focused-things",
   "metadata": {},
   "outputs": [
    {
     "data": {
      "text/plain": [
       "array([-0.09711458,  1.12529015, -0.60222746,  1.06559902, -0.59754935,\n",
       "        0.39420758,  0.80360669, -1.33260052,  0.37444465, -1.10049267,\n",
       "       -1.65515639, -0.75577316, -0.3752727 , -1.70363389, -0.55706764,\n",
       "        0.04263891,  0.30482172,  0.03944029,  0.64585572,  0.74348512,\n",
       "       -0.78777247, -0.77682366, -0.13980647,  0.33843654,  1.62520701,\n",
       "        1.7238915 ,  0.27560164, -0.33662048, -0.40876806,  0.95005737,\n",
       "       -0.53681214, -0.88600038, -0.88564467])"
      ]
     },
     "execution_count": 74,
     "metadata": {},
     "output_type": "execute_result"
    }
   ],
   "source": [
    "traindf_standarized[0]"
   ]
  },
  {
   "cell_type": "code",
   "execution_count": 75,
   "id": "disciplinary-rebound",
   "metadata": {},
   "outputs": [],
   "source": [
    "# convertimos a df el array\n",
    "traindf_st = pd.DataFrame(traindf_standarized, index = traindf.index, columns = traindf.columns)"
   ]
  },
  {
   "cell_type": "code",
   "execution_count": 76,
   "id": "gorgeous-mount",
   "metadata": {},
   "outputs": [
    {
     "data": {
      "text/html": [
       "<div>\n",
       "<style scoped>\n",
       "    .dataframe tbody tr th:only-of-type {\n",
       "        vertical-align: middle;\n",
       "    }\n",
       "\n",
       "    .dataframe tbody tr th {\n",
       "        vertical-align: top;\n",
       "    }\n",
       "\n",
       "    .dataframe thead th {\n",
       "        text-align: right;\n",
       "    }\n",
       "</style>\n",
       "<table border=\"1\" class=\"dataframe\">\n",
       "  <thead>\n",
       "    <tr style=\"text-align: right;\">\n",
       "      <th></th>\n",
       "      <th>amount_tsh</th>\n",
       "      <th>date_recorded</th>\n",
       "      <th>funder</th>\n",
       "      <th>gps_height</th>\n",
       "      <th>installer</th>\n",
       "      <th>longitude</th>\n",
       "      <th>latitude</th>\n",
       "      <th>wpt_name</th>\n",
       "      <th>basin</th>\n",
       "      <th>subvillage</th>\n",
       "      <th>...</th>\n",
       "      <th>management_group</th>\n",
       "      <th>payment</th>\n",
       "      <th>payment_type</th>\n",
       "      <th>water_quality</th>\n",
       "      <th>quality_group</th>\n",
       "      <th>quantity</th>\n",
       "      <th>source</th>\n",
       "      <th>source_class</th>\n",
       "      <th>waterpoint_type</th>\n",
       "      <th>status_group</th>\n",
       "    </tr>\n",
       "    <tr>\n",
       "      <th>id</th>\n",
       "      <th></th>\n",
       "      <th></th>\n",
       "      <th></th>\n",
       "      <th></th>\n",
       "      <th></th>\n",
       "      <th></th>\n",
       "      <th></th>\n",
       "      <th></th>\n",
       "      <th></th>\n",
       "      <th></th>\n",
       "      <th></th>\n",
       "      <th></th>\n",
       "      <th></th>\n",
       "      <th></th>\n",
       "      <th></th>\n",
       "      <th></th>\n",
       "      <th></th>\n",
       "      <th></th>\n",
       "      <th></th>\n",
       "      <th></th>\n",
       "      <th></th>\n",
       "    </tr>\n",
       "  </thead>\n",
       "  <tbody>\n",
       "    <tr>\n",
       "      <th>71045</th>\n",
       "      <td>-0.097115</td>\n",
       "      <td>1.125290</td>\n",
       "      <td>-0.602227</td>\n",
       "      <td>1.065599</td>\n",
       "      <td>-0.597549</td>\n",
       "      <td>0.394208</td>\n",
       "      <td>0.803607</td>\n",
       "      <td>-1.332601</td>\n",
       "      <td>0.374445</td>\n",
       "      <td>-1.100493</td>\n",
       "      <td>...</td>\n",
       "      <td>0.338437</td>\n",
       "      <td>1.625207</td>\n",
       "      <td>1.723891</td>\n",
       "      <td>0.275602</td>\n",
       "      <td>-0.336620</td>\n",
       "      <td>-0.408768</td>\n",
       "      <td>0.950057</td>\n",
       "      <td>-0.536812</td>\n",
       "      <td>-0.886000</td>\n",
       "      <td>-0.885645</td>\n",
       "    </tr>\n",
       "    <tr>\n",
       "      <th>51874</th>\n",
       "      <td>-0.097115</td>\n",
       "      <td>1.125290</td>\n",
       "      <td>-0.663415</td>\n",
       "      <td>0.706611</td>\n",
       "      <td>-0.363827</td>\n",
       "      <td>-0.069011</td>\n",
       "      <td>1.216591</td>\n",
       "      <td>-1.199657</td>\n",
       "      <td>-0.029725</td>\n",
       "      <td>0.518504</td>\n",
       "      <td>...</td>\n",
       "      <td>-3.464345</td>\n",
       "      <td>1.625207</td>\n",
       "      <td>1.723891</td>\n",
       "      <td>0.275602</td>\n",
       "      <td>-0.336620</td>\n",
       "      <td>-0.408768</td>\n",
       "      <td>-2.010180</td>\n",
       "      <td>1.762863</td>\n",
       "      <td>-0.324972</td>\n",
       "      <td>-0.885645</td>\n",
       "    </tr>\n",
       "    <tr>\n",
       "      <th>42688</th>\n",
       "      <td>-0.097115</td>\n",
       "      <td>1.125290</td>\n",
       "      <td>1.745624</td>\n",
       "      <td>0.739770</td>\n",
       "      <td>2.115429</td>\n",
       "      <td>0.422793</td>\n",
       "      <td>0.931303</td>\n",
       "      <td>1.198580</td>\n",
       "      <td>-1.646402</td>\n",
       "      <td>-0.148323</td>\n",
       "      <td>...</td>\n",
       "      <td>-1.562954</td>\n",
       "      <td>1.184728</td>\n",
       "      <td>0.088819</td>\n",
       "      <td>0.275602</td>\n",
       "      <td>-0.336620</td>\n",
       "      <td>0.837041</td>\n",
       "      <td>-0.036689</td>\n",
       "      <td>1.762863</td>\n",
       "      <td>-0.886000</td>\n",
       "      <td>-0.885645</td>\n",
       "    </tr>\n",
       "    <tr>\n",
       "      <th>53295</th>\n",
       "      <td>-0.097115</td>\n",
       "      <td>-0.956235</td>\n",
       "      <td>-0.602227</td>\n",
       "      <td>-0.967226</td>\n",
       "      <td>-0.333263</td>\n",
       "      <td>-0.162803</td>\n",
       "      <td>0.946356</td>\n",
       "      <td>-0.773920</td>\n",
       "      <td>-0.029725</td>\n",
       "      <td>-1.072920</td>\n",
       "      <td>...</td>\n",
       "      <td>-2.513649</td>\n",
       "      <td>-1.017668</td>\n",
       "      <td>-0.456205</td>\n",
       "      <td>0.275602</td>\n",
       "      <td>-0.336620</td>\n",
       "      <td>-0.408768</td>\n",
       "      <td>-2.010180</td>\n",
       "      <td>1.762863</td>\n",
       "      <td>-0.324972</td>\n",
       "      <td>1.220091</td>\n",
       "    </tr>\n",
       "    <tr>\n",
       "      <th>67849</th>\n",
       "      <td>-0.097115</td>\n",
       "      <td>1.125290</td>\n",
       "      <td>1.861006</td>\n",
       "      <td>0.951703</td>\n",
       "      <td>-0.270338</td>\n",
       "      <td>0.372872</td>\n",
       "      <td>0.014180</td>\n",
       "      <td>-0.360178</td>\n",
       "      <td>1.586952</td>\n",
       "      <td>-1.472182</td>\n",
       "      <td>...</td>\n",
       "      <td>0.338437</td>\n",
       "      <td>-1.017668</td>\n",
       "      <td>-0.456205</td>\n",
       "      <td>-1.923500</td>\n",
       "      <td>2.203151</td>\n",
       "      <td>0.837041</td>\n",
       "      <td>-1.516807</td>\n",
       "      <td>-0.536812</td>\n",
       "      <td>-0.324972</td>\n",
       "      <td>1.220091</td>\n",
       "    </tr>\n",
       "  </tbody>\n",
       "</table>\n",
       "<p>5 rows × 33 columns</p>\n",
       "</div>"
      ],
      "text/plain": [
       "       amount_tsh  date_recorded    funder  gps_height  installer  longitude  \\\n",
       "id                                                                             \n",
       "71045   -0.097115       1.125290 -0.602227    1.065599  -0.597549   0.394208   \n",
       "51874   -0.097115       1.125290 -0.663415    0.706611  -0.363827  -0.069011   \n",
       "42688   -0.097115       1.125290  1.745624    0.739770   2.115429   0.422793   \n",
       "53295   -0.097115      -0.956235 -0.602227   -0.967226  -0.333263  -0.162803   \n",
       "67849   -0.097115       1.125290  1.861006    0.951703  -0.270338   0.372872   \n",
       "\n",
       "       latitude  wpt_name     basin  subvillage  ...  management_group  \\\n",
       "id                                               ...                     \n",
       "71045  0.803607 -1.332601  0.374445   -1.100493  ...          0.338437   \n",
       "51874  1.216591 -1.199657 -0.029725    0.518504  ...         -3.464345   \n",
       "42688  0.931303  1.198580 -1.646402   -0.148323  ...         -1.562954   \n",
       "53295  0.946356 -0.773920 -0.029725   -1.072920  ...         -2.513649   \n",
       "67849  0.014180 -0.360178  1.586952   -1.472182  ...          0.338437   \n",
       "\n",
       "        payment  payment_type  water_quality  quality_group  quantity  \\\n",
       "id                                                                      \n",
       "71045  1.625207      1.723891       0.275602      -0.336620 -0.408768   \n",
       "51874  1.625207      1.723891       0.275602      -0.336620 -0.408768   \n",
       "42688  1.184728      0.088819       0.275602      -0.336620  0.837041   \n",
       "53295 -1.017668     -0.456205       0.275602      -0.336620 -0.408768   \n",
       "67849 -1.017668     -0.456205      -1.923500       2.203151  0.837041   \n",
       "\n",
       "         source  source_class  waterpoint_type  status_group  \n",
       "id                                                            \n",
       "71045  0.950057     -0.536812        -0.886000     -0.885645  \n",
       "51874 -2.010180      1.762863        -0.324972     -0.885645  \n",
       "42688 -0.036689      1.762863        -0.886000     -0.885645  \n",
       "53295 -2.010180      1.762863        -0.324972      1.220091  \n",
       "67849 -1.516807     -0.536812        -0.324972      1.220091  \n",
       "\n",
       "[5 rows x 33 columns]"
      ]
     },
     "execution_count": 76,
     "metadata": {},
     "output_type": "execute_result"
    }
   ],
   "source": [
    "# df estandarizado\n",
    "traindf_st.head()"
   ]
  },
  {
   "cell_type": "code",
   "execution_count": 77,
   "id": "looking-motel",
   "metadata": {},
   "outputs": [
    {
     "data": {
      "text/html": [
       "<style  type=\"text/css\" >\n",
       "#T_a40f6_row0_col0{\n",
       "            background-color:  #023858;\n",
       "            color:  #f1f1f1;\n",
       "        }#T_a40f6_row1_col0{\n",
       "            background-color:  #d9d8ea;\n",
       "            color:  #000000;\n",
       "        }#T_a40f6_row2_col0{\n",
       "            background-color:  #e0deed;\n",
       "            color:  #000000;\n",
       "        }#T_a40f6_row3_col0{\n",
       "            background-color:  #e6e2ef;\n",
       "            color:  #000000;\n",
       "        }#T_a40f6_row4_col0{\n",
       "            background-color:  #ece7f2;\n",
       "            color:  #000000;\n",
       "        }#T_a40f6_row5_col0{\n",
       "            background-color:  #ede8f3;\n",
       "            color:  #000000;\n",
       "        }#T_a40f6_row6_col0{\n",
       "            background-color:  #efe9f3;\n",
       "            color:  #000000;\n",
       "        }#T_a40f6_row7_col0{\n",
       "            background-color:  #f0eaf4;\n",
       "            color:  #000000;\n",
       "        }#T_a40f6_row8_col0{\n",
       "            background-color:  #f1ebf4;\n",
       "            color:  #000000;\n",
       "        }#T_a40f6_row9_col0{\n",
       "            background-color:  #f1ebf5;\n",
       "            color:  #000000;\n",
       "        }#T_a40f6_row10_col0{\n",
       "            background-color:  #f4eef6;\n",
       "            color:  #000000;\n",
       "        }#T_a40f6_row11_col0{\n",
       "            background-color:  #f5eef6;\n",
       "            color:  #000000;\n",
       "        }#T_a40f6_row12_col0{\n",
       "            background-color:  #f5eff6;\n",
       "            color:  #000000;\n",
       "        }#T_a40f6_row13_col0,#T_a40f6_row14_col0{\n",
       "            background-color:  #f6eff7;\n",
       "            color:  #000000;\n",
       "        }#T_a40f6_row15_col0,#T_a40f6_row16_col0{\n",
       "            background-color:  #f7f0f7;\n",
       "            color:  #000000;\n",
       "        }#T_a40f6_row17_col0,#T_a40f6_row18_col0,#T_a40f6_row19_col0{\n",
       "            background-color:  #f8f1f8;\n",
       "            color:  #000000;\n",
       "        }#T_a40f6_row20_col0{\n",
       "            background-color:  #f9f2f8;\n",
       "            color:  #000000;\n",
       "        }#T_a40f6_row21_col0{\n",
       "            background-color:  #faf2f8;\n",
       "            color:  #000000;\n",
       "        }#T_a40f6_row22_col0{\n",
       "            background-color:  #faf3f9;\n",
       "            color:  #000000;\n",
       "        }#T_a40f6_row23_col0{\n",
       "            background-color:  #fbf3f9;\n",
       "            color:  #000000;\n",
       "        }#T_a40f6_row24_col0{\n",
       "            background-color:  #fbf4f9;\n",
       "            color:  #000000;\n",
       "        }#T_a40f6_row25_col0,#T_a40f6_row26_col0{\n",
       "            background-color:  #fcf4fa;\n",
       "            color:  #000000;\n",
       "        }#T_a40f6_row27_col0,#T_a40f6_row28_col0,#T_a40f6_row29_col0{\n",
       "            background-color:  #fdf5fa;\n",
       "            color:  #000000;\n",
       "        }#T_a40f6_row30_col0,#T_a40f6_row31_col0{\n",
       "            background-color:  #fef6fb;\n",
       "            color:  #000000;\n",
       "        }#T_a40f6_row32_col0{\n",
       "            background-color:  #fff7fb;\n",
       "            color:  #000000;\n",
       "        }</style><table id=\"T_a40f6_\" ><thead>    <tr>        <th class=\"blank level0\" ></th>        <th class=\"col_heading level0 col0\" >status_group</th>    </tr></thead><tbody>\n",
       "                <tr>\n",
       "                        <th id=\"T_a40f6_level0_row0\" class=\"row_heading level0 row0\" >status_group</th>\n",
       "                        <td id=\"T_a40f6_row0_col0\" class=\"data row0 col0\" >1.000000</td>\n",
       "            </tr>\n",
       "            <tr>\n",
       "                        <th id=\"T_a40f6_level0_row1\" class=\"row_heading level0 row1\" >waterpoint_type</th>\n",
       "                        <td id=\"T_a40f6_row1_col0\" class=\"data row1 col0\" >0.208749</td>\n",
       "            </tr>\n",
       "            <tr>\n",
       "                        <th id=\"T_a40f6_level0_row2\" class=\"row_heading level0 row2\" >extraction_type_class</th>\n",
       "                        <td id=\"T_a40f6_row2_col0\" class=\"data row2 col0\" >0.177872</td>\n",
       "            </tr>\n",
       "            <tr>\n",
       "                        <th id=\"T_a40f6_level0_row3\" class=\"row_heading level0 row3\" >quality_group</th>\n",
       "                        <td id=\"T_a40f6_row3_col0\" class=\"data row3 col0\" >0.155780</td>\n",
       "            </tr>\n",
       "            <tr>\n",
       "                        <th id=\"T_a40f6_level0_row4\" class=\"row_heading level0 row4\" >quantity</th>\n",
       "                        <td id=\"T_a40f6_row4_col0\" class=\"data row4 col0\" >0.130004</td>\n",
       "            </tr>\n",
       "            <tr>\n",
       "                        <th id=\"T_a40f6_level0_row5\" class=\"row_heading level0 row5\" >gps_height</th>\n",
       "                        <td id=\"T_a40f6_row5_col0\" class=\"data row5 col0\" >0.119709</td>\n",
       "            </tr>\n",
       "            <tr>\n",
       "                        <th id=\"T_a40f6_level0_row6\" class=\"row_heading level0 row6\" >extraction_type</th>\n",
       "                        <td id=\"T_a40f6_row6_col0\" class=\"data row6 col0\" >0.108829</td>\n",
       "            </tr>\n",
       "            <tr>\n",
       "                        <th id=\"T_a40f6_level0_row7\" class=\"row_heading level0 row7\" >region_code</th>\n",
       "                        <td id=\"T_a40f6_row7_col0\" class=\"data row7 col0\" >0.107211</td>\n",
       "            </tr>\n",
       "            <tr>\n",
       "                        <th id=\"T_a40f6_level0_row8\" class=\"row_heading level0 row8\" >source</th>\n",
       "                        <td id=\"T_a40f6_row8_col0\" class=\"data row8 col0\" >0.097544</td>\n",
       "            </tr>\n",
       "            <tr>\n",
       "                        <th id=\"T_a40f6_level0_row9\" class=\"row_heading level0 row9\" >region</th>\n",
       "                        <td id=\"T_a40f6_row9_col0\" class=\"data row9 col0\" >0.092609</td>\n",
       "            </tr>\n",
       "            <tr>\n",
       "                        <th id=\"T_a40f6_level0_row10\" class=\"row_heading level0 row10\" >payment</th>\n",
       "                        <td id=\"T_a40f6_row10_col0\" class=\"data row10 col0\" >0.074856</td>\n",
       "            </tr>\n",
       "            <tr>\n",
       "                        <th id=\"T_a40f6_level0_row11\" class=\"row_heading level0 row11\" >public_meeting</th>\n",
       "                        <td id=\"T_a40f6_row11_col0\" class=\"data row11 col0\" >0.068949</td>\n",
       "            </tr>\n",
       "            <tr>\n",
       "                        <th id=\"T_a40f6_level0_row12\" class=\"row_heading level0 row12\" >district_code</th>\n",
       "                        <td id=\"T_a40f6_row12_col0\" class=\"data row12 col0\" >0.064629</td>\n",
       "            </tr>\n",
       "            <tr>\n",
       "                        <th id=\"T_a40f6_level0_row13\" class=\"row_heading level0 row13\" >lga</th>\n",
       "                        <td id=\"T_a40f6_row13_col0\" class=\"data row13 col0\" >0.062195</td>\n",
       "            </tr>\n",
       "            <tr>\n",
       "                        <th id=\"T_a40f6_level0_row14\" class=\"row_heading level0 row14\" >payment_type</th>\n",
       "                        <td id=\"T_a40f6_row14_col0\" class=\"data row14 col0\" >0.061466</td>\n",
       "            </tr>\n",
       "            <tr>\n",
       "                        <th id=\"T_a40f6_level0_row15\" class=\"row_heading level0 row15\" >funder</th>\n",
       "                        <td id=\"T_a40f6_row15_col0\" class=\"data row15 col0\" >0.054787</td>\n",
       "            </tr>\n",
       "            <tr>\n",
       "                        <th id=\"T_a40f6_level0_row16\" class=\"row_heading level0 row16\" >management</th>\n",
       "                        <td id=\"T_a40f6_row16_col0\" class=\"data row16 col0\" >0.053332</td>\n",
       "            </tr>\n",
       "            <tr>\n",
       "                        <th id=\"T_a40f6_level0_row17\" class=\"row_heading level0 row17\" >scheme_management</th>\n",
       "                        <td id=\"T_a40f6_row17_col0\" class=\"data row17 col0\" >0.052164</td>\n",
       "            </tr>\n",
       "            <tr>\n",
       "                        <th id=\"T_a40f6_level0_row18\" class=\"row_heading level0 row18\" >construction_year</th>\n",
       "                        <td id=\"T_a40f6_row18_col0\" class=\"data row18 col0\" >0.049394</td>\n",
       "            </tr>\n",
       "            <tr>\n",
       "                        <th id=\"T_a40f6_level0_row19\" class=\"row_heading level0 row19\" >amount_tsh</th>\n",
       "                        <td id=\"T_a40f6_row19_col0\" class=\"data row19 col0\" >0.048569</td>\n",
       "            </tr>\n",
       "            <tr>\n",
       "                        <th id=\"T_a40f6_level0_row20\" class=\"row_heading level0 row20\" >basin</th>\n",
       "                        <td id=\"T_a40f6_row20_col0\" class=\"data row20 col0\" >0.042591</td>\n",
       "            </tr>\n",
       "            <tr>\n",
       "                        <th id=\"T_a40f6_level0_row21\" class=\"row_heading level0 row21\" >installer</th>\n",
       "                        <td id=\"T_a40f6_row21_col0\" class=\"data row21 col0\" >0.037683</td>\n",
       "            </tr>\n",
       "            <tr>\n",
       "                        <th id=\"T_a40f6_level0_row22\" class=\"row_heading level0 row22\" >permit</th>\n",
       "                        <td id=\"T_a40f6_row22_col0\" class=\"data row22 col0\" >0.035829</td>\n",
       "            </tr>\n",
       "            <tr>\n",
       "                        <th id=\"T_a40f6_level0_row23\" class=\"row_heading level0 row23\" >management_group</th>\n",
       "                        <td id=\"T_a40f6_row23_col0\" class=\"data row23 col0\" >0.032861</td>\n",
       "            </tr>\n",
       "            <tr>\n",
       "                        <th id=\"T_a40f6_level0_row24\" class=\"row_heading level0 row24\" >source_class</th>\n",
       "                        <td id=\"T_a40f6_row24_col0\" class=\"data row24 col0\" >0.028209</td>\n",
       "            </tr>\n",
       "            <tr>\n",
       "                        <th id=\"T_a40f6_level0_row25\" class=\"row_heading level0 row25\" >date_recorded</th>\n",
       "                        <td id=\"T_a40f6_row25_col0\" class=\"data row25 col0\" >0.023208</td>\n",
       "            </tr>\n",
       "            <tr>\n",
       "                        <th id=\"T_a40f6_level0_row26\" class=\"row_heading level0 row26\" >wpt_name</th>\n",
       "                        <td id=\"T_a40f6_row26_col0\" class=\"data row26 col0\" >0.022193</td>\n",
       "            </tr>\n",
       "            <tr>\n",
       "                        <th id=\"T_a40f6_level0_row27\" class=\"row_heading level0 row27\" >population</th>\n",
       "                        <td id=\"T_a40f6_row27_col0\" class=\"data row27 col0\" >0.020012</td>\n",
       "            </tr>\n",
       "            <tr>\n",
       "                        <th id=\"T_a40f6_level0_row28\" class=\"row_heading level0 row28\" >latitude</th>\n",
       "                        <td id=\"T_a40f6_row28_col0\" class=\"data row28 col0\" >0.015482</td>\n",
       "            </tr>\n",
       "            <tr>\n",
       "                        <th id=\"T_a40f6_level0_row29\" class=\"row_heading level0 row29\" >ward</th>\n",
       "                        <td id=\"T_a40f6_row29_col0\" class=\"data row29 col0\" >0.013820</td>\n",
       "            </tr>\n",
       "            <tr>\n",
       "                        <th id=\"T_a40f6_level0_row30\" class=\"row_heading level0 row30\" >subvillage</th>\n",
       "                        <td id=\"T_a40f6_row30_col0\" class=\"data row30 col0\" >0.009683</td>\n",
       "            </tr>\n",
       "            <tr>\n",
       "                        <th id=\"T_a40f6_level0_row31\" class=\"row_heading level0 row31\" >water_quality</th>\n",
       "                        <td id=\"T_a40f6_row31_col0\" class=\"data row31 col0\" >0.006217</td>\n",
       "            </tr>\n",
       "            <tr>\n",
       "                        <th id=\"T_a40f6_level0_row32\" class=\"row_heading level0 row32\" >longitude</th>\n",
       "                        <td id=\"T_a40f6_row32_col0\" class=\"data row32 col0\" >0.002061</td>\n",
       "            </tr>\n",
       "    </tbody></table>"
      ],
      "text/plain": [
       "<pandas.io.formats.style.Styler at 0x1b7873d8250>"
      ]
     },
     "execution_count": 77,
     "metadata": {},
     "output_type": "execute_result"
    }
   ],
   "source": [
    "# Correlación de los datos con escalado estandar\n",
    "corr = abs(traindf_st.corr())\n",
    "corr[['status_group']].sort_values(by = 'status_group',ascending = False).style.background_gradient()"
   ]
  },
  {
   "cell_type": "code",
   "execution_count": 78,
   "id": "daily-translator",
   "metadata": {},
   "outputs": [],
   "source": [
    "# Escalado por normalización\n",
    "from sklearn.preprocessing import MinMaxScaler\n",
    "scalar = MinMaxScaler(feature_range=(0, 1))\n",
    "scalar.fit(traindf)\n",
    "traindf_normalized = scalar.transform(traindf)"
   ]
  },
  {
   "cell_type": "code",
   "execution_count": 79,
   "id": "democratic-ghana",
   "metadata": {},
   "outputs": [
    {
     "data": {
      "text/plain": [
       "array([0.        , 1.        , 0.24090669, 0.51994352, 0.18181818,\n",
       "       0.90886613, 0.71213507, 0.13746724, 0.625     , 0.18250635,\n",
       "       0.        , 0.01020408, 0.025     , 0.        , 0.3472023 ,\n",
       "       0.0130719 , 1.        , 0.6       , 1.        , 0.99850969,\n",
       "       0.17647059, 0.        , 0.63636364, 1.        , 1.        ,\n",
       "       1.        , 0.85714286, 0.4       , 0.25      , 0.88888889,\n",
       "       0.        , 0.16666667, 0.        ])"
      ]
     },
     "execution_count": 79,
     "metadata": {},
     "output_type": "execute_result"
    }
   ],
   "source": [
    "traindf_normalized[0]"
   ]
  },
  {
   "cell_type": "code",
   "execution_count": 80,
   "id": "funded-quantum",
   "metadata": {},
   "outputs": [],
   "source": [
    "# convertimos a df el array\n",
    "traindf_nr = pd.DataFrame(traindf_normalized, index = traindf.index, columns = traindf.columns)"
   ]
  },
  {
   "cell_type": "code",
   "execution_count": 81,
   "id": "portuguese-longer",
   "metadata": {},
   "outputs": [
    {
     "data": {
      "text/html": [
       "<div>\n",
       "<style scoped>\n",
       "    .dataframe tbody tr th:only-of-type {\n",
       "        vertical-align: middle;\n",
       "    }\n",
       "\n",
       "    .dataframe tbody tr th {\n",
       "        vertical-align: top;\n",
       "    }\n",
       "\n",
       "    .dataframe thead th {\n",
       "        text-align: right;\n",
       "    }\n",
       "</style>\n",
       "<table border=\"1\" class=\"dataframe\">\n",
       "  <thead>\n",
       "    <tr style=\"text-align: right;\">\n",
       "      <th></th>\n",
       "      <th>amount_tsh</th>\n",
       "      <th>date_recorded</th>\n",
       "      <th>funder</th>\n",
       "      <th>gps_height</th>\n",
       "      <th>installer</th>\n",
       "      <th>longitude</th>\n",
       "      <th>latitude</th>\n",
       "      <th>wpt_name</th>\n",
       "      <th>basin</th>\n",
       "      <th>subvillage</th>\n",
       "      <th>...</th>\n",
       "      <th>management_group</th>\n",
       "      <th>payment</th>\n",
       "      <th>payment_type</th>\n",
       "      <th>water_quality</th>\n",
       "      <th>quality_group</th>\n",
       "      <th>quantity</th>\n",
       "      <th>source</th>\n",
       "      <th>source_class</th>\n",
       "      <th>waterpoint_type</th>\n",
       "      <th>status_group</th>\n",
       "    </tr>\n",
       "    <tr>\n",
       "      <th>id</th>\n",
       "      <th></th>\n",
       "      <th></th>\n",
       "      <th></th>\n",
       "      <th></th>\n",
       "      <th></th>\n",
       "      <th></th>\n",
       "      <th></th>\n",
       "      <th></th>\n",
       "      <th></th>\n",
       "      <th></th>\n",
       "      <th></th>\n",
       "      <th></th>\n",
       "      <th></th>\n",
       "      <th></th>\n",
       "      <th></th>\n",
       "      <th></th>\n",
       "      <th></th>\n",
       "      <th></th>\n",
       "      <th></th>\n",
       "      <th></th>\n",
       "      <th></th>\n",
       "    </tr>\n",
       "  </thead>\n",
       "  <tbody>\n",
       "    <tr>\n",
       "      <th>71045</th>\n",
       "      <td>0.0</td>\n",
       "      <td>1.000000</td>\n",
       "      <td>0.240907</td>\n",
       "      <td>0.519944</td>\n",
       "      <td>0.181818</td>\n",
       "      <td>0.908866</td>\n",
       "      <td>0.712135</td>\n",
       "      <td>0.137467</td>\n",
       "      <td>0.625</td>\n",
       "      <td>0.182506</td>\n",
       "      <td>...</td>\n",
       "      <td>1.00</td>\n",
       "      <td>1.000000</td>\n",
       "      <td>1.000000</td>\n",
       "      <td>0.857143</td>\n",
       "      <td>0.4</td>\n",
       "      <td>0.25</td>\n",
       "      <td>0.888889</td>\n",
       "      <td>0.0</td>\n",
       "      <td>0.166667</td>\n",
       "      <td>0.0</td>\n",
       "    </tr>\n",
       "    <tr>\n",
       "      <th>51874</th>\n",
       "      <td>0.0</td>\n",
       "      <td>1.000000</td>\n",
       "      <td>0.222457</td>\n",
       "      <td>0.432051</td>\n",
       "      <td>0.242424</td>\n",
       "      <td>0.833761</td>\n",
       "      <td>0.816372</td>\n",
       "      <td>0.180143</td>\n",
       "      <td>0.500</td>\n",
       "      <td>0.645253</td>\n",
       "      <td>...</td>\n",
       "      <td>0.00</td>\n",
       "      <td>1.000000</td>\n",
       "      <td>1.000000</td>\n",
       "      <td>0.857143</td>\n",
       "      <td>0.4</td>\n",
       "      <td>0.25</td>\n",
       "      <td>0.222222</td>\n",
       "      <td>0.5</td>\n",
       "      <td>0.333333</td>\n",
       "      <td>0.0</td>\n",
       "    </tr>\n",
       "    <tr>\n",
       "      <th>42688</th>\n",
       "      <td>0.0</td>\n",
       "      <td>1.000000</td>\n",
       "      <td>0.948867</td>\n",
       "      <td>0.440169</td>\n",
       "      <td>0.885315</td>\n",
       "      <td>0.913501</td>\n",
       "      <td>0.744366</td>\n",
       "      <td>0.949997</td>\n",
       "      <td>0.000</td>\n",
       "      <td>0.454659</td>\n",
       "      <td>...</td>\n",
       "      <td>0.50</td>\n",
       "      <td>0.833333</td>\n",
       "      <td>0.500000</td>\n",
       "      <td>0.857143</td>\n",
       "      <td>0.4</td>\n",
       "      <td>0.50</td>\n",
       "      <td>0.666667</td>\n",
       "      <td>0.5</td>\n",
       "      <td>0.166667</td>\n",
       "      <td>0.0</td>\n",
       "    </tr>\n",
       "    <tr>\n",
       "      <th>53295</th>\n",
       "      <td>0.0</td>\n",
       "      <td>0.818182</td>\n",
       "      <td>0.240907</td>\n",
       "      <td>0.022238</td>\n",
       "      <td>0.250350</td>\n",
       "      <td>0.818554</td>\n",
       "      <td>0.748165</td>\n",
       "      <td>0.316808</td>\n",
       "      <td>0.500</td>\n",
       "      <td>0.190387</td>\n",
       "      <td>...</td>\n",
       "      <td>0.25</td>\n",
       "      <td>0.000000</td>\n",
       "      <td>0.333333</td>\n",
       "      <td>0.857143</td>\n",
       "      <td>0.4</td>\n",
       "      <td>0.25</td>\n",
       "      <td>0.222222</td>\n",
       "      <td>0.5</td>\n",
       "      <td>0.333333</td>\n",
       "      <td>1.0</td>\n",
       "    </tr>\n",
       "    <tr>\n",
       "      <th>67849</th>\n",
       "      <td>0.0</td>\n",
       "      <td>1.000000</td>\n",
       "      <td>0.983658</td>\n",
       "      <td>0.492058</td>\n",
       "      <td>0.266667</td>\n",
       "      <td>0.905407</td>\n",
       "      <td>0.512884</td>\n",
       "      <td>0.449623</td>\n",
       "      <td>1.000</td>\n",
       "      <td>0.076269</td>\n",
       "      <td>...</td>\n",
       "      <td>1.00</td>\n",
       "      <td>0.000000</td>\n",
       "      <td>0.333333</td>\n",
       "      <td>0.571429</td>\n",
       "      <td>0.8</td>\n",
       "      <td>0.50</td>\n",
       "      <td>0.333333</td>\n",
       "      <td>0.0</td>\n",
       "      <td>0.333333</td>\n",
       "      <td>1.0</td>\n",
       "    </tr>\n",
       "  </tbody>\n",
       "</table>\n",
       "<p>5 rows × 33 columns</p>\n",
       "</div>"
      ],
      "text/plain": [
       "       amount_tsh  date_recorded    funder  gps_height  installer  longitude  \\\n",
       "id                                                                             \n",
       "71045         0.0       1.000000  0.240907    0.519944   0.181818   0.908866   \n",
       "51874         0.0       1.000000  0.222457    0.432051   0.242424   0.833761   \n",
       "42688         0.0       1.000000  0.948867    0.440169   0.885315   0.913501   \n",
       "53295         0.0       0.818182  0.240907    0.022238   0.250350   0.818554   \n",
       "67849         0.0       1.000000  0.983658    0.492058   0.266667   0.905407   \n",
       "\n",
       "       latitude  wpt_name  basin  subvillage  ...  management_group   payment  \\\n",
       "id                                            ...                               \n",
       "71045  0.712135  0.137467  0.625    0.182506  ...              1.00  1.000000   \n",
       "51874  0.816372  0.180143  0.500    0.645253  ...              0.00  1.000000   \n",
       "42688  0.744366  0.949997  0.000    0.454659  ...              0.50  0.833333   \n",
       "53295  0.748165  0.316808  0.500    0.190387  ...              0.25  0.000000   \n",
       "67849  0.512884  0.449623  1.000    0.076269  ...              1.00  0.000000   \n",
       "\n",
       "       payment_type  water_quality  quality_group  quantity    source  \\\n",
       "id                                                                      \n",
       "71045      1.000000       0.857143            0.4      0.25  0.888889   \n",
       "51874      1.000000       0.857143            0.4      0.25  0.222222   \n",
       "42688      0.500000       0.857143            0.4      0.50  0.666667   \n",
       "53295      0.333333       0.857143            0.4      0.25  0.222222   \n",
       "67849      0.333333       0.571429            0.8      0.50  0.333333   \n",
       "\n",
       "       source_class  waterpoint_type  status_group  \n",
       "id                                                  \n",
       "71045           0.0         0.166667           0.0  \n",
       "51874           0.5         0.333333           0.0  \n",
       "42688           0.5         0.166667           0.0  \n",
       "53295           0.5         0.333333           1.0  \n",
       "67849           0.0         0.333333           1.0  \n",
       "\n",
       "[5 rows x 33 columns]"
      ]
     },
     "execution_count": 81,
     "metadata": {},
     "output_type": "execute_result"
    }
   ],
   "source": [
    "traindf_nr.head()"
   ]
  },
  {
   "cell_type": "code",
   "execution_count": 82,
   "id": "pleasant-class",
   "metadata": {},
   "outputs": [
    {
     "data": {
      "text/html": [
       "<style  type=\"text/css\" >\n",
       "#T_77eb5_row0_col0{\n",
       "            background-color:  #023858;\n",
       "            color:  #f1f1f1;\n",
       "        }#T_77eb5_row1_col0{\n",
       "            background-color:  #d9d8ea;\n",
       "            color:  #000000;\n",
       "        }#T_77eb5_row2_col0{\n",
       "            background-color:  #e0deed;\n",
       "            color:  #000000;\n",
       "        }#T_77eb5_row3_col0{\n",
       "            background-color:  #e6e2ef;\n",
       "            color:  #000000;\n",
       "        }#T_77eb5_row4_col0{\n",
       "            background-color:  #ece7f2;\n",
       "            color:  #000000;\n",
       "        }#T_77eb5_row5_col0{\n",
       "            background-color:  #ede8f3;\n",
       "            color:  #000000;\n",
       "        }#T_77eb5_row6_col0{\n",
       "            background-color:  #efe9f3;\n",
       "            color:  #000000;\n",
       "        }#T_77eb5_row7_col0{\n",
       "            background-color:  #f0eaf4;\n",
       "            color:  #000000;\n",
       "        }#T_77eb5_row8_col0{\n",
       "            background-color:  #f1ebf4;\n",
       "            color:  #000000;\n",
       "        }#T_77eb5_row9_col0{\n",
       "            background-color:  #f1ebf5;\n",
       "            color:  #000000;\n",
       "        }#T_77eb5_row10_col0{\n",
       "            background-color:  #f4eef6;\n",
       "            color:  #000000;\n",
       "        }#T_77eb5_row11_col0{\n",
       "            background-color:  #f5eef6;\n",
       "            color:  #000000;\n",
       "        }#T_77eb5_row12_col0{\n",
       "            background-color:  #f5eff6;\n",
       "            color:  #000000;\n",
       "        }#T_77eb5_row13_col0,#T_77eb5_row14_col0{\n",
       "            background-color:  #f6eff7;\n",
       "            color:  #000000;\n",
       "        }#T_77eb5_row15_col0,#T_77eb5_row16_col0{\n",
       "            background-color:  #f7f0f7;\n",
       "            color:  #000000;\n",
       "        }#T_77eb5_row17_col0,#T_77eb5_row18_col0,#T_77eb5_row19_col0{\n",
       "            background-color:  #f8f1f8;\n",
       "            color:  #000000;\n",
       "        }#T_77eb5_row20_col0{\n",
       "            background-color:  #f9f2f8;\n",
       "            color:  #000000;\n",
       "        }#T_77eb5_row21_col0{\n",
       "            background-color:  #faf2f8;\n",
       "            color:  #000000;\n",
       "        }#T_77eb5_row22_col0{\n",
       "            background-color:  #faf3f9;\n",
       "            color:  #000000;\n",
       "        }#T_77eb5_row23_col0{\n",
       "            background-color:  #fbf3f9;\n",
       "            color:  #000000;\n",
       "        }#T_77eb5_row24_col0{\n",
       "            background-color:  #fbf4f9;\n",
       "            color:  #000000;\n",
       "        }#T_77eb5_row25_col0,#T_77eb5_row26_col0{\n",
       "            background-color:  #fcf4fa;\n",
       "            color:  #000000;\n",
       "        }#T_77eb5_row27_col0,#T_77eb5_row28_col0,#T_77eb5_row29_col0{\n",
       "            background-color:  #fdf5fa;\n",
       "            color:  #000000;\n",
       "        }#T_77eb5_row30_col0,#T_77eb5_row31_col0{\n",
       "            background-color:  #fef6fb;\n",
       "            color:  #000000;\n",
       "        }#T_77eb5_row32_col0{\n",
       "            background-color:  #fff7fb;\n",
       "            color:  #000000;\n",
       "        }</style><table id=\"T_77eb5_\" ><thead>    <tr>        <th class=\"blank level0\" ></th>        <th class=\"col_heading level0 col0\" >status_group</th>    </tr></thead><tbody>\n",
       "                <tr>\n",
       "                        <th id=\"T_77eb5_level0_row0\" class=\"row_heading level0 row0\" >status_group</th>\n",
       "                        <td id=\"T_77eb5_row0_col0\" class=\"data row0 col0\" >1.000000</td>\n",
       "            </tr>\n",
       "            <tr>\n",
       "                        <th id=\"T_77eb5_level0_row1\" class=\"row_heading level0 row1\" >waterpoint_type</th>\n",
       "                        <td id=\"T_77eb5_row1_col0\" class=\"data row1 col0\" >0.208749</td>\n",
       "            </tr>\n",
       "            <tr>\n",
       "                        <th id=\"T_77eb5_level0_row2\" class=\"row_heading level0 row2\" >extraction_type_class</th>\n",
       "                        <td id=\"T_77eb5_row2_col0\" class=\"data row2 col0\" >0.177872</td>\n",
       "            </tr>\n",
       "            <tr>\n",
       "                        <th id=\"T_77eb5_level0_row3\" class=\"row_heading level0 row3\" >quality_group</th>\n",
       "                        <td id=\"T_77eb5_row3_col0\" class=\"data row3 col0\" >0.155780</td>\n",
       "            </tr>\n",
       "            <tr>\n",
       "                        <th id=\"T_77eb5_level0_row4\" class=\"row_heading level0 row4\" >quantity</th>\n",
       "                        <td id=\"T_77eb5_row4_col0\" class=\"data row4 col0\" >0.130004</td>\n",
       "            </tr>\n",
       "            <tr>\n",
       "                        <th id=\"T_77eb5_level0_row5\" class=\"row_heading level0 row5\" >gps_height</th>\n",
       "                        <td id=\"T_77eb5_row5_col0\" class=\"data row5 col0\" >0.119709</td>\n",
       "            </tr>\n",
       "            <tr>\n",
       "                        <th id=\"T_77eb5_level0_row6\" class=\"row_heading level0 row6\" >extraction_type</th>\n",
       "                        <td id=\"T_77eb5_row6_col0\" class=\"data row6 col0\" >0.108829</td>\n",
       "            </tr>\n",
       "            <tr>\n",
       "                        <th id=\"T_77eb5_level0_row7\" class=\"row_heading level0 row7\" >region_code</th>\n",
       "                        <td id=\"T_77eb5_row7_col0\" class=\"data row7 col0\" >0.107211</td>\n",
       "            </tr>\n",
       "            <tr>\n",
       "                        <th id=\"T_77eb5_level0_row8\" class=\"row_heading level0 row8\" >source</th>\n",
       "                        <td id=\"T_77eb5_row8_col0\" class=\"data row8 col0\" >0.097544</td>\n",
       "            </tr>\n",
       "            <tr>\n",
       "                        <th id=\"T_77eb5_level0_row9\" class=\"row_heading level0 row9\" >region</th>\n",
       "                        <td id=\"T_77eb5_row9_col0\" class=\"data row9 col0\" >0.092609</td>\n",
       "            </tr>\n",
       "            <tr>\n",
       "                        <th id=\"T_77eb5_level0_row10\" class=\"row_heading level0 row10\" >payment</th>\n",
       "                        <td id=\"T_77eb5_row10_col0\" class=\"data row10 col0\" >0.074856</td>\n",
       "            </tr>\n",
       "            <tr>\n",
       "                        <th id=\"T_77eb5_level0_row11\" class=\"row_heading level0 row11\" >public_meeting</th>\n",
       "                        <td id=\"T_77eb5_row11_col0\" class=\"data row11 col0\" >0.068949</td>\n",
       "            </tr>\n",
       "            <tr>\n",
       "                        <th id=\"T_77eb5_level0_row12\" class=\"row_heading level0 row12\" >district_code</th>\n",
       "                        <td id=\"T_77eb5_row12_col0\" class=\"data row12 col0\" >0.064629</td>\n",
       "            </tr>\n",
       "            <tr>\n",
       "                        <th id=\"T_77eb5_level0_row13\" class=\"row_heading level0 row13\" >lga</th>\n",
       "                        <td id=\"T_77eb5_row13_col0\" class=\"data row13 col0\" >0.062195</td>\n",
       "            </tr>\n",
       "            <tr>\n",
       "                        <th id=\"T_77eb5_level0_row14\" class=\"row_heading level0 row14\" >payment_type</th>\n",
       "                        <td id=\"T_77eb5_row14_col0\" class=\"data row14 col0\" >0.061466</td>\n",
       "            </tr>\n",
       "            <tr>\n",
       "                        <th id=\"T_77eb5_level0_row15\" class=\"row_heading level0 row15\" >funder</th>\n",
       "                        <td id=\"T_77eb5_row15_col0\" class=\"data row15 col0\" >0.054787</td>\n",
       "            </tr>\n",
       "            <tr>\n",
       "                        <th id=\"T_77eb5_level0_row16\" class=\"row_heading level0 row16\" >management</th>\n",
       "                        <td id=\"T_77eb5_row16_col0\" class=\"data row16 col0\" >0.053332</td>\n",
       "            </tr>\n",
       "            <tr>\n",
       "                        <th id=\"T_77eb5_level0_row17\" class=\"row_heading level0 row17\" >scheme_management</th>\n",
       "                        <td id=\"T_77eb5_row17_col0\" class=\"data row17 col0\" >0.052164</td>\n",
       "            </tr>\n",
       "            <tr>\n",
       "                        <th id=\"T_77eb5_level0_row18\" class=\"row_heading level0 row18\" >construction_year</th>\n",
       "                        <td id=\"T_77eb5_row18_col0\" class=\"data row18 col0\" >0.049394</td>\n",
       "            </tr>\n",
       "            <tr>\n",
       "                        <th id=\"T_77eb5_level0_row19\" class=\"row_heading level0 row19\" >amount_tsh</th>\n",
       "                        <td id=\"T_77eb5_row19_col0\" class=\"data row19 col0\" >0.048569</td>\n",
       "            </tr>\n",
       "            <tr>\n",
       "                        <th id=\"T_77eb5_level0_row20\" class=\"row_heading level0 row20\" >basin</th>\n",
       "                        <td id=\"T_77eb5_row20_col0\" class=\"data row20 col0\" >0.042591</td>\n",
       "            </tr>\n",
       "            <tr>\n",
       "                        <th id=\"T_77eb5_level0_row21\" class=\"row_heading level0 row21\" >installer</th>\n",
       "                        <td id=\"T_77eb5_row21_col0\" class=\"data row21 col0\" >0.037683</td>\n",
       "            </tr>\n",
       "            <tr>\n",
       "                        <th id=\"T_77eb5_level0_row22\" class=\"row_heading level0 row22\" >permit</th>\n",
       "                        <td id=\"T_77eb5_row22_col0\" class=\"data row22 col0\" >0.035829</td>\n",
       "            </tr>\n",
       "            <tr>\n",
       "                        <th id=\"T_77eb5_level0_row23\" class=\"row_heading level0 row23\" >management_group</th>\n",
       "                        <td id=\"T_77eb5_row23_col0\" class=\"data row23 col0\" >0.032861</td>\n",
       "            </tr>\n",
       "            <tr>\n",
       "                        <th id=\"T_77eb5_level0_row24\" class=\"row_heading level0 row24\" >source_class</th>\n",
       "                        <td id=\"T_77eb5_row24_col0\" class=\"data row24 col0\" >0.028209</td>\n",
       "            </tr>\n",
       "            <tr>\n",
       "                        <th id=\"T_77eb5_level0_row25\" class=\"row_heading level0 row25\" >date_recorded</th>\n",
       "                        <td id=\"T_77eb5_row25_col0\" class=\"data row25 col0\" >0.023208</td>\n",
       "            </tr>\n",
       "            <tr>\n",
       "                        <th id=\"T_77eb5_level0_row26\" class=\"row_heading level0 row26\" >wpt_name</th>\n",
       "                        <td id=\"T_77eb5_row26_col0\" class=\"data row26 col0\" >0.022193</td>\n",
       "            </tr>\n",
       "            <tr>\n",
       "                        <th id=\"T_77eb5_level0_row27\" class=\"row_heading level0 row27\" >population</th>\n",
       "                        <td id=\"T_77eb5_row27_col0\" class=\"data row27 col0\" >0.020012</td>\n",
       "            </tr>\n",
       "            <tr>\n",
       "                        <th id=\"T_77eb5_level0_row28\" class=\"row_heading level0 row28\" >latitude</th>\n",
       "                        <td id=\"T_77eb5_row28_col0\" class=\"data row28 col0\" >0.015482</td>\n",
       "            </tr>\n",
       "            <tr>\n",
       "                        <th id=\"T_77eb5_level0_row29\" class=\"row_heading level0 row29\" >ward</th>\n",
       "                        <td id=\"T_77eb5_row29_col0\" class=\"data row29 col0\" >0.013820</td>\n",
       "            </tr>\n",
       "            <tr>\n",
       "                        <th id=\"T_77eb5_level0_row30\" class=\"row_heading level0 row30\" >subvillage</th>\n",
       "                        <td id=\"T_77eb5_row30_col0\" class=\"data row30 col0\" >0.009683</td>\n",
       "            </tr>\n",
       "            <tr>\n",
       "                        <th id=\"T_77eb5_level0_row31\" class=\"row_heading level0 row31\" >water_quality</th>\n",
       "                        <td id=\"T_77eb5_row31_col0\" class=\"data row31 col0\" >0.006217</td>\n",
       "            </tr>\n",
       "            <tr>\n",
       "                        <th id=\"T_77eb5_level0_row32\" class=\"row_heading level0 row32\" >longitude</th>\n",
       "                        <td id=\"T_77eb5_row32_col0\" class=\"data row32 col0\" >0.002061</td>\n",
       "            </tr>\n",
       "    </tbody></table>"
      ],
      "text/plain": [
       "<pandas.io.formats.style.Styler at 0x1b7893b0dc0>"
      ]
     },
     "execution_count": 82,
     "metadata": {},
     "output_type": "execute_result"
    }
   ],
   "source": [
    "# Correlación de los datos escalados por normalización\n",
    "corr = abs(traindf_nr.corr())\n",
    "corr[['status_group']].sort_values(by = 'status_group',ascending = False).style.background_gradient()"
   ]
  },
  {
   "cell_type": "markdown",
   "id": "dramatic-clearing",
   "metadata": {},
   "source": [
    "### Busqueda de Outliers\n",
    " Boxplot(todas las variables)"
   ]
  },
  {
   "cell_type": "code",
   "execution_count": 83,
   "id": "black-northwest",
   "metadata": {},
   "outputs": [
    {
     "name": "stderr",
     "output_type": "stream",
     "text": [
      "<ipython-input-83-8c81c06a3c41>:4: RuntimeWarning: More than 20 figures have been opened. Figures created through the pyplot interface (`matplotlib.pyplot.figure`) are retained until explicitly closed and may consume too much memory. (To control this warning, see the rcParam `figure.max_open_warning`).\n",
      "  plt.figure()\n"
     ]
    },
    {
     "data": {
      "image/png": "[encoded data removed]",
      "text/plain": [
       "<Figure size 432x288 with 1 Axes>"
      ]
     },
     "metadata": {
      "needs_background": "light"
     },
     "output_type": "display_data"
    },
    {
     "data": {
      "image/png": "[encoded data removed]",
      "text/plain": [
       "<Figure size 432x288 with 1 Axes>"
      ]
     },
     "metadata": {
      "needs_background": "light"
     },
     "output_type": "display_data"
    },
    {
     "data": {
      "image/png": "[encoded data removed]",
      "text/plain": [
       "<Figure size 432x288 with 1 Axes>"
      ]
     },
     "metadata": {
      "needs_background": "light"
     },
     "output_type": "display_data"
    },
    {
     "data": {
      "image/png": "[encoded data removed]",
      "text/plain": [
       "<Figure size 432x288 with 1 Axes>"
      ]
     },
     "metadata": {
      "needs_background": "light"
     },
     "output_type": "display_data"
    },
    {
     "data": {
      "image/png": "[encoded data removed]",
      "text/plain": [
       "<Figure size 432x288 with 1 Axes>"
      ]
     },
     "metadata": {
      "needs_background": "light"
     },
     "output_type": "display_data"
    },
    {
     "data": {
      "image/png": "[encoded data removed]",
      "text/plain": [
       "<Figure size 432x288 with 1 Axes>"
      ]
     },
     "metadata": {
      "needs_background": "light"
     },
     "output_type": "display_data"
    },
    {
     "data": {
      "image/png": "[encoded data removed]",
      "text/plain": [
       "<Figure size 432x288 with 1 Axes>"
      ]
     },
     "metadata": {
      "needs_background": "light"
     },
     "output_type": "display_data"
    },
    {
     "data": {
      "image/png": "[encoded data removed]",
      "text/plain": [
       "<Figure size 432x288 with 1 Axes>"
      ]
     },
     "metadata": {
      "needs_background": "light"
     },
     "output_type": "display_data"
    },
    {
     "data": {
      "image/png": "[encoded data removed]",
      "text/plain": [
       "<Figure size 432x288 with 1 Axes>"
      ]
     },
     "metadata": {
      "needs_background": "light"
     },
     "output_type": "display_data"
    },
    {
     "data": {
      "image/png": "[encoded data removed]",
      "text/plain": [
       "<Figure size 432x288 with 1 Axes>"
      ]
     },
     "metadata": {
      "needs_background": "light"
     },
     "output_type": "display_data"
    },
    {
     "data": {
      "image/png": "[encoded data removed]",
      "text/plain": [
       "<Figure size 432x288 with 1 Axes>"
      ]
     },
     "metadata": {
      "needs_background": "light"
     },
     "output_type": "display_data"
    },
    {
     "data": {
      "image/png": "[encoded data removed]",
      "text/plain": [
       "<Figure size 432x288 with 1 Axes>"
      ]
     },
     "metadata": {
      "needs_background": "light"
     },
     "output_type": "display_data"
    },
    {
     "data": {
      "image/png": "[encoded data removed]",
      "text/plain": [
       "<Figure size 432x288 with 1 Axes>"
      ]
     },
     "metadata": {
      "needs_background": "light"
     },
     "output_type": "display_data"
    },
    {
     "data": {
      "image/png": "[encoded data removed]",
      "text/plain": [
       "<Figure size 432x288 with 1 Axes>"
      ]
     },
     "metadata": {
      "needs_background": "light"
     },
     "output_type": "display_data"
    },
    {
     "data": {
      "image/png": "[encoded data removed]",
      "text/plain": [
       "<Figure size 432x288 with 1 Axes>"
      ]
     },
     "metadata": {
      "needs_background": "light"
     },
     "output_type": "display_data"
    },
    {
     "data": {
      "image/png": "[encoded data removed]",
      "text/plain": [
       "<Figure size 432x288 with 1 Axes>"
      ]
     },
     "metadata": {
      "needs_background": "light"
     },
     "output_type": "display_data"
    },
    {
     "data": {
      "image/png": "[encoded data removed]",
      "text/plain": [
       "<Figure size 432x288 with 1 Axes>"
      ]
     },
     "metadata": {
      "needs_background": "light"
     },
     "output_type": "display_data"
    },
    {
     "data": {
      "image/png": "[encoded data removed]",
      "text/plain": [
       "<Figure size 432x288 with 1 Axes>"
      ]
     },
     "metadata": {
      "needs_background": "light"
     },
     "output_type": "display_data"
    },
    {
     "data": {
      "image/png": "[encoded data removed]",
      "text/plain": [
       "<Figure size 432x288 with 1 Axes>"
      ]
     },
     "metadata": {
      "needs_background": "light"
     },
     "output_type": "display_data"
    },
    {
     "data": {
      "image/png": "[encoded data removed]",
      "text/plain": [
       "<Figure size 432x288 with 1 Axes>"
      ]
     },
     "metadata": {
      "needs_background": "light"
     },
     "output_type": "display_data"
    },
    {
     "data": {
      "image/png": "[encoded data removed]",
      "text/plain": [
       "<Figure size 432x288 with 1 Axes>"
      ]
     },
     "metadata": {
      "needs_background": "light"
     },
     "output_type": "display_data"
    },
    {
     "data": {
      "image/png": "[encoded data removed]",
      "text/plain": [
       "<Figure size 432x288 with 1 Axes>"
      ]
     },
     "metadata": {
      "needs_background": "light"
     },
     "output_type": "display_data"
    },
    {
     "data": {
      "image/png": "[encoded data removed]",
      "text/plain": [
       "<Figure size 432x288 with 1 Axes>"
      ]
     },
     "metadata": {
      "needs_background": "light"
     },
     "output_type": "display_data"
    },
    {
     "data": {
      "image/png": "[encoded data removed]",
      "text/plain": [
       "<Figure size 432x288 with 1 Axes>"
      ]
     },
     "metadata": {
      "needs_background": "light"
     },
     "output_type": "display_data"
    },
    {
     "data": {
      "image/png": "[encoded data removed]",
      "text/plain": [
       "<Figure size 432x288 with 1 Axes>"
      ]
     },
     "metadata": {
      "needs_background": "light"
     },
     "output_type": "display_data"
    },
    {
     "data": {
      "image/png": "[encoded data removed]",
      "text/plain": [
       "<Figure size 432x288 with 1 Axes>"
      ]
     },
     "metadata": {
      "needs_background": "light"
     },
     "output_type": "display_data"
    },
    {
     "data": {
      "image/png": "[encoded data removed]",
      "text/plain": [
       "<Figure size 432x288 with 1 Axes>"
      ]
     },
     "metadata": {
      "needs_background": "light"
     },
     "output_type": "display_data"
    },
    {
     "data": {
      "image/png": "[encoded data removed]",
      "text/plain": [
       "<Figure size 432x288 with 1 Axes>"
      ]
     },
     "metadata": {
      "needs_background": "light"
     },
     "output_type": "display_data"
    },
    {
     "data": {
      "image/png": "[encoded data removed]",
      "text/plain": [
       "<Figure size 432x288 with 1 Axes>"
      ]
     },
     "metadata": {
      "needs_background": "light"
     },
     "output_type": "display_data"
    },
    {
     "data": {
      "image/png": "[encoded data removed]",
      "text/plain": [
       "<Figure size 432x288 with 1 Axes>"
      ]
     },
     "metadata": {
      "needs_background": "light"
     },
     "output_type": "display_data"
    },
    {
     "data": {
      "image/png": "[encoded data removed]",
      "text/plain": [
       "<Figure size 432x288 with 1 Axes>"
      ]
     },
     "metadata": {
      "needs_background": "light"
     },
     "output_type": "display_data"
    },
    {
     "data": {
      "image/png": "[encoded data removed]",
      "text/plain": [
       "<Figure size 432x288 with 1 Axes>"
      ]
     },
     "metadata": {
      "needs_background": "light"
     },
     "output_type": "display_data"
    },
    {
     "data": {
      "image/png": "[encoded data removed]",
      "text/plain": [
       "<Figure size 432x288 with 1 Axes>"
      ]
     },
     "metadata": {
      "needs_background": "light"
     },
     "output_type": "display_data"
    }
   ],
   "source": [
    "# Búsqueda de los outliers por variable\n",
    "\n",
    "for column in traindf:\n",
    "    plt.figure()\n",
    "    traindf.boxplot([column])"
   ]
  },
  {
   "cell_type": "markdown",
   "id": "steady-third",
   "metadata": {},
   "source": [
    "### Finalmente guardamos los conjuntos"
   ]
  },
  {
   "cell_type": "code",
   "execution_count": 84,
   "id": "extended-civilian",
   "metadata": {},
   "outputs": [],
   "source": [
    "traindf.to_csv(\"train_p.csv\") # Nuestro conjunto de entrenamiento"
   ]
  },
  {
   "cell_type": "code",
   "execution_count": 85,
   "id": "uniform-venice",
   "metadata": {},
   "outputs": [],
   "source": [
    "testdf.to_csv(\"test_p.csv\") # Conjunto de prueba"
   ]
  },
  {
   "cell_type": "markdown",
   "id": "greenhouse-documentary",
   "metadata": {},
   "source": [
    " ## Técnicas de clasificación"
   ]
  },
  {
   "cell_type": "markdown",
   "id": "complex-shame",
   "metadata": {},
   "source": [
    " ### Árboles de decisión"
   ]
  },
  {
   "cell_type": "code",
   "execution_count": 86,
   "id": "central-canberra",
   "metadata": {},
   "outputs": [],
   "source": [
    "# árboles de decisión\n",
    "modelo1 = DecisionTreeClassifier().fit(X_train, y_train)\n",
    "y_pred= modelo1.predict(X_test)\n",
    "y_pred_test = modelo1.predict(test)"
   ]
  },
  {
   "cell_type": "code",
   "execution_count": 87,
   "id": "floating-language",
   "metadata": {},
   "outputs": [
    {
     "data": {
      "text/plain": [
       "array([2, 0, 0, ..., 0, 0, 2])"
      ]
     },
     "execution_count": 87,
     "metadata": {},
     "output_type": "execute_result"
    }
   ],
   "source": [
    "# Predicción con el conjunto de datos del concurso\n",
    "y_pred_test"
   ]
  },
  {
   "cell_type": "code",
   "execution_count": 88,
   "id": "public-rhythm",
   "metadata": {},
   "outputs": [
    {
     "name": "stdout",
     "output_type": "stream",
     "text": [
      "matriz de confusión:\n",
      "[[7507  673 1498]\n",
      " [ 556  474  265]\n",
      " [1440  252 5155]]\n",
      "precision:\n",
      "0.7371492704826038\n",
      "accuracy:\n",
      "0.7371492704826038\n",
      "recall\n",
      "0.7371492704826038\n",
      "f1\n",
      "0.7371492704826038\n"
     ]
    }
   ],
   "source": [
    "# Métricas\n",
    "print('matriz de confusión:')\n",
    "print(confusion_matrix(y_test, y_pred))\n",
    "print('precision:')\n",
    "print(precision_score(y_test, y_pred, average = \"micro\"))\n",
    "print('accuracy:')\n",
    "print(accuracy_score(y_test, y_pred))\n",
    "print('recall')\n",
    "print(recall_score(y_test, y_pred, average = \"micro\"))\n",
    "print('f1')\n",
    "print(f1_score(y_test, y_pred, average = \"micro\"))"
   ]
  },
  {
   "cell_type": "markdown",
   "id": "stable-insight",
   "metadata": {},
   "source": [
    "### Random Forest"
   ]
  },
  {
   "cell_type": "code",
   "execution_count": 89,
   "id": "difficult-insertion",
   "metadata": {},
   "outputs": [],
   "source": [
    "modelo2 = RandomForestClassifier(n_estimators = 100, random_state = 42).fit(X_train, y_train.values.ravel())\n",
    "# predicciones\n",
    "y_pred = modelo2.predict(X_test)\n",
    "y_pred_test = modelo2.predict(test)"
   ]
  },
  {
   "cell_type": "code",
   "execution_count": null,
   "id": "celtic-bullet",
   "metadata": {},
   "outputs": [],
   "source": []
  },
  {
   "cell_type": "code",
   "execution_count": 90,
   "id": "white-mainstream",
   "metadata": {},
   "outputs": [],
   "source": [
    "# validación cruzada repetida\n",
    "resultados = cross_val_score(estimator=modelo2, X=X_train, y=y_train.values.ravel(), cv=5)"
   ]
  },
  {
   "cell_type": "code",
   "execution_count": 91,
   "id": "activated-forth",
   "metadata": {},
   "outputs": [
    {
     "data": {
      "text/plain": [
       "array([0.80074555, 0.79930255, 0.80387205, 0.8044733 , 0.80459355])"
      ]
     },
     "execution_count": 91,
     "metadata": {},
     "output_type": "execute_result"
    }
   ],
   "source": [
    "resultados"
   ]
  },
  {
   "cell_type": "code",
   "execution_count": 92,
   "id": "eligible-fight",
   "metadata": {},
   "outputs": [
    {
     "name": "stdout",
     "output_type": "stream",
     "text": [
      "0.8025974025974026\n"
     ]
    }
   ],
   "source": [
    "print(resultados.mean())"
   ]
  },
  {
   "cell_type": "code",
   "execution_count": 93,
   "id": "generous-subdivision",
   "metadata": {},
   "outputs": [
    {
     "name": "stdout",
     "output_type": "stream",
     "text": [
      "0.0021639676535261192\n"
     ]
    }
   ],
   "source": [
    "# Varianza muy baja, el resultado de la predicción no es casual, hemos entrenado al modelo 5 veces\n",
    "print(resultados.std())"
   ]
  },
  {
   "cell_type": "code",
   "execution_count": 94,
   "id": "approved-alignment",
   "metadata": {},
   "outputs": [
    {
     "name": "stdout",
     "output_type": "stream",
     "text": [
      "[0 1 2 ... 0 2 2]\n"
     ]
    }
   ],
   "source": [
    "print(y_pred)"
   ]
  },
  {
   "cell_type": "code",
   "execution_count": 95,
   "id": "textile-understanding",
   "metadata": {},
   "outputs": [
    {
     "data": {
      "text/plain": [
       "array([2, 0, 0, ..., 0, 0, 2])"
      ]
     },
     "execution_count": 95,
     "metadata": {},
     "output_type": "execute_result"
    }
   ],
   "source": [
    "# Predicción con el conjunto de datos del concurso\n",
    "y_pred_test"
   ]
  },
  {
   "cell_type": "markdown",
   "id": "associate-arrangement",
   "metadata": {},
   "source": [
    "Nos vamos a quedar con las predicciones \"y_pred_test\" utilizando el \"modelo2\". Lo que vamos a a hacer a continuación es constuír el nuevo df con las predicciones de nuestro modelo y cada predicción con su id."
   ]
  },
  {
   "cell_type": "code",
   "execution_count": 96,
   "id": "related-carroll",
   "metadata": {},
   "outputs": [],
   "source": [
    "# Guardamos los id de nuestro dataset test en una variable\n",
    "indices = test.index"
   ]
  },
  {
   "cell_type": "code",
   "execution_count": 97,
   "id": "present-turner",
   "metadata": {},
   "outputs": [],
   "source": [
    "# Creamos el df con una columna que contendrá las predicciones contenidad por \"y_pred_test\"\n",
    "df_final = pd.DataFrame(y_pred_test)\n",
    "# Reenombramos la columna\n",
    "df_final = df_final.rename(columns = {0: \"status_group\"})"
   ]
  },
  {
   "cell_type": "code",
   "execution_count": 98,
   "id": "respected-avenue",
   "metadata": {},
   "outputs": [],
   "source": [
    "# Quitamos ya el labelencoder, sustituímos ya los valores enteros por sus correspondientes estados de \"status_group\"\n",
    "df_final.status_group = df_final.status_group.replace({ 0 : \"functional\", 2: \"non functional\", 1 : \"functional needs repair\"})"
   ]
  },
  {
   "cell_type": "code",
   "execution_count": 99,
   "id": "distinguished-romania",
   "metadata": {},
   "outputs": [],
   "source": [
    "# metemos una nueva columna con los \"id\"\n",
    "df_final[\"id\"] = indices\n",
    "# fijamos como índice los \"id\"\n",
    "df_final = df_final.set_index(\"id\")"
   ]
  },
  {
   "cell_type": "code",
   "execution_count": 100,
   "id": "pressed-fault",
   "metadata": {},
   "outputs": [
    {
     "data": {
      "text/html": [
       "<div>\n",
       "<style scoped>\n",
       "    .dataframe tbody tr th:only-of-type {\n",
       "        vertical-align: middle;\n",
       "    }\n",
       "\n",
       "    .dataframe tbody tr th {\n",
       "        vertical-align: top;\n",
       "    }\n",
       "\n",
       "    .dataframe thead th {\n",
       "        text-align: right;\n",
       "    }\n",
       "</style>\n",
       "<table border=\"1\" class=\"dataframe\">\n",
       "  <thead>\n",
       "    <tr style=\"text-align: right;\">\n",
       "      <th></th>\n",
       "      <th>status_group</th>\n",
       "    </tr>\n",
       "    <tr>\n",
       "      <th>id</th>\n",
       "      <th></th>\n",
       "    </tr>\n",
       "  </thead>\n",
       "  <tbody>\n",
       "    <tr>\n",
       "      <th>50785</th>\n",
       "      <td>non functional</td>\n",
       "    </tr>\n",
       "    <tr>\n",
       "      <th>51630</th>\n",
       "      <td>functional</td>\n",
       "    </tr>\n",
       "    <tr>\n",
       "      <th>17168</th>\n",
       "      <td>functional</td>\n",
       "    </tr>\n",
       "    <tr>\n",
       "      <th>45559</th>\n",
       "      <td>non functional</td>\n",
       "    </tr>\n",
       "    <tr>\n",
       "      <th>49871</th>\n",
       "      <td>functional</td>\n",
       "    </tr>\n",
       "    <tr>\n",
       "      <th>...</th>\n",
       "      <td>...</td>\n",
       "    </tr>\n",
       "    <tr>\n",
       "      <th>39307</th>\n",
       "      <td>non functional</td>\n",
       "    </tr>\n",
       "    <tr>\n",
       "      <th>18990</th>\n",
       "      <td>functional</td>\n",
       "    </tr>\n",
       "    <tr>\n",
       "      <th>28749</th>\n",
       "      <td>functional</td>\n",
       "    </tr>\n",
       "    <tr>\n",
       "      <th>33492</th>\n",
       "      <td>functional</td>\n",
       "    </tr>\n",
       "    <tr>\n",
       "      <th>68707</th>\n",
       "      <td>non functional</td>\n",
       "    </tr>\n",
       "  </tbody>\n",
       "</table>\n",
       "<p>14850 rows × 1 columns</p>\n",
       "</div>"
      ],
      "text/plain": [
       "         status_group\n",
       "id                   \n",
       "50785  non functional\n",
       "51630      functional\n",
       "17168      functional\n",
       "45559  non functional\n",
       "49871      functional\n",
       "...               ...\n",
       "39307  non functional\n",
       "18990      functional\n",
       "28749      functional\n",
       "33492      functional\n",
       "68707  non functional\n",
       "\n",
       "[14850 rows x 1 columns]"
      ]
     },
     "execution_count": 100,
     "metadata": {},
     "output_type": "execute_result"
    }
   ],
   "source": [
    "# Comprobamos el resultado final\n",
    "df_final"
   ]
  },
  {
   "cell_type": "code",
   "execution_count": 101,
   "id": "threatened-walter",
   "metadata": {},
   "outputs": [],
   "source": [
    "# Guaradmos el df final con las predicciones\n",
    "df_final.to_csv(\"ModeloRF.csv\")"
   ]
  },
  {
   "cell_type": "code",
   "execution_count": 189,
   "id": "interim-absolute",
   "metadata": {},
   "outputs": [
    {
     "name": "stdout",
     "output_type": "stream",
     "text": [
      "matriz de confusión:\n",
      "[[8649  236  793]\n",
      " [ 671  424  200]\n",
      " [1414   85 5348]]\n",
      "precision:\n",
      "0.8092592592592592\n",
      "accuracy:\n",
      "0.8092592592592592\n",
      "recall\n",
      "0.8092592592592592\n",
      "f1\n",
      "0.8092592592592593\n"
     ]
    }
   ],
   "source": [
    "# Métricas\n",
    "print('matriz de confusión:')\n",
    "print(confusion_matrix(y_test, y_pred))\n",
    "print('precision:')\n",
    "print(precision_score(y_test, y_pred, average = \"micro\"))\n",
    "print('accuracy:')\n",
    "print(accuracy_score(y_test, y_pred))\n",
    "print('recall')\n",
    "print(recall_score(y_test, y_pred, average = \"micro\"))\n",
    "print('f1')\n",
    "print(f1_score(y_test, y_pred, average = \"micro\"))"
   ]
  },
  {
   "cell_type": "code",
   "execution_count": 190,
   "id": "statewide-partnership",
   "metadata": {},
   "outputs": [],
   "source": [
    "y_train_bin = label_binarize(y_train, classes=[0,1,2])\n",
    "y_test_bin = label_binarize(y_test, classes=[0,1,2])"
   ]
  },
  {
   "cell_type": "markdown",
   "id": "intellectual-identifier",
   "metadata": {},
   "source": [
    "## Ensemble models"
   ]
  },
  {
   "cell_type": "markdown",
   "id": "moderate-horizontal",
   "metadata": {},
   "source": [
    "### Boosting"
   ]
  },
  {
   "cell_type": "code",
   "execution_count": 223,
   "id": "given-tobago",
   "metadata": {},
   "outputs": [
    {
     "name": "stdout",
     "output_type": "stream",
     "text": [
      "Wall time: 0 ns\n",
      "[16:25:28] WARNING: C:/Users/Administrator/workspace/xgboost-win64_release_1.3.0/src/learner.cc:1061: Starting in XGBoost 1.3.0, the default evaluation metric used with the objective 'multi:softprob' was changed from 'merror' to 'mlogloss'. Explicitly set eval_metric if you'd like to restore the old behavior.\n"
     ]
    }
   ],
   "source": [
    "%time\n",
    "modelo3 = XGBClassifier(use_label_encoder = False) # hiperparámetro use_label_encoder para solucionar problema con labels\n",
    "modelo3.fit(X_train, y_train)\n",
    "#Predicciones\n",
    "y_pred = modelo3.predict(X_test)\n",
    "y_pred_test = modelo3.predict(test)"
   ]
  },
  {
   "cell_type": "code",
   "execution_count": 192,
   "id": "answering-scout",
   "metadata": {},
   "outputs": [
    {
     "data": {
      "text/plain": [
       "array([0, 1, 2, ..., 0, 2, 2], dtype=int64)"
      ]
     },
     "execution_count": 192,
     "metadata": {},
     "output_type": "execute_result"
    }
   ],
   "source": [
    "y_pred"
   ]
  },
  {
   "cell_type": "code",
   "execution_count": 224,
   "id": "physical-hospital",
   "metadata": {},
   "outputs": [
    {
     "data": {
      "text/plain": [
       "array([0, 2, 0, ..., 0, 0, 2], dtype=int64)"
      ]
     },
     "execution_count": 224,
     "metadata": {},
     "output_type": "execute_result"
    }
   ],
   "source": [
    "# Predicción con el conjunto de datos del concurso\n",
    "y_pred_test"
   ]
  },
  {
   "cell_type": "code",
   "execution_count": 193,
   "id": "automotive-badge",
   "metadata": {},
   "outputs": [
    {
     "name": "stdout",
     "output_type": "stream",
     "text": [
      "matriz de confusión:\n",
      "[[8824  139  715]\n",
      " [ 763  334  198]\n",
      " [1698   64 5085]]\n",
      "precision:\n",
      "0.799270482603816\n",
      "accuracy:\n",
      "0.799270482603816\n",
      "recall\n",
      "0.799270482603816\n",
      "f1\n",
      "0.7992704826038158\n"
     ]
    }
   ],
   "source": [
    "# Métricas\n",
    "print('matriz de confusión:')\n",
    "print(confusion_matrix(y_test, y_pred))\n",
    "print('precision:')\n",
    "print(precision_score(y_test, y_pred, average = \"micro\"))\n",
    "print('accuracy:')\n",
    "print(accuracy_score(y_test, y_pred))\n",
    "print('recall')\n",
    "print(recall_score(y_test, y_pred, average = \"micro\"))\n",
    "print('f1')\n",
    "print(f1_score(y_test, y_pred, average = \"micro\"))"
   ]
  },
  {
   "cell_type": "markdown",
   "id": "handmade-miracle",
   "metadata": {},
   "source": [
    "### Bagging"
   ]
  },
  {
   "cell_type": "markdown",
   "id": "existing-progressive",
   "metadata": {},
   "source": [
    " #Para solucionar problemas con el y_train:\n",
    " \n",
    ".values nos dará los valores en array. (shape: (n,1)\n",
    "\n",
    ".ravel convertirá la dimensión de ese array a (n, )"
   ]
  },
  {
   "cell_type": "code",
   "execution_count": 213,
   "id": "missing-trick",
   "metadata": {},
   "outputs": [],
   "source": [
    "modelo4 = RandomForestClassifier(max_depth=2, random_state=42)\n",
    "modelo4.fit(X_train, y_train.values.ravel()) #y_train tiene que ser un array 1d, convertivos de vector a array\n",
    "# Predicciones\n",
    "y_pred = modelo4.predict(X_test)\n",
    "y_pred_test = modelo4.predict(test)"
   ]
  },
  {
   "cell_type": "code",
   "execution_count": 214,
   "id": "conservative-fleet",
   "metadata": {},
   "outputs": [
    {
     "data": {
      "text/plain": [
       "array([0, 0, 2, ..., 0, 2, 2])"
      ]
     },
     "execution_count": 214,
     "metadata": {},
     "output_type": "execute_result"
    }
   ],
   "source": [
    "# Predicción\n",
    "y_pred"
   ]
  },
  {
   "cell_type": "code",
   "execution_count": 215,
   "id": "charming-visitor",
   "metadata": {},
   "outputs": [
    {
     "data": {
      "text/plain": [
       "array([2, 0, 2, ..., 0, 0, 2])"
      ]
     },
     "execution_count": 215,
     "metadata": {},
     "output_type": "execute_result"
    }
   ],
   "source": [
    "# Predicción con el conjunto de datos del concurso\n",
    "y_pred_test"
   ]
  },
  {
   "cell_type": "code",
   "execution_count": 196,
   "id": "closed-cache",
   "metadata": {},
   "outputs": [
    {
     "name": "stdout",
     "output_type": "stream",
     "text": [
      "matriz de confusión:\n",
      "[[9396    0  282]\n",
      " [1224    0   71]\n",
      " [3958    0 2889]]\n",
      "precision:\n",
      "0.6893939393939394\n",
      "accuracy:\n",
      "0.6893939393939394\n",
      "recall\n",
      "0.6893939393939394\n",
      "f1\n",
      "0.6893939393939394\n"
     ]
    }
   ],
   "source": [
    "# Métricas\n",
    "print('matriz de confusión:')\n",
    "print(confusion_matrix(y_test, y_pred))\n",
    "print('precision:')\n",
    "print(precision_score(y_test, y_pred, average = \"micro\"))\n",
    "print('accuracy:')\n",
    "print(accuracy_score(y_test, y_pred))\n",
    "print('recall')\n",
    "print(recall_score(y_test, y_pred, average = \"micro\"))\n",
    "print('f1')\n",
    "print(f1_score(y_test, y_pred, average = \"micro\"))"
   ]
  }
 ],
 "metadata": {
  "kernelspec": {
   "display_name": "Python 3",
   "language": "python",
   "name": "python3"
  },
  "language_info": {
   "codemirror_mode": {
    "name": "ipython",
    "version": 3
   },
   "file_extension": ".py",
   "mimetype": "text/x-python",
   "name": "python",
   "nbconvert_exporter": "python",
   "pygments_lexer": "ipython3",
   "version": "3.8.3"
  }
 },
 "nbformat": 4,
 "nbformat_minor": 5
}

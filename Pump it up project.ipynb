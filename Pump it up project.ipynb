{
 "cells": [
  {
   "cell_type": "markdown",
   "id": "arranged-liechtenstein",
   "metadata": {},
   "source": [
    "# Machine Learning\n",
    "\n",
    "#### Pump it Up: Data Mining the Water Table\n",
    "\n",
    "#### Author: Bruno C. Mora Hernández\n",
    "#### 08/04/2021"
   ]
  },
  {
   "cell_type": "markdown",
   "id": "appreciated-momentum",
   "metadata": {},
   "source": [
    "Can you predict which water pumps are faulty?\n",
    "\n",
    "Using data from Taarifa and the Tanzanian Ministry of Water, can you predict which pumps are functional, which need some repairs, and which don't work at all? This is an intermediate-level practice competition. Predict one of these three classes based on a number of variables about what kind of pump is operating, when it was installed, and how it is managed. A smart understanding of which waterpoints will fail can improve maintenance operations and ensure that clean, potable water is available to communities across Tanzania."
   ]
  },
  {
   "cell_type": "markdown",
   "id": "russian-blake",
   "metadata": {},
   "source": [
    "* Data available to download in : "
   ]
  },
  {
   "cell_type": "markdown",
   "id": "functional-theater",
   "metadata": {},
   "source": [
    "[Driven data: Pump it Up](https://www.drivendata.org/competitions/7/pump-it-up-data-mining-the-water-table/) or in https://www.drivendata.org/competitions/7/pump-it-up-data-mining-the-water-table/"
   ]
  },
  {
   "cell_type": "markdown",
   "id": "adequate-image",
   "metadata": {},
   "source": [
    "* Features or variables descriptions:"
   ]
  },
  {
   "cell_type": "raw",
   "id": "abroad-robertson",
   "metadata": {},
   "source": [
    "amount_tsh - Total static head (amount water available to waterpoint)\n",
    "date_recorded - The date the row was entered\n",
    "funder - Who funded the well\n",
    "gps_height - Altitude of the well\n",
    "installer - Organization that installed the well\n",
    "longitude - GPS coordinate\n",
    "latitude - GPS coordinate\n",
    "wpt_name - Name of the waterpoint if there is one\n",
    "num_private -\n",
    "basin - Geographic water basin\n",
    "subvillage - Geographic location\n",
    "region - Geographic location\n",
    "region_code - Geographic location (coded)\n",
    "district_code - Geographic location (coded)\n",
    "lga - Geographic location\n",
    "ward - Geographic location\n",
    "population - Population around the well\n",
    "public_meeting - True/False\n",
    "recorded_by - Group entering this row of data\n",
    "scheme_management - Who operates the waterpoint\n",
    "scheme_name - Who operates the waterpoint\n",
    "permit - If the waterpoint is permitted\n",
    "construction_year - Year the waterpoint was constructed\n",
    "extraction_type - The kind of extraction the waterpoint uses\n",
    "extraction_type_group - The kind of extraction the waterpoint uses\n",
    "extraction_type_class - The kind of extraction the waterpoint uses\n",
    "management - How the waterpoint is managed\n",
    "management_group - How the waterpoint is managed\n",
    "payment - What the water costs\n",
    "payment_type - What the water costs\n",
    "water_quality - The quality of the water\n",
    "quality_group - The quality of the water\n",
    "quantity - The quantity of water\n",
    "quantity_group - The quantity of water\n",
    "source - The source of the water\n",
    "source_type - The source of the water\n",
    "source_class - The source of the water\n",
    "waterpoint_type - The kind of waterpoint\n",
    "waterpoint_type_group - The kind of waterpoint"
   ]
  },
  {
   "cell_type": "markdown",
   "id": "alpha-passing",
   "metadata": {},
   "source": [
    "### Loading libraries and data"
   ]
  },
  {
   "cell_type": "code",
   "execution_count": 4,
   "id": "elder-arnold",
   "metadata": {},
   "outputs": [],
   "source": [
    "# Libraries loading\n",
    "\n",
    "#!pip install xgboost (xgboost technique, execute this command in the anaconda Prompt to install)\n",
    "import pandas as pd \n",
    "import seaborn as sns\n",
    "import matplotlib.pyplot  as plt\n",
    "from scipy import stats\n",
    "import numpy as np\n",
    "from sklearn.model_selection import train_test_split\n",
    "import numpy as np\n",
    "from sklearn.preprocessing import LabelEncoder, OneHotEncoder\n",
    "from numpy import nan as NA\n",
    "import re\n",
    "import datetime\n",
    "from sklearn.preprocessing import StandardScaler\n",
    "from sklearn.linear_model import LinearRegression\n",
    "from sklearn.linear_model import LogisticRegression\n",
    "from sklearn.tree import DecisionTreeClassifier\n",
    "from sklearn.ensemble import RandomForestClassifier\n",
    "from sklearn.svm import SVC\n",
    "from sklearn.model_selection import cross_val_score\n",
    "from sklearn.metrics import accuracy_score, auc, confusion_matrix, f1_score, precision_score, recall_score, roc_curve\n",
    "from xgboost import XGBRegressor\n",
    "from xgboost import XGBClassifier\n",
    "from sklearn.preprocessing import label_binarize\n",
    "from sklearn.impute import KNNImputer\n",
    "import pickle"
   ]
  },
  {
   "cell_type": "code",
   "execution_count": 8,
   "id": "visible-cocktail",
   "metadata": {},
   "outputs": [],
   "source": [
    "# We read the data  \n",
    "train = pd.read_csv(\"Training.csv\")\n",
    "test = pd.read_csv(\"Test.csv\")"
   ]
  },
  {
   "cell_type": "markdown",
   "id": "aquatic-buyer",
   "metadata": {},
   "source": [
    "The problem that we are facing is to predict the labels of the the pump, we need to train a model which should be able to predict the status of the water pumps. As you might be thinking, yes, this is a classification problem. With our model we classificate the data into class labels (three in this particular case), we can do this training a model with the data that driven-data offers us and testing the prediction capacity of our model introducing new data and comparing the results uploading our predictions to the website or just with the percentage of accuracy that our model drops out.\n",
    "\n",
    "\n",
    "* Information about the data:\n",
    "\n",
    "  SubmissionFormat.csv - The format for submitting your predictions\n",
    "\n",
    "  Test.csv - The independent variables that need predictions\n",
    "\n",
    "  Training_labels.csv - The dependent variable (status_group) for each of the rows in Training set values\n",
    "\n",
    "  Training.csv - The independent variables for the training set\n",
    " \n",
    "The Strategy I followed is to applicate the same preprocessing to both \"train\" and \"test\" datasets, we count with the labels for the training set, so the strategy is to use the \"Training.csv\" file to train our model and then testing the model prediction accuracy with the \"Test.csv\". Since we count with the labels we conclude that this is a \"supervised learning\" and that we can apply a classification model."
   ]
  },
  {
   "cell_type": "markdown",
   "id": "popular-tours",
   "metadata": {},
   "source": [
    "### Preprocessing"
   ]
  },
  {
   "cell_type": "code",
   "execution_count": 9,
   "id": "bibliographic-daughter",
   "metadata": {},
   "outputs": [
    {
     "data": {
      "text/html": [
       "<div>\n",
       "<style scoped>\n",
       "    .dataframe tbody tr th:only-of-type {\n",
       "        vertical-align: middle;\n",
       "    }\n",
       "\n",
       "    .dataframe tbody tr th {\n",
       "        vertical-align: top;\n",
       "    }\n",
       "\n",
       "    .dataframe thead th {\n",
       "        text-align: right;\n",
       "    }\n",
       "</style>\n",
       "<table border=\"1\" class=\"dataframe\">\n",
       "  <thead>\n",
       "    <tr style=\"text-align: right;\">\n",
       "      <th></th>\n",
       "      <th>id</th>\n",
       "      <th>amount_tsh</th>\n",
       "      <th>date_recorded</th>\n",
       "      <th>funder</th>\n",
       "      <th>gps_height</th>\n",
       "      <th>installer</th>\n",
       "      <th>longitude</th>\n",
       "      <th>latitude</th>\n",
       "      <th>wpt_name</th>\n",
       "      <th>num_private</th>\n",
       "      <th>...</th>\n",
       "      <th>payment_type</th>\n",
       "      <th>water_quality</th>\n",
       "      <th>quality_group</th>\n",
       "      <th>quantity</th>\n",
       "      <th>quantity_group</th>\n",
       "      <th>source</th>\n",
       "      <th>source_type</th>\n",
       "      <th>source_class</th>\n",
       "      <th>waterpoint_type</th>\n",
       "      <th>waterpoint_type_group</th>\n",
       "    </tr>\n",
       "  </thead>\n",
       "  <tbody>\n",
       "    <tr>\n",
       "      <th>0</th>\n",
       "      <td>50785</td>\n",
       "      <td>0.0</td>\n",
       "      <td>2013-02-04</td>\n",
       "      <td>Dmdd</td>\n",
       "      <td>1996</td>\n",
       "      <td>DMDD</td>\n",
       "      <td>35.290799</td>\n",
       "      <td>-4.059696</td>\n",
       "      <td>Dinamu Secondary School</td>\n",
       "      <td>0</td>\n",
       "      <td>...</td>\n",
       "      <td>never pay</td>\n",
       "      <td>soft</td>\n",
       "      <td>good</td>\n",
       "      <td>seasonal</td>\n",
       "      <td>seasonal</td>\n",
       "      <td>rainwater harvesting</td>\n",
       "      <td>rainwater harvesting</td>\n",
       "      <td>surface</td>\n",
       "      <td>other</td>\n",
       "      <td>other</td>\n",
       "    </tr>\n",
       "    <tr>\n",
       "      <th>1</th>\n",
       "      <td>51630</td>\n",
       "      <td>0.0</td>\n",
       "      <td>2013-02-04</td>\n",
       "      <td>Government Of Tanzania</td>\n",
       "      <td>1569</td>\n",
       "      <td>DWE</td>\n",
       "      <td>36.656709</td>\n",
       "      <td>-3.309214</td>\n",
       "      <td>Kimnyak</td>\n",
       "      <td>0</td>\n",
       "      <td>...</td>\n",
       "      <td>never pay</td>\n",
       "      <td>soft</td>\n",
       "      <td>good</td>\n",
       "      <td>insufficient</td>\n",
       "      <td>insufficient</td>\n",
       "      <td>spring</td>\n",
       "      <td>spring</td>\n",
       "      <td>groundwater</td>\n",
       "      <td>communal standpipe</td>\n",
       "      <td>communal standpipe</td>\n",
       "    </tr>\n",
       "    <tr>\n",
       "      <th>2</th>\n",
       "      <td>17168</td>\n",
       "      <td>0.0</td>\n",
       "      <td>2013-02-01</td>\n",
       "      <td>NaN</td>\n",
       "      <td>1567</td>\n",
       "      <td>NaN</td>\n",
       "      <td>34.767863</td>\n",
       "      <td>-5.004344</td>\n",
       "      <td>Puma Secondary</td>\n",
       "      <td>0</td>\n",
       "      <td>...</td>\n",
       "      <td>never pay</td>\n",
       "      <td>soft</td>\n",
       "      <td>good</td>\n",
       "      <td>insufficient</td>\n",
       "      <td>insufficient</td>\n",
       "      <td>rainwater harvesting</td>\n",
       "      <td>rainwater harvesting</td>\n",
       "      <td>surface</td>\n",
       "      <td>other</td>\n",
       "      <td>other</td>\n",
       "    </tr>\n",
       "    <tr>\n",
       "      <th>3</th>\n",
       "      <td>45559</td>\n",
       "      <td>0.0</td>\n",
       "      <td>2013-01-22</td>\n",
       "      <td>Finn Water</td>\n",
       "      <td>267</td>\n",
       "      <td>FINN WATER</td>\n",
       "      <td>38.058046</td>\n",
       "      <td>-9.418672</td>\n",
       "      <td>Kwa Mzee Pange</td>\n",
       "      <td>0</td>\n",
       "      <td>...</td>\n",
       "      <td>unknown</td>\n",
       "      <td>soft</td>\n",
       "      <td>good</td>\n",
       "      <td>dry</td>\n",
       "      <td>dry</td>\n",
       "      <td>shallow well</td>\n",
       "      <td>shallow well</td>\n",
       "      <td>groundwater</td>\n",
       "      <td>other</td>\n",
       "      <td>other</td>\n",
       "    </tr>\n",
       "    <tr>\n",
       "      <th>4</th>\n",
       "      <td>49871</td>\n",
       "      <td>500.0</td>\n",
       "      <td>2013-03-27</td>\n",
       "      <td>Bruder</td>\n",
       "      <td>1260</td>\n",
       "      <td>BRUDER</td>\n",
       "      <td>35.006123</td>\n",
       "      <td>-10.950412</td>\n",
       "      <td>Kwa Mzee Turuka</td>\n",
       "      <td>0</td>\n",
       "      <td>...</td>\n",
       "      <td>monthly</td>\n",
       "      <td>soft</td>\n",
       "      <td>good</td>\n",
       "      <td>enough</td>\n",
       "      <td>enough</td>\n",
       "      <td>spring</td>\n",
       "      <td>spring</td>\n",
       "      <td>groundwater</td>\n",
       "      <td>communal standpipe</td>\n",
       "      <td>communal standpipe</td>\n",
       "    </tr>\n",
       "  </tbody>\n",
       "</table>\n",
       "<p>5 rows × 40 columns</p>\n",
       "</div>"
      ],
      "text/plain": [
       "      id  amount_tsh date_recorded                  funder  gps_height  \\\n",
       "0  50785         0.0    2013-02-04                    Dmdd        1996   \n",
       "1  51630         0.0    2013-02-04  Government Of Tanzania        1569   \n",
       "2  17168         0.0    2013-02-01                     NaN        1567   \n",
       "3  45559         0.0    2013-01-22              Finn Water         267   \n",
       "4  49871       500.0    2013-03-27                  Bruder        1260   \n",
       "\n",
       "    installer  longitude   latitude                 wpt_name  num_private  \\\n",
       "0        DMDD  35.290799  -4.059696  Dinamu Secondary School            0   \n",
       "1         DWE  36.656709  -3.309214                  Kimnyak            0   \n",
       "2         NaN  34.767863  -5.004344           Puma Secondary            0   \n",
       "3  FINN WATER  38.058046  -9.418672           Kwa Mzee Pange            0   \n",
       "4      BRUDER  35.006123 -10.950412          Kwa Mzee Turuka            0   \n",
       "\n",
       "   ... payment_type water_quality quality_group      quantity  quantity_group  \\\n",
       "0  ...    never pay          soft          good      seasonal        seasonal   \n",
       "1  ...    never pay          soft          good  insufficient    insufficient   \n",
       "2  ...    never pay          soft          good  insufficient    insufficient   \n",
       "3  ...      unknown          soft          good           dry             dry   \n",
       "4  ...      monthly          soft          good        enough          enough   \n",
       "\n",
       "                 source           source_type  source_class  \\\n",
       "0  rainwater harvesting  rainwater harvesting       surface   \n",
       "1                spring                spring   groundwater   \n",
       "2  rainwater harvesting  rainwater harvesting       surface   \n",
       "3          shallow well          shallow well   groundwater   \n",
       "4                spring                spring   groundwater   \n",
       "\n",
       "      waterpoint_type waterpoint_type_group  \n",
       "0               other                 other  \n",
       "1  communal standpipe    communal standpipe  \n",
       "2               other                 other  \n",
       "3               other                 other  \n",
       "4  communal standpipe    communal standpipe  \n",
       "\n",
       "[5 rows x 40 columns]"
      ]
     },
     "execution_count": 9,
     "metadata": {},
     "output_type": "execute_result"
    }
   ],
   "source": [
    "# Reading the test file\n",
    "test.head()"
   ]
  },
  {
   "cell_type": "code",
   "execution_count": 4,
   "id": "synthetic-shopping",
   "metadata": {},
   "outputs": [
    {
     "data": {
      "text/plain": [
       "(14850, 40)"
      ]
     },
     "execution_count": 4,
     "metadata": {},
     "output_type": "execute_result"
    }
   ],
   "source": [
    "# Dimensions of test file\n",
    "test.shape"
   ]
  },
  {
   "cell_type": "code",
   "execution_count": 5,
   "id": "declared-coating",
   "metadata": {},
   "outputs": [
    {
     "data": {
      "text/html": [
       "<div>\n",
       "<style scoped>\n",
       "    .dataframe tbody tr th:only-of-type {\n",
       "        vertical-align: middle;\n",
       "    }\n",
       "\n",
       "    .dataframe tbody tr th {\n",
       "        vertical-align: top;\n",
       "    }\n",
       "\n",
       "    .dataframe thead th {\n",
       "        text-align: right;\n",
       "    }\n",
       "</style>\n",
       "<table border=\"1\" class=\"dataframe\">\n",
       "  <thead>\n",
       "    <tr style=\"text-align: right;\">\n",
       "      <th></th>\n",
       "      <th>id</th>\n",
       "      <th>amount_tsh</th>\n",
       "      <th>date_recorded</th>\n",
       "      <th>funder</th>\n",
       "      <th>gps_height</th>\n",
       "      <th>installer</th>\n",
       "      <th>longitude</th>\n",
       "      <th>latitude</th>\n",
       "      <th>wpt_name</th>\n",
       "      <th>num_private</th>\n",
       "      <th>...</th>\n",
       "      <th>payment_type</th>\n",
       "      <th>water_quality</th>\n",
       "      <th>quality_group</th>\n",
       "      <th>quantity</th>\n",
       "      <th>quantity_group</th>\n",
       "      <th>source</th>\n",
       "      <th>source_type</th>\n",
       "      <th>source_class</th>\n",
       "      <th>waterpoint_type</th>\n",
       "      <th>waterpoint_type_group</th>\n",
       "    </tr>\n",
       "  </thead>\n",
       "  <tbody>\n",
       "    <tr>\n",
       "      <th>0</th>\n",
       "      <td>69572</td>\n",
       "      <td>6000.0</td>\n",
       "      <td>2011-03-14</td>\n",
       "      <td>Roman</td>\n",
       "      <td>1390</td>\n",
       "      <td>Roman</td>\n",
       "      <td>34.938093</td>\n",
       "      <td>-9.856322</td>\n",
       "      <td>none</td>\n",
       "      <td>0</td>\n",
       "      <td>...</td>\n",
       "      <td>annually</td>\n",
       "      <td>soft</td>\n",
       "      <td>good</td>\n",
       "      <td>enough</td>\n",
       "      <td>enough</td>\n",
       "      <td>spring</td>\n",
       "      <td>spring</td>\n",
       "      <td>groundwater</td>\n",
       "      <td>communal standpipe</td>\n",
       "      <td>communal standpipe</td>\n",
       "    </tr>\n",
       "    <tr>\n",
       "      <th>1</th>\n",
       "      <td>8776</td>\n",
       "      <td>0.0</td>\n",
       "      <td>2013-03-06</td>\n",
       "      <td>Grumeti</td>\n",
       "      <td>1399</td>\n",
       "      <td>GRUMETI</td>\n",
       "      <td>34.698766</td>\n",
       "      <td>-2.147466</td>\n",
       "      <td>Zahanati</td>\n",
       "      <td>0</td>\n",
       "      <td>...</td>\n",
       "      <td>never pay</td>\n",
       "      <td>soft</td>\n",
       "      <td>good</td>\n",
       "      <td>insufficient</td>\n",
       "      <td>insufficient</td>\n",
       "      <td>rainwater harvesting</td>\n",
       "      <td>rainwater harvesting</td>\n",
       "      <td>surface</td>\n",
       "      <td>communal standpipe</td>\n",
       "      <td>communal standpipe</td>\n",
       "    </tr>\n",
       "    <tr>\n",
       "      <th>2</th>\n",
       "      <td>34310</td>\n",
       "      <td>25.0</td>\n",
       "      <td>2013-02-25</td>\n",
       "      <td>Lottery Club</td>\n",
       "      <td>686</td>\n",
       "      <td>World vision</td>\n",
       "      <td>37.460664</td>\n",
       "      <td>-3.821329</td>\n",
       "      <td>Kwa Mahundi</td>\n",
       "      <td>0</td>\n",
       "      <td>...</td>\n",
       "      <td>per bucket</td>\n",
       "      <td>soft</td>\n",
       "      <td>good</td>\n",
       "      <td>enough</td>\n",
       "      <td>enough</td>\n",
       "      <td>dam</td>\n",
       "      <td>dam</td>\n",
       "      <td>surface</td>\n",
       "      <td>communal standpipe multiple</td>\n",
       "      <td>communal standpipe</td>\n",
       "    </tr>\n",
       "    <tr>\n",
       "      <th>3</th>\n",
       "      <td>67743</td>\n",
       "      <td>0.0</td>\n",
       "      <td>2013-01-28</td>\n",
       "      <td>Unicef</td>\n",
       "      <td>263</td>\n",
       "      <td>UNICEF</td>\n",
       "      <td>38.486161</td>\n",
       "      <td>-11.155298</td>\n",
       "      <td>Zahanati Ya Nanyumbu</td>\n",
       "      <td>0</td>\n",
       "      <td>...</td>\n",
       "      <td>never pay</td>\n",
       "      <td>soft</td>\n",
       "      <td>good</td>\n",
       "      <td>dry</td>\n",
       "      <td>dry</td>\n",
       "      <td>machine dbh</td>\n",
       "      <td>borehole</td>\n",
       "      <td>groundwater</td>\n",
       "      <td>communal standpipe multiple</td>\n",
       "      <td>communal standpipe</td>\n",
       "    </tr>\n",
       "    <tr>\n",
       "      <th>4</th>\n",
       "      <td>19728</td>\n",
       "      <td>0.0</td>\n",
       "      <td>2011-07-13</td>\n",
       "      <td>Action In A</td>\n",
       "      <td>0</td>\n",
       "      <td>Artisan</td>\n",
       "      <td>31.130847</td>\n",
       "      <td>-1.825359</td>\n",
       "      <td>Shuleni</td>\n",
       "      <td>0</td>\n",
       "      <td>...</td>\n",
       "      <td>never pay</td>\n",
       "      <td>soft</td>\n",
       "      <td>good</td>\n",
       "      <td>seasonal</td>\n",
       "      <td>seasonal</td>\n",
       "      <td>rainwater harvesting</td>\n",
       "      <td>rainwater harvesting</td>\n",
       "      <td>surface</td>\n",
       "      <td>communal standpipe</td>\n",
       "      <td>communal standpipe</td>\n",
       "    </tr>\n",
       "  </tbody>\n",
       "</table>\n",
       "<p>5 rows × 40 columns</p>\n",
       "</div>"
      ],
      "text/plain": [
       "      id  amount_tsh date_recorded        funder  gps_height     installer  \\\n",
       "0  69572      6000.0    2011-03-14         Roman        1390         Roman   \n",
       "1   8776         0.0    2013-03-06       Grumeti        1399       GRUMETI   \n",
       "2  34310        25.0    2013-02-25  Lottery Club         686  World vision   \n",
       "3  67743         0.0    2013-01-28        Unicef         263        UNICEF   \n",
       "4  19728         0.0    2011-07-13   Action In A           0       Artisan   \n",
       "\n",
       "   longitude   latitude              wpt_name  num_private  ... payment_type  \\\n",
       "0  34.938093  -9.856322                  none            0  ...     annually   \n",
       "1  34.698766  -2.147466              Zahanati            0  ...    never pay   \n",
       "2  37.460664  -3.821329           Kwa Mahundi            0  ...   per bucket   \n",
       "3  38.486161 -11.155298  Zahanati Ya Nanyumbu            0  ...    never pay   \n",
       "4  31.130847  -1.825359               Shuleni            0  ...    never pay   \n",
       "\n",
       "  water_quality quality_group      quantity  quantity_group  \\\n",
       "0          soft          good        enough          enough   \n",
       "1          soft          good  insufficient    insufficient   \n",
       "2          soft          good        enough          enough   \n",
       "3          soft          good           dry             dry   \n",
       "4          soft          good      seasonal        seasonal   \n",
       "\n",
       "                 source           source_type  source_class  \\\n",
       "0                spring                spring   groundwater   \n",
       "1  rainwater harvesting  rainwater harvesting       surface   \n",
       "2                   dam                   dam       surface   \n",
       "3           machine dbh              borehole   groundwater   \n",
       "4  rainwater harvesting  rainwater harvesting       surface   \n",
       "\n",
       "               waterpoint_type waterpoint_type_group  \n",
       "0           communal standpipe    communal standpipe  \n",
       "1           communal standpipe    communal standpipe  \n",
       "2  communal standpipe multiple    communal standpipe  \n",
       "3  communal standpipe multiple    communal standpipe  \n",
       "4           communal standpipe    communal standpipe  \n",
       "\n",
       "[5 rows x 40 columns]"
      ]
     },
     "execution_count": 5,
     "metadata": {},
     "output_type": "execute_result"
    }
   ],
   "source": [
    "# training file \n",
    "train.head()"
   ]
  },
  {
   "cell_type": "code",
   "execution_count": 6,
   "id": "third-academy",
   "metadata": {},
   "outputs": [
    {
     "data": {
      "text/plain": [
       "(59400, 40)"
      ]
     },
     "execution_count": 6,
     "metadata": {},
     "output_type": "execute_result"
    }
   ],
   "source": [
    "# Dimensions of the training file\n",
    "train.shape"
   ]
  },
  {
   "cell_type": "code",
   "execution_count": 7,
   "id": "widespread-henry",
   "metadata": {},
   "outputs": [],
   "source": [
    "# Each row case (each water pump) has his own \"id\" number, we fix this \"id\" to future data operations  \n",
    "train.set_index([\"id\"],inplace=True)"
   ]
  },
  {
   "cell_type": "code",
   "execution_count": 8,
   "id": "economic-surveillance",
   "metadata": {},
   "outputs": [
    {
     "data": {
      "text/html": [
       "<div>\n",
       "<style scoped>\n",
       "    .dataframe tbody tr th:only-of-type {\n",
       "        vertical-align: middle;\n",
       "    }\n",
       "\n",
       "    .dataframe tbody tr th {\n",
       "        vertical-align: top;\n",
       "    }\n",
       "\n",
       "    .dataframe thead th {\n",
       "        text-align: right;\n",
       "    }\n",
       "</style>\n",
       "<table border=\"1\" class=\"dataframe\">\n",
       "  <thead>\n",
       "    <tr style=\"text-align: right;\">\n",
       "      <th></th>\n",
       "      <th>amount_tsh</th>\n",
       "      <th>gps_height</th>\n",
       "      <th>longitude</th>\n",
       "      <th>latitude</th>\n",
       "      <th>num_private</th>\n",
       "      <th>region_code</th>\n",
       "      <th>district_code</th>\n",
       "      <th>population</th>\n",
       "      <th>construction_year</th>\n",
       "    </tr>\n",
       "  </thead>\n",
       "  <tbody>\n",
       "    <tr>\n",
       "      <th>count</th>\n",
       "      <td>59400.000000</td>\n",
       "      <td>59400.000000</td>\n",
       "      <td>59400.000000</td>\n",
       "      <td>5.940000e+04</td>\n",
       "      <td>59400.000000</td>\n",
       "      <td>59400.000000</td>\n",
       "      <td>59400.000000</td>\n",
       "      <td>59400.000000</td>\n",
       "      <td>59400.000000</td>\n",
       "    </tr>\n",
       "    <tr>\n",
       "      <th>mean</th>\n",
       "      <td>317.650385</td>\n",
       "      <td>668.297239</td>\n",
       "      <td>34.077427</td>\n",
       "      <td>-5.706033e+00</td>\n",
       "      <td>0.474141</td>\n",
       "      <td>15.297003</td>\n",
       "      <td>5.629747</td>\n",
       "      <td>179.909983</td>\n",
       "      <td>1300.652475</td>\n",
       "    </tr>\n",
       "    <tr>\n",
       "      <th>std</th>\n",
       "      <td>2997.574558</td>\n",
       "      <td>693.116350</td>\n",
       "      <td>6.567432</td>\n",
       "      <td>2.946019e+00</td>\n",
       "      <td>12.236230</td>\n",
       "      <td>17.587406</td>\n",
       "      <td>9.633649</td>\n",
       "      <td>471.482176</td>\n",
       "      <td>951.620547</td>\n",
       "    </tr>\n",
       "    <tr>\n",
       "      <th>min</th>\n",
       "      <td>0.000000</td>\n",
       "      <td>-90.000000</td>\n",
       "      <td>0.000000</td>\n",
       "      <td>-1.164944e+01</td>\n",
       "      <td>0.000000</td>\n",
       "      <td>1.000000</td>\n",
       "      <td>0.000000</td>\n",
       "      <td>0.000000</td>\n",
       "      <td>0.000000</td>\n",
       "    </tr>\n",
       "    <tr>\n",
       "      <th>25%</th>\n",
       "      <td>0.000000</td>\n",
       "      <td>0.000000</td>\n",
       "      <td>33.090347</td>\n",
       "      <td>-8.540621e+00</td>\n",
       "      <td>0.000000</td>\n",
       "      <td>5.000000</td>\n",
       "      <td>2.000000</td>\n",
       "      <td>0.000000</td>\n",
       "      <td>0.000000</td>\n",
       "    </tr>\n",
       "    <tr>\n",
       "      <th>50%</th>\n",
       "      <td>0.000000</td>\n",
       "      <td>369.000000</td>\n",
       "      <td>34.908743</td>\n",
       "      <td>-5.021597e+00</td>\n",
       "      <td>0.000000</td>\n",
       "      <td>12.000000</td>\n",
       "      <td>3.000000</td>\n",
       "      <td>25.000000</td>\n",
       "      <td>1986.000000</td>\n",
       "    </tr>\n",
       "    <tr>\n",
       "      <th>75%</th>\n",
       "      <td>20.000000</td>\n",
       "      <td>1319.250000</td>\n",
       "      <td>37.178387</td>\n",
       "      <td>-3.326156e+00</td>\n",
       "      <td>0.000000</td>\n",
       "      <td>17.000000</td>\n",
       "      <td>5.000000</td>\n",
       "      <td>215.000000</td>\n",
       "      <td>2004.000000</td>\n",
       "    </tr>\n",
       "    <tr>\n",
       "      <th>max</th>\n",
       "      <td>350000.000000</td>\n",
       "      <td>2770.000000</td>\n",
       "      <td>40.345193</td>\n",
       "      <td>-2.000000e-08</td>\n",
       "      <td>1776.000000</td>\n",
       "      <td>99.000000</td>\n",
       "      <td>80.000000</td>\n",
       "      <td>30500.000000</td>\n",
       "      <td>2013.000000</td>\n",
       "    </tr>\n",
       "  </tbody>\n",
       "</table>\n",
       "</div>"
      ],
      "text/plain": [
       "          amount_tsh    gps_height     longitude      latitude   num_private  \\\n",
       "count   59400.000000  59400.000000  59400.000000  5.940000e+04  59400.000000   \n",
       "mean      317.650385    668.297239     34.077427 -5.706033e+00      0.474141   \n",
       "std      2997.574558    693.116350      6.567432  2.946019e+00     12.236230   \n",
       "min         0.000000    -90.000000      0.000000 -1.164944e+01      0.000000   \n",
       "25%         0.000000      0.000000     33.090347 -8.540621e+00      0.000000   \n",
       "50%         0.000000    369.000000     34.908743 -5.021597e+00      0.000000   \n",
       "75%        20.000000   1319.250000     37.178387 -3.326156e+00      0.000000   \n",
       "max    350000.000000   2770.000000     40.345193 -2.000000e-08   1776.000000   \n",
       "\n",
       "        region_code  district_code    population  construction_year  \n",
       "count  59400.000000   59400.000000  59400.000000       59400.000000  \n",
       "mean      15.297003       5.629747    179.909983        1300.652475  \n",
       "std       17.587406       9.633649    471.482176         951.620547  \n",
       "min        1.000000       0.000000      0.000000           0.000000  \n",
       "25%        5.000000       2.000000      0.000000           0.000000  \n",
       "50%       12.000000       3.000000     25.000000        1986.000000  \n",
       "75%       17.000000       5.000000    215.000000        2004.000000  \n",
       "max       99.000000      80.000000  30500.000000        2013.000000  "
      ]
     },
     "execution_count": 8,
     "metadata": {},
     "output_type": "execute_result"
    }
   ],
   "source": [
    "# Description of the train dataset\n",
    "train.describe()"
   ]
  },
  {
   "cell_type": "code",
   "execution_count": 9,
   "id": "apparent-spare",
   "metadata": {},
   "outputs": [
    {
     "data": {
      "text/plain": [
       "Index(['amount_tsh', 'date_recorded', 'funder', 'gps_height', 'installer',\n",
       "       'longitude', 'latitude', 'wpt_name', 'num_private', 'basin',\n",
       "       'subvillage', 'region', 'region_code', 'district_code', 'lga', 'ward',\n",
       "       'population', 'public_meeting', 'recorded_by', 'scheme_management',\n",
       "       'scheme_name', 'permit', 'construction_year', 'extraction_type',\n",
       "       'extraction_type_group', 'extraction_type_class', 'management',\n",
       "       'management_group', 'payment', 'payment_type', 'water_quality',\n",
       "       'quality_group', 'quantity', 'quantity_group', 'source', 'source_type',\n",
       "       'source_class', 'waterpoint_type', 'waterpoint_type_group'],\n",
       "      dtype='object')"
      ]
     },
     "execution_count": 9,
     "metadata": {},
     "output_type": "execute_result"
    }
   ],
   "source": [
    "# Name of all the \"features\" or variables\n",
    "train.columns"
   ]
  },
  {
   "cell_type": "code",
   "execution_count": 10,
   "id": "composite-arrow",
   "metadata": {},
   "outputs": [
    {
     "data": {
      "text/plain": [
       "amount_tsh               float64\n",
       "date_recorded             object\n",
       "funder                    object\n",
       "gps_height                 int64\n",
       "installer                 object\n",
       "longitude                float64\n",
       "latitude                 float64\n",
       "wpt_name                  object\n",
       "num_private                int64\n",
       "basin                     object\n",
       "subvillage                object\n",
       "region                    object\n",
       "region_code                int64\n",
       "district_code              int64\n",
       "lga                       object\n",
       "ward                      object\n",
       "population                 int64\n",
       "public_meeting            object\n",
       "recorded_by               object\n",
       "scheme_management         object\n",
       "scheme_name               object\n",
       "permit                    object\n",
       "construction_year          int64\n",
       "extraction_type           object\n",
       "extraction_type_group     object\n",
       "extraction_type_class     object\n",
       "management                object\n",
       "management_group          object\n",
       "payment                   object\n",
       "payment_type              object\n",
       "water_quality             object\n",
       "quality_group             object\n",
       "quantity                  object\n",
       "quantity_group            object\n",
       "source                    object\n",
       "source_type               object\n",
       "source_class              object\n",
       "waterpoint_type           object\n",
       "waterpoint_type_group     object\n",
       "dtype: object"
      ]
     },
     "execution_count": 10,
     "metadata": {},
     "output_type": "execute_result"
    }
   ],
   "source": [
    "# We check the data type of every single feature\n",
    "train.dtypes"
   ]
  },
  {
   "cell_type": "markdown",
   "id": "outstanding-minority",
   "metadata": {},
   "source": [
    "### Finding the NAs, \"lost values\" or \"missings\""
   ]
  },
  {
   "cell_type": "code",
   "execution_count": 11,
   "id": "possible-hebrew",
   "metadata": {},
   "outputs": [
    {
     "data": {
      "text/plain": [
       "amount_tsh                   0\n",
       "date_recorded                0\n",
       "funder                    3635\n",
       "gps_height                   0\n",
       "installer                 3655\n",
       "longitude                    0\n",
       "latitude                     0\n",
       "wpt_name                     0\n",
       "num_private                  0\n",
       "basin                        0\n",
       "subvillage                 371\n",
       "region                       0\n",
       "region_code                  0\n",
       "district_code                0\n",
       "lga                          0\n",
       "ward                         0\n",
       "population                   0\n",
       "public_meeting            3334\n",
       "recorded_by                  0\n",
       "scheme_management         3877\n",
       "scheme_name              28166\n",
       "permit                    3056\n",
       "construction_year            0\n",
       "extraction_type              0\n",
       "extraction_type_group        0\n",
       "extraction_type_class        0\n",
       "management                   0\n",
       "management_group             0\n",
       "payment                      0\n",
       "payment_type                 0\n",
       "water_quality                0\n",
       "quality_group                0\n",
       "quantity                     0\n",
       "quantity_group               0\n",
       "source                       0\n",
       "source_type                  0\n",
       "source_class                 0\n",
       "waterpoint_type              0\n",
       "waterpoint_type_group        0\n",
       "dtype: int64"
      ]
     },
     "execution_count": 11,
     "metadata": {},
     "output_type": "execute_result"
    }
   ],
   "source": [
    "# ¿How many NAs does our data set have?\n",
    "train.isnull().sum()"
   ]
  },
  {
   "cell_type": "markdown",
   "id": "protective-pulse",
   "metadata": {},
   "source": [
    "It's is interesting to know that only categorical features have missing values, so we don't have to use data techniques to fill (impute) values in the numeric features. So what we are going to do is to substitute the NAs with a new category called \"Desconocido\"."
   ]
  },
  {
   "cell_type": "code",
   "execution_count": 12,
   "id": "conservative-association",
   "metadata": {},
   "outputs": [],
   "source": [
    "# For higher comfort we split the variables in 2 groups\n",
    "variables_categoricas = train.select_dtypes(include = \"object\")\n",
    "variables_numericas = train.select_dtypes(include = \"number\")"
   ]
  },
  {
   "cell_type": "markdown",
   "id": "familiar-crossing",
   "metadata": {},
   "source": [
    "To see a little better the distribution of the data, it would be good to show the data distribution histograms, it would also be a good time to review the data distribution of the variables with null values."
   ]
  },
  {
   "cell_type": "code",
   "execution_count": 13,
   "id": "checked-belly",
   "metadata": {},
   "outputs": [
    {
     "data": {
      "image/png": "[encoded data removed]",
      "text/plain": [
       "<Figure size 432x288 with 1 Axes>"
      ]
     },
     "metadata": {
      "needs_background": "light"
     },
     "output_type": "display_data"
    },
    {
     "data": {
      "image/png": "[encoded data removed]",
      "text/plain": [
       "<Figure size 432x288 with 1 Axes>"
      ]
     },
     "metadata": {
      "needs_background": "light"
     },
     "output_type": "display_data"
    },
    {
     "data": {
      "image/png": "[encoded data removed]",
      "text/plain": [
       "<Figure size 432x288 with 1 Axes>"
      ]
     },
     "metadata": {
      "needs_background": "light"
     },
     "output_type": "display_data"
    },
    {
     "data": {
      "image/png": "[encoded data removed]",
      "text/plain": [
       "<Figure size 432x288 with 1 Axes>"
      ]
     },
     "metadata": {
      "needs_background": "light"
     },
     "output_type": "display_data"
    },
    {
     "data": {
      "image/png": "[encoded data removed]",
      "text/plain": [
       "<Figure size 432x288 with 1 Axes>"
      ]
     },
     "metadata": {
      "needs_background": "light"
     },
     "output_type": "display_data"
    },
    {
     "data": {
      "image/png": "[encoded data removed]",
      "text/plain": [
       "<Figure size 432x288 with 1 Axes>"
      ]
     },
     "metadata": {
      "needs_background": "light"
     },
     "output_type": "display_data"
    },
    {
     "data": {
      "image/png": "[encoded data removed]",
      "text/plain": [
       "<Figure size 432x288 with 1 Axes>"
      ]
     },
     "metadata": {
      "needs_background": "light"
     },
     "output_type": "display_data"
    },
    {
     "data": {
      "image/png": "[encoded data removed]",
      "text/plain": [
       "<Figure size 432x288 with 1 Axes>"
      ]
     },
     "metadata": {
      "needs_background": "light"
     },
     "output_type": "display_data"
    },
    {
     "data": {
      "image/png": "[encoded data removed]",
      "text/plain": [
       "<Figure size 432x288 with 1 Axes>"
      ]
     },
     "metadata": {
      "needs_background": "light"
     },
     "output_type": "display_data"
    }
   ],
   "source": [
    "# Histogram (numeric features)\n",
    "for l in variables_numericas:\n",
    "    plt.hist(variables_numericas[l])\n",
    "    plt.title(l)\n",
    "    plt.show()"
   ]
  },
  {
   "cell_type": "code",
   "execution_count": 14,
   "id": "overhead-latin",
   "metadata": {},
   "outputs": [
    {
     "name": "stdout",
     "output_type": "stream",
     "text": [
      "------------------------------ date_recorded -----------------------------------\n",
      "2011-03-15    572\n",
      "2011-03-17    558\n",
      "2013-02-03    546\n",
      "2011-03-14    520\n",
      "2011-03-16    513\n",
      "             ... \n",
      "2012-01-25      1\n",
      "2011-09-23      1\n",
      "2011-09-21      1\n",
      "2011-09-11      1\n",
      "2011-09-12      1\n",
      "Name: date_recorded, Length: 356, dtype: int64\n",
      "------------------------------ funder -----------------------------------\n",
      "Government Of Tanzania          9084\n",
      "Danida                          3114\n",
      "Hesawa                          2202\n",
      "Rwssp                           1374\n",
      "World Bank                      1349\n",
      "                                ... \n",
      "Japan  Food Aid Counter Part       1\n",
      "Watu Wa Marekani                   1\n",
      "Kopwe Khalifa                      1\n",
      "Vwcvc                              1\n",
      "Gurdians                           1\n",
      "Name: funder, Length: 1897, dtype: int64\n",
      "------------------------------ installer -----------------------------------\n",
      "DWE            17402\n",
      "Government      1825\n",
      "RWE             1206\n",
      "Commu           1060\n",
      "DANIDA          1050\n",
      "               ...  \n",
      "Mambe              1\n",
      "Pentekoste         1\n",
      "Ester Ndege        1\n",
      "Msudi              1\n",
      "VWT                1\n",
      "Name: installer, Length: 2145, dtype: int64\n",
      "------------------------------ wpt_name -----------------------------------\n",
      "none                         3563\n",
      "Shuleni                      1748\n",
      "Zahanati                      830\n",
      "Msikitini                     535\n",
      "Kanisani                      323\n",
      "                             ... \n",
      "Shule Ya Msingi Ketembere       1\n",
      "Kwa Mwanaeke                    1\n",
      "Kwa Philip Lyimo                1\n",
      "Mukihama                        1\n",
      "Yonus Schimata                  1\n",
      "Name: wpt_name, Length: 37400, dtype: int64\n",
      "------------------------------ basin -----------------------------------\n",
      "Lake Victoria              10248\n",
      "Pangani                     8940\n",
      "Rufiji                      7976\n",
      "Internal                    7785\n",
      "Lake Tanganyika             6432\n",
      "Wami / Ruvu                 5987\n",
      "Lake Nyasa                  5085\n",
      "Ruvuma / Southern Coast     4493\n",
      "Lake Rukwa                  2454\n",
      "Name: basin, dtype: int64\n",
      "------------------------------ subvillage -----------------------------------\n",
      "Madukani       508\n",
      "Shuleni        506\n",
      "Majengo        502\n",
      "Kati           373\n",
      "Mtakuja        262\n",
      "              ... \n",
      "Kobuhesi 3       1\n",
      "Nyampa B         1\n",
      "Mpilingito       1\n",
      "Cheleweni A      1\n",
      "Kumsema          1\n",
      "Name: subvillage, Length: 19287, dtype: int64\n",
      "------------------------------ region -----------------------------------\n",
      "Iringa           5294\n",
      "Shinyanga        4982\n",
      "Mbeya            4639\n",
      "Kilimanjaro      4379\n",
      "Morogoro         4006\n",
      "Arusha           3350\n",
      "Kagera           3316\n",
      "Mwanza           3102\n",
      "Kigoma           2816\n",
      "Ruvuma           2640\n",
      "Pwani            2635\n",
      "Tanga            2547\n",
      "Dodoma           2201\n",
      "Singida          2093\n",
      "Mara             1969\n",
      "Tabora           1959\n",
      "Rukwa            1808\n",
      "Mtwara           1730\n",
      "Manyara          1583\n",
      "Lindi            1546\n",
      "Dar es Salaam     805\n",
      "Name: region, dtype: int64\n",
      "------------------------------ lga -----------------------------------\n",
      "Njombe          2503\n",
      "Arusha Rural    1252\n",
      "Moshi Rural     1251\n",
      "Bariadi         1177\n",
      "Rungwe          1106\n",
      "                ... \n",
      "Moshi Urban       79\n",
      "Kigoma Urban      71\n",
      "Arusha Urban      63\n",
      "Lindi Urban       21\n",
      "Nyamagana          1\n",
      "Name: lga, Length: 125, dtype: int64\n",
      "------------------------------ ward -----------------------------------\n",
      "Igosi          307\n",
      "Imalinyi       252\n",
      "Siha Kati      232\n",
      "Mdandu         231\n",
      "Nduruma        217\n",
      "              ... \n",
      "Mkumbi           1\n",
      "Machinjioni      1\n",
      "Kinungu          1\n",
      "Igogo            1\n",
      "Sungwisi         1\n",
      "Name: ward, Length: 2092, dtype: int64\n",
      "------------------------------ public_meeting -----------------------------------\n",
      "True     51011\n",
      "False     5055\n",
      "Name: public_meeting, dtype: int64\n",
      "------------------------------ recorded_by -----------------------------------\n",
      "GeoData Consultants Ltd    59400\n",
      "Name: recorded_by, dtype: int64\n",
      "------------------------------ scheme_management -----------------------------------\n",
      "VWC                 36793\n",
      "WUG                  5206\n",
      "Water authority      3153\n",
      "WUA                  2883\n",
      "Water Board          2748\n",
      "Parastatal           1680\n",
      "Private operator     1063\n",
      "Company              1061\n",
      "Other                 766\n",
      "SWC                    97\n",
      "Trust                  72\n",
      "None                    1\n",
      "Name: scheme_management, dtype: int64\n",
      "------------------------------ scheme_name -----------------------------------\n",
      "K                            682\n",
      "None                         644\n",
      "Borehole                     546\n",
      "Chalinze wate                405\n",
      "M                            400\n",
      "                            ... \n",
      "REGWA COMPANY OF EGYPT         1\n",
      "Kizimba forest                 1\n",
      "QUICKWINS                      1\n",
      "Dacp Nyambogo                  1\n",
      "Mradi wa maji wa Kilagano      1\n",
      "Name: scheme_name, Length: 2696, dtype: int64\n",
      "------------------------------ permit -----------------------------------\n",
      "True     38852\n",
      "False    17492\n",
      "Name: permit, dtype: int64\n",
      "------------------------------ extraction_type -----------------------------------\n",
      "gravity                      26780\n",
      "nira/tanira                   8154\n",
      "other                         6430\n",
      "submersible                   4764\n",
      "swn 80                        3670\n",
      "mono                          2865\n",
      "india mark ii                 2400\n",
      "afridev                       1770\n",
      "ksb                           1415\n",
      "other - rope pump              451\n",
      "other - swn 81                 229\n",
      "windmill                       117\n",
      "india mark iii                  98\n",
      "cemo                            90\n",
      "other - play pump               85\n",
      "walimi                          48\n",
      "climax                          32\n",
      "other - mkulima/shinyanga        2\n",
      "Name: extraction_type, dtype: int64\n",
      "------------------------------ extraction_type_group -----------------------------------\n",
      "gravity            26780\n",
      "nira/tanira         8154\n",
      "other               6430\n",
      "submersible         6179\n",
      "swn 80              3670\n",
      "mono                2865\n",
      "india mark ii       2400\n",
      "afridev             1770\n",
      "rope pump            451\n",
      "other handpump       364\n",
      "other motorpump      122\n",
      "wind-powered         117\n",
      "india mark iii        98\n",
      "Name: extraction_type_group, dtype: int64\n",
      "------------------------------ extraction_type_class -----------------------------------\n",
      "gravity         26780\n",
      "handpump        16456\n",
      "other            6430\n",
      "submersible      6179\n",
      "motorpump        2987\n",
      "rope pump         451\n",
      "wind-powered      117\n",
      "Name: extraction_type_class, dtype: int64\n",
      "------------------------------ management -----------------------------------\n",
      "vwc                 40507\n",
      "wug                  6515\n",
      "water board          2933\n",
      "wua                  2535\n",
      "private operator     1971\n",
      "parastatal           1768\n",
      "water authority       904\n",
      "other                 844\n",
      "company               685\n",
      "unknown               561\n",
      "other - school         99\n",
      "trust                  78\n",
      "Name: management, dtype: int64\n",
      "------------------------------ management_group -----------------------------------\n",
      "user-group    52490\n",
      "commercial     3638\n",
      "parastatal     1768\n",
      "other           943\n",
      "unknown         561\n",
      "Name: management_group, dtype: int64\n",
      "------------------------------ payment -----------------------------------\n",
      "never pay                25348\n",
      "pay per bucket            8985\n",
      "pay monthly               8300\n",
      "unknown                   8157\n",
      "pay when scheme fails     3914\n",
      "pay annually              3642\n",
      "other                     1054\n",
      "Name: payment, dtype: int64\n",
      "------------------------------ payment_type -----------------------------------\n",
      "never pay     25348\n",
      "per bucket     8985\n",
      "monthly        8300\n",
      "unknown        8157\n",
      "on failure     3914\n",
      "annually       3642\n",
      "other          1054\n",
      "Name: payment_type, dtype: int64\n",
      "------------------------------ water_quality -----------------------------------\n",
      "soft                  50818\n",
      "salty                  4856\n",
      "unknown                1876\n",
      "milky                   804\n",
      "coloured                490\n",
      "salty abandoned         339\n",
      "fluoride                200\n",
      "fluoride abandoned       17\n",
      "Name: water_quality, dtype: int64\n",
      "------------------------------ quality_group -----------------------------------\n",
      "good        50818\n",
      "salty        5195\n",
      "unknown      1876\n",
      "milky         804\n",
      "colored       490\n",
      "fluoride      217\n",
      "Name: quality_group, dtype: int64\n",
      "------------------------------ quantity -----------------------------------\n",
      "enough          33186\n",
      "insufficient    15129\n",
      "dry              6246\n",
      "seasonal         4050\n",
      "unknown           789\n",
      "Name: quantity, dtype: int64\n",
      "------------------------------ quantity_group -----------------------------------\n",
      "enough          33186\n",
      "insufficient    15129\n",
      "dry              6246\n",
      "seasonal         4050\n",
      "unknown           789\n",
      "Name: quantity_group, dtype: int64\n",
      "------------------------------ source -----------------------------------\n",
      "spring                  17021\n",
      "shallow well            16824\n",
      "machine dbh             11075\n",
      "river                    9612\n",
      "rainwater harvesting     2295\n",
      "hand dtw                  874\n",
      "lake                      765\n",
      "dam                       656\n",
      "other                     212\n",
      "unknown                    66\n",
      "Name: source, dtype: int64\n",
      "------------------------------ source_type -----------------------------------\n",
      "spring                  17021\n",
      "shallow well            16824\n",
      "borehole                11949\n",
      "river/lake              10377\n",
      "rainwater harvesting     2295\n",
      "dam                       656\n",
      "other                     278\n",
      "Name: source_type, dtype: int64\n",
      "------------------------------ source_class -----------------------------------\n",
      "groundwater    45794\n",
      "surface        13328\n",
      "unknown          278\n",
      "Name: source_class, dtype: int64\n",
      "------------------------------ waterpoint_type -----------------------------------\n",
      "communal standpipe             28522\n",
      "hand pump                      17488\n",
      "other                           6380\n",
      "communal standpipe multiple     6103\n",
      "improved spring                  784\n",
      "cattle trough                    116\n",
      "dam                                7\n",
      "Name: waterpoint_type, dtype: int64\n",
      "------------------------------ waterpoint_type_group -----------------------------------\n",
      "communal standpipe    34625\n",
      "hand pump             17488\n",
      "other                  6380\n",
      "improved spring         784\n",
      "cattle trough           116\n",
      "dam                       7\n",
      "Name: waterpoint_type_group, dtype: int64\n"
     ]
    }
   ],
   "source": [
    "# Categorical features, all the categories inside and number of cases per category\n",
    "for i in variables_categoricas:\n",
    "    print(\"------------------------------\", i, \"-----------------------------------\" )\n",
    "    print(variables_categoricas[i].value_counts(ascending=False))"
   ]
  },
  {
   "cell_type": "markdown",
   "id": "bizarre-transport",
   "metadata": {},
   "source": [
    "### Feature \"funder\"\n",
    "We group the missing values in new category called \"Desconocido\""
   ]
  },
  {
   "cell_type": "code",
   "execution_count": 15,
   "id": "loose-anime",
   "metadata": {},
   "outputs": [],
   "source": [
    "# First form of filling the NAs\n",
    "#df[\"funder\"] = df.apply(lambda x:\"Desconocido\" if pd.isna(x[\"funder\"]) else (x[\"funder\"]), axis= 1)"
   ]
  },
  {
   "cell_type": "code",
   "execution_count": 16,
   "id": "agreed-encyclopedia",
   "metadata": {},
   "outputs": [],
   "source": [
    "# A second form, (easier)\n",
    "train[\"funder\"] = train[\"funder\"].replace(np.nan, \"Desconocido\")"
   ]
  },
  {
   "cell_type": "code",
   "execution_count": 17,
   "id": "vanilla-venue",
   "metadata": {},
   "outputs": [
    {
     "data": {
      "text/plain": [
       "0"
      ]
     },
     "execution_count": 17,
     "metadata": {},
     "output_type": "execute_result"
    }
   ],
   "source": [
    "# We check that we don't have NA anymore \"funder\"\n",
    "train[\"funder\"].isnull().sum()"
   ]
  },
  {
   "cell_type": "code",
   "execution_count": 18,
   "id": "eight-confusion",
   "metadata": {},
   "outputs": [
    {
     "data": {
      "text/plain": [
       "Government Of Tanzania    9084\n",
       "Desconocido               3635\n",
       "Danida                    3114\n",
       "Hesawa                    2202\n",
       "Rwssp                     1374\n",
       "Name: funder, dtype: int64"
      ]
     },
     "execution_count": 18,
     "metadata": {},
     "output_type": "execute_result"
    }
   ],
   "source": [
    "# Checking if \"funder\" has the new category \"Desconocido\"\n",
    "train[\"funder\"].value_counts(ascending = False).head(5)"
   ]
  },
  {
   "cell_type": "markdown",
   "id": "retired-status",
   "metadata": {},
   "source": [
    "### Variable \"installer\""
   ]
  },
  {
   "cell_type": "code",
   "execution_count": 19,
   "id": "prescribed-stake",
   "metadata": {},
   "outputs": [],
   "source": [
    "# Filling NAs\n",
    "train[\"installer\"] = train[\"installer\"].replace(np.nan, \"Desconocido\")"
   ]
  },
  {
   "cell_type": "code",
   "execution_count": 20,
   "id": "individual-export",
   "metadata": {},
   "outputs": [
    {
     "data": {
      "text/plain": [
       "0"
      ]
     },
     "execution_count": 20,
     "metadata": {},
     "output_type": "execute_result"
    }
   ],
   "source": [
    "# Checking \n",
    "train[\"installer\"].isnull().sum()"
   ]
  },
  {
   "cell_type": "code",
   "execution_count": 21,
   "id": "persistent-forge",
   "metadata": {},
   "outputs": [
    {
     "data": {
      "text/plain": [
       "DWE            17402\n",
       "Desconocido     3655\n",
       "Government      1825\n",
       "RWE             1206\n",
       "Commu           1060\n",
       "Name: installer, dtype: int64"
      ]
     },
     "execution_count": 21,
     "metadata": {},
     "output_type": "execute_result"
    }
   ],
   "source": [
    "# Checking that \"Desconocido\" exists now\n",
    "train[\"installer\"].value_counts(ascending = False).head(5)"
   ]
  },
  {
   "cell_type": "markdown",
   "id": "linear-shore",
   "metadata": {},
   "source": [
    "### Variable \"subvillage\""
   ]
  },
  {
   "cell_type": "code",
   "execution_count": 22,
   "id": "clear-gibraltar",
   "metadata": {},
   "outputs": [],
   "source": [
    "# filling \n",
    "train[\"subvillage\"] = train[\"subvillage\"].replace(np.nan, \"Desconocido\")"
   ]
  },
  {
   "cell_type": "code",
   "execution_count": 23,
   "id": "speaking-server",
   "metadata": {},
   "outputs": [
    {
     "data": {
      "text/plain": [
       "0"
      ]
     },
     "execution_count": 23,
     "metadata": {},
     "output_type": "execute_result"
    }
   ],
   "source": [
    "# Checking\n",
    "train[\"subvillage\"].isnull().sum()"
   ]
  },
  {
   "cell_type": "code",
   "execution_count": 24,
   "id": "colonial-dominant",
   "metadata": {},
   "outputs": [
    {
     "data": {
      "text/plain": [
       "Madukani       508\n",
       "Shuleni        506\n",
       "Majengo        502\n",
       "Kati           373\n",
       "Desconocido    371\n",
       "Name: subvillage, dtype: int64"
      ]
     },
     "execution_count": 24,
     "metadata": {},
     "output_type": "execute_result"
    }
   ],
   "source": [
    "# Checking\n",
    "train[\"subvillage\"].value_counts(ascending = False).head(5)"
   ]
  },
  {
   "cell_type": "markdown",
   "id": "impossible-phone",
   "metadata": {},
   "source": [
    "### Variable \"public_meeting\""
   ]
  },
  {
   "cell_type": "code",
   "execution_count": 25,
   "id": "based-baltimore",
   "metadata": {},
   "outputs": [],
   "source": [
    "# filling\n",
    "train[\"public_meeting\"] = train[\"public_meeting\"].replace(np.nan, \"Desconocido\")"
   ]
  },
  {
   "cell_type": "code",
   "execution_count": 26,
   "id": "subjective-farmer",
   "metadata": {},
   "outputs": [
    {
     "data": {
      "text/plain": [
       "0"
      ]
     },
     "execution_count": 26,
     "metadata": {},
     "output_type": "execute_result"
    }
   ],
   "source": [
    "# checking\n",
    "train[\"public_meeting\"].isnull().sum()"
   ]
  },
  {
   "cell_type": "code",
   "execution_count": 27,
   "id": "fixed-horizon",
   "metadata": {},
   "outputs": [
    {
     "data": {
      "text/plain": [
       "True           51011\n",
       "False           5055\n",
       "Desconocido     3334\n",
       "Name: public_meeting, dtype: int64"
      ]
     },
     "execution_count": 27,
     "metadata": {},
     "output_type": "execute_result"
    }
   ],
   "source": [
    "# checking\n",
    "train[\"public_meeting\"].value_counts(ascending = False).head(3)"
   ]
  },
  {
   "cell_type": "markdown",
   "id": "alternate-argument",
   "metadata": {},
   "source": [
    "### Variable \"scheme_management\"\n",
    "Podríamos considerar meter dentro de la categoría \"Other\" los valores nulos y la categoría \"None\""
   ]
  },
  {
   "cell_type": "code",
   "execution_count": 28,
   "id": "turned-practice",
   "metadata": {},
   "outputs": [],
   "source": [
    "#filling\n",
    "train[\"scheme_management\"] = train[\"scheme_management\"].replace([np.nan, \"None\", \"Other\"], \"Other\")"
   ]
  },
  {
   "cell_type": "code",
   "execution_count": 29,
   "id": "higher-driver",
   "metadata": {},
   "outputs": [
    {
     "data": {
      "text/plain": [
       "0"
      ]
     },
     "execution_count": 29,
     "metadata": {},
     "output_type": "execute_result"
    }
   ],
   "source": [
    "# checking\n",
    "train[\"scheme_management\"].isnull().sum()"
   ]
  },
  {
   "cell_type": "code",
   "execution_count": 30,
   "id": "sharing-fields",
   "metadata": {},
   "outputs": [
    {
     "data": {
      "text/plain": [
       "VWC                 36793\n",
       "WUG                  5206\n",
       "Other                4644\n",
       "Water authority      3153\n",
       "WUA                  2883\n",
       "Water Board          2748\n",
       "Parastatal           1680\n",
       "Private operator     1063\n",
       "Company              1061\n",
       "SWC                    97\n",
       "Trust                  72\n",
       "Name: scheme_management, dtype: int64"
      ]
     },
     "execution_count": 30,
     "metadata": {},
     "output_type": "execute_result"
    }
   ],
   "source": [
    "# checking\n",
    "train[\"scheme_management\"].value_counts(ascending = False).head(15)"
   ]
  },
  {
   "cell_type": "markdown",
   "id": "suited-microwave",
   "metadata": {},
   "source": [
    " ### Variable \"scheme_name\"\n",
    " Agrupamos los valores perdidos en la categoría \"None\", pero debido al elevadísmo número de valores perdidos sería una candidadat a salir del modelo"
   ]
  },
  {
   "cell_type": "code",
   "execution_count": 31,
   "id": "pediatric-swimming",
   "metadata": {},
   "outputs": [],
   "source": [
    "# Filling\n",
    "train[\"scheme_name\"] = train[\"scheme_name\"].replace([np.nan, \"None\"], \"None\")"
   ]
  },
  {
   "cell_type": "code",
   "execution_count": 32,
   "id": "organizational-dylan",
   "metadata": {},
   "outputs": [
    {
     "data": {
      "text/plain": [
       "0"
      ]
     },
     "execution_count": 32,
     "metadata": {},
     "output_type": "execute_result"
    }
   ],
   "source": [
    "# Checking\n",
    "train[\"scheme_name\"].isnull().sum()"
   ]
  },
  {
   "cell_type": "code",
   "execution_count": 33,
   "id": "japanese-stuart",
   "metadata": {},
   "outputs": [
    {
     "data": {
      "text/plain": [
       "None                           28810\n",
       "K                                682\n",
       "Borehole                         546\n",
       "Chalinze wate                    405\n",
       "M                                400\n",
       "DANIDA                           379\n",
       "Government                       320\n",
       "Ngana water supplied scheme      270\n",
       "wanging'ombe water supply s      261\n",
       "wanging'ombe supply scheme       234\n",
       "Name: scheme_name, dtype: int64"
      ]
     },
     "execution_count": 33,
     "metadata": {},
     "output_type": "execute_result"
    }
   ],
   "source": [
    "# Checking\n",
    "train[\"scheme_name\"].value_counts(ascending = False).head(10)"
   ]
  },
  {
   "cell_type": "markdown",
   "id": "banned-calculation",
   "metadata": {},
   "source": [
    "### Variable \"permit\"\n",
    "Los perdido los metemos en la cateoría desconocido, aunque quizá no serái mala idea meterlos en False"
   ]
  },
  {
   "cell_type": "code",
   "execution_count": 34,
   "id": "hispanic-winter",
   "metadata": {},
   "outputs": [],
   "source": [
    "# Filling\n",
    "train[\"permit\"] = train[\"permit\"].replace(np.nan, \"Desconocido\")"
   ]
  },
  {
   "cell_type": "code",
   "execution_count": 35,
   "id": "flush-briefing",
   "metadata": {},
   "outputs": [
    {
     "data": {
      "text/plain": [
       "0"
      ]
     },
     "execution_count": 35,
     "metadata": {},
     "output_type": "execute_result"
    }
   ],
   "source": [
    "# Checking\n",
    "train[\"permit\"].isnull().sum()"
   ]
  },
  {
   "cell_type": "code",
   "execution_count": 36,
   "id": "pending-rings",
   "metadata": {},
   "outputs": [
    {
     "data": {
      "text/plain": [
       "True           38852\n",
       "False          17492\n",
       "Desconocido     3056\n",
       "Name: permit, dtype: int64"
      ]
     },
     "execution_count": 36,
     "metadata": {},
     "output_type": "execute_result"
    }
   ],
   "source": [
    "# Checking\n",
    "train[\"permit\"].value_counts(ascending = False).head(10)"
   ]
  },
  {
   "cell_type": "markdown",
   "id": "exciting-fifty",
   "metadata": {},
   "source": [
    "## Deleting features or/columns with unique values or non useful information \n",
    "We check the variability of the variables and if we think that is not adding information to our purpose, we delete it (reason specified)"
   ]
  },
  {
   "cell_type": "code",
   "execution_count": 37,
   "id": "valued-citizen",
   "metadata": {},
   "outputs": [
    {
     "name": "stdout",
     "output_type": "stream",
     "text": [
      "------------------------------ amount_tsh -----------------------------------\n",
      "0.0         41639\n",
      "500.0        3102\n",
      "50.0         2472\n",
      "1000.0       1488\n",
      "20.0         1463\n",
      "            ...  \n",
      "250000.0        1\n",
      "220.0           1\n",
      "350000.0        1\n",
      "138000.0        1\n",
      "38000.0         1\n",
      "Name: amount_tsh, Length: 98, dtype: int64\n",
      "------------------------------ date_recorded -----------------------------------\n",
      "2011-03-15    572\n",
      "2011-03-17    558\n",
      "2013-02-03    546\n",
      "2011-03-14    520\n",
      "2011-03-16    513\n",
      "             ... \n",
      "2012-01-25      1\n",
      "2011-09-23      1\n",
      "2011-09-21      1\n",
      "2011-09-11      1\n",
      "2011-09-12      1\n",
      "Name: date_recorded, Length: 356, dtype: int64\n",
      "------------------------------ funder -----------------------------------\n",
      "Government Of Tanzania          9084\n",
      "Desconocido                     3635\n",
      "Danida                          3114\n",
      "Hesawa                          2202\n",
      "Rwssp                           1374\n",
      "                                ... \n",
      "Japan  Food Aid Counter Part       1\n",
      "Watu Wa Marekani                   1\n",
      "Kopwe Khalifa                      1\n",
      "Vwcvc                              1\n",
      "Gurdians                           1\n",
      "Name: funder, Length: 1898, dtype: int64\n",
      "------------------------------ gps_height -----------------------------------\n",
      " 0       20438\n",
      "-15         60\n",
      "-16         55\n",
      "-13         55\n",
      " 1290       52\n",
      "         ...  \n",
      " 2332        1\n",
      " 2202        1\n",
      " 2236        1\n",
      "-57          1\n",
      " 2038        1\n",
      "Name: gps_height, Length: 2428, dtype: int64\n",
      "------------------------------ installer -----------------------------------\n",
      "DWE                    17402\n",
      "Desconocido             3655\n",
      "Government              1825\n",
      "RWE                     1206\n",
      "Commu                   1060\n",
      "                       ...  \n",
      "Stephano Paulo             1\n",
      "john skwese                1\n",
      "GLOBAL RESOURCE CO         1\n",
      "Rusumo Game reserve        1\n",
      "VWT                        1\n",
      "Name: installer, Length: 2146, dtype: int64\n",
      "------------------------------ longitude -----------------------------------\n",
      "0.000000     1812\n",
      "32.977191       2\n",
      "32.919861       2\n",
      "37.542785       2\n",
      "39.105307       2\n",
      "             ... \n",
      "37.141893       1\n",
      "35.839879       1\n",
      "33.638301       1\n",
      "35.347266       1\n",
      "35.164770       1\n",
      "Name: longitude, Length: 57516, dtype: int64\n",
      "------------------------------ latitude -----------------------------------\n",
      "-2.000000e-08    1812\n",
      "-2.494546e+00       2\n",
      "-6.983183e+00       2\n",
      "-7.056923e+00       2\n",
      "-7.056372e+00       2\n",
      "                 ... \n",
      "-6.162973e+00       1\n",
      "-1.595138e+00       1\n",
      "-2.007878e+00       1\n",
      "-6.787691e+00       1\n",
      "-1.077290e+01       1\n",
      "Name: latitude, Length: 57517, dtype: int64\n",
      "------------------------------ wpt_name -----------------------------------\n",
      "none                         3563\n",
      "Shuleni                      1748\n",
      "Zahanati                      830\n",
      "Msikitini                     535\n",
      "Kanisani                      323\n",
      "                             ... \n",
      "Shule Ya Msingi Ketembere       1\n",
      "Kwa Mwanaeke                    1\n",
      "Kwa Philip Lyimo                1\n",
      "Mukihama                        1\n",
      "Yonus Schimata                  1\n",
      "Name: wpt_name, Length: 37400, dtype: int64\n",
      "------------------------------ num_private -----------------------------------\n",
      "0      58643\n",
      "6         81\n",
      "1         73\n",
      "8         46\n",
      "5         46\n",
      "       ...  \n",
      "42         1\n",
      "136        1\n",
      "35         1\n",
      "131        1\n",
      "94         1\n",
      "Name: num_private, Length: 65, dtype: int64\n",
      "------------------------------ basin -----------------------------------\n",
      "Lake Victoria              10248\n",
      "Pangani                     8940\n",
      "Rufiji                      7976\n",
      "Internal                    7785\n",
      "Lake Tanganyika             6432\n",
      "Wami / Ruvu                 5987\n",
      "Lake Nyasa                  5085\n",
      "Ruvuma / Southern Coast     4493\n",
      "Lake Rukwa                  2454\n",
      "Name: basin, dtype: int64\n",
      "------------------------------ subvillage -----------------------------------\n",
      "Madukani       508\n",
      "Shuleni        506\n",
      "Majengo        502\n",
      "Kati           373\n",
      "Desconocido    371\n",
      "              ... \n",
      "Kobuhesi 3       1\n",
      "Nyampa B         1\n",
      "Mpilingito       1\n",
      "Cheleweni A      1\n",
      "Kumsema          1\n",
      "Name: subvillage, Length: 19288, dtype: int64\n",
      "------------------------------ region -----------------------------------\n",
      "Iringa           5294\n",
      "Shinyanga        4982\n",
      "Mbeya            4639\n",
      "Kilimanjaro      4379\n",
      "Morogoro         4006\n",
      "Arusha           3350\n",
      "Kagera           3316\n",
      "Mwanza           3102\n",
      "Kigoma           2816\n",
      "Ruvuma           2640\n",
      "Pwani            2635\n",
      "Tanga            2547\n",
      "Dodoma           2201\n",
      "Singida          2093\n",
      "Mara             1969\n",
      "Tabora           1959\n",
      "Rukwa            1808\n",
      "Mtwara           1730\n",
      "Manyara          1583\n",
      "Lindi            1546\n",
      "Dar es Salaam     805\n",
      "Name: region, dtype: int64\n",
      "------------------------------ region_code -----------------------------------\n",
      "11    5300\n",
      "17    5011\n",
      "12    4639\n",
      "3     4379\n",
      "5     4040\n",
      "18    3324\n",
      "19    3047\n",
      "2     3024\n",
      "16    2816\n",
      "10    2640\n",
      "4     2513\n",
      "1     2201\n",
      "13    2093\n",
      "14    1979\n",
      "20    1969\n",
      "15    1808\n",
      "6     1609\n",
      "21    1583\n",
      "80    1238\n",
      "60    1025\n",
      "90     917\n",
      "7      805\n",
      "99     423\n",
      "9      390\n",
      "24     326\n",
      "8      300\n",
      "40       1\n",
      "Name: region_code, dtype: int64\n",
      "------------------------------ district_code -----------------------------------\n",
      "1     12203\n",
      "2     11173\n",
      "3      9998\n",
      "4      8999\n",
      "5      4356\n",
      "6      4074\n",
      "7      3343\n",
      "8      1043\n",
      "30      995\n",
      "33      874\n",
      "53      745\n",
      "43      505\n",
      "13      391\n",
      "23      293\n",
      "63      195\n",
      "62      109\n",
      "60       63\n",
      "0        23\n",
      "80       12\n",
      "67        6\n",
      "Name: district_code, dtype: int64\n",
      "------------------------------ lga -----------------------------------\n",
      "Njombe          2503\n",
      "Arusha Rural    1252\n",
      "Moshi Rural     1251\n",
      "Bariadi         1177\n",
      "Rungwe          1106\n",
      "                ... \n",
      "Moshi Urban       79\n",
      "Kigoma Urban      71\n",
      "Arusha Urban      63\n",
      "Lindi Urban       21\n",
      "Nyamagana          1\n",
      "Name: lga, Length: 125, dtype: int64\n",
      "------------------------------ ward -----------------------------------\n",
      "Igosi          307\n",
      "Imalinyi       252\n",
      "Siha Kati      232\n",
      "Mdandu         231\n",
      "Nduruma        217\n",
      "              ... \n",
      "Mkumbi           1\n",
      "Machinjioni      1\n",
      "Kinungu          1\n",
      "Igogo            1\n",
      "Sungwisi         1\n",
      "Name: ward, Length: 2092, dtype: int64\n",
      "------------------------------ population -----------------------------------\n",
      "0       21381\n",
      "1        7025\n",
      "200      1940\n",
      "150      1892\n",
      "250      1681\n",
      "        ...  \n",
      "1160        1\n",
      "3241        1\n",
      "1960        1\n",
      "2248        1\n",
      "1439        1\n",
      "Name: population, Length: 1049, dtype: int64\n",
      "------------------------------ public_meeting -----------------------------------\n",
      "True           51011\n",
      "False           5055\n",
      "Desconocido     3334\n",
      "Name: public_meeting, dtype: int64\n",
      "------------------------------ recorded_by -----------------------------------\n",
      "GeoData Consultants Ltd    59400\n",
      "Name: recorded_by, dtype: int64\n",
      "------------------------------ scheme_management -----------------------------------\n",
      "VWC                 36793\n",
      "WUG                  5206\n",
      "Other                4644\n",
      "Water authority      3153\n",
      "WUA                  2883\n",
      "Water Board          2748\n",
      "Parastatal           1680\n",
      "Private operator     1063\n",
      "Company              1061\n",
      "SWC                    97\n",
      "Trust                  72\n",
      "Name: scheme_management, dtype: int64\n",
      "------------------------------ scheme_name -----------------------------------\n",
      "None                         28810\n",
      "K                              682\n",
      "Borehole                       546\n",
      "Chalinze wate                  405\n",
      "M                              400\n",
      "                             ...  \n",
      "REGWA COMPANY OF EGYPT           1\n",
      "Kizimba forest                   1\n",
      "QUICKWINS                        1\n",
      "Dacp Nyambogo                    1\n",
      "Mradi wa maji wa Kilagano        1\n",
      "Name: scheme_name, Length: 2696, dtype: int64\n",
      "------------------------------ permit -----------------------------------\n",
      "True           38852\n",
      "False          17492\n",
      "Desconocido     3056\n",
      "Name: permit, dtype: int64\n",
      "------------------------------ construction_year -----------------------------------\n",
      "0       20709\n",
      "2010     2645\n",
      "2008     2613\n",
      "2009     2533\n",
      "2000     2091\n",
      "2007     1587\n",
      "2006     1471\n",
      "2003     1286\n",
      "2011     1256\n",
      "2004     1123\n",
      "2012     1084\n",
      "2002     1075\n",
      "1978     1037\n",
      "1995     1014\n",
      "2005     1011\n",
      "1999      979\n",
      "1998      966\n",
      "1990      954\n",
      "1985      945\n",
      "1980      811\n",
      "1996      811\n",
      "1984      779\n",
      "1982      744\n",
      "1994      738\n",
      "1972      708\n",
      "1974      676\n",
      "1997      644\n",
      "1992      640\n",
      "1993      608\n",
      "2001      540\n",
      "1988      521\n",
      "1983      488\n",
      "1975      437\n",
      "1986      434\n",
      "1976      414\n",
      "1970      411\n",
      "1991      324\n",
      "1989      316\n",
      "1987      302\n",
      "1981      238\n",
      "1977      202\n",
      "1979      192\n",
      "1973      184\n",
      "2013      176\n",
      "1971      145\n",
      "1960      102\n",
      "1967       88\n",
      "1963       85\n",
      "1968       77\n",
      "1969       59\n",
      "1964       40\n",
      "1962       30\n",
      "1961       21\n",
      "1965       19\n",
      "1966       17\n",
      "Name: construction_year, dtype: int64\n",
      "------------------------------ extraction_type -----------------------------------\n",
      "gravity                      26780\n",
      "nira/tanira                   8154\n",
      "other                         6430\n",
      "submersible                   4764\n",
      "swn 80                        3670\n",
      "mono                          2865\n",
      "india mark ii                 2400\n",
      "afridev                       1770\n",
      "ksb                           1415\n",
      "other - rope pump              451\n",
      "other - swn 81                 229\n",
      "windmill                       117\n",
      "india mark iii                  98\n",
      "cemo                            90\n",
      "other - play pump               85\n",
      "walimi                          48\n",
      "climax                          32\n",
      "other - mkulima/shinyanga        2\n",
      "Name: extraction_type, dtype: int64\n",
      "------------------------------ extraction_type_group -----------------------------------\n",
      "gravity            26780\n",
      "nira/tanira         8154\n",
      "other               6430\n",
      "submersible         6179\n",
      "swn 80              3670\n",
      "mono                2865\n",
      "india mark ii       2400\n",
      "afridev             1770\n",
      "rope pump            451\n",
      "other handpump       364\n",
      "other motorpump      122\n",
      "wind-powered         117\n",
      "india mark iii        98\n",
      "Name: extraction_type_group, dtype: int64\n",
      "------------------------------ extraction_type_class -----------------------------------\n",
      "gravity         26780\n",
      "handpump        16456\n",
      "other            6430\n",
      "submersible      6179\n",
      "motorpump        2987\n",
      "rope pump         451\n",
      "wind-powered      117\n",
      "Name: extraction_type_class, dtype: int64\n",
      "------------------------------ management -----------------------------------\n",
      "vwc                 40507\n",
      "wug                  6515\n",
      "water board          2933\n",
      "wua                  2535\n",
      "private operator     1971\n",
      "parastatal           1768\n",
      "water authority       904\n",
      "other                 844\n",
      "company               685\n",
      "unknown               561\n",
      "other - school         99\n",
      "trust                  78\n",
      "Name: management, dtype: int64\n",
      "------------------------------ management_group -----------------------------------\n",
      "user-group    52490\n",
      "commercial     3638\n",
      "parastatal     1768\n",
      "other           943\n",
      "unknown         561\n",
      "Name: management_group, dtype: int64\n",
      "------------------------------ payment -----------------------------------\n",
      "never pay                25348\n",
      "pay per bucket            8985\n",
      "pay monthly               8300\n",
      "unknown                   8157\n",
      "pay when scheme fails     3914\n",
      "pay annually              3642\n",
      "other                     1054\n",
      "Name: payment, dtype: int64\n",
      "------------------------------ payment_type -----------------------------------\n",
      "never pay     25348\n",
      "per bucket     8985\n",
      "monthly        8300\n",
      "unknown        8157\n",
      "on failure     3914\n",
      "annually       3642\n",
      "other          1054\n",
      "Name: payment_type, dtype: int64\n",
      "------------------------------ water_quality -----------------------------------\n",
      "soft                  50818\n",
      "salty                  4856\n",
      "unknown                1876\n",
      "milky                   804\n",
      "coloured                490\n",
      "salty abandoned         339\n",
      "fluoride                200\n",
      "fluoride abandoned       17\n",
      "Name: water_quality, dtype: int64\n",
      "------------------------------ quality_group -----------------------------------\n",
      "good        50818\n",
      "salty        5195\n",
      "unknown      1876\n",
      "milky         804\n",
      "colored       490\n",
      "fluoride      217\n",
      "Name: quality_group, dtype: int64\n",
      "------------------------------ quantity -----------------------------------\n",
      "enough          33186\n",
      "insufficient    15129\n",
      "dry              6246\n",
      "seasonal         4050\n",
      "unknown           789\n",
      "Name: quantity, dtype: int64\n",
      "------------------------------ quantity_group -----------------------------------\n",
      "enough          33186\n",
      "insufficient    15129\n",
      "dry              6246\n",
      "seasonal         4050\n",
      "unknown           789\n",
      "Name: quantity_group, dtype: int64\n",
      "------------------------------ source -----------------------------------\n",
      "spring                  17021\n",
      "shallow well            16824\n",
      "machine dbh             11075\n",
      "river                    9612\n",
      "rainwater harvesting     2295\n",
      "hand dtw                  874\n",
      "lake                      765\n",
      "dam                       656\n",
      "other                     212\n",
      "unknown                    66\n",
      "Name: source, dtype: int64\n",
      "------------------------------ source_type -----------------------------------\n",
      "spring                  17021\n",
      "shallow well            16824\n",
      "borehole                11949\n",
      "river/lake              10377\n",
      "rainwater harvesting     2295\n",
      "dam                       656\n",
      "other                     278\n",
      "Name: source_type, dtype: int64\n",
      "------------------------------ source_class -----------------------------------\n",
      "groundwater    45794\n",
      "surface        13328\n",
      "unknown          278\n",
      "Name: source_class, dtype: int64\n",
      "------------------------------ waterpoint_type -----------------------------------\n",
      "communal standpipe             28522\n",
      "hand pump                      17488\n",
      "other                           6380\n",
      "communal standpipe multiple     6103\n",
      "improved spring                  784\n",
      "cattle trough                    116\n",
      "dam                                7\n",
      "Name: waterpoint_type, dtype: int64\n",
      "------------------------------ waterpoint_type_group -----------------------------------\n",
      "communal standpipe    34625\n",
      "hand pump             17488\n",
      "other                  6380\n",
      "improved spring         784\n",
      "cattle trough           116\n",
      "dam                       7\n",
      "Name: waterpoint_type_group, dtype: int64\n"
     ]
    }
   ],
   "source": [
    "# We check the variability of the variables\n",
    "for i in train:\n",
    "    print(\"------------------------------\", i, \"-----------------------------------\" )\n",
    "    print(train[i].value_counts(ascending=False))"
   ]
  },
  {
   "cell_type": "code",
   "execution_count": 38,
   "id": "molecular-joseph",
   "metadata": {},
   "outputs": [],
   "source": [
    "# We delete the next features:\n",
    "\n",
    "train.drop(columns = [\"scheme_name\"], inplace = True) # too many NAs\n",
    "\n",
    "train.drop(columns = [\"num_private\"], inplace = True) # No description of this variable and weird values\n",
    "\n",
    "train.drop(columns = [\"recorded_by\"], inplace = True) # Poor variability "
   ]
  },
  {
   "cell_type": "code",
   "execution_count": 39,
   "id": "ideal-destruction",
   "metadata": {},
   "outputs": [],
   "source": [
    "# Updating our two lists\n",
    "variables_categoricas = train.select_dtypes(include = \"object\")\n",
    "variables_numericas = train.select_dtypes(include = \"number\")"
   ]
  },
  {
   "cell_type": "markdown",
   "id": "excess-blues",
   "metadata": {},
   "source": [
    "### Transformation of boolean variables into numeric variables"
   ]
  },
  {
   "cell_type": "code",
   "execution_count": 40,
   "id": "theoretical-elizabeth",
   "metadata": {},
   "outputs": [
    {
     "name": "stdout",
     "output_type": "stream",
     "text": [
      "------------------------------ date_recorded -----------------------------------\n",
      "2011-03-15    572\n",
      "2011-03-17    558\n",
      "2013-02-03    546\n",
      "2011-03-14    520\n",
      "2011-03-16    513\n",
      "             ... \n",
      "2012-01-25      1\n",
      "2011-09-23      1\n",
      "2011-09-21      1\n",
      "2011-09-11      1\n",
      "2011-09-12      1\n",
      "Name: date_recorded, Length: 356, dtype: int64\n",
      "------------------------------ funder -----------------------------------\n",
      "Government Of Tanzania          9084\n",
      "Desconocido                     3635\n",
      "Danida                          3114\n",
      "Hesawa                          2202\n",
      "Rwssp                           1374\n",
      "                                ... \n",
      "Japan  Food Aid Counter Part       1\n",
      "Watu Wa Marekani                   1\n",
      "Kopwe Khalifa                      1\n",
      "Vwcvc                              1\n",
      "Gurdians                           1\n",
      "Name: funder, Length: 1898, dtype: int64\n",
      "------------------------------ installer -----------------------------------\n",
      "DWE                    17402\n",
      "Desconocido             3655\n",
      "Government              1825\n",
      "RWE                     1206\n",
      "Commu                   1060\n",
      "                       ...  \n",
      "Stephano Paulo             1\n",
      "john skwese                1\n",
      "GLOBAL RESOURCE CO         1\n",
      "Rusumo Game reserve        1\n",
      "VWT                        1\n",
      "Name: installer, Length: 2146, dtype: int64\n",
      "------------------------------ wpt_name -----------------------------------\n",
      "none                         3563\n",
      "Shuleni                      1748\n",
      "Zahanati                      830\n",
      "Msikitini                     535\n",
      "Kanisani                      323\n",
      "                             ... \n",
      "Shule Ya Msingi Ketembere       1\n",
      "Kwa Mwanaeke                    1\n",
      "Kwa Philip Lyimo                1\n",
      "Mukihama                        1\n",
      "Yonus Schimata                  1\n",
      "Name: wpt_name, Length: 37400, dtype: int64\n",
      "------------------------------ basin -----------------------------------\n",
      "Lake Victoria              10248\n",
      "Pangani                     8940\n",
      "Rufiji                      7976\n",
      "Internal                    7785\n",
      "Lake Tanganyika             6432\n",
      "Wami / Ruvu                 5987\n",
      "Lake Nyasa                  5085\n",
      "Ruvuma / Southern Coast     4493\n",
      "Lake Rukwa                  2454\n",
      "Name: basin, dtype: int64\n",
      "------------------------------ subvillage -----------------------------------\n",
      "Madukani       508\n",
      "Shuleni        506\n",
      "Majengo        502\n",
      "Kati           373\n",
      "Desconocido    371\n",
      "              ... \n",
      "Kobuhesi 3       1\n",
      "Nyampa B         1\n",
      "Mpilingito       1\n",
      "Cheleweni A      1\n",
      "Kumsema          1\n",
      "Name: subvillage, Length: 19288, dtype: int64\n",
      "------------------------------ region -----------------------------------\n",
      "Iringa           5294\n",
      "Shinyanga        4982\n",
      "Mbeya            4639\n",
      "Kilimanjaro      4379\n",
      "Morogoro         4006\n",
      "Arusha           3350\n",
      "Kagera           3316\n",
      "Mwanza           3102\n",
      "Kigoma           2816\n",
      "Ruvuma           2640\n",
      "Pwani            2635\n",
      "Tanga            2547\n",
      "Dodoma           2201\n",
      "Singida          2093\n",
      "Mara             1969\n",
      "Tabora           1959\n",
      "Rukwa            1808\n",
      "Mtwara           1730\n",
      "Manyara          1583\n",
      "Lindi            1546\n",
      "Dar es Salaam     805\n",
      "Name: region, dtype: int64\n",
      "------------------------------ lga -----------------------------------\n",
      "Njombe          2503\n",
      "Arusha Rural    1252\n",
      "Moshi Rural     1251\n",
      "Bariadi         1177\n",
      "Rungwe          1106\n",
      "                ... \n",
      "Moshi Urban       79\n",
      "Kigoma Urban      71\n",
      "Arusha Urban      63\n",
      "Lindi Urban       21\n",
      "Nyamagana          1\n",
      "Name: lga, Length: 125, dtype: int64\n",
      "------------------------------ ward -----------------------------------\n",
      "Igosi          307\n",
      "Imalinyi       252\n",
      "Siha Kati      232\n",
      "Mdandu         231\n",
      "Nduruma        217\n",
      "              ... \n",
      "Mkumbi           1\n",
      "Machinjioni      1\n",
      "Kinungu          1\n",
      "Igogo            1\n",
      "Sungwisi         1\n",
      "Name: ward, Length: 2092, dtype: int64\n",
      "------------------------------ public_meeting -----------------------------------\n",
      "True           51011\n",
      "False           5055\n",
      "Desconocido     3334\n",
      "Name: public_meeting, dtype: int64\n",
      "------------------------------ scheme_management -----------------------------------\n",
      "VWC                 36793\n",
      "WUG                  5206\n",
      "Other                4644\n",
      "Water authority      3153\n",
      "WUA                  2883\n",
      "Water Board          2748\n",
      "Parastatal           1680\n",
      "Private operator     1063\n",
      "Company              1061\n",
      "SWC                    97\n",
      "Trust                  72\n",
      "Name: scheme_management, dtype: int64\n",
      "------------------------------ permit -----------------------------------\n",
      "True           38852\n",
      "False          17492\n",
      "Desconocido     3056\n",
      "Name: permit, dtype: int64\n",
      "------------------------------ extraction_type -----------------------------------\n",
      "gravity                      26780\n",
      "nira/tanira                   8154\n",
      "other                         6430\n",
      "submersible                   4764\n",
      "swn 80                        3670\n",
      "mono                          2865\n",
      "india mark ii                 2400\n",
      "afridev                       1770\n",
      "ksb                           1415\n",
      "other - rope pump              451\n",
      "other - swn 81                 229\n",
      "windmill                       117\n",
      "india mark iii                  98\n",
      "cemo                            90\n",
      "other - play pump               85\n",
      "walimi                          48\n",
      "climax                          32\n",
      "other - mkulima/shinyanga        2\n",
      "Name: extraction_type, dtype: int64\n",
      "------------------------------ extraction_type_group -----------------------------------\n",
      "gravity            26780\n",
      "nira/tanira         8154\n",
      "other               6430\n",
      "submersible         6179\n",
      "swn 80              3670\n",
      "mono                2865\n",
      "india mark ii       2400\n",
      "afridev             1770\n",
      "rope pump            451\n",
      "other handpump       364\n",
      "other motorpump      122\n",
      "wind-powered         117\n",
      "india mark iii        98\n",
      "Name: extraction_type_group, dtype: int64\n",
      "------------------------------ extraction_type_class -----------------------------------\n",
      "gravity         26780\n",
      "handpump        16456\n",
      "other            6430\n",
      "submersible      6179\n",
      "motorpump        2987\n",
      "rope pump         451\n",
      "wind-powered      117\n",
      "Name: extraction_type_class, dtype: int64\n",
      "------------------------------ management -----------------------------------\n",
      "vwc                 40507\n",
      "wug                  6515\n",
      "water board          2933\n",
      "wua                  2535\n",
      "private operator     1971\n",
      "parastatal           1768\n",
      "water authority       904\n",
      "other                 844\n",
      "company               685\n",
      "unknown               561\n",
      "other - school         99\n",
      "trust                  78\n",
      "Name: management, dtype: int64\n",
      "------------------------------ management_group -----------------------------------\n",
      "user-group    52490\n",
      "commercial     3638\n",
      "parastatal     1768\n",
      "other           943\n",
      "unknown         561\n",
      "Name: management_group, dtype: int64\n",
      "------------------------------ payment -----------------------------------\n",
      "never pay                25348\n",
      "pay per bucket            8985\n",
      "pay monthly               8300\n",
      "unknown                   8157\n",
      "pay when scheme fails     3914\n",
      "pay annually              3642\n",
      "other                     1054\n",
      "Name: payment, dtype: int64\n",
      "------------------------------ payment_type -----------------------------------\n",
      "never pay     25348\n",
      "per bucket     8985\n",
      "monthly        8300\n",
      "unknown        8157\n",
      "on failure     3914\n",
      "annually       3642\n",
      "other          1054\n",
      "Name: payment_type, dtype: int64\n",
      "------------------------------ water_quality -----------------------------------\n",
      "soft                  50818\n",
      "salty                  4856\n",
      "unknown                1876\n",
      "milky                   804\n",
      "coloured                490\n",
      "salty abandoned         339\n",
      "fluoride                200\n",
      "fluoride abandoned       17\n",
      "Name: water_quality, dtype: int64\n",
      "------------------------------ quality_group -----------------------------------\n",
      "good        50818\n",
      "salty        5195\n",
      "unknown      1876\n",
      "milky         804\n",
      "colored       490\n",
      "fluoride      217\n",
      "Name: quality_group, dtype: int64\n",
      "------------------------------ quantity -----------------------------------\n",
      "enough          33186\n",
      "insufficient    15129\n",
      "dry              6246\n",
      "seasonal         4050\n",
      "unknown           789\n",
      "Name: quantity, dtype: int64\n",
      "------------------------------ quantity_group -----------------------------------\n",
      "enough          33186\n",
      "insufficient    15129\n",
      "dry              6246\n",
      "seasonal         4050\n",
      "unknown           789\n",
      "Name: quantity_group, dtype: int64\n",
      "------------------------------ source -----------------------------------\n",
      "spring                  17021\n",
      "shallow well            16824\n",
      "machine dbh             11075\n",
      "river                    9612\n",
      "rainwater harvesting     2295\n",
      "hand dtw                  874\n",
      "lake                      765\n",
      "dam                       656\n",
      "other                     212\n",
      "unknown                    66\n",
      "Name: source, dtype: int64\n",
      "------------------------------ source_type -----------------------------------\n",
      "spring                  17021\n",
      "shallow well            16824\n",
      "borehole                11949\n",
      "river/lake              10377\n",
      "rainwater harvesting     2295\n",
      "dam                       656\n",
      "other                     278\n",
      "Name: source_type, dtype: int64\n",
      "------------------------------ source_class -----------------------------------\n",
      "groundwater    45794\n",
      "surface        13328\n",
      "unknown          278\n",
      "Name: source_class, dtype: int64\n",
      "------------------------------ waterpoint_type -----------------------------------\n",
      "communal standpipe             28522\n",
      "hand pump                      17488\n",
      "other                           6380\n",
      "communal standpipe multiple     6103\n",
      "improved spring                  784\n",
      "cattle trough                    116\n",
      "dam                                7\n",
      "Name: waterpoint_type, dtype: int64\n",
      "------------------------------ waterpoint_type_group -----------------------------------\n",
      "communal standpipe    34625\n",
      "hand pump             17488\n",
      "other                  6380\n",
      "improved spring         784\n",
      "cattle trough           116\n",
      "dam                       7\n",
      "Name: waterpoint_type_group, dtype: int64\n"
     ]
    }
   ],
   "source": [
    "# Categorical features and cases per category\n",
    "for i in variables_categoricas:\n",
    "    print(\"------------------------------\", i, \"-----------------------------------\" )\n",
    "    print(variables_categoricas[i].value_counts(ascending=False))"
   ]
  },
  {
   "cell_type": "markdown",
   "id": "worldwide-commission",
   "metadata": {},
   "source": [
    "We check in the list if we have boolean variables and we transform them into numerical, substituting TRUE and FALSE with numbers"
   ]
  },
  {
   "cell_type": "code",
   "execution_count": 41,
   "id": "engaged-alloy",
   "metadata": {},
   "outputs": [],
   "source": [
    "# variables categóricas binarias\n",
    "variables_categ_bin =[\"public_meeting\",\"permit\"]\n",
    "for j in variables_categ_bin:\n",
    "    train[j] = [0 if x == False else 1 for x in train[j]] # 0 if FALSE/ 1 if TRUE"
   ]
  },
  {
   "cell_type": "markdown",
   "id": "young-malta",
   "metadata": {},
   "source": [
    " ### Encoding categorical features, transforming categoricals to numeric"
   ]
  },
  {
   "cell_type": "markdown",
   "id": "complete-fifty",
   "metadata": {},
   "source": [
    "Now we transform all the categorical features with a technique called \"LabalEncoder\" which consists on transforming all our categories with numbers, this technique es specially useful for algorithms of machine learning."
   ]
  },
  {
   "cell_type": "code",
   "execution_count": 42,
   "id": "large-welcome",
   "metadata": {},
   "outputs": [],
   "source": [
    "# Transforming into numeric \"date_recorded\" but just taking the year, dropping the month and the day\n",
    "\n",
    "year = train['date_recorded'].apply(lambda x: x[:4]).astype(int)\n",
    "train[\"date_recorded\"] = year\n",
    "\n",
    "# We us LabelEncoder in all the categorical variables:\n",
    "\n",
    "t2 = LabelEncoder()\n",
    "funder_n = t2.fit_transform(train[\"funder\"])\n",
    "train[\"funder\"] = funder_n\n",
    "\n",
    "\n",
    "t3 = LabelEncoder()\n",
    "installer_n = t3.fit_transform(train[\"installer\"])\n",
    "train[\"installer\"] = installer_n\n",
    "\n",
    "t4 = LabelEncoder()\n",
    "wpt_name_n = t4.fit_transform(train[\"wpt_name\"])\n",
    "train[\"wpt_name\"] = wpt_name_n\n",
    "\n",
    "t5 = LabelEncoder()\n",
    "basin_n = t5.fit_transform(train[\"basin\"])\n",
    "train[\"basin\"] = basin_n\n",
    "\n",
    "t6 = LabelEncoder()\n",
    "subvillage_n = t6.fit_transform(train[\"subvillage\"])\n",
    "train[\"subvillage\"] = subvillage_n\n",
    "\n",
    "t7 = LabelEncoder()\n",
    "region_n = t7.fit_transform(train[\"region\"])\n",
    "train[\"region\"] = region_n\n",
    "\n",
    "t8 = LabelEncoder()\n",
    "lga_n = t8.fit_transform(train[\"lga\"])\n",
    "train[\"lga\"] = lga_n\n",
    "\n",
    "t9 = LabelEncoder()\n",
    "ward_n = t9.fit_transform(train[\"ward\"])\n",
    "train[\"ward\"] = ward_n\n",
    "\n",
    "\n",
    "t11 = LabelEncoder()\n",
    "scheme_management_n = t11.fit_transform(train[\"scheme_management\"])\n",
    "train[\"scheme_management\"] = scheme_management_n\n",
    "\n",
    "t12 = LabelEncoder()\n",
    "extraction_type_n = t12.fit_transform(train[\"extraction_type\"])\n",
    "train[\"extraction_type\"] = extraction_type_n\n",
    "\n",
    "t13 = LabelEncoder()\n",
    "extraction_type_group_n = t13.fit_transform(train[\"extraction_type_group\"])\n",
    "train[\"extraction_type_group\"] = extraction_type_group_n\n",
    "\n",
    "t14 = LabelEncoder()\n",
    "extraction_type_class_n = t14.fit_transform(train[\"extraction_type_class\"])\n",
    "train[\"extraction_type_class\"] = extraction_type_class_n\n",
    "\n",
    "t15 = LabelEncoder()\n",
    "management_n = t15.fit_transform(train[\"management\"])\n",
    "train[\"management\"] = management_n\n",
    "\n",
    "t16 = LabelEncoder()\n",
    "management_group_n = t16.fit_transform(train[\"management_group\"])\n",
    "train[\"management_group\"] = management_group_n\n",
    "\n",
    "t17 = LabelEncoder()\n",
    "payment_n = t7.fit_transform(train[\"payment\"])\n",
    "train[\"payment\"] = payment_n\n",
    "\n",
    "t18 = LabelEncoder()\n",
    "payment_type_n = t18.fit_transform(train[\"payment_type\"])\n",
    "train[\"payment_type\"] = payment_type_n\n",
    "\n",
    "t19 = LabelEncoder()\n",
    "water_quality_n = t19.fit_transform(train[\"water_quality\"])\n",
    "train[\"water_quality\"] = water_quality_n\n",
    "\n",
    "t20 = LabelEncoder()\n",
    "quality_group_n = t19.fit_transform(train[\"quality_group\"])\n",
    "train[\"quality_group\"] = quality_group_n\n",
    "\n",
    "t21 = LabelEncoder()\n",
    "quantity_n = t19.fit_transform(train[\"quantity\"])\n",
    "train[\"quantity\"] = quantity_n\n",
    "\n",
    "t22 = LabelEncoder()\n",
    "quantity_group_n = t19.fit_transform(train[\"quantity_group\"])\n",
    "train[\"quantity_group\"] = quantity_group_n\n",
    "\n",
    "t23 = LabelEncoder()\n",
    "source_n = t23.fit_transform(train[\"source\"])\n",
    "train[\"source\"] = source_n\n",
    "\n",
    "t24= LabelEncoder()\n",
    "source_type_n = t24.fit_transform(train[\"source_type\"])\n",
    "train[\"source_type\"] = source_type_n\n",
    "\n",
    "t25 = LabelEncoder()\n",
    "source_class_n = t25.fit_transform(train[\"source_class\"])\n",
    "train[\"source_class\"] = source_class_n\n",
    "\n",
    "t26 = LabelEncoder()\n",
    "waterpoint_type_n = t26.fit_transform(train[\"waterpoint_type\"])\n",
    "train[\"waterpoint_type\"] = waterpoint_type_n\n",
    "\n",
    "t27 = LabelEncoder()\n",
    "waterpoint_type_group_n = t27.fit_transform(train[\"waterpoint_type_group\"])\n",
    "train[\"waterpoint_type_group\"] = waterpoint_type_group_n"
   ]
  },
  {
   "cell_type": "code",
   "execution_count": 43,
   "id": "exposed-protection",
   "metadata": {},
   "outputs": [
    {
     "data": {
      "text/plain": [
       "amount_tsh               float64\n",
       "date_recorded              int32\n",
       "funder                     int32\n",
       "gps_height                 int64\n",
       "installer                  int32\n",
       "longitude                float64\n",
       "latitude                 float64\n",
       "wpt_name                   int32\n",
       "basin                      int32\n",
       "subvillage                 int32\n",
       "region                     int32\n",
       "region_code                int64\n",
       "district_code              int64\n",
       "lga                        int32\n",
       "ward                       int32\n",
       "population                 int64\n",
       "public_meeting             int64\n",
       "scheme_management          int32\n",
       "permit                     int64\n",
       "construction_year          int64\n",
       "extraction_type            int32\n",
       "extraction_type_group      int32\n",
       "extraction_type_class      int32\n",
       "management                 int32\n",
       "management_group           int32\n",
       "payment                    int32\n",
       "payment_type               int32\n",
       "water_quality              int32\n",
       "quality_group              int32\n",
       "quantity                   int32\n",
       "quantity_group             int32\n",
       "source                     int32\n",
       "source_type                int32\n",
       "source_class               int32\n",
       "waterpoint_type            int32\n",
       "waterpoint_type_group      int32\n",
       "dtype: object"
      ]
     },
     "execution_count": 43,
     "metadata": {},
     "output_type": "execute_result"
    }
   ],
   "source": [
    "# We check that all the variables are numeric\n",
    "train.dtypes"
   ]
  },
  {
   "cell_type": "markdown",
   "id": "competitive-professor",
   "metadata": {},
   "source": [
    "To verify that now all the variables are numerical we can graph all the variables in histograms and see their distribution, and perhaps we will also discover some more detail."
   ]
  },
  {
   "cell_type": "code",
   "execution_count": 44,
   "id": "permanent-marijuana",
   "metadata": {},
   "outputs": [
    {
     "data": {
      "image/png": "[encoded data removed]",
      "text/plain": [
       "<Figure size 432x288 with 1 Axes>"
      ]
     },
     "metadata": {
      "needs_background": "light"
     },
     "output_type": "display_data"
    },
    {
     "data": {
      "image/png": "[encoded data removed]",
      "text/plain": [
       "<Figure size 432x288 with 1 Axes>"
      ]
     },
     "metadata": {
      "needs_background": "light"
     },
     "output_type": "display_data"
    },
    {
     "data": {
      "image/png": "[encoded data removed]",
      "text/plain": [
       "<Figure size 432x288 with 1 Axes>"
      ]
     },
     "metadata": {
      "needs_background": "light"
     },
     "output_type": "display_data"
    },
    {
     "data": {
      "image/png": "[encoded data removed]",
      "text/plain": [
       "<Figure size 432x288 with 1 Axes>"
      ]
     },
     "metadata": {
      "needs_background": "light"
     },
     "output_type": "display_data"
    },
    {
     "data": {
      "image/png": "[encoded data removed]",
      "text/plain": [
       "<Figure size 432x288 with 1 Axes>"
      ]
     },
     "metadata": {
      "needs_background": "light"
     },
     "output_type": "display_data"
    },
    {
     "data": {
      "image/png": "[encoded data removed]",
      "text/plain": [
       "<Figure size 432x288 with 1 Axes>"
      ]
     },
     "metadata": {
      "needs_background": "light"
     },
     "output_type": "display_data"
    },
    {
     "data": {
      "image/png": "[encoded data removed]",
      "text/plain": [
       "<Figure size 432x288 with 1 Axes>"
      ]
     },
     "metadata": {
      "needs_background": "light"
     },
     "output_type": "display_data"
    },
    {
     "data": {
      "image/png": "[encoded data removed]",
      "text/plain": [
       "<Figure size 432x288 with 1 Axes>"
      ]
     },
     "metadata": {
      "needs_background": "light"
     },
     "output_type": "display_data"
    },
    {
     "data": {
      "image/png": "[encoded data removed]",
      "text/plain": [
       "<Figure size 432x288 with 1 Axes>"
      ]
     },
     "metadata": {
      "needs_background": "light"
     },
     "output_type": "display_data"
    },
    {
     "data": {
      "image/png": "[encoded data removed]",
      "text/plain": [
       "<Figure size 432x288 with 1 Axes>"
      ]
     },
     "metadata": {
      "needs_background": "light"
     },
     "output_type": "display_data"
    },
    {
     "data": {
      "image/png": "[encoded data removed]",
      "text/plain": [
       "<Figure size 432x288 with 1 Axes>"
      ]
     },
     "metadata": {
      "needs_background": "light"
     },
     "output_type": "display_data"
    },
    {
     "data": {
      "image/png": "[encoded data removed]",
      "text/plain": [
       "<Figure size 432x288 with 1 Axes>"
      ]
     },
     "metadata": {
      "needs_background": "light"
     },
     "output_type": "display_data"
    },
    {
     "data": {
      "image/png": "[encoded data removed]",
      "text/plain": [
       "<Figure size 432x288 with 1 Axes>"
      ]
     },
     "metadata": {
      "needs_background": "light"
     },
     "output_type": "display_data"
    },
    {
     "data": {
      "image/png": "[encoded data removed]",
      "text/plain": [
       "<Figure size 432x288 with 1 Axes>"
      ]
     },
     "metadata": {
      "needs_background": "light"
     },
     "output_type": "display_data"
    },
    {
     "data": {
      "image/png": "[encoded data removed]",
      "text/plain": [
       "<Figure size 432x288 with 1 Axes>"
      ]
     },
     "metadata": {
      "needs_background": "light"
     },
     "output_type": "display_data"
    },
    {
     "data": {
      "image/png": "[encoded data removed]",
      "text/plain": [
       "<Figure size 432x288 with 1 Axes>"
      ]
     },
     "metadata": {
      "needs_background": "light"
     },
     "output_type": "display_data"
    },
    {
     "data": {
      "image/png": "[encoded data removed]",
      "text/plain": [
       "<Figure size 432x288 with 1 Axes>"
      ]
     },
     "metadata": {
      "needs_background": "light"
     },
     "output_type": "display_data"
    },
    {
     "data": {
      "image/png": "[encoded data removed]",
      "text/plain": [
       "<Figure size 432x288 with 1 Axes>"
      ]
     },
     "metadata": {
      "needs_background": "light"
     },
     "output_type": "display_data"
    },
    {
     "data": {
      "image/png": "[encoded data removed]",
      "text/plain": [
       "<Figure size 432x288 with 1 Axes>"
      ]
     },
     "metadata": {
      "needs_background": "light"
     },
     "output_type": "display_data"
    },
    {
     "data": {
      "image/png": "[encoded data removed]",
      "text/plain": [
       "<Figure size 432x288 with 1 Axes>"
      ]
     },
     "metadata": {
      "needs_background": "light"
     },
     "output_type": "display_data"
    },
    {
     "data": {
      "image/png": "[encoded data removed]",
      "text/plain": [
       "<Figure size 432x288 with 1 Axes>"
      ]
     },
     "metadata": {
      "needs_background": "light"
     },
     "output_type": "display_data"
    },
    {
     "data": {
      "image/png": "[encoded data removed]",
      "text/plain": [
       "<Figure size 432x288 with 1 Axes>"
      ]
     },
     "metadata": {
      "needs_background": "light"
     },
     "output_type": "display_data"
    },
    {
     "data": {
      "image/png": "[encoded data removed]",
      "text/plain": [
       "<Figure size 432x288 with 1 Axes>"
      ]
     },
     "metadata": {
      "needs_background": "light"
     },
     "output_type": "display_data"
    },
    {
     "data": {
      "image/png": "[encoded data removed]",
      "text/plain": [
       "<Figure size 432x288 with 1 Axes>"
      ]
     },
     "metadata": {
      "needs_background": "light"
     },
     "output_type": "display_data"
    },
    {
     "data": {
      "image/png": "[encoded data removed]",
      "text/plain": [
       "<Figure size 432x288 with 1 Axes>"
      ]
     },
     "metadata": {
      "needs_background": "light"
     },
     "output_type": "display_data"
    },
    {
     "data": {
      "image/png": "[encoded data removed]",
      "text/plain": [
       "<Figure size 432x288 with 1 Axes>"
      ]
     },
     "metadata": {
      "needs_background": "light"
     },
     "output_type": "display_data"
    },
    {
     "data": {
      "image/png": "[encoded data removed]",
      "text/plain": [
       "<Figure size 432x288 with 1 Axes>"
      ]
     },
     "metadata": {
      "needs_background": "light"
     },
     "output_type": "display_data"
    },
    {
     "data": {
      "image/png": "[encoded data removed]",
      "text/plain": [
       "<Figure size 432x288 with 1 Axes>"
      ]
     },
     "metadata": {
      "needs_background": "light"
     },
     "output_type": "display_data"
    },
    {
     "data": {
      "image/png": "[encoded data removed]",
      "text/plain": [
       "<Figure size 432x288 with 1 Axes>"
      ]
     },
     "metadata": {
      "needs_background": "light"
     },
     "output_type": "display_data"
    },
    {
     "data": {
      "image/png": "[encoded data removed]",
      "text/plain": [
       "<Figure size 432x288 with 1 Axes>"
      ]
     },
     "metadata": {
      "needs_background": "light"
     },
     "output_type": "display_data"
    },
    {
     "data": {
      "image/png": "[encoded data removed]",
      "text/plain": [
       "<Figure size 432x288 with 1 Axes>"
      ]
     },
     "metadata": {
      "needs_background": "light"
     },
     "output_type": "display_data"
    },
    {
     "data": {
      "image/png": "[encoded data removed]",
      "text/plain": [
       "<Figure size 432x288 with 1 Axes>"
      ]
     },
     "metadata": {
      "needs_background": "light"
     },
     "output_type": "display_data"
    },
    {
     "data": {
      "image/png": "[encoded data removed]",
      "text/plain": [
       "<Figure size 432x288 with 1 Axes>"
      ]
     },
     "metadata": {
      "needs_background": "light"
     },
     "output_type": "display_data"
    },
    {
     "data": {
      "image/png": "[encoded data removed]",
      "text/plain": [
       "<Figure size 432x288 with 1 Axes>"
      ]
     },
     "metadata": {
      "needs_background": "light"
     },
     "output_type": "display_data"
    },
    {
     "data": {
      "image/png": "[encoded data removed]",
      "text/plain": [
       "<Figure size 432x288 with 1 Axes>"
      ]
     },
     "metadata": {
      "needs_background": "light"
     },
     "output_type": "display_data"
    },
    {
     "data": {
      "image/png": "[encoded data removed]",
      "text/plain": [
       "<Figure size 432x288 with 1 Axes>"
      ]
     },
     "metadata": {
      "needs_background": "light"
     },
     "output_type": "display_data"
    }
   ],
   "source": [
    "# Histogram with ALL the variables\n",
    "for l in train:\n",
    "    plt.hist(train[l])\n",
    "    plt.title(l)\n",
    "    plt.show()"
   ]
  },
  {
   "cell_type": "code",
   "execution_count": 46,
   "id": "limiting-hepatitis",
   "metadata": {},
   "outputs": [
    {
     "data": {
      "text/plain": [
       "amount_tsh               0\n",
       "date_recorded            0\n",
       "funder                   0\n",
       "gps_height               0\n",
       "installer                0\n",
       "longitude                0\n",
       "latitude                 0\n",
       "wpt_name                 0\n",
       "basin                    0\n",
       "subvillage               0\n",
       "region                   0\n",
       "region_code              0\n",
       "district_code            0\n",
       "lga                      0\n",
       "ward                     0\n",
       "population               0\n",
       "public_meeting           0\n",
       "scheme_management        0\n",
       "permit                   0\n",
       "construction_year        0\n",
       "extraction_type          0\n",
       "extraction_type_group    0\n",
       "extraction_type_class    0\n",
       "management               0\n",
       "management_group         0\n",
       "payment                  0\n",
       "payment_type             0\n",
       "water_quality            0\n",
       "quality_group            0\n",
       "quantity                 0\n",
       "quantity_group           0\n",
       "source                   0\n",
       "source_type              0\n",
       "source_class             0\n",
       "waterpoint_type          0\n",
       "waterpoint_type_group    0\n",
       "dtype: int64"
      ]
     },
     "execution_count": 46,
     "metadata": {},
     "output_type": "execute_result"
    }
   ],
   "source": [
    "# NAs verification\n",
    "train.isnull().sum()"
   ]
  },
  {
   "cell_type": "code",
   "execution_count": 47,
   "id": "usual-committee",
   "metadata": {
    "scrolled": true
   },
   "outputs": [
    {
     "data": {
      "text/html": [
       "<div>\n",
       "<style scoped>\n",
       "    .dataframe tbody tr th:only-of-type {\n",
       "        vertical-align: middle;\n",
       "    }\n",
       "\n",
       "    .dataframe tbody tr th {\n",
       "        vertical-align: top;\n",
       "    }\n",
       "\n",
       "    .dataframe thead th {\n",
       "        text-align: right;\n",
       "    }\n",
       "</style>\n",
       "<table border=\"1\" class=\"dataframe\">\n",
       "  <thead>\n",
       "    <tr style=\"text-align: right;\">\n",
       "      <th></th>\n",
       "      <th>amount_tsh</th>\n",
       "      <th>date_recorded</th>\n",
       "      <th>funder</th>\n",
       "      <th>gps_height</th>\n",
       "      <th>installer</th>\n",
       "      <th>longitude</th>\n",
       "      <th>latitude</th>\n",
       "      <th>wpt_name</th>\n",
       "      <th>basin</th>\n",
       "      <th>subvillage</th>\n",
       "      <th>...</th>\n",
       "      <th>payment_type</th>\n",
       "      <th>water_quality</th>\n",
       "      <th>quality_group</th>\n",
       "      <th>quantity</th>\n",
       "      <th>quantity_group</th>\n",
       "      <th>source</th>\n",
       "      <th>source_type</th>\n",
       "      <th>source_class</th>\n",
       "      <th>waterpoint_type</th>\n",
       "      <th>waterpoint_type_group</th>\n",
       "    </tr>\n",
       "    <tr>\n",
       "      <th>id</th>\n",
       "      <th></th>\n",
       "      <th></th>\n",
       "      <th></th>\n",
       "      <th></th>\n",
       "      <th></th>\n",
       "      <th></th>\n",
       "      <th></th>\n",
       "      <th></th>\n",
       "      <th></th>\n",
       "      <th></th>\n",
       "      <th></th>\n",
       "      <th></th>\n",
       "      <th></th>\n",
       "      <th></th>\n",
       "      <th></th>\n",
       "      <th></th>\n",
       "      <th></th>\n",
       "      <th></th>\n",
       "      <th></th>\n",
       "      <th></th>\n",
       "      <th></th>\n",
       "    </tr>\n",
       "  </thead>\n",
       "  <tbody>\n",
       "    <tr>\n",
       "      <th>69572</th>\n",
       "      <td>6000.0</td>\n",
       "      <td>2011</td>\n",
       "      <td>1370</td>\n",
       "      <td>1390</td>\n",
       "      <td>1519</td>\n",
       "      <td>34.938093</td>\n",
       "      <td>-9.856322</td>\n",
       "      <td>37399</td>\n",
       "      <td>1</td>\n",
       "      <td>11808</td>\n",
       "      <td>...</td>\n",
       "      <td>0</td>\n",
       "      <td>6</td>\n",
       "      <td>2</td>\n",
       "      <td>1</td>\n",
       "      <td>1</td>\n",
       "      <td>8</td>\n",
       "      <td>6</td>\n",
       "      <td>0</td>\n",
       "      <td>1</td>\n",
       "      <td>1</td>\n",
       "    </tr>\n",
       "    <tr>\n",
       "      <th>8776</th>\n",
       "      <td>0.0</td>\n",
       "      <td>2013</td>\n",
       "      <td>470</td>\n",
       "      <td>1399</td>\n",
       "      <td>546</td>\n",
       "      <td>34.698766</td>\n",
       "      <td>-2.147466</td>\n",
       "      <td>37195</td>\n",
       "      <td>4</td>\n",
       "      <td>15839</td>\n",
       "      <td>...</td>\n",
       "      <td>2</td>\n",
       "      <td>6</td>\n",
       "      <td>2</td>\n",
       "      <td>2</td>\n",
       "      <td>2</td>\n",
       "      <td>5</td>\n",
       "      <td>3</td>\n",
       "      <td>1</td>\n",
       "      <td>1</td>\n",
       "      <td>1</td>\n",
       "    </tr>\n",
       "    <tr>\n",
       "      <th>34310</th>\n",
       "      <td>25.0</td>\n",
       "      <td>2013</td>\n",
       "      <td>826</td>\n",
       "      <td>686</td>\n",
       "      <td>2049</td>\n",
       "      <td>37.460664</td>\n",
       "      <td>-3.821329</td>\n",
       "      <td>14572</td>\n",
       "      <td>5</td>\n",
       "      <td>9075</td>\n",
       "      <td>...</td>\n",
       "      <td>5</td>\n",
       "      <td>6</td>\n",
       "      <td>2</td>\n",
       "      <td>1</td>\n",
       "      <td>1</td>\n",
       "      <td>0</td>\n",
       "      <td>1</td>\n",
       "      <td>1</td>\n",
       "      <td>2</td>\n",
       "      <td>1</td>\n",
       "    </tr>\n",
       "    <tr>\n",
       "      <th>67743</th>\n",
       "      <td>0.0</td>\n",
       "      <td>2013</td>\n",
       "      <td>1742</td>\n",
       "      <td>263</td>\n",
       "      <td>1853</td>\n",
       "      <td>38.486161</td>\n",
       "      <td>-11.155298</td>\n",
       "      <td>37285</td>\n",
       "      <td>7</td>\n",
       "      <td>8983</td>\n",
       "      <td>...</td>\n",
       "      <td>2</td>\n",
       "      <td>6</td>\n",
       "      <td>2</td>\n",
       "      <td>0</td>\n",
       "      <td>0</td>\n",
       "      <td>3</td>\n",
       "      <td>0</td>\n",
       "      <td>0</td>\n",
       "      <td>2</td>\n",
       "      <td>1</td>\n",
       "    </tr>\n",
       "    <tr>\n",
       "      <th>19728</th>\n",
       "      <td>0.0</td>\n",
       "      <td>2011</td>\n",
       "      <td>20</td>\n",
       "      <td>0</td>\n",
       "      <td>119</td>\n",
       "      <td>31.130847</td>\n",
       "      <td>-1.825359</td>\n",
       "      <td>35529</td>\n",
       "      <td>4</td>\n",
       "      <td>7699</td>\n",
       "      <td>...</td>\n",
       "      <td>2</td>\n",
       "      <td>6</td>\n",
       "      <td>2</td>\n",
       "      <td>3</td>\n",
       "      <td>3</td>\n",
       "      <td>5</td>\n",
       "      <td>3</td>\n",
       "      <td>1</td>\n",
       "      <td>1</td>\n",
       "      <td>1</td>\n",
       "    </tr>\n",
       "  </tbody>\n",
       "</table>\n",
       "<p>5 rows × 36 columns</p>\n",
       "</div>"
      ],
      "text/plain": [
       "       amount_tsh  date_recorded  funder  gps_height  installer  longitude  \\\n",
       "id                                                                           \n",
       "69572      6000.0           2011    1370        1390       1519  34.938093   \n",
       "8776          0.0           2013     470        1399        546  34.698766   \n",
       "34310        25.0           2013     826         686       2049  37.460664   \n",
       "67743         0.0           2013    1742         263       1853  38.486161   \n",
       "19728         0.0           2011      20           0        119  31.130847   \n",
       "\n",
       "        latitude  wpt_name  basin  subvillage  ...  payment_type  \\\n",
       "id                                             ...                 \n",
       "69572  -9.856322     37399      1       11808  ...             0   \n",
       "8776   -2.147466     37195      4       15839  ...             2   \n",
       "34310  -3.821329     14572      5        9075  ...             5   \n",
       "67743 -11.155298     37285      7        8983  ...             2   \n",
       "19728  -1.825359     35529      4        7699  ...             2   \n",
       "\n",
       "       water_quality  quality_group  quantity  quantity_group  source  \\\n",
       "id                                                                      \n",
       "69572              6              2         1               1       8   \n",
       "8776               6              2         2               2       5   \n",
       "34310              6              2         1               1       0   \n",
       "67743              6              2         0               0       3   \n",
       "19728              6              2         3               3       5   \n",
       "\n",
       "       source_type  source_class  waterpoint_type  waterpoint_type_group  \n",
       "id                                                                        \n",
       "69572            6             0                1                      1  \n",
       "8776             3             1                1                      1  \n",
       "34310            1             1                2                      1  \n",
       "67743            0             0                2                      1  \n",
       "19728            3             1                1                      1  \n",
       "\n",
       "[5 rows x 36 columns]"
      ]
     },
     "execution_count": 47,
     "metadata": {},
     "output_type": "execute_result"
    }
   ],
   "source": [
    "train.head()"
   ]
  },
  {
   "cell_type": "markdown",
   "id": "trying-nickname",
   "metadata": {},
   "source": [
    "### Dealing with the multicollinearity"
   ]
  },
  {
   "cell_type": "code",
   "execution_count": 48,
   "id": "sunset-quarterly",
   "metadata": {},
   "outputs": [
    {
     "name": "stdout",
     "output_type": "stream",
     "text": [
      "El valor del VIF para la variable amount_tsh es: 1.0384672412053517\n",
      "El valor del VIF para la variable date_recorded es: 1.6489025657532388\n",
      "El valor del VIF para la variable funder es: 1.509494838474732\n",
      "El valor del VIF para la variable gps_height es: 3.3258995246446723\n",
      "El valor del VIF para la variable installer es: 1.4911736997291187\n",
      "El valor del VIF para la variable longitude es: 1.624944700600627\n",
      "El valor del VIF para la variable latitude es: 1.8036879456608896\n",
      "El valor del VIF para la variable wpt_name es: 1.0546753795383628\n",
      "El valor del VIF para la variable basin es: 1.6335304324846833\n",
      "El valor del VIF para la variable subvillage es: 1.0285794736057874\n",
      "El valor del VIF para la variable region es: 1.5771349852380971\n",
      "El valor del VIF para la variable region_code es: 2.3858349795291307\n",
      "El valor del VIF para la variable district_code es: 2.1444706649282015\n",
      "El valor del VIF para la variable lga es: 1.3549982694036566\n",
      "El valor del VIF para la variable ward es: 1.0323911717037342\n",
      "El valor del VIF para la variable population es: 1.1123012510310277\n",
      "El valor del VIF para la variable public_meeting es: 1.1013900962831467\n",
      "El valor del VIF para la variable scheme_management es: 1.6776482744188155\n",
      "El valor del VIF para la variable permit es: 1.133229446431568\n",
      "El valor del VIF para la variable construction_year es: 3.5633452432284765\n",
      "El valor del VIF para la variable extraction_type es: 12.123873462731144\n",
      "El valor del VIF para la variable extraction_type_group es: 16.194771406981513\n",
      "El valor del VIF para la variable extraction_type_class es: 3.7090422419360096\n",
      "El valor del VIF para la variable management es: 2.324149433756122\n",
      "El valor del VIF para la variable management_group es: 1.767940025060635\n",
      "El valor del VIF para la variable payment es: 2.315570203793046\n",
      "El valor del VIF para la variable payment_type es: 2.5980914638879318\n",
      "El valor del VIF para la variable water_quality es: 1.0862188698031643\n",
      "El valor del VIF para la variable quality_group es: 1.1435702661527583\n",
      "El valor del VIF para la variable quantity es: inf\n"
     ]
    },
    {
     "name": "stderr",
     "output_type": "stream",
     "text": [
      "<ipython-input-48-807d5a62ee3d>:20: RuntimeWarning: divide by zero encountered in double_scalars\n",
      "  vif = 1 / (1 - model.score(x, y))\n",
      "<ipython-input-48-807d5a62ee3d>:20: RuntimeWarning: divide by zero encountered in double_scalars\n",
      "  vif = 1 / (1 - model.score(x, y))\n"
     ]
    },
    {
     "name": "stdout",
     "output_type": "stream",
     "text": [
      "El valor del VIF para la variable quantity_group es: inf\n",
      "El valor del VIF para la variable source es: 11.742828061262735\n",
      "El valor del VIF para la variable source_type es: 11.170139942796519\n",
      "El valor del VIF para la variable source_class es: 1.5251380960292231\n",
      "El valor del VIF para la variable waterpoint_type es: 37.68705890282712\n",
      "El valor del VIF para la variable waterpoint_type_group es: 35.27213399545989\n"
     ]
    }
   ],
   "source": [
    "# Function to detect the multicolinearity between variables:\n",
    "\n",
    "from sklearn.linear_model import LinearRegression\n",
    "\n",
    "\n",
    "train_vif = train.copy(deep = True)\n",
    "features = list(train_vif.columns)\n",
    "train_vif = train_vif[features]\n",
    "\n",
    "for i in range(len(features)):\n",
    "    var = features[i]\n",
    "    fet = features[:]\n",
    "    fet.remove(var)\n",
    "    \n",
    "    x = train_vif[fet]\n",
    "    y = train[var]\n",
    "    \n",
    "    model = LinearRegression()\n",
    "    model.fit(x, y)\n",
    "    \n",
    "    vif = 1 / (1 - model.score(x, y))\n",
    "    \n",
    "    print ('El valor del VIF para la variable', var, 'es:', vif)"
   ]
  },
  {
   "cell_type": "markdown",
   "id": "split-attack",
   "metadata": {},
   "source": [
    "In view of the fact that the RandomForest algorithm could obtain a better prediction if we leave some variables that a priori seem repeated and that increase collinearity, therefore we are not going to eliminate more variables for the moment."
   ]
  },
  {
   "cell_type": "code",
   "execution_count": 49,
   "id": "revised-behavior",
   "metadata": {},
   "outputs": [
    {
     "data": {
      "text/plain": [
       "Index(['amount_tsh', 'date_recorded', 'funder', 'gps_height', 'installer',\n",
       "       'longitude', 'latitude', 'wpt_name', 'basin', 'subvillage', 'region',\n",
       "       'region_code', 'district_code', 'lga', 'ward', 'population',\n",
       "       'public_meeting', 'scheme_management', 'permit', 'construction_year',\n",
       "       'extraction_type', 'extraction_type_group', 'extraction_type_class',\n",
       "       'management', 'management_group', 'payment', 'payment_type',\n",
       "       'water_quality', 'quality_group', 'quantity', 'quantity_group',\n",
       "       'source', 'source_type', 'source_class', 'waterpoint_type',\n",
       "       'waterpoint_type_group'],\n",
       "      dtype='object')"
      ]
     },
     "execution_count": 49,
     "metadata": {},
     "output_type": "execute_result"
    }
   ],
   "source": [
    "# variables in our df\n",
    "train.columns"
   ]
  },
  {
   "cell_type": "markdown",
   "id": "comfortable-popularity",
   "metadata": {},
   "source": [
    "### Preprocessing of the test dataset"
   ]
  },
  {
   "cell_type": "markdown",
   "id": "latter-horror",
   "metadata": {},
   "source": [
    "We are going to repeat the same process with the test set, we are not going to eliminate the variables that came out with high collinearity, the rest of the preprocessing we are going to do the same as in the train set."
   ]
  },
  {
   "cell_type": "code",
   "execution_count": 50,
   "id": "working-conducting",
   "metadata": {},
   "outputs": [],
   "source": [
    "test[\"funder\"] = test[\"funder\"].replace(np.nan, \"Desconocido\")\n",
    "test[\"installer\"] = test[\"installer\"].replace(np.nan, \"Desconocido\")\n",
    "test[\"subvillage\"] = test[\"subvillage\"].replace(np.nan, \"Desconocido\")\n",
    "test[\"public_meeting\"] = test[\"public_meeting\"].replace(np.nan, \"Desconocido\")\n",
    "test[\"scheme_management\"] = test[\"scheme_management\"].replace([np.nan, \"None\", \"Other\"], \"Other\")\n",
    "test[\"scheme_name\"] = test[\"scheme_name\"].replace([np.nan, \"None\"], \"None\")\n",
    "test[\"permit\"] = test[\"permit\"].replace(np.nan, \"Desconocido\")"
   ]
  },
  {
   "cell_type": "code",
   "execution_count": 51,
   "id": "pacific-archive",
   "metadata": {},
   "outputs": [],
   "source": [
    "test.drop(columns = [\"scheme_name\"], inplace = True)\n",
    "test.drop(columns = [\"num_private\"], inplace = True)\n",
    "test.drop(columns = [\"recorded_by\"], inplace = True)"
   ]
  },
  {
   "cell_type": "code",
   "execution_count": 52,
   "id": "unexpected-computer",
   "metadata": {},
   "outputs": [],
   "source": [
    "variables_categ_bin =[\"public_meeting\",\"permit\"]\n",
    "for j in variables_categ_bin:\n",
    "    test[j] = [0 if x == False else 1 for x in test[j]]"
   ]
  },
  {
   "cell_type": "code",
   "execution_count": 53,
   "id": "massive-italian",
   "metadata": {},
   "outputs": [],
   "source": [
    "\n",
    "year = test['date_recorded'].apply(lambda x: x[:4]).astype(int)\n",
    "test[\"date_recorded\"] = year\n",
    "\n",
    "t2 = LabelEncoder()\n",
    "funder_n = t2.fit_transform(test[\"funder\"])\n",
    "test[\"funder\"] = funder_n\n",
    "\n",
    "t3 = LabelEncoder()\n",
    "installer_n = t3.fit_transform(test[\"installer\"])\n",
    "test[\"installer\"] = installer_n\n",
    "\n",
    "t4 = LabelEncoder()\n",
    "wpt_name_n = t4.fit_transform(test[\"wpt_name\"])\n",
    "test[\"wpt_name\"] = wpt_name_n\n",
    "\n",
    "t5 = LabelEncoder()\n",
    "basin_n = t5.fit_transform(test[\"basin\"])\n",
    "test[\"basin\"] = basin_n\n",
    "\n",
    "t6 = LabelEncoder()\n",
    "subvillage_n = t6.fit_transform(test[\"subvillage\"])\n",
    "test[\"subvillage\"] = subvillage_n\n",
    "\n",
    "t7 = LabelEncoder()\n",
    "region_n = t7.fit_transform(test[\"region\"])\n",
    "test[\"region\"] = region_n\n",
    "\n",
    "t8 = LabelEncoder()\n",
    "lga_n = t8.fit_transform(test[\"lga\"])\n",
    "test[\"lga\"] = lga_n\n",
    "\n",
    "t9 = LabelEncoder()\n",
    "ward_n = t9.fit_transform(test[\"ward\"])\n",
    "test[\"ward\"] = ward_n\n",
    "\n",
    "t11 = LabelEncoder()\n",
    "scheme_management_n = t11.fit_transform(test[\"scheme_management\"])\n",
    "test[\"scheme_management\"] = scheme_management_n\n",
    "\n",
    "t12 = LabelEncoder()\n",
    "extraction_type_n = t12.fit_transform(test[\"extraction_type\"])\n",
    "test[\"extraction_type\"] = extraction_type_n\n",
    "\n",
    "t13 = LabelEncoder()\n",
    "extraction_type_group_n = t13.fit_transform(test[\"extraction_type_group\"])\n",
    "test[\"extraction_type_group\"] = extraction_type_group_n\n",
    "\n",
    "t14 = LabelEncoder()\n",
    "extraction_type_class_n = t14.fit_transform(test[\"extraction_type_class\"])\n",
    "test[\"extraction_type_class\"] = extraction_type_class_n\n",
    "\n",
    "t15 = LabelEncoder()\n",
    "management_n = t15.fit_transform(test[\"management\"])\n",
    "test[\"management\"] = management_n\n",
    "\n",
    "t16 = LabelEncoder()\n",
    "management_group_n = t16.fit_transform(test[\"management_group\"])\n",
    "test[\"management_group\"] = management_group_n\n",
    "\n",
    "t17 = LabelEncoder()\n",
    "payment_n = t7.fit_transform(test[\"payment\"])\n",
    "test[\"payment\"] = payment_n\n",
    "\n",
    "t18 = LabelEncoder()\n",
    "payment_type_n = t18.fit_transform(test[\"payment_type\"])\n",
    "test[\"payment_type\"] = payment_type_n\n",
    "\n",
    "t19 = LabelEncoder()\n",
    "water_quality_n = t19.fit_transform(test[\"water_quality\"])\n",
    "test[\"water_quality\"] = water_quality_n\n",
    "\n",
    "t20 = LabelEncoder()\n",
    "quality_group_n = t19.fit_transform(test[\"quality_group\"])\n",
    "test[\"quality_group\"] = quality_group_n\n",
    "\n",
    "t21 = LabelEncoder()\n",
    "quantity_n = t19.fit_transform(test[\"quantity\"])\n",
    "test[\"quantity\"] = quantity_n\n",
    "\n",
    "t22 = LabelEncoder()\n",
    "quantity_group_n = t19.fit_transform(test[\"quantity_group\"])\n",
    "test[\"quantity_group\"] = quantity_group_n\n",
    "\n",
    "t23 = LabelEncoder()\n",
    "source_n = t23.fit_transform(test[\"source\"])\n",
    "test[\"source\"] = source_n\n",
    "\n",
    "t24= LabelEncoder()\n",
    "source_type_n = t24.fit_transform(test[\"source_type\"])\n",
    "test[\"source_type\"] = source_type_n\n",
    "\n",
    "t25 = LabelEncoder()\n",
    "source_class_n = t25.fit_transform(test[\"source_class\"])\n",
    "test[\"source_class\"] = source_class_n\n",
    "\n",
    "t26 = LabelEncoder()\n",
    "waterpoint_type_n = t26.fit_transform(test[\"waterpoint_type\"])\n",
    "test[\"waterpoint_type\"] = waterpoint_type_n\n",
    "\n",
    "t27 = LabelEncoder()\n",
    "waterpoint_type_group_n = t27.fit_transform(test[\"waterpoint_type_group\"])\n",
    "test[\"waterpoint_type_group\"] = waterpoint_type_group_n"
   ]
  },
  {
   "cell_type": "code",
   "execution_count": 54,
   "id": "twelve-scotland",
   "metadata": {},
   "outputs": [
    {
     "data": {
      "text/plain": [
       "(14850, 37)"
      ]
     },
     "execution_count": 54,
     "metadata": {},
     "output_type": "execute_result"
    }
   ],
   "source": [
    "test.shape"
   ]
  },
  {
   "cell_type": "code",
   "execution_count": 55,
   "id": "silent-smith",
   "metadata": {},
   "outputs": [],
   "source": [
    "# We also set the id of the test data set and check that it has the same dimensions as the train set\n",
    "test.set_index([\"id\"],inplace=True)"
   ]
  },
  {
   "cell_type": "code",
   "execution_count": 56,
   "id": "innovative-intro",
   "metadata": {},
   "outputs": [
    {
     "data": {
      "text/plain": [
       "(59400, 36)"
      ]
     },
     "execution_count": 56,
     "metadata": {},
     "output_type": "execute_result"
    }
   ],
   "source": [
    "train.shape"
   ]
  },
  {
   "cell_type": "code",
   "execution_count": 57,
   "id": "exempt-farming",
   "metadata": {},
   "outputs": [
    {
     "data": {
      "text/plain": [
       "(14850, 36)"
      ]
     },
     "execution_count": 57,
     "metadata": {},
     "output_type": "execute_result"
    }
   ],
   "source": [
    "test.shape"
   ]
  },
  {
   "cell_type": "markdown",
   "id": "revolutionary-enzyme",
   "metadata": {},
   "source": [
    "### Stratified sampling, train-test sets"
   ]
  },
  {
   "cell_type": "markdown",
   "id": "naughty-uncertainty",
   "metadata": {},
   "source": [
    "This time they have provided us with the training set and the validation set, the labels to predict have exactly the same number of data as the training set therefore, our model has to be trained only with the data from the train set, to subsequently predict the labels of the test set."
   ]
  },
  {
   "cell_type": "code",
   "execution_count": 58,
   "id": "skilled-velvet",
   "metadata": {},
   "outputs": [],
   "source": [
    "# reading the labels\n",
    "labels = pd.read_csv(\"Training_labels.csv\")\n",
    "# Setting the \"id\" also in the labels\n",
    "labels.set_index(\"id\", inplace = True)"
   ]
  },
  {
   "cell_type": "code",
   "execution_count": 59,
   "id": "complete-track",
   "metadata": {},
   "outputs": [
    {
     "data": {
      "text/plain": [
       "(59400, 1)"
      ]
     },
     "execution_count": 59,
     "metadata": {},
     "output_type": "execute_result"
    }
   ],
   "source": [
    "# Checking if the dimensions are the same number of cases we have in the \"train\" set\n",
    "labels.shape"
   ]
  },
  {
   "cell_type": "markdown",
   "id": "weighted-certification",
   "metadata": {},
   "source": [
    "The most convenient way to work with models and avoid errors is to convert the labels into numeric variables"
   ]
  },
  {
   "cell_type": "code",
   "execution_count": 60,
   "id": "united-oxford",
   "metadata": {},
   "outputs": [
    {
     "data": {
      "text/plain": [
       "status_group    object\n",
       "dtype: object"
      ]
     },
     "execution_count": 60,
     "metadata": {},
     "output_type": "execute_result"
    }
   ],
   "source": [
    "# labels are a categorical variable, it must be converted to numeric\n",
    "labels.dtypes"
   ]
  },
  {
   "cell_type": "code",
   "execution_count": 61,
   "id": "editorial-chemistry",
   "metadata": {},
   "outputs": [],
   "source": [
    "# We convert the target to numeric with label encoder and substitute in the original variable\n",
    "t28 = LabelEncoder()\n",
    "status_group_n = t28.fit_transform(labels[\"status_group\"])\n",
    "labels[\"status_group\"] = status_group_n"
   ]
  },
  {
   "cell_type": "markdown",
   "id": "imperial-rates",
   "metadata": {},
   "source": [
    "We are going to perform a training-test partition only taking two features or variables from the dataset, in order to make two-dimensional representations of some of the models that we are going to test, later we will perform the partition using all the variables of the dataset"
   ]
  },
  {
   "cell_type": "code",
   "execution_count": 62,
   "id": "lonely-airfare",
   "metadata": {},
   "outputs": [],
   "source": [
    "# dataset train with just 2 features\n",
    "train2 = train.iloc[:, 1:3]"
   ]
  },
  {
   "cell_type": "code",
   "execution_count": 63,
   "id": "awful-sampling",
   "metadata": {},
   "outputs": [],
   "source": [
    "# We do the stratified sampling with this 2-column dataset\n",
    "X_train, X_test, y_train, y_test = train_test_split(\n",
    "train2,\n",
    "labels,\n",
    "test_size=0.3,\n",
    "random_state=42, \n",
    "stratify=labels)"
   ]
  },
  {
   "cell_type": "markdown",
   "id": "earned-queensland",
   "metadata": {},
   "source": [
    "We check that the proportions are okay"
   ]
  },
  {
   "cell_type": "code",
   "execution_count": 64,
   "id": "suburban-episode",
   "metadata": {},
   "outputs": [
    {
     "data": {
      "text/plain": [
       "(41580, 2)"
      ]
     },
     "execution_count": 64,
     "metadata": {},
     "output_type": "execute_result"
    }
   ],
   "source": [
    "X_train.shape"
   ]
  },
  {
   "cell_type": "code",
   "execution_count": 65,
   "id": "handmade-college",
   "metadata": {},
   "outputs": [
    {
     "data": {
      "text/plain": [
       "(17820, 2)"
      ]
     },
     "execution_count": 65,
     "metadata": {},
     "output_type": "execute_result"
    }
   ],
   "source": [
    "X_test.shape"
   ]
  },
  {
   "cell_type": "code",
   "execution_count": 66,
   "id": "metric-outdoors",
   "metadata": {},
   "outputs": [
    {
     "data": {
      "text/plain": [
       "(41580, 1)"
      ]
     },
     "execution_count": 66,
     "metadata": {},
     "output_type": "execute_result"
    }
   ],
   "source": [
    "y_train.shape"
   ]
  },
  {
   "cell_type": "code",
   "execution_count": 67,
   "id": "simple-necessity",
   "metadata": {},
   "outputs": [
    {
     "data": {
      "text/plain": [
       "(17820, 1)"
      ]
     },
     "execution_count": 67,
     "metadata": {},
     "output_type": "execute_result"
    }
   ],
   "source": [
    "y_test.shape"
   ]
  },
  {
   "cell_type": "markdown",
   "id": "distinguished-proportion",
   "metadata": {},
   "source": [
    "### Variable scaling"
   ]
  },
  {
   "cell_type": "markdown",
   "id": "terminal-monthly",
   "metadata": {},
   "source": [
    "Many of the machine learning and optimization algorithms require variable scaling to obtain optimal performance."
   ]
  },
  {
   "cell_type": "code",
   "execution_count": 68,
   "id": "banned-count",
   "metadata": {},
   "outputs": [],
   "source": [
    "from sklearn.preprocessing import StandardScaler\n",
    "sc = StandardScaler()\n",
    "sc.fit(train2)\n",
    "X_train_std = sc.transform(X_train)\n",
    "X_test_std = sc.transform(X_test)"
   ]
  },
  {
   "cell_type": "markdown",
   "id": "greenhouse-documentary",
   "metadata": {},
   "source": [
    " ## Classification techniques"
   ]
  },
  {
   "cell_type": "markdown",
   "id": "applied-biotechnology",
   "metadata": {},
   "source": [
    "### Algoritmo de Perceptron para clasificar"
   ]
  },
  {
   "cell_type": "code",
   "execution_count": 69,
   "id": "pointed-iceland",
   "metadata": {},
   "outputs": [
    {
     "data": {
      "text/plain": [
       "Perceptron(eta0=0.1, random_state=42)"
      ]
     },
     "execution_count": 69,
     "metadata": {},
     "output_type": "execute_result"
    }
   ],
   "source": [
    "# Perceptron model \n",
    "from sklearn.linear_model import Perceptron\n",
    "ppn = Perceptron(eta0=0.1, random_state=42)\n",
    "ppn.fit(X_train_std, y_train.values.ravel())"
   ]
  },
  {
   "cell_type": "code",
   "execution_count": 70,
   "id": "turkish-negotiation",
   "metadata": {},
   "outputs": [
    {
     "name": "stdout",
     "output_type": "stream",
     "text": [
      "Misclassified examples: 8428\n"
     ]
    }
   ],
   "source": [
    "# Number of misclassified cases\n",
    "y_pred = ppn.predict(X_test_std)\n",
    "print(\"Misclassified examples: %d\" % (y_test.values.ravel() !=y_pred).sum())"
   ]
  },
  {
   "cell_type": "code",
   "execution_count": 71,
   "id": "deadly-ghana",
   "metadata": {},
   "outputs": [
    {
     "name": "stdout",
     "output_type": "stream",
     "text": [
      "Accuracy score: 0.527\n"
     ]
    }
   ],
   "source": [
    "# Percentage of success in the classification\n",
    "from sklearn.metrics import accuracy_score\n",
    "print(\"Accuracy score: %.3f\" % accuracy_score(y_test, y_pred))"
   ]
  },
  {
   "cell_type": "markdown",
   "id": "novel-cornwall",
   "metadata": {},
   "source": [
    "As a result, we see that this algorithm does not work well to classify this data set, it is not capable of predicting the labels with a high percentage, it only does so with a probability of 52%, that is, almost half of the time this model is used. it would be confusing when making predictions. We can see it more graphically in the following graph:"
   ]
  },
  {
   "cell_type": "code",
   "execution_count": 72,
   "id": "convinced-healthcare",
   "metadata": {},
   "outputs": [],
   "source": [
    "# Function to graph the model in 2 dimensions\n",
    "from matplotlib.colors import ListedColormap\n",
    "import matplotlib.pyplot as plt\n",
    "\n",
    "def plot_decision_regions(X, y, classifier, test_idx=None,\n",
    "                         resolution=0.02):\n",
    "    # setup marker generator and color map\n",
    "    markers = (\"s\", \"x\", \"o\", \"^\", \"v\")\n",
    "    colors =(\"red\", \"blue\", \"lightgreen\", \"gray\", \"cyan\")\n",
    "    cmap= ListedColormap(colors[:len(np.unique(y))])\n",
    "    \n",
    "    # plot the decision surface\n",
    "    x1_min, x1_max = X[:, 0].min() - 1, X[:, 0].max() + 1\n",
    "    x2_min, x2_max = X[:, 1].min() - 1, X[:, 1].max() + 1\n",
    "    xx1, xx2 = np.meshgrid(np.arange(x1_min, x1_max, resolution),\n",
    "                          np.arange(x2_min, x2_max, resolution))\n",
    "    Z = classifier.predict(np.array([xx1.ravel(), xx2.ravel()]).T)\n",
    "    Z = Z.reshape(xx1.shape)\n",
    "    plt.contourf(xx1, xx2, Z, alpha=0.3, cmap=cmap)\n",
    "    plt.xlim(xx1.min(), xx1.max())\n",
    "    plt.ylim(xx2.min(), xx2.max())\n",
    "    \n",
    "    for idx, cl in enumerate(np.unique(y)):\n",
    "        plt.scatter(x=X[y == cl, 0], y=X[y == cl, 1],\n",
    "                   alpha=0.8, c= colors[idx],\n",
    "                   marker=markers[idx], label= cl,\n",
    "                   edgecolor=\"black\")\n",
    "    # highlight test examples\n",
    "    if test_idx:\n",
    "        #plot all examples\n",
    "        X_test, y_test = X[test_idx, :], y[test_idx]\n",
    "        \n",
    "        plt.scatter(X_test[:, 0], X_test[:, 1],\n",
    "                   c=\"yellow\", edgecolor=\"black\", alpha=1.0,\n",
    "                   linewidth=1, marker=\"o\",\n",
    "                   s=100, label=\"test set\")"
   ]
  },
  {
   "cell_type": "code",
   "execution_count": 73,
   "id": "frozen-uganda",
   "metadata": {},
   "outputs": [
    {
     "data": {
      "image/png": "[encoded data removed]",
      "text/plain": [
       "<Figure size 432x288 with 1 Axes>"
      ]
     },
     "metadata": {
      "needs_background": "light"
     },
     "output_type": "display_data"
    }
   ],
   "source": [
    "# plotting the model\n",
    "X_combined_std =np.vstack((X_train_std, X_test_std))\n",
    "y_combined = np.hstack((y_train.values.ravel(), y_test.values.ravel()))\n",
    "plot_decision_regions(X=X_combined_std,\n",
    "                     y=y_combined,\n",
    "                     classifier=ppn,\n",
    "                     test_idx=range(1, 50))\n",
    "plt.xlabel(\"amount_tst [ standarized]\")\n",
    "plt.ylabel(\"date_recorded [standarized]\")\n",
    "plt.legend(loc=\"upper left\")\n",
    "plt.tight_layout()\n",
    "plt.show()"
   ]
  },
  {
   "cell_type": "markdown",
   "id": "micro-shepherd",
   "metadata": {},
   "source": [
    "The colors on the map represent the labels or the classes, and what the model does is classify each case of our dataset, for it to be considered a good model we should be able to appreciate a clearer transfer boundary that the model classifies the points well, here what we see is that most of the cases are classified in class 0 and there are even many cases of class 2 (green) that are classified in class 0. As a conclusion we can say that the perceptron algorithm does not work well in datasets that are not perfectly separable in a linear way as is the case with our data."
   ]
  },
  {
   "cell_type": "markdown",
   "id": "complex-shame",
   "metadata": {},
   "source": [
    " ### Decison trees\n"
   ]
  },
  {
   "cell_type": "markdown",
   "id": "nasty-liverpool",
   "metadata": {},
   "source": [
    "We are going to use the decision tree as a classification method, remember that we are only using two of the features of the dataset \"amount_tsh\" and \"date_recorded\" due to the representation in a two-dimensional plane."
   ]
  },
  {
   "cell_type": "code",
   "execution_count": 74,
   "id": "surprising-destiny",
   "metadata": {},
   "outputs": [
    {
     "data": {
      "image/png": "[encoded data removed]",
      "text/plain": [
       "<Figure size 432x288 with 1 Axes>"
      ]
     },
     "metadata": {
      "needs_background": "light"
     },
     "output_type": "display_data"
    }
   ],
   "source": [
    "# Adjusting the model\n",
    "tree_model = DecisionTreeClassifier(criterion = \"gini\", # Gini criterion\n",
    "                                    max_depth=6, # Max depth of each tree\n",
    "                                    random_state=42) # Seed\n",
    "tree_model.fit(X_train, y_train)\n",
    "X_combined = np.vstack((X_train, X_test))\n",
    "y_combined = np.hstack((y_train.values.ravel(), y_test.values.ravel()))\n",
    "plot_decision_regions(X_combined,\n",
    "                     y_combined,\n",
    "                     classifier=tree_model,\n",
    "                     test_idx=range(1,50))\n",
    "plt.xlabel(\"amount_tsh\")\n",
    "plt.ylabel(\"date_recorded\")\n",
    "plt.legend(loc=\"upper left\")\n",
    "plt.tight_layout()\n",
    "plt.show()\n",
    "\n",
    "y_pred = tree_model.predict(X_test)"
   ]
  },
  {
   "cell_type": "code",
   "execution_count": 75,
   "id": "alone-elizabeth",
   "metadata": {},
   "outputs": [
    {
     "name": "stdout",
     "output_type": "stream",
     "text": [
      "Accuracy: 0.589337822671156\n"
     ]
    }
   ],
   "source": [
    "print(\"Accuracy:\",accuracy_score(y_test, y_pred))"
   ]
  },
  {
   "cell_type": "markdown",
   "id": "further-mexican",
   "metadata": {},
   "source": [
    "It seems that our data have reacted well to the decision tree, we have improved the precision of the model with respect to the perceptron model to reach almost 60% using only two variables, also with a depth level of the trees of 6. Which suggests that the decision tree could be a good classification method for our data."
   ]
  },
  {
   "cell_type": "code",
   "execution_count": 76,
   "id": "cultural-christopher",
   "metadata": {},
   "outputs": [
    {
     "data": {
      "image/png": "[encoded data removed]",
      "text/plain": [
       "<Figure size 432x288 with 1 Axes>"
      ]
     },
     "metadata": {
      "needs_background": "light"
     },
     "output_type": "display_data"
    }
   ],
   "source": [
    "from sklearn import tree\n",
    "tree.plot_tree(tree_model)\n",
    "plt.show()"
   ]
  },
  {
   "cell_type": "markdown",
   "id": "fancy-resort",
   "metadata": {},
   "source": [
    "The next step would be to train our decision tree model with all the variables from the dataset and compare the results of the new tree with the tree that we have made previously. To do this, the first thing we have to do is perform the stratified sampling again, this time entering ALL the variables of the dataset"
   ]
  },
  {
   "cell_type": "code",
   "execution_count": 77,
   "id": "floating-language",
   "metadata": {},
   "outputs": [],
   "source": [
    "# We perform the training-test partitions on the train data set (our training set)\n",
    "X_train, X_test, y_train, y_test = train_test_split(train,\n",
    "                                                    labels, \n",
    "                                                    test_size = 0.3,\n",
    "                                                    random_state = 42, \n",
    "                                                    stratify = labels \n",
    "\n",
    ")"
   ]
  },
  {
   "cell_type": "markdown",
   "id": "detailed-sleeping",
   "metadata": {},
   "source": [
    "This time we will no longer be able to observe the behavior of the function in a plane because here we already have many variables"
   ]
  },
  {
   "cell_type": "code",
   "execution_count": 78,
   "id": "public-rhythm",
   "metadata": {},
   "outputs": [],
   "source": [
    "# Adjusting the model\n",
    "tree_model = DecisionTreeClassifier(criterion = \"gini\", # Criterio de impureza de Gini\n",
    "                                    max_depth=6, # Máximo de profundidad de cada árbol\n",
    "                                    random_state=42) # Semilla\n",
    "tree_model.fit(X_train, y_train)\n",
    "y_pred = tree_model.predict(X_test)"
   ]
  },
  {
   "cell_type": "code",
   "execution_count": 79,
   "id": "lucky-awareness",
   "metadata": {},
   "outputs": [
    {
     "name": "stdout",
     "output_type": "stream",
     "text": [
      "Accuracy: 0.7222222222222222\n"
     ]
    }
   ],
   "source": [
    "# Accuracy test\n",
    "print(\"Accuracy:\",accuracy_score(y_test, y_pred))"
   ]
  },
  {
   "cell_type": "markdown",
   "id": "smaller-priority",
   "metadata": {},
   "source": [
    "As we can see, the level of precision has improved a lot, this is very good news, because it means that applying a more powerful algorithm that combines multiple decision trees such as Random Forest, we could obtain very good results.\n"
   ]
  },
  {
   "cell_type": "markdown",
   "id": "stable-insight",
   "metadata": {},
   "source": [
    "### Random Forest"
   ]
  },
  {
   "cell_type": "code",
   "execution_count": 80,
   "id": "difficult-insertion",
   "metadata": {},
   "outputs": [],
   "source": [
    "forest = RandomForestClassifier( criterion = \"entropy\",\n",
    "                                n_estimators = 300,\n",
    "                                random_state = 42,\n",
    "                                n_jobs = 2)\n",
    "forest.fit(X_train, y_train.values.ravel())\n",
    "\n",
    "# predictions\n",
    "y_pred = forest.predict(X_test)\n"
   ]
  },
  {
   "cell_type": "code",
   "execution_count": 81,
   "id": "removable-garbage",
   "metadata": {},
   "outputs": [
    {
     "name": "stdout",
     "output_type": "stream",
     "text": [
      "Accuracy: 0.8111111111111111\n"
     ]
    }
   ],
   "source": [
    "# Accuracy test\n",
    "print(\"Accuracy:\",accuracy_score(y_test, y_pred))"
   ]
  },
  {
   "cell_type": "markdown",
   "id": "intense-socket",
   "metadata": {},
   "source": [
    "We obtain a precision values ​​of 81%, we will perform repeated cross validation to confirm these results"
   ]
  },
  {
   "cell_type": "code",
   "execution_count": 228,
   "id": "white-mainstream",
   "metadata": {},
   "outputs": [],
   "source": [
    "# cross validation\n",
    "resultados = cross_val_score(estimator=forest, X=X_train, y=y_train.values.ravel(), cv=10)"
   ]
  },
  {
   "cell_type": "code",
   "execution_count": 229,
   "id": "activated-forth",
   "metadata": {},
   "outputs": [
    {
     "name": "stdout",
     "output_type": "stream",
     "text": [
      "[0.8003848  0.8027898  0.80711881 0.80543531 0.81120731 0.81144781\n",
      " 0.8047138  0.8027898  0.81505532 0.80687831]\n"
     ]
    }
   ],
   "source": [
    "print(resultados)"
   ]
  },
  {
   "cell_type": "code",
   "execution_count": 230,
   "id": "eligible-fight",
   "metadata": {},
   "outputs": [
    {
     "name": "stdout",
     "output_type": "stream",
     "text": [
      "0.8067821067821068\n"
     ]
    }
   ],
   "source": [
    "# mean of that results\n",
    "print(resultados.mean())"
   ]
  },
  {
   "cell_type": "code",
   "execution_count": 231,
   "id": "generous-subdivision",
   "metadata": {},
   "outputs": [
    {
     "name": "stdout",
     "output_type": "stream",
     "text": [
      "0.004345274326529782\n"
     ]
    }
   ],
   "source": [
    "# Variance \n",
    "print(resultados.std())"
   ]
  },
  {
   "cell_type": "markdown",
   "id": "intellectual-identifier",
   "metadata": {},
   "source": [
    "## Ensemble models, classification with Boosting, AdaBoost y Bagging"
   ]
  },
  {
   "cell_type": "markdown",
   "id": "moderate-horizontal",
   "metadata": {},
   "source": [
    "### Boosting"
   ]
  },
  {
   "cell_type": "code",
   "execution_count": 87,
   "id": "given-tobago",
   "metadata": {},
   "outputs": [
    {
     "name": "stdout",
     "output_type": "stream",
     "text": [
      "Wall time: 0 ns\n",
      "[12:00:29] WARNING: C:/Users/Administrator/workspace/xgboost-win64_release_1.3.0/src/learner.cc:1061: Starting in XGBoost 1.3.0, the default evaluation metric used with the objective 'multi:softprob' was changed from 'merror' to 'mlogloss'. Explicitly set eval_metric if you'd like to restore the old behavior.\n"
     ]
    }
   ],
   "source": [
    "%time\n",
    "boost = XGBClassifier(use_label_encoder = False) # hiperparámetro use_label_encoder para solucionar problema con labels\n",
    "boost.fit(X_train, y_train)\n",
    "#Predicciones\n",
    "y_pred = boost.predict(X_test)"
   ]
  },
  {
   "cell_type": "code",
   "execution_count": 88,
   "id": "civil-appraisal",
   "metadata": {},
   "outputs": [
    {
     "name": "stdout",
     "output_type": "stream",
     "text": [
      "Accuracy: 0.7991582491582492\n"
     ]
    }
   ],
   "source": [
    "print(\"Accuracy:\",accuracy_score(y_test, y_pred))"
   ]
  },
  {
   "cell_type": "markdown",
   "id": "driven-korean",
   "metadata": {},
   "source": [
    "boosting worsens results by 2%"
   ]
  },
  {
   "cell_type": "markdown",
   "id": "mathematical-rubber",
   "metadata": {},
   "source": [
    "### Adjusting AdaBoost"
   ]
  },
  {
   "cell_type": "code",
   "execution_count": 89,
   "id": "opening-battery",
   "metadata": {},
   "outputs": [
    {
     "name": "stdout",
     "output_type": "stream",
     "text": [
      "Decision tree/test accuracies 0.699/0.695\n",
      "AdaBoost train/test accuracies 0.804/0.757\n"
     ]
    }
   ],
   "source": [
    "from sklearn.ensemble import AdaBoostClassifier\n",
    "\n",
    "tree = DecisionTreeClassifier(criterion=\"entropy\",\n",
    "                             random_state=42,\n",
    "                             max_depth=4)\n",
    "\n",
    "ada = AdaBoostClassifier(base_estimator=tree,\n",
    "                        n_estimators=500,\n",
    "                        learning_rate=0.1,\n",
    "                        random_state=42)\n",
    "\n",
    "tree = tree.fit(X_train, y_train.values.ravel())\n",
    "y_train_pred = tree.predict(X_train)\n",
    "y_test_pred  = tree.predict(X_test)\n",
    "tree_train = accuracy_score(y_train, y_train_pred)\n",
    "tree_test = accuracy_score(y_test, y_test_pred)\n",
    "print(\"Decision tree/test accuracies %.3f/%.3f\"\n",
    "        % (tree_train, tree_test))\n",
    "\n",
    "ada = ada.fit(X_train, y_train.values.ravel())\n",
    "y_train_pred = ada.predict(X_train)\n",
    "y_test_pred =ada.predict(X_test)\n",
    "ada_train =accuracy_score(y_train, y_train_pred)\n",
    "ada_test = accuracy_score(y_test, y_test_pred)\n",
    "print(\"AdaBoost train/test accuracies %.3f/%.3f\"\n",
    "        % (ada_train, ada_test))"
   ]
  },
  {
   "cell_type": "markdown",
   "id": "senior-attribute",
   "metadata": {},
   "source": [
    "With this model, the decision tree works moderately, and there are not many differences between training tests, however with AdaBoost in train we obtain very good results but there are differences with respect to what is obtained in test.\n"
   ]
  },
  {
   "cell_type": "markdown",
   "id": "handmade-miracle",
   "metadata": {},
   "source": [
    "### Adjusting the Bagging model"
   ]
  },
  {
   "cell_type": "code",
   "execution_count": 90,
   "id": "missing-trick",
   "metadata": {},
   "outputs": [
    {
     "name": "stdout",
     "output_type": "stream",
     "text": [
      "Decision tree/test accuracies 0.699/0.695\n",
      "Bagging train/test accuracies 0.697/0.696\n"
     ]
    }
   ],
   "source": [
    "from sklearn.ensemble import BaggingClassifier\n",
    "\n",
    "tree = DecisionTreeClassifier(criterion=\"entropy\",\n",
    "                             random_state=42,\n",
    "                             max_depth=4)\n",
    "\n",
    "bag = BaggingClassifier(base_estimator=tree,\n",
    "                       n_estimators = 500,\n",
    "                       max_samples=1.0,\n",
    "                       max_features=1.0,\n",
    "                       bootstrap=True,\n",
    "                       bootstrap_features=False,\n",
    "                       n_jobs=1,\n",
    "                       random_state=1)\n",
    "\n",
    "tree = tree.fit(X_train, y_train.values.ravel())\n",
    "y_train_pred = tree.predict(X_train)\n",
    "y_test_pred  = tree.predict(X_test)\n",
    "tree_train = accuracy_score(y_train, y_train_pred)\n",
    "tree_test = accuracy_score(y_test, y_test_pred)\n",
    "print(\"Decision tree/test accuracies %.3f/%.3f\"\n",
    "        % (tree_train, tree_test))\n",
    "\n",
    "bag = bag.fit(X_train, y_train.values.ravel())\n",
    "y_train_pred = bag.predict(X_train)\n",
    "y_test_pred =bag.predict(X_test)\n",
    "bag_train =accuracy_score(y_train, y_train_pred)\n",
    "bag_test = accuracy_score(y_test, y_test_pred)\n",
    "print(\"Bagging train/test accuracies %.3f/%.3f\"\n",
    "        % (bag_train, bag_test))"
   ]
  },
  {
   "cell_type": "markdown",
   "id": "interstate-religion",
   "metadata": {},
   "source": [
    "With Bagging we have not been able to improve the results"
   ]
  },
  {
   "cell_type": "markdown",
   "id": "monetary-caution",
   "metadata": {},
   "source": [
    "### Model automation, hyperparameter tuning"
   ]
  },
  {
   "cell_type": "markdown",
   "id": "rotary-cursor",
   "metadata": {},
   "source": [
    "As we have obtained the best results with RandomForest, this will be the classification method to which we are going to apply an optimization of the hyperparameters and later train our model with the best hyperparameters."
   ]
  },
  {
   "cell_type": "code",
   "execution_count": 95,
   "id": "honest-immune",
   "metadata": {},
   "outputs": [],
   "source": [
    "from sklearn.model_selection import GridSearchCV"
   ]
  },
  {
   "cell_type": "code",
   "execution_count": 96,
   "id": "associate-scroll",
   "metadata": {},
   "outputs": [
    {
     "data": {
      "text/plain": [
       "RandomForestClassifier(n_jobs=2, random_state=42)"
      ]
     },
     "execution_count": 96,
     "metadata": {},
     "output_type": "execute_result"
    }
   ],
   "source": [
    "forest"
   ]
  },
  {
   "cell_type": "code",
   "execution_count": 97,
   "id": "forward-traveler",
   "metadata": {},
   "outputs": [],
   "source": [
    "grid_param = {\n",
    "    'n_estimators': [100, 300, 500, 800, 1000],\n",
    "    'criterion': ['gini', 'entropy'],\n",
    "    'bootstrap': [True, False]\n",
    "}"
   ]
  },
  {
   "cell_type": "code",
   "execution_count": 98,
   "id": "double-shade",
   "metadata": {},
   "outputs": [],
   "source": [
    "model_grid = GridSearchCV(estimator=forest,\n",
    "                     param_grid=grid_param,\n",
    "                     scoring='accuracy',\n",
    "                     cv=10,\n",
    "                     n_jobs=2)"
   ]
  },
  {
   "cell_type": "code",
   "execution_count": 100,
   "id": "frozen-jefferson",
   "metadata": {},
   "outputs": [
    {
     "data": {
      "text/plain": [
       "GridSearchCV(cv=10, estimator=RandomForestClassifier(n_jobs=2, random_state=42),\n",
       "             n_jobs=2,\n",
       "             param_grid={'bootstrap': [True, False],\n",
       "                         'criterion': ['gini', 'entropy'],\n",
       "                         'n_estimators': [100, 300, 500, 800, 1000]},\n",
       "             scoring='accuracy')"
      ]
     },
     "execution_count": 100,
     "metadata": {},
     "output_type": "execute_result"
    }
   ],
   "source": [
    "model_grid.fit(X_train, y_train.values.ravel())"
   ]
  },
  {
   "cell_type": "code",
   "execution_count": 101,
   "id": "indirect-cooking",
   "metadata": {},
   "outputs": [
    {
     "name": "stdout",
     "output_type": "stream",
     "text": [
      "{'bootstrap': True, 'criterion': 'entropy', 'n_estimators': 300}\n"
     ]
    }
   ],
   "source": [
    "print(model_grid.best_params_)"
   ]
  },
  {
   "cell_type": "markdown",
   "id": "digital-optics",
   "metadata": {},
   "source": [
    "In our best model, which has been RandomForest, we substitute these hyperparameters to obtain the best result."
   ]
  },
  {
   "cell_type": "code",
   "execution_count": 102,
   "id": "documented-welcome",
   "metadata": {},
   "outputs": [
    {
     "name": "stdout",
     "output_type": "stream",
     "text": [
      "0.8067821067821068\n"
     ]
    }
   ],
   "source": [
    "print(model_grid.best_score_)"
   ]
  },
  {
   "cell_type": "markdown",
   "id": "subjective-suite",
   "metadata": {},
   "source": [
    "### Building our predictions with our best model"
   ]
  },
  {
   "cell_type": "markdown",
   "id": "awful-birmingham",
   "metadata": {},
   "source": [
    "Finally we will choose the RandomForest model to make our predictions"
   ]
  },
  {
   "cell_type": "code",
   "execution_count": 83,
   "id": "single-parliament",
   "metadata": {},
   "outputs": [],
   "source": [
    "predictions = forest.predict(test)"
   ]
  },
  {
   "cell_type": "code",
   "execution_count": 84,
   "id": "urban-species",
   "metadata": {},
   "outputs": [],
   "source": [
    "# We save the id of our test dataset in a variable\n",
    "indexes = test.index"
   ]
  },
  {
   "cell_type": "code",
   "execution_count": 88,
   "id": "seven-adaptation",
   "metadata": {},
   "outputs": [],
   "source": [
    "# We create the df with a column that will contain the predictions contained by \"y_pred_test\"\n",
    "df_submission = pd.DataFrame(predictions)\n",
    "# We rename the column\n",
    "df_submission = df_submission.rename(columns = {0: \"status_group\"})"
   ]
  },
  {
   "cell_type": "code",
   "execution_count": 89,
   "id": "consolidated-catering",
   "metadata": {},
   "outputs": [],
   "source": [
    "# We already remove the labelencoder, we already substitute the integer values for their corresponding class of \"status_group\"\n",
    "df_submission.status_group = df_submission.status_group.replace({ 0 : \"functional\", 2: \"non functional\", 1 : \"functional needs repair\"})"
   ]
  },
  {
   "cell_type": "code",
   "execution_count": 90,
   "id": "experienced-seafood",
   "metadata": {},
   "outputs": [],
   "source": [
    "# we put a new column with the \"id\"\n",
    "df_submission[\"id\"] = indexes\n",
    "# we set the \"id\" as index\n",
    "df_submission = df_submission.set_index(\"id\")"
   ]
  },
  {
   "cell_type": "code",
   "execution_count": 91,
   "id": "polyphonic-casting",
   "metadata": {},
   "outputs": [
    {
     "data": {
      "text/html": [
       "<div>\n",
       "<style scoped>\n",
       "    .dataframe tbody tr th:only-of-type {\n",
       "        vertical-align: middle;\n",
       "    }\n",
       "\n",
       "    .dataframe tbody tr th {\n",
       "        vertical-align: top;\n",
       "    }\n",
       "\n",
       "    .dataframe thead th {\n",
       "        text-align: right;\n",
       "    }\n",
       "</style>\n",
       "<table border=\"1\" class=\"dataframe\">\n",
       "  <thead>\n",
       "    <tr style=\"text-align: right;\">\n",
       "      <th></th>\n",
       "      <th>status_group</th>\n",
       "    </tr>\n",
       "    <tr>\n",
       "      <th>id</th>\n",
       "      <th></th>\n",
       "    </tr>\n",
       "  </thead>\n",
       "  <tbody>\n",
       "    <tr>\n",
       "      <th>50785</th>\n",
       "      <td>non functional</td>\n",
       "    </tr>\n",
       "    <tr>\n",
       "      <th>51630</th>\n",
       "      <td>functional</td>\n",
       "    </tr>\n",
       "    <tr>\n",
       "      <th>17168</th>\n",
       "      <td>functional</td>\n",
       "    </tr>\n",
       "    <tr>\n",
       "      <th>45559</th>\n",
       "      <td>non functional</td>\n",
       "    </tr>\n",
       "    <tr>\n",
       "      <th>49871</th>\n",
       "      <td>functional</td>\n",
       "    </tr>\n",
       "  </tbody>\n",
       "</table>\n",
       "</div>"
      ],
      "text/plain": [
       "         status_group\n",
       "id                   \n",
       "50785  non functional\n",
       "51630      functional\n",
       "17168      functional\n",
       "45559  non functional\n",
       "49871      functional"
      ]
     },
     "execution_count": 91,
     "metadata": {},
     "output_type": "execute_result"
    }
   ],
   "source": [
    "# We check the final result\n",
    "df_submission.head()"
   ]
  },
  {
   "cell_type": "code",
   "execution_count": 92,
   "id": "chicken-tribute",
   "metadata": {},
   "outputs": [],
   "source": [
    "# We save the final dataframe with the predictions ready, with the submission format\n",
    "df_submission.to_csv(\"SubmissionRF.csv\") # Random Forest with a prediction of 81%"
   ]
  }
 ],
 "metadata": {
  "kernelspec": {
   "display_name": "Python 3",
   "language": "python",
   "name": "python3"
  },
  "language_info": {
   "codemirror_mode": {
    "name": "ipython",
    "version": 3
   },
   "file_extension": ".py",
   "mimetype": "text/x-python",
   "name": "python",
   "nbconvert_exporter": "python",
   "pygments_lexer": "ipython3",
   "version": "3.8.3"
  }
 },
 "nbformat": 4,
 "nbformat_minor": 5
}
